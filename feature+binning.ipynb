{
 "cells": [
  {
   "cell_type": "code",
   "execution_count": 1,
   "metadata": {
    "collapsed": false
   },
   "outputs": [
    {
     "data": {
      "text/plain": [
       "u'application_1560417165231_26225'"
      ]
     },
     "execution_count": 1,
     "metadata": {},
     "output_type": "execute_result"
    }
   ],
   "source": [
    "sc.applicationId"
   ]
  },
  {
   "cell_type": "code",
   "execution_count": 11,
   "metadata": {
    "collapsed": true
   },
   "outputs": [],
   "source": [
    "import pandas as pd\n",
    "import numpy as np\n",
    "import matplotlib.pyplot as plt\n",
    "from pyspark.sql import functions as F\n",
    "from pyspark.ml.feature import Imputer\n",
    "import re\n",
    "from matplotlib.backends.backend_pdf import PdfPages\n",
    "import csv\n",
    "from sklearn.tree import DecisionTreeClassifier\n",
    "from sklearn.linear_model import LogisticRegression"
   ]
  },
  {
   "cell_type": "code",
   "execution_count": 6,
   "metadata": {
    "collapsed": true
   },
   "outputs": [],
   "source": [
    "select_var=['partygenid', 'disbursement_month', 'poor_payment_flag', 'default', 'duration_poor_payment_count', \n",
    "            'duration_poor_payment_distinct', 'max_severity_class', 'mean_severity_class', 'n_card_trx_all', \n",
    "            'amt_card_trx_all', 'n_card_trx_f', 'amt_card_trx_f', 'n_currency', 'age', \n",
    "            'NumOfTransNight_last_6_months', 'NumOfTransDay_last_6_months', \n",
    "            'AmountOfTransNight_last_6_months', 'AmountOfTransDay_last_6_months', \n",
    "            'income_amt_6_std', 'income_amt_6_avg', \n",
    "            'nr_totalproducts', 'nr_savingsInsuranceproducts', 'nr_Lendingproducts', 'nr_Paymentsproducts',\n",
    "            'NumOfPlannedTransfersTotalMonth_avg_last_6m', 'AmountOfTotalMonthlyPlannedTransfers_avg_last_6m',\n",
    "            'TotalNumOfDepositsMonth_avg_last_6m', 'NumOfATMDepositsMonth_avg_last_6m', 'AmountOfATMDepositsMonth_avg_last_6m', \n",
    "            'AmountOfTotalWithdrawalsMonth_avg_last_6m', 'NumOfATMWithdrawalsMonth_avg_last_6m', \n",
    "            'AmountOfATMWithdrawalsMonth_avg_last_6m', 'NumOfTransactionsActiveCustomer_avg_last_6m', \n",
    "            'ConsumerLoansCompetitors_flag_last_6_months']"
   ]
  },
  {
   "cell_type": "code",
   "execution_count": 7,
   "metadata": {
    "collapsed": false
   },
   "outputs": [
    {
     "name": "stdout",
     "output_type": "stream",
     "text": [
      "345852\n"
     ]
    }
   ],
   "source": [
    "df_base_v2 = spark.table('ddp_consumerlending_vault.p901cyo_combined_v1')\n",
    "df_base = df_base_v2.select(select_var)\n",
    "# cache df_base\n",
    "print(df_base.cache().count())"
   ]
  },
  {
   "cell_type": "code",
   "execution_count": 8,
   "metadata": {
    "collapsed": true
   },
   "outputs": [],
   "source": [
    "# one way to fill the missings--> all with 0\n",
    "df_base_fillna = df_base.fillna(0)"
   ]
  },
  {
   "cell_type": "code",
   "execution_count": 9,
   "metadata": {
    "collapsed": false
   },
   "outputs": [
    {
     "name": "stdout",
     "output_type": "stream",
     "text": [
      "(28, ['duration_poor_payment_count', 'duration_poor_payment_distinct', 'mean_severity_class', 'n_card_trx_all', 'amt_card_trx_all', 'n_card_trx_f', 'amt_card_trx_f', 'n_currency', 'age', 'NumOfTransNight_last_6_months', 'NumOfTransDay_last_6_months', 'AmountOfTransNight_last_6_months', 'AmountOfTransDay_last_6_months', 'income_amt_6_std', 'income_amt_6_avg', 'nr_totalproducts', 'nr_savingsInsuranceproducts', 'nr_Lendingproducts', 'nr_Paymentsproducts', 'NumOfPlannedTransfersTotalMonth_avg_last_6m', 'AmountOfTotalMonthlyPlannedTransfers_avg_last_6m', 'TotalNumOfDepositsMonth_avg_last_6m', 'NumOfATMDepositsMonth_avg_last_6m', 'AmountOfATMDepositsMonth_avg_last_6m', 'AmountOfTotalWithdrawalsMonth_avg_last_6m', 'NumOfATMWithdrawalsMonth_avg_last_6m', 'AmountOfATMWithdrawalsMonth_avg_last_6m', 'NumOfTransactionsActiveCustomer_avg_last_6m'])\n"
     ]
    }
   ],
   "source": [
    "drop_feature=['default', 'poor_payment_flag', 'partygenid', 'disbursement_month']\n",
    "feature_grp=[x for x in df_base.columns if x not in drop_feature]\n",
    "\n",
    "feature_numeric = [col for col in feature_grp if (df_base.select(col).dropna().distinct().count()>10)]\n",
    "print(len(feature_numeric),feature_numeric)"
   ]
  },
  {
   "cell_type": "code",
   "execution_count": 271,
   "metadata": {
    "collapsed": false
   },
   "outputs": [],
   "source": [
    "# another way to fill the missings -->medium\n",
    "df_base_cast = df_base.select('default', 'poor_payment_flag', 'partygenid', 'disbursement_month', *(F.col(c).cast(\"float\").alias(c) for c in feature_grp))\n",
    "#df_base_cast = df_base.select( *(F.col(c).cast(\"float\").alias(c) for c in feature_grp))\n",
    "feature_numeric_out = [s + '_out' for s in feature_numeric]\n",
    "imputer = Imputer(inputCols=feature_numeric, outputCols=feature_numeric)\n",
    "df_base_fillmedian = imputer.setStrategy(\"median\").fit(df_base_cast).transform(df_base_cast)\n",
    "df_base_fillm = df_base_fillmedian.fillna(0)"
   ]
  },
  {
   "cell_type": "code",
   "execution_count": 272,
   "metadata": {
    "collapsed": true
   },
   "outputs": [],
   "source": [
    "# get bin boundary from decision tree\n",
    "def optimal_binning_boundary(df, var):\n",
    "    \n",
    "    from sklearn.tree import DecisionTreeClassifier\n",
    "\n",
    "    boundary = []  # return the boundaries\n",
    "    \n",
    "    x = df.select(var).toPandas()  # send to pandas\n",
    "    y = df.select('default').toPandas()\n",
    "    \n",
    "    clf = DecisionTreeClassifier(criterion='entropy',   \n",
    "                                 max_leaf_nodes=6,       \n",
    "                                 min_samples_leaf=0.05)\n",
    "\n",
    "    clf.fit(x, y)  \n",
    "    \n",
    "    n_nodes = clf.tree_.node_count\n",
    "    children_left = clf.tree_.children_left\n",
    "    children_right = clf.tree_.children_right\n",
    "    threshold = clf.tree_.threshold\n",
    "    \n",
    "    for i in range(n_nodes):\n",
    "        if children_left[i] != children_right[i]:  \n",
    "            boundary.append(threshold[i])\n",
    "\n",
    "    min_x = x.min()\n",
    "    max_x = x.max() + 0.1  # +0.1 is to make sure after groupby the maximum sample value will be included\n",
    "    boundary.append(min_x[0])\n",
    "    boundary.append(max_x[0])\n",
    "    boundary.sort()\n",
    "    \n",
    "\n",
    "    return boundary"
   ]
  },
  {
   "cell_type": "code",
   "execution_count": 273,
   "metadata": {
    "collapsed": true
   },
   "outputs": [],
   "source": [
    "# plotting function\n",
    "def bin_plot(data, var):\n",
    "    plt.clf\n",
    "    fig = plt.figure()\n",
    "    plt.xticks(data['cell'], figure=fig)\n",
    "    plt.ylabel('default_rate', figure=fig)\n",
    "    plt.title('bin of %s vs default rate' %var, figure=fig)\n",
    "    plt.bar(data['cell'].astype('float'),data['bad_rate'], figure=fig)\n",
    "    #plt.show()\n",
    "    plt.close()\n",
    "    return fig"
   ]
  },
  {
   "cell_type": "code",
   "execution_count": 274,
   "metadata": {
    "collapsed": true
   },
   "outputs": [],
   "source": [
    "def bin_iv_var2(method, df, var, cell):\n",
    "    if method == 'dt':\n",
    "        df_nomiss = df.select(var,'default').dropna()\n",
    "        df_miss = df.select(var,'default').filter(F.col(var).isNull()) \n",
    "        x = df_nomiss.select(var).toPandas()  # send to pandas\n",
    "        y = df_nomiss.select('default').toPandas()\n",
    "        boundary = optimal_binning_boundary(df=df_nomiss, var=var)       \n",
    "        df_pd = pd.concat([x, y], axis=1)                        \n",
    "        df_pd.columns = ['x', 'y']                               \n",
    "        df_pd['bins'] = pd.cut(x=x[var], bins=boundary, right=False)  \n",
    "        if len(df_miss.head(1))>0:\n",
    "            df_miss_pd = df_miss.toPandas()\n",
    "            df_miss_pd.columns = ['x','y']\n",
    "            df_miss_pd['bins'] = 'missing'\n",
    "            df_pd = df_pd.append(df_miss_pd)\n",
    "\n",
    "        grouped = df_pd.groupby('bins')['y']                     \n",
    "        result_df = grouped.agg([('good',  lambda y: (y == 0).sum()), \n",
    "                                 ('bad',   lambda y: (y == 1).sum()),\n",
    "                                 ('total', 'count')])\n",
    "    elif method == 'other':\n",
    "        df_pd = df.select('default',var).toPandas()\n",
    "        df_pd['bins'] = pd.qcut(df_pd[var].astype('float'),cell,labels=False)\n",
    "        df_pd.fillna(-1,inplace=True)\n",
    "        grouped1 = df_pd.groupby('bins')['default']\n",
    "        result_df1 = grouped1.agg([('good',  lambda default: (default == 0).sum()), \n",
    "                                 ('bad',   lambda default: (default == 1).sum()),\n",
    "                                 ('total', 'count')])\n",
    "        grouped2 = df_pd.groupby('bins')[var]\n",
    "        result_df2 = grouped2.agg([('max',  lambda var: (max(var)+0.1)), \n",
    "                                 ('min',   lambda var: (min(var)))])\n",
    "        result_df = pd.concat([result_df1, result_df2], axis=1, sort=False)\n",
    "\n",
    "    result_df['var'] = var\n",
    "    result_df['cell'] = np.arange(start=1,stop=result_df.shape[0]+1,step=1)\n",
    "    result_df['bins'] = result_df.index\n",
    "    result_df['good_pct'] = result_df['good'] / result_df['good'].sum()       \n",
    "    result_df['bad_pct'] = result_df['bad'] / result_df['bad'].sum()          \n",
    "    result_df['total_pct'] = result_df['total'] / result_df['total'].sum()    \n",
    "\n",
    "    result_df['bad_rate'] = result_df['bad'] / result_df['total']             \n",
    "    \n",
    "    result_df['woe'] = np.log(result_df['good_pct'] / result_df['bad_pct'])              \n",
    "    result_df['iv'] = (result_df['good_pct'] - result_df['bad_pct']) * result_df['woe'] \n",
    "\n",
    "    return result_df"
   ]
  },
  {
   "cell_type": "code",
   "execution_count": 275,
   "metadata": {
    "collapsed": false
   },
   "outputs": [
    {
     "name": "stdout",
     "output_type": "stream",
     "text": [
      "102239\n",
      "+-------+------+\n",
      "|default| count|\n",
      "+-------+------+\n",
      "|      1|   689|\n",
      "|      0|101550|\n",
      "+-------+------+\n",
      "\n",
      "('1', 'nofill', 30)\n",
      "102239\n",
      "+-------+------+\n",
      "|default| count|\n",
      "+-------+------+\n",
      "|      1|   689|\n",
      "|      0|101550|\n",
      "+-------+------+\n",
      "\n",
      "('1', 'fillna', 30)\n",
      "102239\n",
      "+-------+------+\n",
      "|default| count|\n",
      "+-------+------+\n",
      "|      1|   689|\n",
      "|      0|101550|\n",
      "+-------+------+\n",
      "\n",
      "('1', 'fillm', 30)\n"
     ]
    }
   ],
   "source": [
    "# decision tree method\n",
    "for segment in range(1,2):\n",
    "    for basedata in (df_base, df_base_fillna, df_base_fillm):\n",
    "        # filter the dataset based on the segment\n",
    "        df=basedata.filter(F.col('poor_payment_flag')==segment)\n",
    "        print(df.cache().count())\n",
    "        df.groupby('default').count().show() \n",
    "        # feature list\n",
    "        drop_feature=['default', 'poor_payment_flag', 'partygenid', 'disbursement_month','gender','check','perf_n']\n",
    "        feature_grp=[x for x in df.columns if x not in drop_feature]\n",
    "        # calculate information value\n",
    "        # define output variables needed\n",
    "        combine_result = pd.DataFrame()\n",
    "        # output graphs and values\n",
    "        if basedata == df_base:\n",
    "            dataname = str('nofill')\n",
    "        elif basedata == df_base_fillna:\n",
    "            dataname = str('fillna')\n",
    "        elif basedata == df_base_fillm:\n",
    "            dataname = str('fillm')\n",
    "            \n",
    "        pdfname = 'Charts_'+str(dataname)+str(segment)+'.pdf'\n",
    "        with PdfPages(pdfname) as export_pdf:\n",
    "            for i in range(0,len(feature_grp)): \n",
    "                result_df = bin_iv_var2(method='dt', df=df, var=feature_grp[i], cell=10) \n",
    "                combine_result = combine_result.append(result_df, ignore_index = True)\n",
    "                fig = bin_plot(data=result_df, var=var)\n",
    "                export_pdf.savefig(figure=fig)       \n",
    "            binfeaturecsv = \"feature_bin_\"+str(dataname)+str(segment)+\".csv\"\n",
    "            combine_result.to_csv(binfeaturecsv, sep=',', encoding='utf-8')\n",
    "        print(str(segment), dataname, len(feature_grp))"
   ]
  },
  {
   "cell_type": "code",
   "execution_count": 200,
   "metadata": {
    "collapsed": true
   },
   "outputs": [
    {
     "name": "stdout",
     "output_type": "stream",
     "text": [
      "102239\n",
      "+-------+------+\n",
      "|default| count|\n",
      "+-------+------+\n",
      "|      1|   689|\n",
      "|      0|101550|\n",
      "+-------+------+\n",
      "\n",
      "('1', 'nofill', 28)\n",
      "102239\n",
      "+-------+------+\n",
      "|default| count|\n",
      "+-------+------+\n",
      "|      1|   689|\n",
      "|      0|101550|\n",
      "+-------+------+\n",
      "\n",
      "('1', 'fillna', 28)\n"
     ]
    }
   ],
   "source": [
    "# logistic regression method (under development, can't be used)\n",
    "for segment in range(1,2):\n",
    "#     for basedata in (df_base, df_base_fillna, df_base_fillm):\n",
    "    for basedata in (df_base, df_base_fillna):\n",
    "        # filter the dataset based on the segment\n",
    "        df=basedata.filter(F.col('poor_payment_flag')==segment)\n",
    "        print(df.cache().count())\n",
    "        df.groupby('default').count().show() \n",
    "        \n",
    "        if basedata == df_base:\n",
    "            dataname = str('nofill')\n",
    "        elif basedata == df_base_fillna:\n",
    "            dataname = str('fillna')\n",
    "        elif basedata == df_base_fillm:\n",
    "            dataname = str('fillm')\n",
    "\n",
    "        combine_result = pd.DataFrame()\n",
    "        for i in range(0,len(feature_numeric)): \n",
    "            df_pd = df.select('default',feature_numeric[i]).toPandas()\n",
    "            n = len(df_pd['default'])\n",
    "            default_n = sum(df_pd['default'])\n",
    "            nondefault_n = len(df_pd['default']) - sum(df_pd['default'])\n",
    "            var = feature_numeric[i]\n",
    "\n",
    "            cell_n = 10\n",
    "\n",
    "            while cell_n>=1:\n",
    "                try:\n",
    "                    cell_n = cell_n\n",
    "                    result_df = bin_iv_var2(method='other', df=df, var=var, cell=cell_n)\n",
    "                    break\n",
    "                except ValueError:\n",
    "                    cell_n = cell_n-1\n",
    "                    continue\n",
    "                except TypeError:\n",
    "                    print('%s something is wrong with the graph' %var)\n",
    "                    break\n",
    "                except KeyboardInterrupt:\n",
    "                    print('I want to stop this')\n",
    "                    break\n",
    "            combine_result = combine_result.append(result_df, ignore_index=False) \n",
    "            binfeaturecsv = \"feature_bin_other_\"+str(dataname)+str(segment)+\".csv\"\n",
    "            combine_result.to_csv(binfeaturecsv, sep=',', encoding='utf-8')\n",
    "        print(str(segment), dataname, len(feature_numeric))"
   ]
  },
  {
   "cell_type": "code",
   "execution_count": 205,
   "metadata": {
    "collapsed": false
   },
   "outputs": [
    {
     "data": {
      "text/plain": [
       "'NumOfTransactionsActiveCustomer_avg_last_6m'"
      ]
     },
     "execution_count": 205,
     "metadata": {},
     "output_type": "execute_result"
    }
   ],
   "source": [
    "df_pd.columns[1]"
   ]
  },
  {
   "cell_type": "code",
   "execution_count": 206,
   "metadata": {
    "collapsed": false
   },
   "outputs": [
    {
     "data": {
      "text/html": [
       "<div>\n",
       "<style scoped>\n",
       "    .dataframe tbody tr th:only-of-type {\n",
       "        vertical-align: middle;\n",
       "    }\n",
       "\n",
       "    .dataframe tbody tr th {\n",
       "        vertical-align: top;\n",
       "    }\n",
       "\n",
       "    .dataframe thead th {\n",
       "        text-align: right;\n",
       "    }\n",
       "</style>\n",
       "<table border=\"1\" class=\"dataframe\">\n",
       "  <thead>\n",
       "    <tr style=\"text-align: right;\">\n",
       "      <th></th>\n",
       "      <th>good</th>\n",
       "      <th>bad</th>\n",
       "      <th>total</th>\n",
       "      <th>max</th>\n",
       "      <th>min</th>\n",
       "      <th>var</th>\n",
       "      <th>cell</th>\n",
       "      <th>bins</th>\n",
       "      <th>good_pct</th>\n",
       "      <th>bad_pct</th>\n",
       "      <th>total_pct</th>\n",
       "      <th>bad_rate</th>\n",
       "      <th>woe</th>\n",
       "      <th>iv</th>\n",
       "    </tr>\n",
       "    <tr>\n",
       "      <th>bins</th>\n",
       "      <th></th>\n",
       "      <th></th>\n",
       "      <th></th>\n",
       "      <th></th>\n",
       "      <th></th>\n",
       "      <th></th>\n",
       "      <th></th>\n",
       "      <th></th>\n",
       "      <th></th>\n",
       "      <th></th>\n",
       "      <th></th>\n",
       "      <th></th>\n",
       "      <th></th>\n",
       "      <th></th>\n",
       "    </tr>\n",
       "  </thead>\n",
       "  <tbody>\n",
       "    <tr>\n",
       "      <th>0</th>\n",
       "      <td>10094</td>\n",
       "      <td>136</td>\n",
       "      <td>10230</td>\n",
       "      <td>30.600000</td>\n",
       "      <td>0.000000</td>\n",
       "      <td>NumOfTransactionsActiveCustomer_avg_last_6m</td>\n",
       "      <td>1</td>\n",
       "      <td>0</td>\n",
       "      <td>0.099399</td>\n",
       "      <td>0.197388</td>\n",
       "      <td>0.100060</td>\n",
       "      <td>0.013294</td>\n",
       "      <td>-0.686024</td>\n",
       "      <td>0.067222</td>\n",
       "    </tr>\n",
       "    <tr>\n",
       "      <th>1</th>\n",
       "      <td>10257</td>\n",
       "      <td>80</td>\n",
       "      <td>10337</td>\n",
       "      <td>50.266667</td>\n",
       "      <td>30.666667</td>\n",
       "      <td>NumOfTransactionsActiveCustomer_avg_last_6m</td>\n",
       "      <td>2</td>\n",
       "      <td>1</td>\n",
       "      <td>0.101004</td>\n",
       "      <td>0.116110</td>\n",
       "      <td>0.101106</td>\n",
       "      <td>0.007739</td>\n",
       "      <td>-0.139376</td>\n",
       "      <td>0.002105</td>\n",
       "    </tr>\n",
       "    <tr>\n",
       "      <th>2</th>\n",
       "      <td>10035</td>\n",
       "      <td>72</td>\n",
       "      <td>10107</td>\n",
       "      <td>61.433333</td>\n",
       "      <td>50.200000</td>\n",
       "      <td>NumOfTransactionsActiveCustomer_avg_last_6m</td>\n",
       "      <td>3</td>\n",
       "      <td>2</td>\n",
       "      <td>0.098818</td>\n",
       "      <td>0.104499</td>\n",
       "      <td>0.098857</td>\n",
       "      <td>0.007124</td>\n",
       "      <td>-0.055897</td>\n",
       "      <td>0.000318</td>\n",
       "    </tr>\n",
       "    <tr>\n",
       "      <th>3</th>\n",
       "      <td>10331</td>\n",
       "      <td>51</td>\n",
       "      <td>10382</td>\n",
       "      <td>70.933333</td>\n",
       "      <td>61.500000</td>\n",
       "      <td>NumOfTransactionsActiveCustomer_avg_last_6m</td>\n",
       "      <td>4</td>\n",
       "      <td>3</td>\n",
       "      <td>0.101733</td>\n",
       "      <td>0.074020</td>\n",
       "      <td>0.101546</td>\n",
       "      <td>0.004912</td>\n",
       "      <td>0.318013</td>\n",
       "      <td>0.008813</td>\n",
       "    </tr>\n",
       "    <tr>\n",
       "      <th>4</th>\n",
       "      <td>10124</td>\n",
       "      <td>52</td>\n",
       "      <td>10176</td>\n",
       "      <td>80.100000</td>\n",
       "      <td>71.000000</td>\n",
       "      <td>NumOfTransactionsActiveCustomer_avg_last_6m</td>\n",
       "      <td>5</td>\n",
       "      <td>4</td>\n",
       "      <td>0.099695</td>\n",
       "      <td>0.075472</td>\n",
       "      <td>0.099531</td>\n",
       "      <td>0.005110</td>\n",
       "      <td>0.278355</td>\n",
       "      <td>0.006743</td>\n",
       "    </tr>\n",
       "  </tbody>\n",
       "</table>\n",
       "</div>"
      ],
      "text/plain": [
       "       good  bad  total        max        min  \\\n",
       "bins                                            \n",
       "0     10094  136  10230  30.600000   0.000000   \n",
       "1     10257   80  10337  50.266667  30.666667   \n",
       "2     10035   72  10107  61.433333  50.200000   \n",
       "3     10331   51  10382  70.933333  61.500000   \n",
       "4     10124   52  10176  80.100000  71.000000   \n",
       "\n",
       "                                              var  cell  bins  good_pct  \\\n",
       "bins                                                                      \n",
       "0     NumOfTransactionsActiveCustomer_avg_last_6m     1     0  0.099399   \n",
       "1     NumOfTransactionsActiveCustomer_avg_last_6m     2     1  0.101004   \n",
       "2     NumOfTransactionsActiveCustomer_avg_last_6m     3     2  0.098818   \n",
       "3     NumOfTransactionsActiveCustomer_avg_last_6m     4     3  0.101733   \n",
       "4     NumOfTransactionsActiveCustomer_avg_last_6m     5     4  0.099695   \n",
       "\n",
       "       bad_pct  total_pct  bad_rate       woe        iv  \n",
       "bins                                                     \n",
       "0     0.197388   0.100060  0.013294 -0.686024  0.067222  \n",
       "1     0.116110   0.101106  0.007739 -0.139376  0.002105  \n",
       "2     0.104499   0.098857  0.007124 -0.055897  0.000318  \n",
       "3     0.074020   0.101546  0.004912  0.318013  0.008813  \n",
       "4     0.075472   0.099531  0.005110  0.278355  0.006743  "
      ]
     },
     "execution_count": 206,
     "metadata": {},
     "output_type": "execute_result"
    }
   ],
   "source": [
    "combine_result[combine_result['var']==df_pd.columns[1]].head(5)"
   ]
  },
  {
   "cell_type": "code",
   "execution_count": 276,
   "metadata": {
    "collapsed": true
   },
   "outputs": [],
   "source": [
    "#https://scikit-learn.org/stable/modules/generated/sklearn.feature_selection.RFE.html\n",
    "#https://scikit-learn.org/stable/modules/generated/sklearn.feature_selection.f_regression.html\n",
    "df_pd = df.select('default',var).toPandas()\n",
    "df_pd['bins'] = pd.qcut(df_pd[var].astype('float'),10,labels=False)\n",
    "df_pd.fillna(-1,inplace=True)\n",
    "from sklearn.preprocessing import OneHotEncoder\n",
    "onehot = OneHotEncoder(categorical_features = [1])\n",
    "df_array = onehot.fit_transform(df_pd.drop([var],axis=1)).toarray()"
   ]
  },
  {
   "cell_type": "code",
   "execution_count": 309,
   "metadata": {
    "collapsed": false
   },
   "outputs": [
    {
     "data": {
      "text/plain": [
       "array([False, False, False, False,  True,  True,  True,  True,  True, False], dtype=bool)"
      ]
     },
     "execution_count": 309,
     "metadata": {},
     "output_type": "execute_result"
    }
   ],
   "source": [
    "from sklearn.feature_selection import RFE\n",
    "#from sklearn.svm import SVR\n",
    "#estimator = SVR(kernel=\"linear\")\n",
    "#selector = RFE(estimator, 5, step=1)\n",
    "from sklearn.linear_model import LogisticRegression\n",
    "estimator = LogisticRegression()\n",
    "selector = RFE(estimator, 5, step=1)\n",
    "selector = selector.fit(x, y)\n",
    "selector.support_"
   ]
  },
  {
   "cell_type": "code",
   "execution_count": 310,
   "metadata": {
    "collapsed": false
   },
   "outputs": [
    {
     "data": {
      "text/plain": [
       "array([6, 2, 3, 4, 1, 1, 1, 1, 1, 5])"
      ]
     },
     "execution_count": 310,
     "metadata": {},
     "output_type": "execute_result"
    }
   ],
   "source": [
    "selector.ranking_"
   ]
  },
  {
   "cell_type": "code",
   "execution_count": 294,
   "metadata": {
    "collapsed": false
   },
   "outputs": [],
   "source": [
    "x = df_array[:,0:(df_array.shape[1]-1)]\n",
    "y = df_array[:,-1]"
   ]
  },
  {
   "cell_type": "code",
   "execution_count": 302,
   "metadata": {
    "collapsed": false
   },
   "outputs": [],
   "source": [
    "group = df_pd.groupby(['bins']).count()"
   ]
  },
  {
   "cell_type": "code",
   "execution_count": 303,
   "metadata": {
    "collapsed": true
   },
   "outputs": [],
   "source": [
    "group['ranking'] = selector.ranking_"
   ]
  },
  {
   "cell_type": "code",
   "execution_count": 304,
   "metadata": {
    "collapsed": true
   },
   "outputs": [
    {
     "data": {
      "text/html": [
       "<div>\n",
       "<style scoped>\n",
       "    .dataframe tbody tr th:only-of-type {\n",
       "        vertical-align: middle;\n",
       "    }\n",
       "\n",
       "    .dataframe tbody tr th {\n",
       "        vertical-align: top;\n",
       "    }\n",
       "\n",
       "    .dataframe thead th {\n",
       "        text-align: right;\n",
       "    }\n",
       "</style>\n",
       "<table border=\"1\" class=\"dataframe\">\n",
       "  <thead>\n",
       "    <tr style=\"text-align: right;\">\n",
       "      <th></th>\n",
       "      <th>default</th>\n",
       "      <th>NumOfTransactionsActiveCustomer_avg_last_6m</th>\n",
       "      <th>ranking</th>\n",
       "    </tr>\n",
       "    <tr>\n",
       "      <th>bins</th>\n",
       "      <th></th>\n",
       "      <th></th>\n",
       "      <th></th>\n",
       "    </tr>\n",
       "  </thead>\n",
       "  <tbody>\n",
       "    <tr>\n",
       "      <th>0</th>\n",
       "      <td>10252</td>\n",
       "      <td>10252</td>\n",
       "      <td>6</td>\n",
       "    </tr>\n",
       "    <tr>\n",
       "      <th>1</th>\n",
       "      <td>10234</td>\n",
       "      <td>10234</td>\n",
       "      <td>5</td>\n",
       "    </tr>\n",
       "    <tr>\n",
       "      <th>2</th>\n",
       "      <td>10375</td>\n",
       "      <td>10375</td>\n",
       "      <td>4</td>\n",
       "    </tr>\n",
       "    <tr>\n",
       "      <th>3</th>\n",
       "      <td>15184</td>\n",
       "      <td>15184</td>\n",
       "      <td>3</td>\n",
       "    </tr>\n",
       "    <tr>\n",
       "      <th>4</th>\n",
       "      <td>5187</td>\n",
       "      <td>5187</td>\n",
       "      <td>2</td>\n",
       "    </tr>\n",
       "    <tr>\n",
       "      <th>5</th>\n",
       "      <td>10192</td>\n",
       "      <td>10192</td>\n",
       "      <td>1</td>\n",
       "    </tr>\n",
       "    <tr>\n",
       "      <th>6</th>\n",
       "      <td>10216</td>\n",
       "      <td>10216</td>\n",
       "      <td>1</td>\n",
       "    </tr>\n",
       "    <tr>\n",
       "      <th>7</th>\n",
       "      <td>10256</td>\n",
       "      <td>10256</td>\n",
       "      <td>1</td>\n",
       "    </tr>\n",
       "    <tr>\n",
       "      <th>8</th>\n",
       "      <td>10137</td>\n",
       "      <td>10137</td>\n",
       "      <td>1</td>\n",
       "    </tr>\n",
       "    <tr>\n",
       "      <th>9</th>\n",
       "      <td>10206</td>\n",
       "      <td>10206</td>\n",
       "      <td>1</td>\n",
       "    </tr>\n",
       "  </tbody>\n",
       "</table>\n",
       "</div>"
      ],
      "text/plain": [
       "      default  NumOfTransactionsActiveCustomer_avg_last_6m  ranking\n",
       "bins                                                               \n",
       "0       10252                                        10252        6\n",
       "1       10234                                        10234        5\n",
       "2       10375                                        10375        4\n",
       "3       15184                                        15184        3\n",
       "4        5187                                         5187        2\n",
       "5       10192                                        10192        1\n",
       "6       10216                                        10216        1\n",
       "7       10256                                        10256        1\n",
       "8       10137                                        10137        1\n",
       "9       10206                                        10206        1"
      ]
     },
     "execution_count": 304,
     "metadata": {},
     "output_type": "execute_result"
    }
   ],
   "source": [
    "group"
   ]
  },
  {
   "cell_type": "code",
   "execution_count": 313,
   "metadata": {
    "collapsed": false
   },
   "outputs": [],
   "source": [
    "from sklearn.feature_selection import SelectKBest, f_regression\n",
    "feat_selector = SelectKBest(f_regression, k=5)\n",
    "best = feat_selector.fit(x, y)"
   ]
  },
  {
   "cell_type": "code",
   "execution_count": 315,
   "metadata": {
    "collapsed": false
   },
   "outputs": [
    {
     "data": {
      "text/plain": [
       "array([  4.37082694e-13,   4.47189571e-01,   7.11808395e-01,\n",
       "         2.09549145e-01,   1.50607587e-02,   1.72766768e-01,\n",
       "         7.75718501e-02,   4.02982058e-02,   6.71205291e-02,\n",
       "         2.39675840e-01])"
      ]
     },
     "execution_count": 315,
     "metadata": {},
     "output_type": "execute_result"
    }
   ],
   "source": [
    "best."
   ]
  },
  {
   "cell_type": "code",
   "execution_count": null,
   "metadata": {
    "collapsed": true
   },
   "outputs": [],
   "source": []
  }
 ],
 "metadata": {
  "kernelspec": {
   "display_name": "Use This pySpark (Spark 2.2)",
   "language": "python",
   "name": "usethis"
  },
  "language_info": {
   "codemirror_mode": {
    "name": "ipython",
    "version": 2
   },
   "file_extension": ".py",
   "mimetype": "text/x-python",
   "name": "python",
   "nbconvert_exporter": "python",
   "pygments_lexer": "ipython2",
   "version": "2.7.14"
  }
 },
 "nbformat": 4,
 "nbformat_minor": 2
}
