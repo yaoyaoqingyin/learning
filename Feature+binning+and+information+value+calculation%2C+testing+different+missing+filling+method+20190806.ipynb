{
 "cells": [
  {
   "cell_type": "code",
   "execution_count": 1,
   "metadata": {
    "collapsed": false
   },
   "outputs": [
    {
     "data": {
      "text/plain": [
       "u'application_1560417165231_25215'"
      ]
     },
     "execution_count": 1,
     "metadata": {},
     "output_type": "execute_result"
    }
   ],
   "source": [
    "sc.applicationId"
   ]
  },
  {
   "cell_type": "code",
   "execution_count": 2,
   "metadata": {
    "collapsed": false
   },
   "outputs": [],
   "source": [
    "import pandas as pd\n",
    "import numpy as np\n",
    "import matplotlib.pyplot as plt\n",
    "import sys\n",
    "from pyspark import SparkContext, SparkConf, SparkStageInfo, SparkJobInfo\n",
    "from pyspark.sql import functions as F\n",
    "from pyspark.sql.window import Window\n",
    "import re\n",
    "from matplotlib.backends.backend_pdf import PdfPages\n",
    "import csv\n",
    "\n",
    "#from pyspark.ml.classification import DecisionTreeClassifier, LogisticRegression\n",
    "from pyspark.ml.feature import QuantileDiscretizer, VectorAssembler, Imputer\n",
    "#from pyspark.ml.evaluation import BinaryClassificationEvaluator\n",
    "\n",
    "#from imblearn.over_sampling import SMOTE\n",
    "#from imblearn.under_sampling import RandomUnderSampler\n",
    "\n",
    "from sklearn.decomposition import pca\n",
    "from sklearn.preprocessing import MinMaxScaler, OneHotEncoder, StandardScaler\n",
    "# always split into test and train before trying oversampling techniques.\n",
    "from sklearn.utils import resample\n",
    "from sklearn.feature_selection import VarianceThreshold\n",
    "from sklearn.tree import DecisionTreeClassifier\n",
    "from sklearn.ensemble import RandomForestClassifier, GradientBoostingClassifier\n",
    "from sklearn.linear_model import LogisticRegression\n",
    "from sklearn.svm import SVC\n",
    "\n",
    "from sklearn.model_selection import train_test_split, KFold, cross_val_score, GridSearchCV\n",
    "from sklearn.metrics import roc_auc_score, confusion_matrix, classification_report, recall_score, average_precision_score"
   ]
  },
  {
   "cell_type": "code",
   "execution_count": 21,
   "metadata": {
    "collapsed": false
   },
   "outputs": [],
   "source": [
    "import myfunctions as mf\n",
    "reload(mf)\n",
    "from myfunctions import *"
   ]
  },
  {
   "cell_type": "markdown",
   "metadata": {},
   "source": [
    "# 1. First version of features"
   ]
  },
  {
   "cell_type": "code",
   "execution_count": 4,
   "metadata": {
    "collapsed": true
   },
   "outputs": [],
   "source": [
    "df_base_full=spark.table('ddp_consumerlending_vault.p901cyo_combined_v1')"
   ]
  },
  {
   "cell_type": "markdown",
   "metadata": {},
   "source": [
    "## 1.1 information value for all the features"
   ]
  },
  {
   "cell_type": "code",
   "execution_count": 127,
   "metadata": {
    "collapsed": true
   },
   "outputs": [
    {
     "name": "stdout",
     "output_type": "stream",
     "text": [
      "243613\n",
      "+-------+------+\n",
      "|default| count|\n",
      "+-------+------+\n",
      "|      1|   467|\n",
      "|      0|243146|\n",
      "+-------+------+\n",
      "\n",
      "variable to test: duration_poor_payment_count\n",
      "variable to test: duration_poor_payment_distinct\n",
      "variable to test: max_severity_class\n",
      "variable to test: mean_severity_class\n",
      "variable to test: n_card_trx_all\n",
      "variable to test: amt_card_trx_all\n",
      "variable to test: n_card_trx_f\n",
      "variable to test: amt_card_trx_f\n",
      "variable to test: n_currency\n",
      "variable to test: age\n",
      "variable to test: TradingCapitalMarkets_avg_amt\n",
      "variable to test: ISKInvestmentSavingsAccount_avg_amt\n",
      "variable to test: CreditCards_avg_amt\n",
      "variable to test: DebitCards_avg_amt\n",
      "variable to test: ConsumerLending_avg_amt\n",
      "variable to test: DirectInvestmentsinMutualFunds_avg_amt\n",
      "variable to test: PrivateResidentialLending_avg_amt\n",
      "variable to test: PensionSavings_avg_amt\n",
      "variable to test: SavingsAccounts_avg_amt\n",
      "variable to test: TransactionAccounts_avg_amt\n",
      "variable to test: months_of_collector_trx\n",
      "variable to test: nr_of_collector_trx\n",
      "variable to test: collector_trx_amount\n",
      "variable to test: AmountOfTransFromGamblingCompanies\n",
      "variable to test: AmountOfTotalTransGamblingCompanies\n",
      "variable to test: AmountOfTransToGamblingCompanies\n",
      "variable to test: NumOfTransFromGamblingCompanies\n",
      "variable to test: NumOfTotalGamblingTrans\n",
      "variable to test: NumOfTransToGamblingCompanies\n",
      "variable to test: NumOfTransFromGamblingCompanies_last_3_months\n",
      "variable to test: AmountOfTransToGamblingCompanies_last_3_months\n",
      "variable to test: AmountOfTotalTransGamblingCompanies_last_3_months\n",
      "variable to test: NumOfTransToGamblingCompanies_last_3_months\n",
      "variable to test: NumOfTotalGamblingTrans_last_3_months\n",
      "variable to test: AmountOfTransFromGamblingCompanies_last_3_months\n",
      "variable to test: NumOfTransFromGamblingCompanies_last_6_months\n",
      "variable to test: AmountOfTransToGamblingCompanies_last_6_months\n",
      "variable to test: NumOfTransToGamblingCompanies_last_6_months\n",
      "variable to test: AmountOfTotalTransGamblingCompanies_last_6_months\n",
      "variable to test: AmountOfTransFromGamblingCompanies_last_6_months\n",
      "variable to test: NumOfTransFromGamblingCompanies_last_12_months\n",
      "variable to test: NumOfTotalGamblingTrans_last_12_months\n",
      "variable to test: AmountOfTotalTransGamblingCompanies_last_12_months\n",
      "variable to test: NumOfTransToGamblingCompanies_last_12_months\n",
      "variable to test: AmountOfTransFromGamblingCompanies_last_12_months\n",
      "variable to test: AmountOfTransToGamblingCompanies_last_12_months\n",
      "variable to test: gambling_flag_last_12_months\n",
      "variable to test: AmountOfTransNight\n",
      "variable to test: NumOfTransNight\n",
      "variable to test: AmountOfTransDay\n",
      "variable to test: NumOfTransDay\n",
      "variable to test: NumOfTransNight_last_3_months\n",
      "variable to test: AmountOfTransDay_last_3_months\n",
      "variable to test: AmountOfTransNight_last_3_months\n",
      "variable to test: NumOfTransDay_last_3_months\n",
      "variable to test: NumOfTransNight_last_6_months\n",
      "variable to test: AmountOfTransNight_last_6_months\n",
      "variable to test: AmountOfTransDay_last_6_months\n",
      "variable to test: NumOfTransDay_last_6_months\n",
      "variable to test: salary_amt_6_std\n",
      "variable to test: pension_amt_6_std\n",
      "variable to test: income_amt_6_std\n",
      "variable to test: salary_amt_6_avg\n",
      "variable to test: pension_amt_6_avg\n",
      "variable to test: income_amt_6_avg\n",
      "variable to test: salary_n_6_avg\n",
      "variable to test: pension_n_6_avg\n",
      "variable to test: income_n_6_avg\n",
      "variable to test: HasInternetBankPayment\n",
      "variable to test: nr_totalproducts\n",
      "variable to test: nr_savingsInsuranceproducts\n",
      "variable to test: nr_Lendingproducts\n",
      "variable to test: nr_Paymentsproducts\n",
      "variable to test: nr_OtherProducts&Services\n",
      "variable to test: Trading&CapitalMarkets\n",
      "variable to test: ISK-InvestmentSavingsAccount\n",
      "variable to test: CreditCards\n",
      "variable to test: DebitCards\n",
      "variable to test: ConsumerLending\n",
      "variable to test: DirectInvestmentsinMutualFunds\n",
      "variable to test: PrivateResidentialLending\n",
      "variable to test: PensionSavings\n",
      "variable to test: SavingsAccounts\n",
      "variable to test: Swish\n",
      "variable to test: TransactionAccounts\n",
      "variable to test: Nyckelkund\n",
      "variable to test: TelebankPersonligS\n",
      "variable to test: Internetbetalning\n",
      "variable to test: Grundavtalinternet\n",
      "variable to test: NumOfPlannedTransfersToISKMonth_avg_last_6m\n",
      "variable to test: NumOfPlannedTransfersToMutualFondsMonth_avg_last_6m\n",
      "variable to test: NumOfPlannedTransfersToIPSMonth_avg_last_6m\n",
      "variable to test: NumOfPlannedTransfersToSavingsAccountsMonth_avg_last_6m\n",
      "variable to test: NumOfPlannedTransfersOthersMonth_avg_last_6m\n",
      "variable to test: NumOfPlannedTransfersTotalMonth_avg_last_6m\n",
      "variable to test: AmountOfMonthlyPlannedTransfersToISK_avg_last_6m\n",
      "variable to test: AmountOfMonthlyPlannedTransfersToMutualFunds_avg_last_6m\n",
      "variable to test: AmountOfMonthlyPlannedTransfersToSavingsAccounts_avg_last_6m\n",
      "variable to test: AmountOfMonthlyPlannedTransfersToIPS_avg_last_6m\n",
      "variable to test: AmountOfMonthlyPlannedTransfersToOthers_avg_last_6m\n",
      "variable to test: AmountOfTotalMonthlyPlannedTransfers_avg_last_6m\n",
      "variable to test: TotalNumOfDepositsMonth_avg_last_6m\n",
      "variable to test: TotalAmountOfDepositsMonth_avg_last_6m\n",
      "variable to test: NumOfATMDepositsMonth_avg_last_6m\n",
      "variable to test: AmountOfATMDepositsMonth_avg_last_6m\n",
      "variable to test: NumOfTotalWithdrawalsMonth_avg_last_6m\n",
      "variable to test: AmountOfTotalWithdrawalsMonth_avg_last_6m\n",
      "variable to test: NumOfATMWithdrawalsMonth_avg_last_6m\n",
      "variable to test: AmountOfATMWithdrawalsMonth_avg_last_6m\n",
      "variable to test: NumOfTransactionsActiveCustomer_avg_last_6m\n",
      "variable to test: NumOfTotalTransToConsumerLoansCompetitors\n",
      "variable to test: AmountOfTotalTransToConsumerLoansCompetitors\n",
      "variable to test: NumOfTotalTransToConsumerLoansCompetitors_last_3_months\n",
      "variable to test: AmountOfTotalTransToConsumerLoansCompetitors_last_3_months\n",
      "variable to test: AmountOfTotalTransToConsumerLoansCompetitors_last_6_months\n",
      "variable to test: ConsumerLoansCompetitors_flag_last_6_months\n",
      "variable to test: C_n_swish_number_ever\n",
      "variable to test: P_n_swish_number_ever\n",
      "variable to test: C_n_swish_number_now\n",
      "variable to test: P_n_swish_number_now\n",
      "variable to test: C_n_swish_in\n",
      "variable to test: C_n_swish_ut\n",
      "variable to test: C_amt_swish_in\n",
      "variable to test: C_amt_swish_ut\n",
      "variable to test: P_n_swish_in\n",
      "variable to test: P_n_swish_ut\n",
      "variable to test: P_amt_swish_in\n",
      "variable to test: P_amt_swish_ut\n",
      "variable to test: C_n_counterparty\n",
      "variable to test: P_n_counterparty\n",
      "variable to test: invest_and_saving_sum_amt\n",
      "variable to test: invest_and_saving_n_amt\n",
      "variable to test: lending_sum_amt\n",
      "variable to test: lending_n_amt\n",
      "variable to test: trx_sum_amt\n",
      "variable to test: trx_n_amt\n",
      "102239\n",
      "+-------+------+\n",
      "|default| count|\n",
      "+-------+------+\n",
      "|      1|   689|\n",
      "|      0|101550|\n",
      "+-------+------+\n",
      "\n",
      "variable to test: duration_poor_payment_count\n",
      "variable to test: duration_poor_payment_distinct\n",
      "variable to test: max_severity_class\n",
      "variable to test: mean_severity_class\n",
      "variable to test: n_card_trx_all\n",
      "variable to test: amt_card_trx_all\n",
      "variable to test: n_card_trx_f\n",
      "variable to test: amt_card_trx_f\n",
      "variable to test: n_currency\n",
      "variable to test: age\n",
      "variable to test: TradingCapitalMarkets_avg_amt\n",
      "variable to test: ISKInvestmentSavingsAccount_avg_amt\n",
      "variable to test: CreditCards_avg_amt\n",
      "variable to test: DebitCards_avg_amt\n",
      "variable to test: ConsumerLending_avg_amt\n",
      "variable to test: DirectInvestmentsinMutualFunds_avg_amt\n",
      "variable to test: PrivateResidentialLending_avg_amt\n",
      "variable to test: PensionSavings_avg_amt\n",
      "variable to test: SavingsAccounts_avg_amt\n",
      "variable to test: TransactionAccounts_avg_amt\n",
      "variable to test: months_of_collector_trx\n",
      "variable to test: nr_of_collector_trx\n",
      "variable to test: collector_trx_amount\n",
      "variable to test: AmountOfTransFromGamblingCompanies\n",
      "variable to test: AmountOfTotalTransGamblingCompanies\n",
      "variable to test: AmountOfTransToGamblingCompanies\n",
      "variable to test: NumOfTransFromGamblingCompanies\n",
      "variable to test: NumOfTotalGamblingTrans\n",
      "variable to test: NumOfTransToGamblingCompanies\n",
      "variable to test: NumOfTransFromGamblingCompanies_last_3_months\n",
      "variable to test: AmountOfTransToGamblingCompanies_last_3_months\n",
      "variable to test: AmountOfTotalTransGamblingCompanies_last_3_months\n",
      "variable to test: NumOfTransToGamblingCompanies_last_3_months\n",
      "variable to test: NumOfTotalGamblingTrans_last_3_months\n",
      "variable to test: AmountOfTransFromGamblingCompanies_last_3_months\n",
      "variable to test: NumOfTransFromGamblingCompanies_last_6_months\n",
      "variable to test: AmountOfTransToGamblingCompanies_last_6_months\n",
      "variable to test: NumOfTransToGamblingCompanies_last_6_months\n",
      "variable to test: AmountOfTotalTransGamblingCompanies_last_6_months\n",
      "variable to test: AmountOfTransFromGamblingCompanies_last_6_months\n",
      "variable to test: NumOfTransFromGamblingCompanies_last_12_months\n",
      "variable to test: NumOfTotalGamblingTrans_last_12_months\n",
      "variable to test: AmountOfTotalTransGamblingCompanies_last_12_months\n",
      "variable to test: NumOfTransToGamblingCompanies_last_12_months\n",
      "variable to test: AmountOfTransFromGamblingCompanies_last_12_months\n",
      "variable to test: AmountOfTransToGamblingCompanies_last_12_months\n",
      "variable to test: gambling_flag_last_12_months\n",
      "variable to test: AmountOfTransNight\n",
      "variable to test: NumOfTransNight\n",
      "variable to test: AmountOfTransDay\n",
      "variable to test: NumOfTransDay\n",
      "variable to test: NumOfTransNight_last_3_months\n",
      "variable to test: AmountOfTransDay_last_3_months\n",
      "variable to test: AmountOfTransNight_last_3_months\n",
      "variable to test: NumOfTransDay_last_3_months\n",
      "variable to test: NumOfTransNight_last_6_months\n",
      "variable to test: AmountOfTransNight_last_6_months\n",
      "variable to test: AmountOfTransDay_last_6_months\n",
      "variable to test: NumOfTransDay_last_6_months\n",
      "variable to test: salary_amt_6_std\n",
      "variable to test: pension_amt_6_std\n",
      "variable to test: income_amt_6_std\n",
      "variable to test: salary_amt_6_avg\n",
      "variable to test: pension_amt_6_avg\n",
      "variable to test: income_amt_6_avg\n",
      "variable to test: salary_n_6_avg\n",
      "variable to test: pension_n_6_avg\n",
      "variable to test: income_n_6_avg\n",
      "variable to test: HasInternetBankPayment\n",
      "variable to test: nr_totalproducts\n",
      "variable to test: nr_savingsInsuranceproducts\n",
      "variable to test: nr_Lendingproducts\n",
      "variable to test: nr_Paymentsproducts\n",
      "variable to test: nr_OtherProducts&Services\n",
      "variable to test: Trading&CapitalMarkets\n",
      "variable to test: ISK-InvestmentSavingsAccount\n",
      "variable to test: CreditCards\n",
      "variable to test: DebitCards\n",
      "variable to test: ConsumerLending\n",
      "variable to test: DirectInvestmentsinMutualFunds\n",
      "variable to test: PrivateResidentialLending\n",
      "variable to test: PensionSavings\n",
      "variable to test: SavingsAccounts\n",
      "variable to test: Swish\n",
      "variable to test: TransactionAccounts\n",
      "variable to test: Nyckelkund\n",
      "variable to test: TelebankPersonligS\n",
      "variable to test: Internetbetalning\n",
      "variable to test: Grundavtalinternet\n",
      "variable to test: NumOfPlannedTransfersToISKMonth_avg_last_6m\n",
      "variable to test: NumOfPlannedTransfersToMutualFondsMonth_avg_last_6m\n",
      "variable to test: NumOfPlannedTransfersToIPSMonth_avg_last_6m\n",
      "variable to test: NumOfPlannedTransfersToSavingsAccountsMonth_avg_last_6m\n",
      "variable to test: NumOfPlannedTransfersOthersMonth_avg_last_6m\n",
      "variable to test: NumOfPlannedTransfersTotalMonth_avg_last_6m\n",
      "variable to test: AmountOfMonthlyPlannedTransfersToISK_avg_last_6m\n",
      "variable to test: AmountOfMonthlyPlannedTransfersToMutualFunds_avg_last_6m\n",
      "variable to test: AmountOfMonthlyPlannedTransfersToSavingsAccounts_avg_last_6m\n",
      "variable to test: AmountOfMonthlyPlannedTransfersToIPS_avg_last_6m\n",
      "variable to test: AmountOfMonthlyPlannedTransfersToOthers_avg_last_6m\n",
      "variable to test: AmountOfTotalMonthlyPlannedTransfers_avg_last_6m\n",
      "variable to test: TotalNumOfDepositsMonth_avg_last_6m\n",
      "variable to test: TotalAmountOfDepositsMonth_avg_last_6m\n",
      "variable to test: NumOfATMDepositsMonth_avg_last_6m\n",
      "variable to test: AmountOfATMDepositsMonth_avg_last_6m\n",
      "variable to test: NumOfTotalWithdrawalsMonth_avg_last_6m\n",
      "variable to test: AmountOfTotalWithdrawalsMonth_avg_last_6m\n",
      "variable to test: NumOfATMWithdrawalsMonth_avg_last_6m\n",
      "variable to test: AmountOfATMWithdrawalsMonth_avg_last_6m\n",
      "variable to test: NumOfTransactionsActiveCustomer_avg_last_6m\n",
      "variable to test: NumOfTotalTransToConsumerLoansCompetitors\n",
      "variable to test: AmountOfTotalTransToConsumerLoansCompetitors\n",
      "variable to test: NumOfTotalTransToConsumerLoansCompetitors_last_3_months\n",
      "variable to test: AmountOfTotalTransToConsumerLoansCompetitors_last_3_months\n",
      "variable to test: AmountOfTotalTransToConsumerLoansCompetitors_last_6_months\n",
      "variable to test: ConsumerLoansCompetitors_flag_last_6_months\n",
      "variable to test: C_n_swish_number_ever\n",
      "variable to test: P_n_swish_number_ever\n",
      "variable to test: C_n_swish_number_now\n",
      "variable to test: P_n_swish_number_now\n",
      "variable to test: C_n_swish_in\n",
      "variable to test: C_n_swish_ut\n",
      "variable to test: C_amt_swish_in\n",
      "variable to test: C_amt_swish_ut\n",
      "variable to test: P_n_swish_in\n",
      "variable to test: P_n_swish_ut\n",
      "variable to test: P_amt_swish_in\n",
      "variable to test: P_amt_swish_ut\n",
      "variable to test: C_n_counterparty\n",
      "variable to test: P_n_counterparty\n",
      "variable to test: invest_and_saving_sum_amt\n",
      "variable to test: invest_and_saving_n_amt\n",
      "variable to test: lending_sum_amt\n",
      "variable to test: lending_n_amt\n",
      "variable to test: trx_sum_amt\n",
      "variable to test: trx_n_amt\n"
     ]
    }
   ],
   "source": [
    "for segment in range(0,2):\n",
    "    # filter the dataset based on the segment\n",
    "    df=df_base_full.filter(F.col('poor_payment_flag')==segment)\n",
    "    print(df.cache().count())\n",
    "    df.groupby('default').count().show() \n",
    "    # feature list\n",
    "    drop_feature=['default', 'poor_payment_flag', 'partygenid', 'disbursement_month','gender','check','perf_n']\n",
    "    feature_grp=[x for x in df.columns if x not in drop_feature]\n",
    "    # calculate information value\n",
    "    #https://medium.com/@sundarstyles89/weight-of-evidence-and-information-value-using-python-6f05072e83eb\n",
    "    #define output variables needed\n",
    "    var_list = []\n",
    "    missing = []\n",
    "    zero = []\n",
    "    unique=[]\n",
    "    iv_list = []\n",
    "    df_pd_cal_var = []\n",
    "    df_pd_cal_cell = []\n",
    "    df_pd_cal_default_sum = []\n",
    "    df_pd_cal_default_count = []\n",
    "    df_pd_cal_bin_max = []\n",
    "    df_pd_cal_bin_min = []\n",
    "    #https://stackoverflow.com/questions/21489111/how-to-assign-a-plot-to-a-variable-and-use-the-variable-as-the-return-value-in-a\n",
    "    #https://www.programcreek.com/python/example/93797/matplotlib.backends.backend_pdf.PdfPages\n",
    "    # output graphs and values\n",
    "    pdfname = 'Charts_allvar'+str(segment)+'.pdf'\n",
    "    with PdfPages(pdfname) as export_pdf:\n",
    "        \n",
    "        for i in range(0,len(feature_grp)): \n",
    "            df_pd = df.select('default',feature_grp[i]).toPandas()\n",
    "            n = len(df_pd['default'])\n",
    "            default_n = sum(df_pd['default'])\n",
    "            nondefault_n = len(df_pd['default']) - sum(df_pd['default'])\n",
    "            var = feature_grp[i]\n",
    "            #print('variable to test: %s' %var)\n",
    "            var_list.append(var)\n",
    "            missing.append((df_pd[var].isna().sum()*0.01)/(n*0.01))\n",
    "            zero.append((len(df_pd[df_pd[var]==0])*0.01)/(n*0.01))\n",
    "            unique.append(df_pd[var].nunique())\n",
    "\n",
    "            cell_n = 10\n",
    "\n",
    "            while cell_n>=1:\n",
    "                sel_var = ['Decile_rank','default']\n",
    "                grp_var = ['Decile_rank']\n",
    "                grp_name = str('Decile_rank')\n",
    "                try:\n",
    "                    cell_n = cell_n\n",
    "                    summary, df_pd_cal = mf.bin_iv_var(df_pd=df_pd, sel_var = sel_var, grp_var = grp_var, grp_name = grp_name, var = var, \n",
    "                                                       default_n = default_n, nondefault_n = nondefault_n, cell = cell_n)\n",
    "                    for j in range(0, len(df_pd_cal)):\n",
    "                        df_pd_cal_var.append(list(df_pd_cal['var_name'])[j])\n",
    "                        df_pd_cal_cell.append(list(df_pd_cal[grp_name])[j])\n",
    "                        df_pd_cal_default_sum.append(list(df_pd_cal['default']['sum'])[j])\n",
    "                        df_pd_cal_default_count.append(list(df_pd_cal['default']['count'])[j])\n",
    "                        df_pd_cal_bin_max.append(list(df_pd_cal[var]['max'])[j])\n",
    "                        df_pd_cal_bin_min.append(list(df_pd_cal[var]['min'])[j])\n",
    "                    fig = mf.bin_plot(data=summary, var=var)\n",
    "                    export_pdf.savefig(figure=fig)\n",
    "                    iv_list.append(sum(df_pd_cal['IV']))\n",
    "                    break\n",
    "                except ValueError:\n",
    "                    cell_n = cell_n-1\n",
    "                    continue\n",
    "                except TypeError:\n",
    "                    print('%s something is wrong with the graph' %var)\n",
    "                    iv_list.append('error')\n",
    "                    break\n",
    "                except KeyboardInterrupt:\n",
    "                    print('I want to stop this')\n",
    "                    break\n",
    "    ivfeature = \"IV_feature_check_allvar_\"+str(segment)\n",
    "    ivfeaturecsv = \"IV_feature_check_allvar_\"+str(segment)+\".csv\"\n",
    "\n",
    "    ivfeature = pd.DataFrame({'var': var_list,\n",
    "                              'missing': missing,\n",
    "                              'zero': zero,\n",
    "                              'unique': unique,\n",
    "                              'iv': iv_list})\n",
    "    ivfeature.to_csv(ivfeaturecsv, sep=',', encoding='utf-8')\n",
    "#https://www.programiz.com/python-programming/working-csv-files"
   ]
  },
  {
   "cell_type": "markdown",
   "metadata": {},
   "source": [
    "## 1.2 correlation matrix"
   ]
  },
  {
   "cell_type": "code",
   "execution_count": 120,
   "metadata": {
    "collapsed": false
   },
   "outputs": [],
   "source": [
    "def get_redundant_pairs(df):\n",
    "    '''Get diagonal and lower triangular pairs of correlation matrix'''\n",
    "    pairs_to_drop = set()\n",
    "    cols = df.columns\n",
    "    for i in range(0, df.shape[1]):\n",
    "        for j in range(0, i+1):\n",
    "            pairs_to_drop.add((cols[i], cols[j]))\n",
    "    return pairs_to_drop\n",
    "\n",
    "def get_top_abs_correlations(df, threshold):\n",
    "    au_corr = df.corr().abs().unstack()\n",
    "    labels_to_drop = get_redundant_pairs(df)\n",
    "    au_corr = au_corr.drop(labels=labels_to_drop).sort_values(ascending=False)\n",
    "    au_corr = au_corr[au_corr > threshold]\n",
    "    \n",
    "    au_corr_df = au_corr.to_frame().reset_index()\n",
    "    au_corr_df = au_corr_df.rename(columns ={'level_0': 'feature_1',\n",
    "                                             'level_1': 'feature_2',\n",
    "                                              0: 'correlation'})\n",
    "    print 'The number of highly correlated feature pairs is: ', au_corr_df['correlation'].count()\n",
    "    return au_corr_df"
   ]
  },
  {
   "cell_type": "code",
   "execution_count": 121,
   "metadata": {
    "collapsed": false
   },
   "outputs": [
    {
     "name": "stdout",
     "output_type": "stream",
     "text": [
      "The number of highly correlated feature pairs is:  9045\n"
     ]
    }
   ],
   "source": [
    "import numpy as np\n",
    "pdf = (df_base_full.fillna(0).filter(F.col('poor_payment_flag')==1)\n",
    "                    .drop('partygenid','disbursement_month','poor_payment_flag', 'default').toPandas())\n",
    "# calculate the correlations\n",
    "corr = get_top_abs_correlations(pdf, 0.8)\n",
    "corr.to_csv('correlationmatrix.csv', sep=',', encoding='utf-8')"
   ]
  },
  {
   "cell_type": "markdown",
   "metadata": {},
   "source": [
    "## 1.3 selected features from 1.1 and 1.2"
   ]
  },
  {
   "cell_type": "code",
   "execution_count": 5,
   "metadata": {
    "collapsed": true
   },
   "outputs": [],
   "source": [
    "select_var=['partygenid', 'disbursement_month', 'poor_payment_flag', 'default', 'duration_poor_payment_count', \n",
    "            'duration_poor_payment_distinct', 'max_severity_class', 'mean_severity_class', 'n_card_trx_all', \n",
    "            'amt_card_trx_all', 'n_card_trx_f', 'amt_card_trx_f', 'n_currency', 'age', 'TradingCapitalMarkets_avg_amt',\n",
    "            'ISKInvestmentSavingsAccount_avg_amt', 'CreditCards_avg_amt', 'DebitCards_avg_amt', 'ConsumerLending_avg_amt',\n",
    "            'DirectInvestmentsinMutualFunds_avg_amt', 'PrivateResidentialLending_avg_amt', 'PensionSavings_avg_amt', \n",
    "            'SavingsAccounts_avg_amt', 'TransactionAccounts_avg_amt', 'nr_of_collector_trx', 'collector_trx_amount', \n",
    "            'gambling_flag_last_12_months', 'NumOfTransNight_last_6_months', 'NumOfTransDay_last_6_months', \n",
    "            'AmountOfTransNight_last_6_months', 'AmountOfTransDay_last_6_months', 'income_amt_6_std', 'income_amt_6_avg', \n",
    "            'income_n_6_avg', 'nr_totalproducts', 'nr_savingsInsuranceproducts', 'nr_Lendingproducts',\n",
    "            'Trading&CapitalMarkets', 'ISK-InvestmentSavingsAccount', 'CreditCards', 'DebitCards', 'ConsumerLending', \n",
    "            'DirectInvestmentsinMutualFunds', 'PrivateResidentialLending', 'PensionSavings', 'SavingsAccounts', 'Swish', \n",
    "            'TransactionAccounts', 'Nyckelkund', 'TelebankPersonligS', 'Internetbetalning', 'Grundavtalinternet', \n",
    "            'NumOfPlannedTransfersTotalMonth_avg_last_6m', 'AmountOfTotalMonthlyPlannedTransfers_avg_last_6m',\n",
    "            'TotalNumOfDepositsMonth_avg_last_6m', 'NumOfATMDepositsMonth_avg_last_6m', 'AmountOfATMDepositsMonth_avg_last_6m', \n",
    "            'AmountOfTotalWithdrawalsMonth_avg_last_6m', 'NumOfATMWithdrawalsMonth_avg_last_6m', \n",
    "            'AmountOfATMWithdrawalsMonth_avg_last_6m', 'NumOfTransactionsActiveCustomer_avg_last_6m', \n",
    "            'ConsumerLoansCompetitors_flag_last_6_months', 'invest_and_saving_n_amt', 'lending_n_amt', 'trx_n_amt',\n",
    "            'invest_and_saving_sum_amt', 'lending_sum_amt', 'trx_sum_amt']"
   ]
  },
  {
   "cell_type": "markdown",
   "metadata": {},
   "source": [
    "### 1.3.1 different ways of filling in missing"
   ]
  },
  {
   "cell_type": "code",
   "execution_count": 6,
   "metadata": {
    "collapsed": false
   },
   "outputs": [
    {
     "name": "stdout",
     "output_type": "stream",
     "text": [
      "345852\n"
     ]
    }
   ],
   "source": [
    "#df_base = spark.table('ddp_consumerlending_vault.p901cyo_combined_v2')\n",
    "df_base = df_base_full.select(select_var)\n",
    "# cache df_base\n",
    "print(df_base.cache().count())"
   ]
  },
  {
   "cell_type": "code",
   "execution_count": 7,
   "metadata": {
    "collapsed": true
   },
   "outputs": [],
   "source": [
    "# one way to fill the missings--> all with 0\n",
    "df_base_fillna = df_base.fillna(0)"
   ]
  },
  {
   "cell_type": "code",
   "execution_count": 8,
   "metadata": {
    "collapsed": false
   },
   "outputs": [
    {
     "name": "stdout",
     "output_type": "stream",
     "text": [
      "(46, ['duration_poor_payment_count', 'duration_poor_payment_distinct', 'mean_severity_class', 'n_card_trx_all', 'amt_card_trx_all', 'n_card_trx_f', 'amt_card_trx_f', 'n_currency', 'age', 'TradingCapitalMarkets_avg_amt', 'ISKInvestmentSavingsAccount_avg_amt', 'CreditCards_avg_amt', 'DebitCards_avg_amt', 'ConsumerLending_avg_amt', 'DirectInvestmentsinMutualFunds_avg_amt', 'PrivateResidentialLending_avg_amt', 'PensionSavings_avg_amt', 'SavingsAccounts_avg_amt', 'TransactionAccounts_avg_amt', 'nr_of_collector_trx', 'collector_trx_amount', 'NumOfTransNight_last_6_months', 'NumOfTransDay_last_6_months', 'AmountOfTransNight_last_6_months', 'AmountOfTransDay_last_6_months', 'income_amt_6_std', 'income_amt_6_avg', 'income_n_6_avg', 'nr_totalproducts', 'nr_savingsInsuranceproducts', 'nr_Lendingproducts', 'NumOfPlannedTransfersTotalMonth_avg_last_6m', 'AmountOfTotalMonthlyPlannedTransfers_avg_last_6m', 'TotalNumOfDepositsMonth_avg_last_6m', 'NumOfATMDepositsMonth_avg_last_6m', 'AmountOfATMDepositsMonth_avg_last_6m', 'AmountOfTotalWithdrawalsMonth_avg_last_6m', 'NumOfATMWithdrawalsMonth_avg_last_6m', 'AmountOfATMWithdrawalsMonth_avg_last_6m', 'NumOfTransactionsActiveCustomer_avg_last_6m', 'invest_and_saving_n_amt', 'lending_n_amt', 'trx_n_amt', 'invest_and_saving_sum_amt', 'lending_sum_amt', 'trx_sum_amt'])\n"
     ]
    }
   ],
   "source": [
    "drop_feature=['default', 'poor_payment_flag', 'partygenid', 'disbursement_month']\n",
    "feature_grp=[x for x in df_base.columns if x not in drop_feature]\n",
    "\n",
    "feature_numeric = [col for col in feature_grp if (df_base.select(col).dropna().distinct().count()>10)]\n",
    "print(len(feature_numeric),feature_numeric)"
   ]
  },
  {
   "cell_type": "code",
   "execution_count": 9,
   "metadata": {
    "collapsed": false
   },
   "outputs": [],
   "source": [
    "# another way to fill the missings -->medium\n",
    "df_base_cast = df_base.select('default', 'poor_payment_flag', 'partygenid', 'disbursement_month', *(F.col(c).cast(\"float\").alias(c) for c in feature_grp))\n",
    "#df_base_cast = df_base.select( *(F.col(c).cast(\"float\").alias(c) for c in feature_grp))\n",
    "feature_numeric_out = [s + '_out' for s in feature_numeric]\n",
    "imputer = Imputer(inputCols=feature_numeric, outputCols=feature_numeric)\n",
    "df_base_fillmedian = imputer.setStrategy(\"median\").setMissingValue(0).fit(df_base_cast).transform(df_base_cast)\n",
    "df_base_fillm = df_base_fillmedian.fillna(0)"
   ]
  },
  {
   "cell_type": "markdown",
   "metadata": {},
   "source": [
    "### 1.3.2 information value for different ways of filling missing values"
   ]
  },
  {
   "cell_type": "code",
   "execution_count": 30,
   "metadata": {
    "collapsed": true
   },
   "outputs": [
    {
     "name": "stdout",
     "output_type": "stream",
     "text": [
      "243613\n",
      "+-------+------+\n",
      "|default| count|\n",
      "+-------+------+\n",
      "|      1|   467|\n",
      "|      0|243146|\n",
      "+-------+------+\n",
      "\n",
      "('0', 'nofill', 64)\n",
      "243613\n",
      "+-------+------+\n",
      "|default| count|\n",
      "+-------+------+\n",
      "|      1|   467|\n",
      "|      0|243146|\n",
      "+-------+------+\n",
      "\n",
      "('0', 'fillna', 64)\n",
      "243613\n",
      "+-------+------+\n",
      "|default| count|\n",
      "+-------+------+\n",
      "|      1|   467|\n",
      "|      0|243146|\n",
      "+-------+------+\n",
      "\n",
      "('0', 'fillm', 64)\n",
      "102239\n",
      "+-------+------+\n",
      "|default| count|\n",
      "+-------+------+\n",
      "|      1|   689|\n",
      "|      0|101550|\n",
      "+-------+------+\n",
      "\n",
      "('1', 'nofill', 64)\n",
      "102239\n",
      "+-------+------+\n",
      "|default| count|\n",
      "+-------+------+\n",
      "|      1|   689|\n",
      "|      0|101550|\n",
      "+-------+------+\n",
      "\n",
      "('1', 'fillna', 64)\n",
      "102239\n",
      "+-------+------+\n",
      "|default| count|\n",
      "+-------+------+\n",
      "|      1|   689|\n",
      "|      0|101550|\n",
      "+-------+------+\n",
      "\n",
      "('1', 'fillm', 64)\n"
     ]
    }
   ],
   "source": [
    "for segment in range(0,2):\n",
    "    for basedata in (df_base, df_base_fillna, df_base_fillm):\n",
    "        # filter the dataset based on the segment\n",
    "        df=basedata.filter(F.col('poor_payment_flag')==segment)\n",
    "        print(df.cache().count())\n",
    "        df.groupby('default').count().show() \n",
    "        # feature list\n",
    "        drop_feature=['default', 'poor_payment_flag', 'partygenid', 'disbursement_month','gender','check','perf_n']\n",
    "        feature_grp=[x for x in df.columns if x not in drop_feature]\n",
    "        # calculate information value\n",
    "        #https://medium.com/@sundarstyles89/weight-of-evidence-and-information-value-using-python-6f05072e83eb\n",
    "        #define output variables needed\n",
    "        var_list = []\n",
    "        missing = []\n",
    "        zero = []\n",
    "        unique=[]\n",
    "        iv_list = []\n",
    "        df_pd_cal_var = []\n",
    "        df_pd_cal_cell = []\n",
    "        df_pd_cal_default_sum = []\n",
    "        df_pd_cal_default_count = []\n",
    "        df_pd_cal_bin_max = []\n",
    "        df_pd_cal_bin_min = []\n",
    "        #https://stackoverflow.com/questions/21489111/how-to-assign-a-plot-to-a-variable-and-use-the-variable-as-the-return-value-in-a\n",
    "        #https://www.programcreek.com/python/example/93797/matplotlib.backends.backend_pdf.PdfPages\n",
    "        # output graphs and values\n",
    "        if basedata == df_base:\n",
    "            dataname = str('nofill')\n",
    "        elif basedata == df_base_fillna:\n",
    "            dataname = str('fillna')\n",
    "        elif basedata == df_base_fillm:\n",
    "            dataname = str('fillm')\n",
    "            \n",
    "        pdfname = 'Charts_'+str(dataname)+str(segment)+'.pdf'\n",
    "        with PdfPages(pdfname) as export_pdf:\n",
    "\n",
    "            for i in range(0,len(feature_grp)): \n",
    "                df_pd = df.select('default',feature_grp[i]).toPandas()\n",
    "                n = len(df_pd['default'])\n",
    "                default_n = sum(df_pd['default'])\n",
    "                nondefault_n = len(df_pd['default']) - sum(df_pd['default'])\n",
    "                var = feature_grp[i]\n",
    "                #print('variable to test: %s' %var)\n",
    "                var_list.append(var)\n",
    "                missing.append((df_pd[var].isna().sum()*0.01)/(n*0.01))\n",
    "                zero.append((len(df_pd[df_pd[var]==0])*0.01)/(n*0.01))\n",
    "                unique.append(df_pd[var].nunique())\n",
    "\n",
    "                cell_n = 10\n",
    "\n",
    "                while cell_n>=1:\n",
    "                    sel_var = ['Decile_rank','default']\n",
    "                    grp_var = ['Decile_rank']\n",
    "                    grp_name = str('Decile_rank')\n",
    "                    try:\n",
    "                        cell_n = cell_n\n",
    "                        summary, df_pd_cal = mf.bin_iv_var(df_pd=df_pd, sel_var = sel_var, grp_var = grp_var, grp_name = grp_name, var = var, \n",
    "                                                           default_n = default_n, nondefault_n = nondefault_n, cell = cell_n)\n",
    "                        for j in range(0, len(df_pd_cal)):\n",
    "                            df_pd_cal_var.append(list(df_pd_cal['var_name'])[j])\n",
    "                            df_pd_cal_cell.append(list(df_pd_cal[grp_name])[j])\n",
    "                            df_pd_cal_default_sum.append(list(df_pd_cal['default']['sum'])[j])\n",
    "                            df_pd_cal_default_count.append(list(df_pd_cal['default']['count'])[j])\n",
    "                            df_pd_cal_bin_max.append(list(df_pd_cal[var]['max'])[j])\n",
    "                            df_pd_cal_bin_min.append(list(df_pd_cal[var]['min'])[j])\n",
    "                        fig = mf.bin_plot(data=summary, var=var)\n",
    "                        export_pdf.savefig(figure=fig)\n",
    "                        iv_list.append(sum(df_pd_cal['IV']))\n",
    "                        break\n",
    "                    except ValueError:\n",
    "                        cell_n = cell_n-1\n",
    "                        continue\n",
    "                    except TypeError:\n",
    "                        print('%s something is wrong with the graph' %var)\n",
    "                        iv_list.append('error')\n",
    "                        break\n",
    "                    except KeyboardInterrupt:\n",
    "                        print('I want to stop this')\n",
    "                        break\n",
    "        ivfeature = \"IV_feature_check_\"+str(dataname)+str(segment)\n",
    "        ivfeaturecsv = \"IV_feature_check_\"+str(dataname)+str(segment)+\".csv\"\n",
    "\n",
    "        ivfeature = pd.DataFrame({'var': var_list,\n",
    "                                  'missing': missing,\n",
    "                                  'zero': zero,\n",
    "                                  'unique': unique,\n",
    "                                  'iv': iv_list})\n",
    "        ivfeature.to_csv(ivfeaturecsv, sep=',', encoding='utf-8')\n",
    "        \n",
    "        binfeature = \"feature_bin_\"+str(dataname)+str(segment)\n",
    "        binfeaturecsv = \"feature_bin_\"+str(dataname)+str(segment)+\".csv\"\n",
    "        binfeature = pd.DataFrame({'var': df_pd_cal_var,\n",
    "                                   'cell': df_pd_cal_cell,\n",
    "                                   'default': df_pd_cal_default_sum,\n",
    "                                   'total': df_pd_cal_default_count,\n",
    "                                   'bin_max': df_pd_cal_bin_max,\n",
    "                                   'bin_min':df_pd_cal_bin_min})\n",
    "        binfeature.to_csv(binfeaturecsv, sep=',', encoding='utf-8')\n",
    "#         with open(binfeature, 'w') as writeFile:\n",
    "#             writer = csv.writer(writeFile)\n",
    "#             for i in range(0,len(iv_list)):\n",
    "#                 writer.writerow([df_pd_cal_var[i], df_pd_cal_cell[i],  df_pd_cal_default_sum[i],  df_pd_cal_default_count[i], df_pd_cal_bin_max[i], df_pd_cal_bin_min[i]])\n",
    "#         writeFile.close()\n",
    "        print(str(segment), dataname, len(var_list))"
   ]
  },
  {
   "cell_type": "markdown",
   "metadata": {},
   "source": [
    "### 1.3.3 Calculate IV for the important variables from different missing filling method with decision tree binning"
   ]
  },
  {
   "cell_type": "code",
   "execution_count": 22,
   "metadata": {
    "collapsed": true
   },
   "outputs": [
    {
     "name": "stdout",
     "output_type": "stream",
     "text": [
      "243613\n",
      "+-------+------+\n",
      "|default| count|\n",
      "+-------+------+\n",
      "|      1|   467|\n",
      "|      0|243146|\n",
      "+-------+------+\n",
      "\n",
      "('0', 'fillna')\n",
      "243613\n",
      "+-------+------+\n",
      "|default| count|\n",
      "+-------+------+\n",
      "|      1|   467|\n",
      "|      0|243146|\n",
      "+-------+------+\n",
      "\n",
      "('0', 'fillm')\n",
      "102239\n",
      "+-------+------+\n",
      "|default| count|\n",
      "+-------+------+\n",
      "|      1|   689|\n",
      "|      0|101550|\n",
      "+-------+------+\n",
      "\n",
      "('1', 'fillna')\n",
      "102239\n",
      "+-------+------+\n",
      "|default| count|\n",
      "+-------+------+\n",
      "|      1|   689|\n",
      "|      0|101550|\n",
      "+-------+------+\n",
      "\n",
      "('1', 'fillm')\n"
     ]
    }
   ],
   "source": [
    "for segment in range(0,2):\n",
    "    for basedata in (df_base_fillna, df_base_fillm):\n",
    "        # filter the dataset based on the segment\n",
    "        df=basedata.filter(F.col('poor_payment_flag')==segment)\n",
    "        print(df.cache().count())\n",
    "        df.groupby('default').count().show() \n",
    "        \n",
    "        if basedata == df_base:\n",
    "            dataname = str('nofill')\n",
    "        elif basedata == df_base_fillna:\n",
    "            dataname = str('fillna')\n",
    "        elif basedata == df_base_fillm:\n",
    "            dataname = str('fillm')\n",
    "        \n",
    "        ivfeature = \"IV_feature_check_\"+str(dataname)+str(segment)+\".csv\"        \n",
    "        feature = mf.getfeature(file_name = ivfeature)\n",
    "        \n",
    "        df_pd_cal_var = []\n",
    "        df_pd_cal_iv = []\n",
    "        \n",
    "        for i in range(0,len(feature)): \n",
    "            #print(feature[i])\n",
    "            result_df = bin_iv_var2(df=df, var=feature[i]) \n",
    "            df_pd_cal_var.append(feature[i])\n",
    "            df_pd_cal_iv.append(result_df['iv'].sum())\n",
    "                \n",
    "        dtfeature = \"IV_feature_check_\"+str(dataname)+str(segment)+\"_dt\"+\".csv\"\n",
    "        with open(dtfeature, 'w') as writeFile:\n",
    "            writer = csv.writer(writeFile)\n",
    "            for i in range(0,len(df_pd_cal_var)):\n",
    "                writer.writerow([df_pd_cal_var[i], df_pd_cal_iv[i]])\n",
    "        writeFile.close()\n",
    "        print(str(segment), dataname)"
   ]
  },
  {
   "cell_type": "code",
   "execution_count": 23,
   "metadata": {
    "collapsed": false
   },
   "outputs": [
    {
     "name": "stdout",
     "output_type": "stream",
     "text": [
      "102239\n",
      "+-------+------+\n",
      "|default| count|\n",
      "+-------+------+\n",
      "|      1|   689|\n",
      "|      0|101550|\n",
      "+-------+------+\n",
      "\n"
     ]
    }
   ],
   "source": [
    "segment = 1\n",
    "basedata = df_base_fillna\n",
    "df=basedata.filter(F.col('poor_payment_flag')==segment)\n",
    "print(df.cache().count())\n",
    "#df.groupby('default').count().show() \n",
    "        \n",
    "if basedata == df_base:\n",
    "    dataname = str('nofill')\n",
    "elif basedata == df_base_fillna:\n",
    "    dataname = str('fillna')\n",
    "elif basedata == df_base_fillm:\n",
    "    dataname = str('fillm')\n",
    "\n",
    "ivfeature = \"IV_feature_check_\"+str(dataname)+str(segment)+\".csv\"        \n",
    "feature = mf.getfeature(file_name = ivfeature)\n",
    "var = feature[0]"
   ]
  },
  {
   "cell_type": "code",
   "execution_count": 24,
   "metadata": {
    "collapsed": false
   },
   "outputs": [
    {
     "data": {
      "text/plain": [
       "DecisionTreeClassifier(class_weight=None, criterion='entropy', max_depth=None,\n",
       "            max_features=None, max_leaf_nodes=6, min_impurity_decrease=0.0,\n",
       "            min_impurity_split=None, min_samples_leaf=0.05,\n",
       "            min_samples_split=2, min_weight_fraction_leaf=0.0,\n",
       "            presort=False, random_state=None, splitter='best')"
      ]
     },
     "execution_count": 24,
     "metadata": {},
     "output_type": "execute_result"
    }
   ],
   "source": [
    "from sklearn.tree import DecisionTreeClassifier\n",
    "x = df.select(var).toPandas()  # send to pandas\n",
    "y = df.select('default').toPandas()\n",
    "    \n",
    "clf = DecisionTreeClassifier(criterion='entropy',   \n",
    "                             max_leaf_nodes=6,       \n",
    "                             min_samples_leaf=0.05)\n",
    "\n",
    "clf.fit(x, y)  "
   ]
  },
  {
   "cell_type": "code",
   "execution_count": 26,
   "metadata": {
    "collapsed": false
   },
   "outputs": [
    {
     "data": {
      "text/plain": [
       "array([ 1,  3, -1,  7,  5, -1, -1, -1,  9, -1, -1])"
      ]
     },
     "execution_count": 26,
     "metadata": {},
     "output_type": "execute_result"
    }
   ],
   "source": [
    "clf.tree_.children_left"
   ]
  },
  {
   "cell_type": "code",
   "execution_count": 27,
   "metadata": {
    "collapsed": false
   },
   "outputs": [
    {
     "data": {
      "text/plain": [
       "array([ 2,  4, -1,  8,  6, -1, -1, -1, 10, -1, -1])"
      ]
     },
     "execution_count": 27,
     "metadata": {},
     "output_type": "execute_result"
    }
   ],
   "source": [
    "clf.tree_.children_right"
   ]
  },
  {
   "cell_type": "code",
   "execution_count": 28,
   "metadata": {
    "collapsed": false
   },
   "outputs": [
    {
     "data": {
      "text/plain": [
       "11"
      ]
     },
     "execution_count": 28,
     "metadata": {},
     "output_type": "execute_result"
    }
   ],
   "source": [
    "clf.tree_.node_count"
   ]
  },
  {
   "cell_type": "code",
   "execution_count": 29,
   "metadata": {
    "collapsed": false
   },
   "outputs": [
    {
     "data": {
      "text/plain": [
       "array([ 12.5,   4.5,  -2. ,   2.5,   8.5,  -2. ,  -2. ,  -2. ,   3.5,\n",
       "        -2. ,  -2. ])"
      ]
     },
     "execution_count": 29,
     "metadata": {},
     "output_type": "execute_result"
    }
   ],
   "source": [
    "clf.tree_.threshold"
   ]
  },
  {
   "cell_type": "code",
   "execution_count": null,
   "metadata": {
    "collapsed": true
   },
   "outputs": [],
   "source": [
    "n_nodes = clf.tree_.node_count\n",
    "children_left = clf.tree_.children_left\n",
    "children_right = clf.tree_.children_right\n",
    "threshold = clf.tree_.threshold"
   ]
  },
  {
   "cell_type": "code",
   "execution_count": 31,
   "metadata": {
    "collapsed": true
   },
   "outputs": [],
   "source": [
    "boundary = optimal_binning_boundary(df=df, var=var) "
   ]
  },
  {
   "cell_type": "code",
   "execution_count": 32,
   "metadata": {
    "collapsed": false
   },
   "outputs": [
    {
     "data": {
      "text/plain": [
       "[1, 2.5, 3.5, 4.5, 8.5, 12.5, 210.09999999999999]"
      ]
     },
     "execution_count": 32,
     "metadata": {},
     "output_type": "execute_result"
    }
   ],
   "source": [
    "boundary"
   ]
  },
  {
   "cell_type": "code",
   "execution_count": null,
   "metadata": {
    "collapsed": true
   },
   "outputs": [],
   "source": []
  }
 ],
 "metadata": {
  "anaconda-cloud": {},
  "kernelspec": {
   "display_name": "Use This pySpark (Spark 2.2)",
   "language": "python",
   "name": "usethis"
  },
  "language_info": {
   "codemirror_mode": {
    "name": "ipython",
    "version": 2
   },
   "file_extension": ".py",
   "mimetype": "text/x-python",
   "name": "python",
   "nbconvert_exporter": "python",
   "pygments_lexer": "ipython2",
   "version": "2.7.14"
  }
 },
 "nbformat": 4,
 "nbformat_minor": 2
}
