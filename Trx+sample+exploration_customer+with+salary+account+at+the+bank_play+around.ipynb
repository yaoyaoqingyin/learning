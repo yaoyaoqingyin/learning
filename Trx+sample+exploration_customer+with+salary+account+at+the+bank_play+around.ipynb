{
 "cells": [
  {
   "cell_type": "markdown",
   "metadata": {},
   "source": [
    "# Sample exploration on people who has salary account with Swedbank"
   ]
  },
  {
   "cell_type": "code",
   "execution_count": 1,
   "metadata": {
    "collapsed": false
   },
   "outputs": [
    {
     "data": {
      "text/plain": [
       "40"
      ]
     },
     "execution_count": 1,
     "metadata": {},
     "output_type": "execute_result"
    }
   ],
   "source": [
    "sc.defaultParallelism"
   ]
  },
  {
   "cell_type": "code",
   "execution_count": 1,
   "metadata": {
    "collapsed": true
   },
   "outputs": [],
   "source": [
    "# select customer who has salary account with Swedbank, and look through all the transactions with the bank. \n",
    "# Identify customers who has all the expenditure with Swedbank as well\n",
    "# Identify most frequent/popular transaction types (n and amt)\n",
    "# Understand how to identify transaction with self and to others"
   ]
  },
  {
   "cell_type": "markdown",
   "metadata": {},
   "source": [
    "## Load packages"
   ]
  },
  {
   "cell_type": "code",
   "execution_count": 101,
   "metadata": {
    "collapsed": false
   },
   "outputs": [],
   "source": [
    "from pyspark.sql import SparkSession #可以用sql选数据了\n",
    "from pyspark.sql import functions as F #a lot of functions to use\n",
    "from pyspark.sql.types import StringType\n",
    "import pandas as pd\n",
    "import numpy as np\n",
    "import matplotlib.pyplot as plt \n",
    "import time"
   ]
  },
  {
   "cell_type": "markdown",
   "metadata": {},
   "source": [
    "## Creat sample dataset"
   ]
  },
  {
   "cell_type": "code",
   "execution_count": 3,
   "metadata": {
    "collapsed": true
   },
   "outputs": [],
   "source": [
    "# could create something like a macro\n",
    "#transactionMonthLimits = (str('201803'), str('201805'))\n",
    "#trans_18_0305 = spark.sql('select * from ddp_central.depo_transactionext where bankid = \"8999\"\\\n",
    "#                        and transactionmonth between %s and %s' % transactionMonthLimits)\\\n",
    "# sel_col = ['transactiontype','productname'\\\n",
    "#          ,'productdescription','productgrouplevel1','productgrouplevel2'] \n",
    "# trans_prod.groupBy(sel_col).count().sort(asc('transactiontype')).show(7, False)\n",
    "\n",
    "\n",
    "# could create columns in the sql step\n",
    "#        .withColumn('accountingtypecd', trim(trans_test.accountingtypecd))\\\n",
    "#       .withColumn('amount', trans_test.amount.cast(DecimalType(16,2)))\\\n",
    "#       .withColumn('toSelf', when(trans_test.primaryaccountholder == trans_test.secpartygenid, 1).otherwise(0))\\\n",
    "#       .withColumn('toOther', when(trans_test.primaryaccountholder != trans_test.secpartygenid, 1).otherwise(0))\\\n",
    "#       .withColumn('count', lit(1))\\"
   ]
  },
  {
   "cell_type": "code",
   "execution_count": 2,
   "metadata": {
    "collapsed": false
   },
   "outputs": [],
   "source": [
    "# # collect customer and their transactions and transaction types\n",
    "MonthtoLimit = (str('201808'), str('201805'))\n",
    "\n",
    "trx_sample=spark.sql('select trx.*, trx_type.* \\\n",
    "            from (select distinct primaryaccountholder \\\n",
    "            from ddp_central.depo_transactionext where transactionmonth>=%s and trim(transtypecd) in (\"TOB153\",\"TOB447\") \\\n",
    "            and bankid=\"8999\")  ppl \\\n",
    "            inner join (select * from ddp_central.depo_transactionext where transactionmonth>=%s and bankid=\"8999\" ) trx \\\n",
    "            on ppl.primaryaccountholder=trx.primaryaccountholder \\\n",
    "            left join ddp_central.amtr_transactiontype as trx_type on trim(trx.transtypecd)=trim(trx_type.transactiontypecd)' \\\n",
    "                    % MonthtoLimit)\\\n",
    "        .dropDuplicates()\\\n",
    "        .drop(\"transactiontypecd\")\\\n",
    "        .withColumn(\"partygenid\",F.base64(F.col(\"primaryaccountholder\")))\\\n",
    "        .withColumn(\"secpartygenid\",F.base64(F.col(\"secpartygenid\")))\\\n",
    "        .withColumn('transtypecd', F.trim(F.col('transtypecd')))\\\n",
    "        .orderBy(F.col('primaryaccountholder'))"
   ]
  },
  {
   "cell_type": "code",
   "execution_count": 3,
   "metadata": {
    "collapsed": true
   },
   "outputs": [
    {
     "data": {
      "text/plain": [
       "['primaryaccountholder',\n",
       " 'agreementgenid',\n",
       " 'productgenid',\n",
       " 'transtypecd',\n",
       " 'transactiondate',\n",
       " 'accountingtypecd',\n",
       " 'channeltypecd',\n",
       " 'amount',\n",
       " 'bankid',\n",
       " 'secaccounttypecd',\n",
       " 'secclearingnum',\n",
       " 'secaccountnum',\n",
       " 'secagreementgenid',\n",
       " 'secpartygenid',\n",
       " 'secproductgenid',\n",
       " 'channelgenid',\n",
       " 'transactiongenid',\n",
       " 'systemsourcecd',\n",
       " 'identificationmethodcd',\n",
       " 'paymentroutinecd',\n",
       " 'secbic',\n",
       " 'clearingnum',\n",
       " 'cardtransactionchannelcd',\n",
       " 'transactioninfo',\n",
       " 'kanalgenid',\n",
       " 'transactionmonth',\n",
       " 'transactiontype',\n",
       " 'transactiongroupcd',\n",
       " 'transactiongroup',\n",
       " 'partygenid']"
      ]
     },
     "execution_count": 3,
     "metadata": {},
     "output_type": "execute_result"
    }
   ],
   "source": [
    "trx_sample.columns"
   ]
  },
  {
   "cell_type": "code",
   "execution_count": 4,
   "metadata": {
    "collapsed": false
   },
   "outputs": [
    {
     "data": {
      "text/plain": [
       "485279"
      ]
     },
     "execution_count": 4,
     "metadata": {},
     "output_type": "execute_result"
    }
   ],
   "source": [
    "trx_sample.select(\"partygenid\").distinct().count()"
   ]
  },
  {
   "cell_type": "code",
   "execution_count": null,
   "metadata": {
    "collapsed": false
   },
   "outputs": [],
   "source": [
    "trx_sample.show(3)"
   ]
  },
  {
   "cell_type": "code",
   "execution_count": 122,
   "metadata": {
    "collapsed": false
   },
   "outputs": [],
   "source": [
    "# add customer infor (age, marital status, number of kids, address to identify same household)\n",
    "#select swedbank customers that are active (can also specify customerstartdate>=\"2014-01-01\", customerstartdate<=\"2014-01-31\")\n",
    "part_party = spark.sql('select partygenid, birthdate, age, gender, customerstartdate from ddp_central.part_party \\\n",
    "             where bankid = \"8999\" and customernumtypecd=\"FYS\" and deceased<>\"J\" and validtodate=\"2999-12-31\"')\\\n",
    "            .withColumn(\"partygenid\",F.base64(F.col(\"partygenid\")))\\\n",
    "            .dropDuplicates()"
   ]
  },
  {
   "cell_type": "code",
   "execution_count": null,
   "metadata": {
    "collapsed": false
   },
   "outputs": [],
   "source": [
    "part_party.columns"
   ]
  },
  {
   "cell_type": "code",
   "execution_count": 6,
   "metadata": {
    "collapsed": false
   },
   "outputs": [
    {
     "data": {
      "text/plain": [
       "6213690"
      ]
     },
     "execution_count": 6,
     "metadata": {},
     "output_type": "execute_result"
    }
   ],
   "source": [
    "part_party.select(\"partygenid\").distinct().count()"
   ]
  },
  {
   "cell_type": "code",
   "execution_count": 123,
   "metadata": {
    "collapsed": false
   },
   "outputs": [
    {
     "name": "stdout",
     "output_type": "stream",
     "text": [
      "+----------------+----------+---+------+-----------------+\n",
      "|      partygenid| birthdate|age|gender|customerstartdate|\n",
      "+----------------+----------+---+------+-----------------+\n",
      "|GZcGAhYYVnWGMQ==|1994-12-01| 24|     M|       1995-06-21|\n",
      "|FQUBACFYAABhWQ==|2014-10-18|  4|     M|       2015-04-30|\n",
      "|GZcJAxYZJCcolQ==|1947-06-05| 71|     M|       1997-08-25|\n",
      "+----------------+----------+---+------+-----------------+\n",
      "only showing top 3 rows\n",
      "\n"
     ]
    }
   ],
   "source": [
    "part_party.show(3)"
   ]
  },
  {
   "cell_type": "markdown",
   "metadata": {},
   "source": [
    "### maybe need to map household. identify transactions within customer's own accounts when customer is the primary account owner for both of the account.\n",
    "#### create a group variable to refer to household counting, then map it to primary accountholder, so household group will be the key."
   ]
  },
  {
   "cell_type": "code",
   "execution_count": 140,
   "metadata": {
    "collapsed": false
   },
   "outputs": [],
   "source": [
    "#ddp_central.partaddress, if live at the same address, then household\n",
    "#ddp_central.src_sdw_agreementcustomerrole (agreementgenid, agreementbankid, agreementstatus,agmtstartdate,agmtenddate, \n",
    "#partygenid_role, customerroletype, customerrolestartdate, customerroleenddate)\n",
    "\n",
    "household=spark.sql('select a.agreementgenid, a.agreementbankid, a.agreementstatus, a.agmtstartdate, a.agmtenddate, \\\n",
    "a.partygenid_role, a.customerroletype, a.customerrolestartdate, a.customerroleenddate, b.partygenid_role as partygenid_role_sec, \\\n",
    "c.productname, c.productgrouplevel1, c.productgrouplevel2, c.productgrouplevel3 from ddp_central.src_sdw_agreementcustomerrole as a \\\n",
    "inner join (select agreementgenid, partygenid_role from ddp_central.src_sdw_agreementcustomerrole where customerroletype in (\"01\") and agreementbankid=\"8999\") as b on a.agreementgenid=b.agreementgenid \\\n",
    "inner join (select partygenid, birthdate, age, gender, customerstartdate from ddp_central.src_sdw_part_party \\\n",
    "where bankid = \"8999\" and customernumtypecd=\"FYS\" and deceased<>\"J\" and validtodate=\"2999-12-31\") as d on a.partygenid_role=d.partygenid \\\n",
    "left join ddp_central.src_sdw_prd_productstructgpx as c on a.produktgenid=c.productgenid where a.agreementbankid=\"8999\" and a.customerroletype in (\"00\") order by a.agreementgenid')\\\n",
    ".withColumn(\"partygenid\",F.base64(F.col(\"partygenid_role\")))\\\n",
    ".withColumn(\"partygenid_sec\",F.base64(F.col(\"partygenid_role_sec\")))\\\n",
    ".withColumn(\"ID\", F.monotonically_increasing_id())\\\n",
    ".select(\"agreementgenid\", \"partygenid\", \"partygenid_sec\", \"ID\")\n"
   ]
  },
  {
   "cell_type": "code",
   "execution_count": 4,
   "metadata": {
    "collapsed": true
   },
   "outputs": [],
   "source": [
    "#map secparty's role customerroletype in (\"00\", \"01\") and \n",
    "\n",
    "household=spark.sql('select a.*, b.customerroletype as sec_role from ddp_steer.p901cyo_trx_sample_201805_201808 as a \\\n",
    "left join (select agreementgenid, partygenid_role, customerroletype from ddp_central.src_sdw_agreementcustomerrole \\\n",
    "where agreementbankid=\"8999\" and customerroletype in (\"00\", \"01\", \"02\", \"13\")) as b \\\n",
    "on a.agreementgenid=b.agreementgenid and a.secpartygenid=base64(b.partygenid_role)')"
   ]
  },
  {
   "cell_type": "code",
   "execution_count": 7,
   "metadata": {
    "collapsed": false
   },
   "outputs": [
    {
     "name": "stdout",
     "output_type": "stream",
     "text": [
      "+--------+---------+\n",
      "|sec_role|    count|\n",
      "+--------+---------+\n",
      "|      01|  7234087|\n",
      "|    null| 18232750|\n",
      "|      00|164847597|\n",
      "|      02|  1921820|\n",
      "|      13|      957|\n",
      "+--------+---------+\n",
      "\n"
     ]
    }
   ],
   "source": [
    "#household.show(5)\n",
    "household.groupby('sec_role').count().show()"
   ]
  },
  {
   "cell_type": "markdown",
   "metadata": {},
   "source": [
    "### combine party, household data with transaction data (tbd)"
   ]
  },
  {
   "cell_type": "code",
   "execution_count": 7,
   "metadata": {
    "collapsed": false
   },
   "outputs": [],
   "source": [
    "trx_ppl=trx_sample\\\n",
    "        .join(part_party,['partygenid'], 'inner')"
   ]
  },
  {
   "cell_type": "code",
   "execution_count": 8,
   "metadata": {
    "collapsed": false
   },
   "outputs": [
    {
     "data": {
      "text/plain": [
       "484321"
      ]
     },
     "execution_count": 8,
     "metadata": {},
     "output_type": "execute_result"
    }
   ],
   "source": [
    "trx_ppl.select(\"partygenid\").distinct().count()"
   ]
  },
  {
   "cell_type": "code",
   "execution_count": null,
   "metadata": {
    "collapsed": true
   },
   "outputs": [],
   "source": [
    "# cache the table for later use\n",
    "start = time.time()\n",
    "trx_ppl.cache().count()\n",
    "end = time.time()\n",
    "\n",
    "#trx_sample.is_cached\n",
    "#  useDisk, useMemory, useOffHeap, deserialized, replication=1\n",
    "#trx_sample.storageLevel\n",
    "#spark.catalog.clearCache()\n",
    "#spark.catalog.uncacheTable(tableName='trx_sample')"
   ]
  },
  {
   "cell_type": "code",
   "execution_count": null,
   "metadata": {
    "collapsed": false
   },
   "outputs": [],
   "source": [
    "print(end - start)"
   ]
  },
  {
   "cell_type": "code",
   "execution_count": 11,
   "metadata": {
    "collapsed": false
   },
   "outputs": [
    {
     "data": {
      "text/plain": [
       "False"
      ]
     },
     "execution_count": 11,
     "metadata": {},
     "output_type": "execute_result"
    }
   ],
   "source": [
    "trx_ppl.is_cached"
   ]
  },
  {
   "cell_type": "code",
   "execution_count": 9,
   "metadata": {
    "collapsed": false
   },
   "outputs": [],
   "source": [
    "# save the table on Hive for common use\n",
    "trx_ppl.write.format('orc').saveAsTable('ddp_steer.p901cyo_trx_sample_201805_201808', mode = 'overwrite')"
   ]
  },
  {
   "cell_type": "code",
   "execution_count": null,
   "metadata": {
    "collapsed": false
   },
   "outputs": [],
   "source": [
    "# find transaction has the highest frequency\n",
    "trx_freq_output=trx_ppl.groupby(\"transtypecd\", \"transactiontype\", \"accountingtypecd\").count().\\\n",
    "sort(F.desc(\"count\"))"
   ]
  },
  {
   "cell_type": "code",
   "execution_count": null,
   "metadata": {
    "collapsed": false
   },
   "outputs": [],
   "source": [
    "#look into ATL and TOB transactions separately\n",
    "trx_ppl.filter(F.col('transtypecd').like('%ATL%')).groupby(\"transtypecd\",\"transactiontype\", \"accountingtypecd\").count().show()"
   ]
  },
  {
   "cell_type": "code",
   "execution_count": null,
   "metadata": {
    "collapsed": true
   },
   "outputs": [],
   "source": [
    "trx_ppl.filter(F.col('transtypecd').like('%TOB%')).groupby(\"transtypecd\", \"transactiontype\", \"accountingtypecd\").count().\\\n",
    "sort(F.desc(\"count\")).show(100)"
   ]
  },
  {
   "cell_type": "code",
   "execution_count": null,
   "metadata": {
    "collapsed": false
   },
   "outputs": [],
   "source": [
    "# find transaction has the highest amount\n",
    "    #look the average amount first\n",
    "trx_ppl.groupby(\"transtypecd\", \"transactiontype\", \"accountingtypecd\").agg({'amount':'mean'}).\\\n",
    "sort(F.desc('avg(amount)')).show(100)\n",
    "    #look at total amount\n",
    "trx_amt_output=trx_ppl.groupby(\"transtypecd\", \"transactiontype\", \"accountingtypecd\").agg(F.sum('amount')).\\\n",
    "sort(F.desc('sum(amount)'))"
   ]
  },
  {
   "cell_type": "code",
   "execution_count": null,
   "metadata": {
    "collapsed": false
   },
   "outputs": [],
   "source": [
    "# put volumn and amount count in one table\n",
    "trx_summary=trx_freq_output.join(trx_amt_output,['transtypecd','transactiontype','accountingtypecd'],'left')\n",
    "trx_summary.show(10)\n",
    "    #output the summary table\n",
    "trx_summary.to_csv(os.path.join('~/repos', 'transtype_freq' + '.csv'), encoding='utf-8')"
   ]
  },
  {
   "cell_type": "markdown",
   "metadata": {},
   "source": [
    "## High level exploration"
   ]
  },
  {
   "cell_type": "code",
   "execution_count": 44,
   "metadata": {
    "collapsed": false
   },
   "outputs": [],
   "source": [
    "aggregate_trx=spark.sql('select partygenid, transactionmonth, accountingtypecd, count(*) as trx_n, \\\n",
    "sum(amount) as trx_amt from ddp_steer.p901cyo_trx_sample_201805_201808 group by partygenid, transactionmonth, accountingtypecd')"
   ]
  },
  {
   "cell_type": "code",
   "execution_count": 45,
   "metadata": {
    "collapsed": false
   },
   "outputs": [],
   "source": [
    "agg_trx_pd=aggregate_trx.toPandas()"
   ]
  },
  {
   "cell_type": "code",
   "execution_count": 47,
   "metadata": {
    "collapsed": true
   },
   "outputs": [
    {
     "data": {
      "text/html": [
       "<div>\n",
       "<style>\n",
       "    .dataframe thead tr:only-child th {\n",
       "        text-align: right;\n",
       "    }\n",
       "\n",
       "    .dataframe thead th {\n",
       "        text-align: left;\n",
       "    }\n",
       "\n",
       "    .dataframe tbody tr th {\n",
       "        vertical-align: top;\n",
       "    }\n",
       "</style>\n",
       "<table border=\"1\" class=\"dataframe\">\n",
       "  <thead>\n",
       "    <tr style=\"text-align: right;\">\n",
       "      <th></th>\n",
       "      <th>partygenid</th>\n",
       "      <th>transactionmonth</th>\n",
       "      <th>accountingtypecd</th>\n",
       "      <th>trx_n</th>\n",
       "      <th>trx_amt</th>\n",
       "    </tr>\n",
       "  </thead>\n",
       "  <tbody>\n",
       "    <tr>\n",
       "      <th>0</th>\n",
       "      <td>6uC9X9OIG5IAAA==</td>\n",
       "      <td>201807</td>\n",
       "      <td>UT</td>\n",
       "      <td>53</td>\n",
       "      <td>-91457.86</td>\n",
       "    </tr>\n",
       "    <tr>\n",
       "      <th>1</th>\n",
       "      <td>BwYhABREAAEVgg==</td>\n",
       "      <td>201807</td>\n",
       "      <td>UT</td>\n",
       "      <td>77</td>\n",
       "      <td>-38220.68</td>\n",
       "    </tr>\n",
       "    <tr>\n",
       "      <th>2</th>\n",
       "      <td>CAUVABImAABZcA==</td>\n",
       "      <td>201807</td>\n",
       "      <td>UT</td>\n",
       "      <td>37</td>\n",
       "      <td>-13990.69</td>\n",
       "    </tr>\n",
       "    <tr>\n",
       "      <th>3</th>\n",
       "      <td>CREGAVUVAAQlIQ==</td>\n",
       "      <td>201808</td>\n",
       "      <td>IN</td>\n",
       "      <td>9</td>\n",
       "      <td>59643.00</td>\n",
       "    </tr>\n",
       "    <tr>\n",
       "      <th>4</th>\n",
       "      <td>DKa7+9BceMYAAA==</td>\n",
       "      <td>201808</td>\n",
       "      <td>IN</td>\n",
       "      <td>5</td>\n",
       "      <td>12222.98</td>\n",
       "    </tr>\n",
       "    <tr>\n",
       "      <th>5</th>\n",
       "      <td>EAkHABUZAACAIQ==</td>\n",
       "      <td>201806</td>\n",
       "      <td>UT</td>\n",
       "      <td>38</td>\n",
       "      <td>-25737.31</td>\n",
       "    </tr>\n",
       "    <tr>\n",
       "      <th>6</th>\n",
       "      <td>EBEwABIYAAJBFQ==</td>\n",
       "      <td>201805</td>\n",
       "      <td>UT</td>\n",
       "      <td>101</td>\n",
       "      <td>-101090.04</td>\n",
       "    </tr>\n",
       "    <tr>\n",
       "      <th>7</th>\n",
       "      <td>EQMSABJJAACAYw==</td>\n",
       "      <td>201808</td>\n",
       "      <td>UT</td>\n",
       "      <td>30</td>\n",
       "      <td>-5772.05</td>\n",
       "    </tr>\n",
       "    <tr>\n",
       "      <th>8</th>\n",
       "      <td>EQYjABJEAABiRw==</td>\n",
       "      <td>201806</td>\n",
       "      <td>UT</td>\n",
       "      <td>21</td>\n",
       "      <td>-6869.74</td>\n",
       "    </tr>\n",
       "    <tr>\n",
       "      <th>9</th>\n",
       "      <td>EQgYABIpAAETJw==</td>\n",
       "      <td>201807</td>\n",
       "      <td>UT</td>\n",
       "      <td>36</td>\n",
       "      <td>-170009.51</td>\n",
       "    </tr>\n",
       "  </tbody>\n",
       "</table>\n",
       "</div>"
      ],
      "text/plain": [
       "         partygenid  transactionmonth accountingtypecd  trx_n     trx_amt\n",
       "0  6uC9X9OIG5IAAA==            201807              UT      53   -91457.86\n",
       "1  BwYhABREAAEVgg==            201807              UT      77   -38220.68\n",
       "2  CAUVABImAABZcA==            201807              UT      37   -13990.69\n",
       "3  CREGAVUVAAQlIQ==            201808              IN       9    59643.00\n",
       "4  DKa7+9BceMYAAA==            201808              IN       5    12222.98\n",
       "5  EAkHABUZAACAIQ==            201806              UT      38   -25737.31\n",
       "6  EBEwABIYAAJBFQ==            201805              UT     101  -101090.04\n",
       "7  EQMSABJJAACAYw==            201808              UT      30    -5772.05\n",
       "8  EQYjABJEAABiRw==            201806              UT      21    -6869.74\n",
       "9  EQgYABIpAAETJw==            201807              UT      36  -170009.51"
      ]
     },
     "execution_count": 47,
     "metadata": {},
     "output_type": "execute_result"
    }
   ],
   "source": [
    "agg_trx_pd.head(10)"
   ]
  },
  {
   "cell_type": "code",
   "execution_count": 84,
   "metadata": {
    "collapsed": true
   },
   "outputs": [
    {
     "ename": "TypeError",
     "evalue": "unsupported operand type(s) for +: 'Decimal' and 'float'",
     "output_type": "error",
     "traceback": [
      "\u001b[0;31m\u001b[0m",
      "\u001b[0;31mTypeError\u001b[0mTraceback (most recent call last)",
      "\u001b[0;32m<ipython-input-84-4e810a49f1a5>\u001b[0m in \u001b[0;36m<module>\u001b[0;34m()\u001b[0m\n\u001b[1;32m      1\u001b[0m \u001b[0mplt\u001b[0m\u001b[0;34m.\u001b[0m\u001b[0mfigure\u001b[0m\u001b[0;34m(\u001b[0m\u001b[0;34m)\u001b[0m\u001b[0;34m\u001b[0m\u001b[0m\n\u001b[1;32m      2\u001b[0m \u001b[0;31m#agg_trx_pd.trx_n.plot()\u001b[0m\u001b[0;34m\u001b[0m\u001b[0;34m\u001b[0m\u001b[0m\n\u001b[0;32m----> 3\u001b[0;31m \u001b[0mplt\u001b[0m\u001b[0;34m.\u001b[0m\u001b[0mhist\u001b[0m\u001b[0;34m(\u001b[0m\u001b[0magg_trx_pd\u001b[0m\u001b[0;34m.\u001b[0m\u001b[0mtrx_amt\u001b[0m\u001b[0;34m,\u001b[0m\u001b[0;36m11\u001b[0m\u001b[0;34m)\u001b[0m\u001b[0;34m\u001b[0m\u001b[0m\n\u001b[0m\u001b[1;32m      4\u001b[0m \u001b[0mplt\u001b[0m\u001b[0;34m.\u001b[0m\u001b[0mshow\u001b[0m\u001b[0;34m(\u001b[0m\u001b[0;34m)\u001b[0m\u001b[0;34m\u001b[0m\u001b[0m\n",
      "\u001b[0;32m/var/opt/teradata/anaconda2/lib/python2.7/site-packages/matplotlib/pyplot.pyc\u001b[0m in \u001b[0;36mhist\u001b[0;34m(x, bins, range, density, weights, cumulative, bottom, histtype, align, orientation, rwidth, log, color, label, stacked, normed, hold, data, **kwargs)\u001b[0m\n\u001b[1;32m   3002\u001b[0m                       \u001b[0mhisttype\u001b[0m\u001b[0;34m=\u001b[0m\u001b[0mhisttype\u001b[0m\u001b[0;34m,\u001b[0m \u001b[0malign\u001b[0m\u001b[0;34m=\u001b[0m\u001b[0malign\u001b[0m\u001b[0;34m,\u001b[0m \u001b[0morientation\u001b[0m\u001b[0;34m=\u001b[0m\u001b[0morientation\u001b[0m\u001b[0;34m,\u001b[0m\u001b[0;34m\u001b[0m\u001b[0m\n\u001b[1;32m   3003\u001b[0m                       \u001b[0mrwidth\u001b[0m\u001b[0;34m=\u001b[0m\u001b[0mrwidth\u001b[0m\u001b[0;34m,\u001b[0m \u001b[0mlog\u001b[0m\u001b[0;34m=\u001b[0m\u001b[0mlog\u001b[0m\u001b[0;34m,\u001b[0m \u001b[0mcolor\u001b[0m\u001b[0;34m=\u001b[0m\u001b[0mcolor\u001b[0m\u001b[0;34m,\u001b[0m \u001b[0mlabel\u001b[0m\u001b[0;34m=\u001b[0m\u001b[0mlabel\u001b[0m\u001b[0;34m,\u001b[0m\u001b[0;34m\u001b[0m\u001b[0m\n\u001b[0;32m-> 3004\u001b[0;31m                       stacked=stacked, normed=normed, data=data, **kwargs)\n\u001b[0m\u001b[1;32m   3005\u001b[0m     \u001b[0;32mfinally\u001b[0m\u001b[0;34m:\u001b[0m\u001b[0;34m\u001b[0m\u001b[0m\n\u001b[1;32m   3006\u001b[0m         \u001b[0max\u001b[0m\u001b[0;34m.\u001b[0m\u001b[0m_hold\u001b[0m \u001b[0;34m=\u001b[0m \u001b[0mwashold\u001b[0m\u001b[0;34m\u001b[0m\u001b[0m\n",
      "\u001b[0;32m/var/opt/teradata/anaconda2/lib/python2.7/site-packages/matplotlib/__init__.pyc\u001b[0m in \u001b[0;36minner\u001b[0;34m(ax, *args, **kwargs)\u001b[0m\n\u001b[1;32m   1708\u001b[0m                     warnings.warn(msg % (label_namer, func.__name__),\n\u001b[1;32m   1709\u001b[0m                                   RuntimeWarning, stacklevel=2)\n\u001b[0;32m-> 1710\u001b[0;31m             \u001b[0;32mreturn\u001b[0m \u001b[0mfunc\u001b[0m\u001b[0;34m(\u001b[0m\u001b[0max\u001b[0m\u001b[0;34m,\u001b[0m \u001b[0;34m*\u001b[0m\u001b[0margs\u001b[0m\u001b[0;34m,\u001b[0m \u001b[0;34m**\u001b[0m\u001b[0mkwargs\u001b[0m\u001b[0;34m)\u001b[0m\u001b[0;34m\u001b[0m\u001b[0m\n\u001b[0m\u001b[1;32m   1711\u001b[0m         \u001b[0mpre_doc\u001b[0m \u001b[0;34m=\u001b[0m \u001b[0minner\u001b[0m\u001b[0;34m.\u001b[0m\u001b[0m__doc__\u001b[0m\u001b[0;34m\u001b[0m\u001b[0m\n\u001b[1;32m   1712\u001b[0m         \u001b[0;32mif\u001b[0m \u001b[0mpre_doc\u001b[0m \u001b[0;32mis\u001b[0m \u001b[0mNone\u001b[0m\u001b[0;34m:\u001b[0m\u001b[0;34m\u001b[0m\u001b[0m\n",
      "\u001b[0;32m/var/opt/teradata/anaconda2/lib/python2.7/site-packages/matplotlib/axes/_axes.pyc\u001b[0m in \u001b[0;36mhist\u001b[0;34m(***failed resolving arguments***)\u001b[0m\n\u001b[1;32m   6205\u001b[0m             \u001b[0;31m# this will automatically overwrite bins,\u001b[0m\u001b[0;34m\u001b[0m\u001b[0;34m\u001b[0m\u001b[0m\n\u001b[1;32m   6206\u001b[0m             \u001b[0;31m# so that each histogram uses the same bins\u001b[0m\u001b[0;34m\u001b[0m\u001b[0;34m\u001b[0m\u001b[0m\n\u001b[0;32m-> 6207\u001b[0;31m             \u001b[0mm\u001b[0m\u001b[0;34m,\u001b[0m \u001b[0mbins\u001b[0m \u001b[0;34m=\u001b[0m \u001b[0mnp\u001b[0m\u001b[0;34m.\u001b[0m\u001b[0mhistogram\u001b[0m\u001b[0;34m(\u001b[0m\u001b[0mx\u001b[0m\u001b[0;34m[\u001b[0m\u001b[0mi\u001b[0m\u001b[0;34m]\u001b[0m\u001b[0;34m,\u001b[0m \u001b[0mbins\u001b[0m\u001b[0;34m,\u001b[0m \u001b[0mweights\u001b[0m\u001b[0;34m=\u001b[0m\u001b[0mw\u001b[0m\u001b[0;34m[\u001b[0m\u001b[0mi\u001b[0m\u001b[0;34m]\u001b[0m\u001b[0;34m,\u001b[0m \u001b[0;34m**\u001b[0m\u001b[0mhist_kwargs\u001b[0m\u001b[0;34m)\u001b[0m\u001b[0;34m\u001b[0m\u001b[0m\n\u001b[0m\u001b[1;32m   6208\u001b[0m             \u001b[0mm\u001b[0m \u001b[0;34m=\u001b[0m \u001b[0mm\u001b[0m\u001b[0;34m.\u001b[0m\u001b[0mastype\u001b[0m\u001b[0;34m(\u001b[0m\u001b[0mfloat\u001b[0m\u001b[0;34m)\u001b[0m  \u001b[0;31m# causes problems later if it's an int\u001b[0m\u001b[0;34m\u001b[0m\u001b[0m\n\u001b[1;32m   6209\u001b[0m             \u001b[0;32mif\u001b[0m \u001b[0mmlast\u001b[0m \u001b[0;32mis\u001b[0m \u001b[0mNone\u001b[0m\u001b[0;34m:\u001b[0m\u001b[0;34m\u001b[0m\u001b[0m\n",
      "\u001b[0;32m/var/opt/teradata/anaconda2/lib/python2.7/site-packages/numpy/lib/function_base.pyc\u001b[0m in \u001b[0;36mhistogram\u001b[0;34m(a, bins, range, normed, weights, density)\u001b[0m\n\u001b[1;32m    662\u001b[0m             \u001b[0mmn\u001b[0m\u001b[0;34m,\u001b[0m \u001b[0mmx\u001b[0m \u001b[0;34m=\u001b[0m \u001b[0ma\u001b[0m\u001b[0;34m.\u001b[0m\u001b[0mmin\u001b[0m\u001b[0;34m(\u001b[0m\u001b[0;34m)\u001b[0m \u001b[0;34m+\u001b[0m \u001b[0;36m0.0\u001b[0m\u001b[0;34m,\u001b[0m \u001b[0ma\u001b[0m\u001b[0;34m.\u001b[0m\u001b[0mmax\u001b[0m\u001b[0;34m(\u001b[0m\u001b[0;34m)\u001b[0m \u001b[0;34m+\u001b[0m \u001b[0;36m0.0\u001b[0m\u001b[0;34m\u001b[0m\u001b[0m\n\u001b[1;32m    663\u001b[0m     \u001b[0;32melse\u001b[0m\u001b[0;34m:\u001b[0m\u001b[0;34m\u001b[0m\u001b[0m\n\u001b[0;32m--> 664\u001b[0;31m         \u001b[0mmn\u001b[0m\u001b[0;34m,\u001b[0m \u001b[0mmx\u001b[0m \u001b[0;34m=\u001b[0m \u001b[0;34m[\u001b[0m\u001b[0mmi\u001b[0m \u001b[0;34m+\u001b[0m \u001b[0;36m0.0\u001b[0m \u001b[0;32mfor\u001b[0m \u001b[0mmi\u001b[0m \u001b[0;32min\u001b[0m \u001b[0mrange\u001b[0m\u001b[0;34m]\u001b[0m\u001b[0;34m\u001b[0m\u001b[0m\n\u001b[0m\u001b[1;32m    665\u001b[0m     \u001b[0;32mif\u001b[0m \u001b[0mmn\u001b[0m \u001b[0;34m>\u001b[0m \u001b[0mmx\u001b[0m\u001b[0;34m:\u001b[0m\u001b[0;34m\u001b[0m\u001b[0m\n\u001b[1;32m    666\u001b[0m         raise ValueError(\n",
      "\u001b[0;31mTypeError\u001b[0m: unsupported operand type(s) for +: 'Decimal' and 'float'"
     ]
    }
   ],
   "source": [
    "plt.figure()\n",
    "#agg_trx_pd.trx_n.plot()\n",
    "plt.show()"
   ]
  },
  {
   "cell_type": "markdown",
   "metadata": {},
   "source": [
    "## transtype_freq file helps to decide what transaction types to focus on."
   ]
  },
  {
   "cell_type": "code",
   "execution_count": 1,
   "metadata": {
    "collapsed": true
   },
   "outputs": [],
   "source": [
    "#\ttranstypecd\ttransactiontype\tType1\tType2\n",
    "#\tTOB038\tROBUR\tinvestment related\toffset each other\n",
    "#\tTOB050\tÃ–verfÃ¶ring\t\t\n",
    "#\tTOB104\tBANK VIA TELEFON\t\t\n",
    "#\tTOB153\tLÃ¶n\tcash inflow\tincome\n",
    "#\tTOB155\tPension\tcash inflow\tincome\n",
    "#\tTOB218\tbostadsbidrag\tcash inflow\tallowance\n",
    "#\tTOB255\tSWISH MOTTAGEN\tSwish\toffset other swish type transaction\n",
    "#\tTOB256\tSWISH SKICKAD\tSwish\toffset other swish type transaction\n",
    "#\tTOB261\tKONTOKÃ–P KORT\tin and out\toffset\n",
    "#\tTOB335\tUtdelning\tcash inflow\tunstable income\n",
    "#\tTOB344\tSÃ¤lj enl. fondnota\tinvestment related\toffset each other\n",
    "#\tTOB345\tKÃ¶p enl. fondnota\tinvestment related\toffset each other\n",
    "#\tTOB349\tSwish\tSwish\toffset other swish type transaction\n",
    "#\tTOB353\tSwish retur \tSwish\toffset other swish type transaction\n",
    "#\tTOB364\tBankomatuttag\tcash outflow\tpure cost\n",
    "#\tTOB366\tInsÃ¤ttningsautomat\tcash inflow\toffset ATM take out\n",
    "#\tTOB390\tPension KPA\tcash inflow\tincome\n",
    "#\tTOB407\tCSN\tcash inflow\tincome and cost\n",
    "#\tTOB409\tDagsersÃ¤ttning\tcash inflow\tallowance\n",
    "#\tTOB430\tISK INSÃ„TTNING\tISK\toffset each other\n",
    "#\tTOB431\tISK UTTAG\tISK\toffset each other\n",
    "#\tTOB432\tISK omplacering\tISK\tdon't understand\n",
    "#\tTOB452\tFolksam\tcash inflow\tunstable income\n",
    "#\tTOB486\tAutogiro\tcash outflow\tpure cost\n",
    "#\tTOB490\tÃ–verfÃ¶ring via telefon \t\t\n",
    "#\tTOB500\tBarnbidrag\tcash inflow\tallowance\n",
    "#\tTOB521\tInsÃ¤ttning\tinvestment related\tmoving money from income to saving\n",
    "#\tTOB522\tUttag\tcash outflow\tpure cost\n",
    "#\tTOB549\tGirobetalning\tcash outflow\tpure cost\n",
    "#\tTOB550\tPG-BET. VIA INTERNET\tcash outflow\tpure cost\n",
    "#\tTOB551\tBG-BET. VIA INTERNET\tcash outflow\tpure cost\n",
    "#\tTOB552\tÃ–verfÃ¶ring via Internet\t\t\n",
    "#\tTOB553\tEgen Ã¶verfÃ¶ring\t\t\n",
    "#\tTOB555\tDirektbetalning\tcash outflow\tpure cost\n",
    "#\tTOB563\tDebiteringsavgift\tcash outflow\tpure cost\n",
    "#\tTOB571\tBankgiro inbetalning\tcash inflow\toffset bankgiro cost\n",
    "#\tTOB573\tAutogiro Inbetalning\tcash inflow\toffset autogiro cost\n",
    "#\tTOB580\tINSÃ„TTNING FASTRÃ„NTA\tinvestment related\tmoving money from income to saving\n",
    "#\tTOB583\tAVSLUT FASTRÃ„NTEKONTO\tcash inflow\toffset TOB584\n",
    "#\tTOB584\tAVSLUT FASTRÃ„NTEKONTO\tcash outflow\toffset TOB583\n",
    "#\tTOB588\tBG KONTOINSÃ„TTNING\tcash inflow\tunstable income\n",
    "#\tTOB605\tSWEDBANK FÃ–RSÃ„KRING AB\tin and out\toffset\n",
    "#\tTOB625\tSlutlikvid lÃ¤genhet/fastighet\tcash inflow\tspecial type of income\n",
    "#\tTOB663\tSwish\tSwish\toffset other swish type transaction\n",
    "#\tTOB665\tSwish retur\tSwish\toffset other swish type transaction\n",
    "#\tTOB684\tIP-Omplacering\tcash inflow\tdon't understand\n",
    "#\tTOB707\tLÃ¥n/placering\tcash inflow\tloan, temporary income\n",
    "#\tTOB801\tÃ–verfÃ¶ring lÃ¥n\tcash outflow\tpure cost\n",
    "#\tTOB954\tFK/PMYND\tcash inflow\tallowance\n",
    "#\tTOB873\tEuropabetalning IN\tEuropa\toffset each other\n",
    "#\tTOB852 \tEuropabetalning UT\tEuropa\toffset each other\n",
    "#\tTOB946\t underhållsstöd\tcash inflow\tallowance"
   ]
  },
  {
   "cell_type": "markdown",
   "metadata": {},
   "source": [
    "### 1. look at income source"
   ]
  },
  {
   "cell_type": "code",
   "execution_count": 102,
   "metadata": {
    "collapsed": true
   },
   "outputs": [],
   "source": [
    "#income_list=[\"TOB153\", \"TOB155\", \"TOB390\", \"TOB407\", \"TOB447\", \"TOB452\", \"TOB588\", \"TOB589\", \"TOB680\", \"TOB954\", \n",
    "#\"TOB218\", \"TOB287\", \"TOB409\", \"TOB500\", \"TOB946\",\n",
    "#\"TOB197\", \"TOB210\", \"TOB239\", \"TOB335\", \"TOB625\", \"TOB707\", \"TOB521\"]\n",
    "\n",
    "#TOB153\tLÃ¶n\t Income \n",
    "#TOB155\tPension\t Income \n",
    "#TOB390\tPension KPA\t Income \n",
    "#TOB407\tCSN\t Income \n",
    "#TOB447\tLÃ¶n\t Income\n",
    "#TOB452\tFolksam\tincome\n",
    "#TOB588\tBG KONTOINSÃ„TTNING\tincome\n",
    "#TOB589\tBG KONTOINSÃ„TTNING\tincome\n",
    "#TOB680\tIP-Inbetalning\tincome (pension)\n",
    "#TOB954\tFK/PMYND\t income seems that some sort of allowance from the government (pension)\n",
    "\n",
    "#TOB218 bostadsbidrag\n",
    "#TOB287 Arbetslöshetskassa\n",
    "#TOB409 Dagsersättning\n",
    "#TOB500\tBarnbidrag\tIncome\n",
    "#TOB946 underhållsstöd\n",
    "#TOB952 FAMILJEBIDRAG\n",
    "\n",
    "#TOB197\tSparrÃ¤nta\t income\n",
    "\n",
    "#TOB210\tTraktamente\t income\n",
    "#TOB212\tSemesterersÃ¤ttning\n",
    "\n",
    "#TOB239\tVP-Utdelning\t income\n",
    "#TOB335\tUtdelning\t income \n",
    "#TOB625\tSlutlikvid lÃ¤genhet/fastighet\t in \n",
    "#TOB707\tLÃ¥n/placering\t in \n",
    "\n",
    "#TOB521\tInsÃ¤ttning\t income transfer money from other accounts to Swedbank accounts\n",
    "\n",
    "TOB_income=spark.sql('select * from ddp_steer.p901cyo_trx_sample_201805_201808 where transtypecd in (\"TOB153\", \"TOB155\", \"TOB390\", \"TOB407\", \"TOB447\", \"TOB452\", \"TOB500\", \"TOB588\", \"TOB589\", \"TOB680\", \"TOB954\", \\\n",
    "\"TOB218\", \"TOB287\", \"TOB409\", \"TOB946\", \"TOB952\", \\\n",
    "\"TOB197\", \"TOB210\",\"TOB212\", \"TOB239\", \"TOB335\", \"TOB625\", \"TOB707\", \"TOB521\") sort by partygenid, transactiondate')\\\n",
    "                .withColumn('count', F.lit(1))"
   ]
  },
  {
   "cell_type": "code",
   "execution_count": 103,
   "metadata": {
    "collapsed": false
   },
   "outputs": [],
   "source": [
    "sum_income=TOB_income.select('partygenid','amount','transactiondate','count').groupby('transactiondate')\\\n",
    ".agg(F.count('partygenid'), F.count('count'), F.avg('amount'), F.sum('amount'))\\\n",
    ".sort('transactiondate')"
   ]
  },
  {
   "cell_type": "code",
   "execution_count": 104,
   "metadata": {
    "collapsed": true
   },
   "outputs": [
    {
     "ename": "Py4JJavaError",
     "evalue": "An error occurred while calling o1060.showString.\n: org.apache.spark.SparkException: Job aborted due to stage failure: Task 1 in stage 355.0 failed 4 times, most recent failure: Lost task 1.3 in stage 355.0 (TID 11452, sb-hdp-d10.fspa.myntet.se, executor 229): org.apache.hadoop.ipc.RemoteException(org.apache.hadoop.security.token.SecretManager$InvalidToken): token (HDFS_DELEGATION_TOKEN token 557011 for p901cyo) can't be found in cache\n\tat org.apache.hadoop.ipc.Client.getRpcResponse(Client.java:1554)\n\tat org.apache.hadoop.ipc.Client.call(Client.java:1498)\n\tat org.apache.hadoop.ipc.Client.call(Client.java:1398)\n\tat org.apache.hadoop.ipc.ProtobufRpcEngine$Invoker.invoke(ProtobufRpcEngine.java:233)\n\tat com.sun.proxy.$Proxy15.getFileInfo(Unknown Source)\n\tat org.apache.hadoop.hdfs.protocolPB.ClientNamenodeProtocolTranslatorPB.getFileInfo(ClientNamenodeProtocolTranslatorPB.java:823)\n\tat sun.reflect.GeneratedMethodAccessor4.invoke(Unknown Source)\n\tat sun.reflect.DelegatingMethodAccessorImpl.invoke(DelegatingMethodAccessorImpl.java:43)\n\tat java.lang.reflect.Method.invoke(Method.java:498)\n\tat org.apache.hadoop.io.retry.RetryInvocationHandler.invokeMethod(RetryInvocationHandler.java:291)\n\tat org.apache.hadoop.io.retry.RetryInvocationHandler.invoke(RetryInvocationHandler.java:203)\n\tat org.apache.hadoop.io.retry.RetryInvocationHandler.invoke(RetryInvocationHandler.java:185)\n\tat com.sun.proxy.$Proxy16.getFileInfo(Unknown Source)\n\tat org.apache.hadoop.hdfs.DFSClient.getFileInfo(DFSClient.java:2165)\n\tat org.apache.hadoop.hdfs.DistributedFileSystem$26.doCall(DistributedFileSystem.java:1442)\n\tat org.apache.hadoop.hdfs.DistributedFileSystem$26.doCall(DistributedFileSystem.java:1438)\n\tat org.apache.hadoop.fs.FileSystemLinkResolver.resolve(FileSystemLinkResolver.java:81)\n\tat org.apache.hadoop.hdfs.DistributedFileSystem.getFileStatus(DistributedFileSystem.java:1454)\n\tat org.apache.spark.deploy.SparkHadoopUtil.listLeafStatuses(SparkHadoopUtil.scala:194)\n\tat org.apache.spark.sql.hive.orc.OrcFileOperator$.listOrcFiles(OrcFileOperator.scala:94)\n\tat org.apache.spark.sql.hive.orc.OrcFileOperator$.getFileReader(OrcFileOperator.scala:67)\n\tat org.apache.spark.sql.hive.orc.OrcFileOperator$$anonfun$readSchema$1.apply(OrcFileOperator.scala:77)\n\tat org.apache.spark.sql.hive.orc.OrcFileOperator$$anonfun$readSchema$1.apply(OrcFileOperator.scala:77)\n\tat scala.collection.TraversableLike$$anonfun$flatMap$1.apply(TraversableLike.scala:241)\n\tat scala.collection.TraversableLike$$anonfun$flatMap$1.apply(TraversableLike.scala:241)\n\tat scala.collection.immutable.List.foreach(List.scala:381)\n\tat scala.collection.TraversableLike$class.flatMap(TraversableLike.scala:241)\n\tat scala.collection.immutable.List.flatMap(List.scala:344)\n\tat org.apache.spark.sql.hive.orc.OrcFileOperator$.readSchema(OrcFileOperator.scala:77)\n\tat org.apache.spark.sql.hive.orc.OrcFileFormat$$anonfun$buildReader$2.apply(OrcFileFormat.scala:137)\n\tat org.apache.spark.sql.hive.orc.OrcFileFormat$$anonfun$buildReader$2.apply(OrcFileFormat.scala:131)\n\tat org.apache.spark.sql.execution.datasources.FileFormat$$anon$1.apply(FileFormat.scala:136)\n\tat org.apache.spark.sql.execution.datasources.FileFormat$$anon$1.apply(FileFormat.scala:120)\n\tat org.apache.spark.sql.execution.datasources.FileScanRDD$$anon$1.org$apache$spark$sql$execution$datasources$FileScanRDD$$anon$$readCurrentFile(FileScanRDD.scala:124)\n\tat org.apache.spark.sql.execution.datasources.FileScanRDD$$anon$1.nextIterator(FileScanRDD.scala:174)\n\tat org.apache.spark.sql.execution.datasources.FileScanRDD$$anon$1.hasNext(FileScanRDD.scala:105)\n\tat org.apache.spark.sql.catalyst.expressions.GeneratedClass$GeneratedIterator.sort_addToSorter$(Unknown Source)\n\tat org.apache.spark.sql.catalyst.expressions.GeneratedClass$GeneratedIterator.agg_doAggregateWithKeys$(Unknown Source)\n\tat org.apache.spark.sql.catalyst.expressions.GeneratedClass$GeneratedIterator.processNext(Unknown Source)\n\tat org.apache.spark.sql.execution.BufferedRowIterator.hasNext(BufferedRowIterator.java:43)\n\tat org.apache.spark.sql.execution.WholeStageCodegenExec$$anonfun$8$$anon$1.hasNext(WholeStageCodegenExec.scala:395)\n\tat scala.collection.Iterator$$anon$11.hasNext(Iterator.scala:408)\n\tat org.apache.spark.shuffle.sort.BypassMergeSortShuffleWriter.write(BypassMergeSortShuffleWriter.java:123)\n\tat org.apache.spark.scheduler.ShuffleMapTask.runTask(ShuffleMapTask.scala:96)\n\tat org.apache.spark.scheduler.ShuffleMapTask.runTask(ShuffleMapTask.scala:53)\n\tat org.apache.spark.scheduler.Task.run(Task.scala:108)\n\tat org.apache.spark.executor.Executor$TaskRunner.run(Executor.scala:338)\n\tat java.util.concurrent.ThreadPoolExecutor.runWorker(ThreadPoolExecutor.java:1149)\n\tat java.util.concurrent.ThreadPoolExecutor$Worker.run(ThreadPoolExecutor.java:624)\n\tat java.lang.Thread.run(Thread.java:748)\n\nDriver stacktrace:\n\tat org.apache.spark.scheduler.DAGScheduler.org$apache$spark$scheduler$DAGScheduler$$failJobAndIndependentStages(DAGScheduler.scala:1517)\n\tat org.apache.spark.scheduler.DAGScheduler$$anonfun$abortStage$1.apply(DAGScheduler.scala:1505)\n\tat org.apache.spark.scheduler.DAGScheduler$$anonfun$abortStage$1.apply(DAGScheduler.scala:1504)\n\tat scala.collection.mutable.ResizableArray$class.foreach(ResizableArray.scala:59)\n\tat scala.collection.mutable.ArrayBuffer.foreach(ArrayBuffer.scala:48)\n\tat org.apache.spark.scheduler.DAGScheduler.abortStage(DAGScheduler.scala:1504)\n\tat org.apache.spark.scheduler.DAGScheduler$$anonfun$handleTaskSetFailed$1.apply(DAGScheduler.scala:814)\n\tat org.apache.spark.scheduler.DAGScheduler$$anonfun$handleTaskSetFailed$1.apply(DAGScheduler.scala:814)\n\tat scala.Option.foreach(Option.scala:257)\n\tat org.apache.spark.scheduler.DAGScheduler.handleTaskSetFailed(DAGScheduler.scala:814)\n\tat org.apache.spark.scheduler.DAGSchedulerEventProcessLoop.doOnReceive(DAGScheduler.scala:1732)\n\tat org.apache.spark.scheduler.DAGSchedulerEventProcessLoop.onReceive(DAGScheduler.scala:1687)\n\tat org.apache.spark.scheduler.DAGSchedulerEventProcessLoop.onReceive(DAGScheduler.scala:1676)\n\tat org.apache.spark.util.EventLoop$$anon$1.run(EventLoop.scala:48)\n\tat org.apache.spark.scheduler.DAGScheduler.runJob(DAGScheduler.scala:630)\n\tat org.apache.spark.SparkContext.runJob(SparkContext.scala:2029)\n\tat org.apache.spark.SparkContext.runJob(SparkContext.scala:2126)\n\tat org.apache.spark.rdd.RDD$$anonfun$reduce$1.apply(RDD.scala:1026)\n\tat org.apache.spark.rdd.RDDOperationScope$.withScope(RDDOperationScope.scala:151)\n\tat org.apache.spark.rdd.RDDOperationScope$.withScope(RDDOperationScope.scala:112)\n\tat org.apache.spark.rdd.RDD.withScope(RDD.scala:362)\n\tat org.apache.spark.rdd.RDD.reduce(RDD.scala:1008)\n\tat org.apache.spark.rdd.RDD$$anonfun$takeOrdered$1.apply(RDD.scala:1429)\n\tat org.apache.spark.rdd.RDDOperationScope$.withScope(RDDOperationScope.scala:151)\n\tat org.apache.spark.rdd.RDDOperationScope$.withScope(RDDOperationScope.scala:112)\n\tat org.apache.spark.rdd.RDD.withScope(RDD.scala:362)\n\tat org.apache.spark.rdd.RDD.takeOrdered(RDD.scala:1416)\n\tat org.apache.spark.sql.execution.TakeOrderedAndProjectExec.executeCollect(limit.scala:133)\n\tat org.apache.spark.sql.Dataset.org$apache$spark$sql$Dataset$$collectFromPlan(Dataset.scala:2861)\n\tat org.apache.spark.sql.Dataset$$anonfun$head$1.apply(Dataset.scala:2150)\n\tat org.apache.spark.sql.Dataset$$anonfun$head$1.apply(Dataset.scala:2150)\n\tat org.apache.spark.sql.Dataset$$anonfun$55.apply(Dataset.scala:2842)\n\tat org.apache.spark.sql.execution.SQLExecution$.withNewExecutionId(SQLExecution.scala:65)\n\tat org.apache.spark.sql.Dataset.withAction(Dataset.scala:2841)\n\tat org.apache.spark.sql.Dataset.head(Dataset.scala:2150)\n\tat org.apache.spark.sql.Dataset.take(Dataset.scala:2363)\n\tat org.apache.spark.sql.Dataset.showString(Dataset.scala:241)\n\tat sun.reflect.GeneratedMethodAccessor175.invoke(Unknown Source)\n\tat sun.reflect.DelegatingMethodAccessorImpl.invoke(DelegatingMethodAccessorImpl.java:43)\n\tat java.lang.reflect.Method.invoke(Method.java:498)\n\tat py4j.reflection.MethodInvoker.invoke(MethodInvoker.java:244)\n\tat py4j.reflection.ReflectionEngine.invoke(ReflectionEngine.java:357)\n\tat py4j.Gateway.invoke(Gateway.java:280)\n\tat py4j.commands.AbstractCommand.invokeMethod(AbstractCommand.java:132)\n\tat py4j.commands.CallCommand.execute(CallCommand.java:79)\n\tat py4j.GatewayConnection.run(GatewayConnection.java:214)\n\tat java.lang.Thread.run(Thread.java:748)\nCaused by: org.apache.hadoop.ipc.RemoteException(org.apache.hadoop.security.token.SecretManager$InvalidToken): token (HDFS_DELEGATION_TOKEN token 557011 for p901cyo) can't be found in cache\n\tat org.apache.hadoop.ipc.Client.getRpcResponse(Client.java:1554)\n\tat org.apache.hadoop.ipc.Client.call(Client.java:1498)\n\tat org.apache.hadoop.ipc.Client.call(Client.java:1398)\n\tat org.apache.hadoop.ipc.ProtobufRpcEngine$Invoker.invoke(ProtobufRpcEngine.java:233)\n\tat com.sun.proxy.$Proxy15.getFileInfo(Unknown Source)\n\tat org.apache.hadoop.hdfs.protocolPB.ClientNamenodeProtocolTranslatorPB.getFileInfo(ClientNamenodeProtocolTranslatorPB.java:823)\n\tat sun.reflect.GeneratedMethodAccessor4.invoke(Unknown Source)\n\tat sun.reflect.DelegatingMethodAccessorImpl.invoke(DelegatingMethodAccessorImpl.java:43)\n\tat java.lang.reflect.Method.invoke(Method.java:498)\n\tat org.apache.hadoop.io.retry.RetryInvocationHandler.invokeMethod(RetryInvocationHandler.java:291)\n\tat org.apache.hadoop.io.retry.RetryInvocationHandler.invoke(RetryInvocationHandler.java:203)\n\tat org.apache.hadoop.io.retry.RetryInvocationHandler.invoke(RetryInvocationHandler.java:185)\n\tat com.sun.proxy.$Proxy16.getFileInfo(Unknown Source)\n\tat org.apache.hadoop.hdfs.DFSClient.getFileInfo(DFSClient.java:2165)\n\tat org.apache.hadoop.hdfs.DistributedFileSystem$26.doCall(DistributedFileSystem.java:1442)\n\tat org.apache.hadoop.hdfs.DistributedFileSystem$26.doCall(DistributedFileSystem.java:1438)\n\tat org.apache.hadoop.fs.FileSystemLinkResolver.resolve(FileSystemLinkResolver.java:81)\n\tat org.apache.hadoop.hdfs.DistributedFileSystem.getFileStatus(DistributedFileSystem.java:1454)\n\tat org.apache.spark.deploy.SparkHadoopUtil.listLeafStatuses(SparkHadoopUtil.scala:194)\n\tat org.apache.spark.sql.hive.orc.OrcFileOperator$.listOrcFiles(OrcFileOperator.scala:94)\n\tat org.apache.spark.sql.hive.orc.OrcFileOperator$.getFileReader(OrcFileOperator.scala:67)\n\tat org.apache.spark.sql.hive.orc.OrcFileOperator$$anonfun$readSchema$1.apply(OrcFileOperator.scala:77)\n\tat org.apache.spark.sql.hive.orc.OrcFileOperator$$anonfun$readSchema$1.apply(OrcFileOperator.scala:77)\n\tat scala.collection.TraversableLike$$anonfun$flatMap$1.apply(TraversableLike.scala:241)\n\tat scala.collection.TraversableLike$$anonfun$flatMap$1.apply(TraversableLike.scala:241)\n\tat scala.collection.immutable.List.foreach(List.scala:381)\n\tat scala.collection.TraversableLike$class.flatMap(TraversableLike.scala:241)\n\tat scala.collection.immutable.List.flatMap(List.scala:344)\n\tat org.apache.spark.sql.hive.orc.OrcFileOperator$.readSchema(OrcFileOperator.scala:77)\n\tat org.apache.spark.sql.hive.orc.OrcFileFormat$$anonfun$buildReader$2.apply(OrcFileFormat.scala:137)\n\tat org.apache.spark.sql.hive.orc.OrcFileFormat$$anonfun$buildReader$2.apply(OrcFileFormat.scala:131)\n\tat org.apache.spark.sql.execution.datasources.FileFormat$$anon$1.apply(FileFormat.scala:136)\n\tat org.apache.spark.sql.execution.datasources.FileFormat$$anon$1.apply(FileFormat.scala:120)\n\tat org.apache.spark.sql.execution.datasources.FileScanRDD$$anon$1.org$apache$spark$sql$execution$datasources$FileScanRDD$$anon$$readCurrentFile(FileScanRDD.scala:124)\n\tat org.apache.spark.sql.execution.datasources.FileScanRDD$$anon$1.nextIterator(FileScanRDD.scala:174)\n\tat org.apache.spark.sql.execution.datasources.FileScanRDD$$anon$1.hasNext(FileScanRDD.scala:105)\n\tat org.apache.spark.sql.catalyst.expressions.GeneratedClass$GeneratedIterator.sort_addToSorter$(Unknown Source)\n\tat org.apache.spark.sql.catalyst.expressions.GeneratedClass$GeneratedIterator.agg_doAggregateWithKeys$(Unknown Source)\n\tat org.apache.spark.sql.catalyst.expressions.GeneratedClass$GeneratedIterator.processNext(Unknown Source)\n\tat org.apache.spark.sql.execution.BufferedRowIterator.hasNext(BufferedRowIterator.java:43)\n\tat org.apache.spark.sql.execution.WholeStageCodegenExec$$anonfun$8$$anon$1.hasNext(WholeStageCodegenExec.scala:395)\n\tat scala.collection.Iterator$$anon$11.hasNext(Iterator.scala:408)\n\tat org.apache.spark.shuffle.sort.BypassMergeSortShuffleWriter.write(BypassMergeSortShuffleWriter.java:123)\n\tat org.apache.spark.scheduler.ShuffleMapTask.runTask(ShuffleMapTask.scala:96)\n\tat org.apache.spark.scheduler.ShuffleMapTask.runTask(ShuffleMapTask.scala:53)\n\tat org.apache.spark.scheduler.Task.run(Task.scala:108)\n\tat org.apache.spark.executor.Executor$TaskRunner.run(Executor.scala:338)\n\tat java.util.concurrent.ThreadPoolExecutor.runWorker(ThreadPoolExecutor.java:1149)\n\tat java.util.concurrent.ThreadPoolExecutor$Worker.run(ThreadPoolExecutor.java:624)\n\t... 1 more\n",
     "output_type": "error",
     "traceback": [
      "\u001b[0;31m\u001b[0m",
      "\u001b[0;31mPy4JJavaError\u001b[0mTraceback (most recent call last)",
      "\u001b[0;32m<ipython-input-104-52ee7b0e5b00>\u001b[0m in \u001b[0;36m<module>\u001b[0;34m()\u001b[0m\n\u001b[0;32m----> 1\u001b[0;31m \u001b[0msum_income\u001b[0m\u001b[0;34m.\u001b[0m\u001b[0mshow\u001b[0m\u001b[0;34m(\u001b[0m\u001b[0;36m5\u001b[0m\u001b[0;34m)\u001b[0m\u001b[0;34m\u001b[0m\u001b[0m\n\u001b[0m",
      "\u001b[0;32m/usr/hdp/current/spark2-client/python/pyspark/sql/dataframe.pyc\u001b[0m in \u001b[0;36mshow\u001b[0;34m(self, n, truncate)\u001b[0m\n\u001b[1;32m    334\u001b[0m         \"\"\"\n\u001b[1;32m    335\u001b[0m         \u001b[0;32mif\u001b[0m \u001b[0misinstance\u001b[0m\u001b[0;34m(\u001b[0m\u001b[0mtruncate\u001b[0m\u001b[0;34m,\u001b[0m \u001b[0mbool\u001b[0m\u001b[0;34m)\u001b[0m \u001b[0;32mand\u001b[0m \u001b[0mtruncate\u001b[0m\u001b[0;34m:\u001b[0m\u001b[0;34m\u001b[0m\u001b[0m\n\u001b[0;32m--> 336\u001b[0;31m             \u001b[0;32mprint\u001b[0m\u001b[0;34m(\u001b[0m\u001b[0mself\u001b[0m\u001b[0;34m.\u001b[0m\u001b[0m_jdf\u001b[0m\u001b[0;34m.\u001b[0m\u001b[0mshowString\u001b[0m\u001b[0;34m(\u001b[0m\u001b[0mn\u001b[0m\u001b[0;34m,\u001b[0m \u001b[0;36m20\u001b[0m\u001b[0;34m)\u001b[0m\u001b[0;34m)\u001b[0m\u001b[0;34m\u001b[0m\u001b[0m\n\u001b[0m\u001b[1;32m    337\u001b[0m         \u001b[0;32melse\u001b[0m\u001b[0;34m:\u001b[0m\u001b[0;34m\u001b[0m\u001b[0m\n\u001b[1;32m    338\u001b[0m             \u001b[0;32mprint\u001b[0m\u001b[0;34m(\u001b[0m\u001b[0mself\u001b[0m\u001b[0;34m.\u001b[0m\u001b[0m_jdf\u001b[0m\u001b[0;34m.\u001b[0m\u001b[0mshowString\u001b[0m\u001b[0;34m(\u001b[0m\u001b[0mn\u001b[0m\u001b[0;34m,\u001b[0m \u001b[0mint\u001b[0m\u001b[0;34m(\u001b[0m\u001b[0mtruncate\u001b[0m\u001b[0;34m)\u001b[0m\u001b[0;34m)\u001b[0m\u001b[0;34m)\u001b[0m\u001b[0;34m\u001b[0m\u001b[0m\n",
      "\u001b[0;32m/usr/hdp/current/spark2-client/python/lib/py4j-0.10.4-src.zip/py4j/java_gateway.py\u001b[0m in \u001b[0;36m__call__\u001b[0;34m(self, *args)\u001b[0m\n\u001b[1;32m   1131\u001b[0m         \u001b[0manswer\u001b[0m \u001b[0;34m=\u001b[0m \u001b[0mself\u001b[0m\u001b[0;34m.\u001b[0m\u001b[0mgateway_client\u001b[0m\u001b[0;34m.\u001b[0m\u001b[0msend_command\u001b[0m\u001b[0;34m(\u001b[0m\u001b[0mcommand\u001b[0m\u001b[0;34m)\u001b[0m\u001b[0;34m\u001b[0m\u001b[0m\n\u001b[1;32m   1132\u001b[0m         return_value = get_return_value(\n\u001b[0;32m-> 1133\u001b[0;31m             answer, self.gateway_client, self.target_id, self.name)\n\u001b[0m\u001b[1;32m   1134\u001b[0m \u001b[0;34m\u001b[0m\u001b[0m\n\u001b[1;32m   1135\u001b[0m         \u001b[0;32mfor\u001b[0m \u001b[0mtemp_arg\u001b[0m \u001b[0;32min\u001b[0m \u001b[0mtemp_args\u001b[0m\u001b[0;34m:\u001b[0m\u001b[0;34m\u001b[0m\u001b[0m\n",
      "\u001b[0;32m/usr/hdp/current/spark2-client/python/pyspark/sql/utils.pyc\u001b[0m in \u001b[0;36mdeco\u001b[0;34m(*a, **kw)\u001b[0m\n\u001b[1;32m     61\u001b[0m     \u001b[0;32mdef\u001b[0m \u001b[0mdeco\u001b[0m\u001b[0;34m(\u001b[0m\u001b[0;34m*\u001b[0m\u001b[0ma\u001b[0m\u001b[0;34m,\u001b[0m \u001b[0;34m**\u001b[0m\u001b[0mkw\u001b[0m\u001b[0;34m)\u001b[0m\u001b[0;34m:\u001b[0m\u001b[0;34m\u001b[0m\u001b[0m\n\u001b[1;32m     62\u001b[0m         \u001b[0;32mtry\u001b[0m\u001b[0;34m:\u001b[0m\u001b[0;34m\u001b[0m\u001b[0m\n\u001b[0;32m---> 63\u001b[0;31m             \u001b[0;32mreturn\u001b[0m \u001b[0mf\u001b[0m\u001b[0;34m(\u001b[0m\u001b[0;34m*\u001b[0m\u001b[0ma\u001b[0m\u001b[0;34m,\u001b[0m \u001b[0;34m**\u001b[0m\u001b[0mkw\u001b[0m\u001b[0;34m)\u001b[0m\u001b[0;34m\u001b[0m\u001b[0m\n\u001b[0m\u001b[1;32m     64\u001b[0m         \u001b[0;32mexcept\u001b[0m \u001b[0mpy4j\u001b[0m\u001b[0;34m.\u001b[0m\u001b[0mprotocol\u001b[0m\u001b[0;34m.\u001b[0m\u001b[0mPy4JJavaError\u001b[0m \u001b[0;32mas\u001b[0m \u001b[0me\u001b[0m\u001b[0;34m:\u001b[0m\u001b[0;34m\u001b[0m\u001b[0m\n\u001b[1;32m     65\u001b[0m             \u001b[0ms\u001b[0m \u001b[0;34m=\u001b[0m \u001b[0me\u001b[0m\u001b[0;34m.\u001b[0m\u001b[0mjava_exception\u001b[0m\u001b[0;34m.\u001b[0m\u001b[0mtoString\u001b[0m\u001b[0;34m(\u001b[0m\u001b[0;34m)\u001b[0m\u001b[0;34m\u001b[0m\u001b[0m\n",
      "\u001b[0;32m/usr/hdp/current/spark2-client/python/lib/py4j-0.10.4-src.zip/py4j/protocol.py\u001b[0m in \u001b[0;36mget_return_value\u001b[0;34m(answer, gateway_client, target_id, name)\u001b[0m\n\u001b[1;32m    317\u001b[0m                 raise Py4JJavaError(\n\u001b[1;32m    318\u001b[0m                     \u001b[0;34m\"An error occurred while calling {0}{1}{2}.\\n\"\u001b[0m\u001b[0;34m.\u001b[0m\u001b[0;34m\u001b[0m\u001b[0m\n\u001b[0;32m--> 319\u001b[0;31m                     format(target_id, \".\", name), value)\n\u001b[0m\u001b[1;32m    320\u001b[0m             \u001b[0;32melse\u001b[0m\u001b[0;34m:\u001b[0m\u001b[0;34m\u001b[0m\u001b[0m\n\u001b[1;32m    321\u001b[0m                 raise Py4JError(\n",
      "\u001b[0;31mPy4JJavaError\u001b[0m: An error occurred while calling o1060.showString.\n: org.apache.spark.SparkException: Job aborted due to stage failure: Task 1 in stage 355.0 failed 4 times, most recent failure: Lost task 1.3 in stage 355.0 (TID 11452, sb-hdp-d10.fspa.myntet.se, executor 229): org.apache.hadoop.ipc.RemoteException(org.apache.hadoop.security.token.SecretManager$InvalidToken): token (HDFS_DELEGATION_TOKEN token 557011 for p901cyo) can't be found in cache\n\tat org.apache.hadoop.ipc.Client.getRpcResponse(Client.java:1554)\n\tat org.apache.hadoop.ipc.Client.call(Client.java:1498)\n\tat org.apache.hadoop.ipc.Client.call(Client.java:1398)\n\tat org.apache.hadoop.ipc.ProtobufRpcEngine$Invoker.invoke(ProtobufRpcEngine.java:233)\n\tat com.sun.proxy.$Proxy15.getFileInfo(Unknown Source)\n\tat org.apache.hadoop.hdfs.protocolPB.ClientNamenodeProtocolTranslatorPB.getFileInfo(ClientNamenodeProtocolTranslatorPB.java:823)\n\tat sun.reflect.GeneratedMethodAccessor4.invoke(Unknown Source)\n\tat sun.reflect.DelegatingMethodAccessorImpl.invoke(DelegatingMethodAccessorImpl.java:43)\n\tat java.lang.reflect.Method.invoke(Method.java:498)\n\tat org.apache.hadoop.io.retry.RetryInvocationHandler.invokeMethod(RetryInvocationHandler.java:291)\n\tat org.apache.hadoop.io.retry.RetryInvocationHandler.invoke(RetryInvocationHandler.java:203)\n\tat org.apache.hadoop.io.retry.RetryInvocationHandler.invoke(RetryInvocationHandler.java:185)\n\tat com.sun.proxy.$Proxy16.getFileInfo(Unknown Source)\n\tat org.apache.hadoop.hdfs.DFSClient.getFileInfo(DFSClient.java:2165)\n\tat org.apache.hadoop.hdfs.DistributedFileSystem$26.doCall(DistributedFileSystem.java:1442)\n\tat org.apache.hadoop.hdfs.DistributedFileSystem$26.doCall(DistributedFileSystem.java:1438)\n\tat org.apache.hadoop.fs.FileSystemLinkResolver.resolve(FileSystemLinkResolver.java:81)\n\tat org.apache.hadoop.hdfs.DistributedFileSystem.getFileStatus(DistributedFileSystem.java:1454)\n\tat org.apache.spark.deploy.SparkHadoopUtil.listLeafStatuses(SparkHadoopUtil.scala:194)\n\tat org.apache.spark.sql.hive.orc.OrcFileOperator$.listOrcFiles(OrcFileOperator.scala:94)\n\tat org.apache.spark.sql.hive.orc.OrcFileOperator$.getFileReader(OrcFileOperator.scala:67)\n\tat org.apache.spark.sql.hive.orc.OrcFileOperator$$anonfun$readSchema$1.apply(OrcFileOperator.scala:77)\n\tat org.apache.spark.sql.hive.orc.OrcFileOperator$$anonfun$readSchema$1.apply(OrcFileOperator.scala:77)\n\tat scala.collection.TraversableLike$$anonfun$flatMap$1.apply(TraversableLike.scala:241)\n\tat scala.collection.TraversableLike$$anonfun$flatMap$1.apply(TraversableLike.scala:241)\n\tat scala.collection.immutable.List.foreach(List.scala:381)\n\tat scala.collection.TraversableLike$class.flatMap(TraversableLike.scala:241)\n\tat scala.collection.immutable.List.flatMap(List.scala:344)\n\tat org.apache.spark.sql.hive.orc.OrcFileOperator$.readSchema(OrcFileOperator.scala:77)\n\tat org.apache.spark.sql.hive.orc.OrcFileFormat$$anonfun$buildReader$2.apply(OrcFileFormat.scala:137)\n\tat org.apache.spark.sql.hive.orc.OrcFileFormat$$anonfun$buildReader$2.apply(OrcFileFormat.scala:131)\n\tat org.apache.spark.sql.execution.datasources.FileFormat$$anon$1.apply(FileFormat.scala:136)\n\tat org.apache.spark.sql.execution.datasources.FileFormat$$anon$1.apply(FileFormat.scala:120)\n\tat org.apache.spark.sql.execution.datasources.FileScanRDD$$anon$1.org$apache$spark$sql$execution$datasources$FileScanRDD$$anon$$readCurrentFile(FileScanRDD.scala:124)\n\tat org.apache.spark.sql.execution.datasources.FileScanRDD$$anon$1.nextIterator(FileScanRDD.scala:174)\n\tat org.apache.spark.sql.execution.datasources.FileScanRDD$$anon$1.hasNext(FileScanRDD.scala:105)\n\tat org.apache.spark.sql.catalyst.expressions.GeneratedClass$GeneratedIterator.sort_addToSorter$(Unknown Source)\n\tat org.apache.spark.sql.catalyst.expressions.GeneratedClass$GeneratedIterator.agg_doAggregateWithKeys$(Unknown Source)\n\tat org.apache.spark.sql.catalyst.expressions.GeneratedClass$GeneratedIterator.processNext(Unknown Source)\n\tat org.apache.spark.sql.execution.BufferedRowIterator.hasNext(BufferedRowIterator.java:43)\n\tat org.apache.spark.sql.execution.WholeStageCodegenExec$$anonfun$8$$anon$1.hasNext(WholeStageCodegenExec.scala:395)\n\tat scala.collection.Iterator$$anon$11.hasNext(Iterator.scala:408)\n\tat org.apache.spark.shuffle.sort.BypassMergeSortShuffleWriter.write(BypassMergeSortShuffleWriter.java:123)\n\tat org.apache.spark.scheduler.ShuffleMapTask.runTask(ShuffleMapTask.scala:96)\n\tat org.apache.spark.scheduler.ShuffleMapTask.runTask(ShuffleMapTask.scala:53)\n\tat org.apache.spark.scheduler.Task.run(Task.scala:108)\n\tat org.apache.spark.executor.Executor$TaskRunner.run(Executor.scala:338)\n\tat java.util.concurrent.ThreadPoolExecutor.runWorker(ThreadPoolExecutor.java:1149)\n\tat java.util.concurrent.ThreadPoolExecutor$Worker.run(ThreadPoolExecutor.java:624)\n\tat java.lang.Thread.run(Thread.java:748)\n\nDriver stacktrace:\n\tat org.apache.spark.scheduler.DAGScheduler.org$apache$spark$scheduler$DAGScheduler$$failJobAndIndependentStages(DAGScheduler.scala:1517)\n\tat org.apache.spark.scheduler.DAGScheduler$$anonfun$abortStage$1.apply(DAGScheduler.scala:1505)\n\tat org.apache.spark.scheduler.DAGScheduler$$anonfun$abortStage$1.apply(DAGScheduler.scala:1504)\n\tat scala.collection.mutable.ResizableArray$class.foreach(ResizableArray.scala:59)\n\tat scala.collection.mutable.ArrayBuffer.foreach(ArrayBuffer.scala:48)\n\tat org.apache.spark.scheduler.DAGScheduler.abortStage(DAGScheduler.scala:1504)\n\tat org.apache.spark.scheduler.DAGScheduler$$anonfun$handleTaskSetFailed$1.apply(DAGScheduler.scala:814)\n\tat org.apache.spark.scheduler.DAGScheduler$$anonfun$handleTaskSetFailed$1.apply(DAGScheduler.scala:814)\n\tat scala.Option.foreach(Option.scala:257)\n\tat org.apache.spark.scheduler.DAGScheduler.handleTaskSetFailed(DAGScheduler.scala:814)\n\tat org.apache.spark.scheduler.DAGSchedulerEventProcessLoop.doOnReceive(DAGScheduler.scala:1732)\n\tat org.apache.spark.scheduler.DAGSchedulerEventProcessLoop.onReceive(DAGScheduler.scala:1687)\n\tat org.apache.spark.scheduler.DAGSchedulerEventProcessLoop.onReceive(DAGScheduler.scala:1676)\n\tat org.apache.spark.util.EventLoop$$anon$1.run(EventLoop.scala:48)\n\tat org.apache.spark.scheduler.DAGScheduler.runJob(DAGScheduler.scala:630)\n\tat org.apache.spark.SparkContext.runJob(SparkContext.scala:2029)\n\tat org.apache.spark.SparkContext.runJob(SparkContext.scala:2126)\n\tat org.apache.spark.rdd.RDD$$anonfun$reduce$1.apply(RDD.scala:1026)\n\tat org.apache.spark.rdd.RDDOperationScope$.withScope(RDDOperationScope.scala:151)\n\tat org.apache.spark.rdd.RDDOperationScope$.withScope(RDDOperationScope.scala:112)\n\tat org.apache.spark.rdd.RDD.withScope(RDD.scala:362)\n\tat org.apache.spark.rdd.RDD.reduce(RDD.scala:1008)\n\tat org.apache.spark.rdd.RDD$$anonfun$takeOrdered$1.apply(RDD.scala:1429)\n\tat org.apache.spark.rdd.RDDOperationScope$.withScope(RDDOperationScope.scala:151)\n\tat org.apache.spark.rdd.RDDOperationScope$.withScope(RDDOperationScope.scala:112)\n\tat org.apache.spark.rdd.RDD.withScope(RDD.scala:362)\n\tat org.apache.spark.rdd.RDD.takeOrdered(RDD.scala:1416)\n\tat org.apache.spark.sql.execution.TakeOrderedAndProjectExec.executeCollect(limit.scala:133)\n\tat org.apache.spark.sql.Dataset.org$apache$spark$sql$Dataset$$collectFromPlan(Dataset.scala:2861)\n\tat org.apache.spark.sql.Dataset$$anonfun$head$1.apply(Dataset.scala:2150)\n\tat org.apache.spark.sql.Dataset$$anonfun$head$1.apply(Dataset.scala:2150)\n\tat org.apache.spark.sql.Dataset$$anonfun$55.apply(Dataset.scala:2842)\n\tat org.apache.spark.sql.execution.SQLExecution$.withNewExecutionId(SQLExecution.scala:65)\n\tat org.apache.spark.sql.Dataset.withAction(Dataset.scala:2841)\n\tat org.apache.spark.sql.Dataset.head(Dataset.scala:2150)\n\tat org.apache.spark.sql.Dataset.take(Dataset.scala:2363)\n\tat org.apache.spark.sql.Dataset.showString(Dataset.scala:241)\n\tat sun.reflect.GeneratedMethodAccessor175.invoke(Unknown Source)\n\tat sun.reflect.DelegatingMethodAccessorImpl.invoke(DelegatingMethodAccessorImpl.java:43)\n\tat java.lang.reflect.Method.invoke(Method.java:498)\n\tat py4j.reflection.MethodInvoker.invoke(MethodInvoker.java:244)\n\tat py4j.reflection.ReflectionEngine.invoke(ReflectionEngine.java:357)\n\tat py4j.Gateway.invoke(Gateway.java:280)\n\tat py4j.commands.AbstractCommand.invokeMethod(AbstractCommand.java:132)\n\tat py4j.commands.CallCommand.execute(CallCommand.java:79)\n\tat py4j.GatewayConnection.run(GatewayConnection.java:214)\n\tat java.lang.Thread.run(Thread.java:748)\nCaused by: org.apache.hadoop.ipc.RemoteException(org.apache.hadoop.security.token.SecretManager$InvalidToken): token (HDFS_DELEGATION_TOKEN token 557011 for p901cyo) can't be found in cache\n\tat org.apache.hadoop.ipc.Client.getRpcResponse(Client.java:1554)\n\tat org.apache.hadoop.ipc.Client.call(Client.java:1498)\n\tat org.apache.hadoop.ipc.Client.call(Client.java:1398)\n\tat org.apache.hadoop.ipc.ProtobufRpcEngine$Invoker.invoke(ProtobufRpcEngine.java:233)\n\tat com.sun.proxy.$Proxy15.getFileInfo(Unknown Source)\n\tat org.apache.hadoop.hdfs.protocolPB.ClientNamenodeProtocolTranslatorPB.getFileInfo(ClientNamenodeProtocolTranslatorPB.java:823)\n\tat sun.reflect.GeneratedMethodAccessor4.invoke(Unknown Source)\n\tat sun.reflect.DelegatingMethodAccessorImpl.invoke(DelegatingMethodAccessorImpl.java:43)\n\tat java.lang.reflect.Method.invoke(Method.java:498)\n\tat org.apache.hadoop.io.retry.RetryInvocationHandler.invokeMethod(RetryInvocationHandler.java:291)\n\tat org.apache.hadoop.io.retry.RetryInvocationHandler.invoke(RetryInvocationHandler.java:203)\n\tat org.apache.hadoop.io.retry.RetryInvocationHandler.invoke(RetryInvocationHandler.java:185)\n\tat com.sun.proxy.$Proxy16.getFileInfo(Unknown Source)\n\tat org.apache.hadoop.hdfs.DFSClient.getFileInfo(DFSClient.java:2165)\n\tat org.apache.hadoop.hdfs.DistributedFileSystem$26.doCall(DistributedFileSystem.java:1442)\n\tat org.apache.hadoop.hdfs.DistributedFileSystem$26.doCall(DistributedFileSystem.java:1438)\n\tat org.apache.hadoop.fs.FileSystemLinkResolver.resolve(FileSystemLinkResolver.java:81)\n\tat org.apache.hadoop.hdfs.DistributedFileSystem.getFileStatus(DistributedFileSystem.java:1454)\n\tat org.apache.spark.deploy.SparkHadoopUtil.listLeafStatuses(SparkHadoopUtil.scala:194)\n\tat org.apache.spark.sql.hive.orc.OrcFileOperator$.listOrcFiles(OrcFileOperator.scala:94)\n\tat org.apache.spark.sql.hive.orc.OrcFileOperator$.getFileReader(OrcFileOperator.scala:67)\n\tat org.apache.spark.sql.hive.orc.OrcFileOperator$$anonfun$readSchema$1.apply(OrcFileOperator.scala:77)\n\tat org.apache.spark.sql.hive.orc.OrcFileOperator$$anonfun$readSchema$1.apply(OrcFileOperator.scala:77)\n\tat scala.collection.TraversableLike$$anonfun$flatMap$1.apply(TraversableLike.scala:241)\n\tat scala.collection.TraversableLike$$anonfun$flatMap$1.apply(TraversableLike.scala:241)\n\tat scala.collection.immutable.List.foreach(List.scala:381)\n\tat scala.collection.TraversableLike$class.flatMap(TraversableLike.scala:241)\n\tat scala.collection.immutable.List.flatMap(List.scala:344)\n\tat org.apache.spark.sql.hive.orc.OrcFileOperator$.readSchema(OrcFileOperator.scala:77)\n\tat org.apache.spark.sql.hive.orc.OrcFileFormat$$anonfun$buildReader$2.apply(OrcFileFormat.scala:137)\n\tat org.apache.spark.sql.hive.orc.OrcFileFormat$$anonfun$buildReader$2.apply(OrcFileFormat.scala:131)\n\tat org.apache.spark.sql.execution.datasources.FileFormat$$anon$1.apply(FileFormat.scala:136)\n\tat org.apache.spark.sql.execution.datasources.FileFormat$$anon$1.apply(FileFormat.scala:120)\n\tat org.apache.spark.sql.execution.datasources.FileScanRDD$$anon$1.org$apache$spark$sql$execution$datasources$FileScanRDD$$anon$$readCurrentFile(FileScanRDD.scala:124)\n\tat org.apache.spark.sql.execution.datasources.FileScanRDD$$anon$1.nextIterator(FileScanRDD.scala:174)\n\tat org.apache.spark.sql.execution.datasources.FileScanRDD$$anon$1.hasNext(FileScanRDD.scala:105)\n\tat org.apache.spark.sql.catalyst.expressions.GeneratedClass$GeneratedIterator.sort_addToSorter$(Unknown Source)\n\tat org.apache.spark.sql.catalyst.expressions.GeneratedClass$GeneratedIterator.agg_doAggregateWithKeys$(Unknown Source)\n\tat org.apache.spark.sql.catalyst.expressions.GeneratedClass$GeneratedIterator.processNext(Unknown Source)\n\tat org.apache.spark.sql.execution.BufferedRowIterator.hasNext(BufferedRowIterator.java:43)\n\tat org.apache.spark.sql.execution.WholeStageCodegenExec$$anonfun$8$$anon$1.hasNext(WholeStageCodegenExec.scala:395)\n\tat scala.collection.Iterator$$anon$11.hasNext(Iterator.scala:408)\n\tat org.apache.spark.shuffle.sort.BypassMergeSortShuffleWriter.write(BypassMergeSortShuffleWriter.java:123)\n\tat org.apache.spark.scheduler.ShuffleMapTask.runTask(ShuffleMapTask.scala:96)\n\tat org.apache.spark.scheduler.ShuffleMapTask.runTask(ShuffleMapTask.scala:53)\n\tat org.apache.spark.scheduler.Task.run(Task.scala:108)\n\tat org.apache.spark.executor.Executor$TaskRunner.run(Executor.scala:338)\n\tat java.util.concurrent.ThreadPoolExecutor.runWorker(ThreadPoolExecutor.java:1149)\n\tat java.util.concurrent.ThreadPoolExecutor$Worker.run(ThreadPoolExecutor.java:624)\n\t... 1 more\n"
     ]
    }
   ],
   "source": [
    "sum_income.show(5)"
   ]
  },
  {
   "cell_type": "code",
   "execution_count": 60,
   "metadata": {
    "collapsed": false
   },
   "outputs": [],
   "source": [
    "sum_income_pd=sum_income.withColumn(\"sum_amount_int\", F.col(\"sum(amount)\").cast(\"bigint\")).drop('sum(amount)')\\\n",
    "                        .withColumn(\"avg_amount_int\", F.col(\"avg(amount)\").cast(\"bigint\")).drop('avg(amount)')\\\n",
    "                        .toPandas()\\\n",
    "                        .sort_values(by=['transactiondate'])"
   ]
  },
  {
   "cell_type": "code",
   "execution_count": 61,
   "metadata": {
    "collapsed": false
   },
   "outputs": [
    {
     "data": {
      "text/html": [
       "<div>\n",
       "<style>\n",
       "    .dataframe thead tr:only-child th {\n",
       "        text-align: right;\n",
       "    }\n",
       "\n",
       "    .dataframe thead th {\n",
       "        text-align: left;\n",
       "    }\n",
       "\n",
       "    .dataframe tbody tr th {\n",
       "        vertical-align: top;\n",
       "    }\n",
       "</style>\n",
       "<table border=\"1\" class=\"dataframe\">\n",
       "  <thead>\n",
       "    <tr style=\"text-align: right;\">\n",
       "      <th></th>\n",
       "      <th>transactiondate</th>\n",
       "      <th>sum_amount_int</th>\n",
       "      <th>avg_amount_int</th>\n",
       "    </tr>\n",
       "  </thead>\n",
       "  <tbody>\n",
       "    <tr>\n",
       "      <th>20</th>\n",
       "      <td>2018-05-01</td>\n",
       "      <td>13213</td>\n",
       "      <td>1651</td>\n",
       "    </tr>\n",
       "    <tr>\n",
       "      <th>84</th>\n",
       "      <td>2018-05-02</td>\n",
       "      <td>271761631</td>\n",
       "      <td>33763</td>\n",
       "    </tr>\n",
       "    <tr>\n",
       "      <th>72</th>\n",
       "      <td>2018-05-03</td>\n",
       "      <td>120144491</td>\n",
       "      <td>12051</td>\n",
       "    </tr>\n",
       "    <tr>\n",
       "      <th>23</th>\n",
       "      <td>2018-05-04</td>\n",
       "      <td>164027369</td>\n",
       "      <td>15609</td>\n",
       "    </tr>\n",
       "    <tr>\n",
       "      <th>46</th>\n",
       "      <td>2018-05-07</td>\n",
       "      <td>123314955</td>\n",
       "      <td>11338</td>\n",
       "    </tr>\n",
       "  </tbody>\n",
       "</table>\n",
       "</div>"
      ],
      "text/plain": [
       "   transactiondate  sum_amount_int  avg_amount_int\n",
       "20      2018-05-01           13213            1651\n",
       "84      2018-05-02       271761631           33763\n",
       "72      2018-05-03       120144491           12051\n",
       "23      2018-05-04       164027369           15609\n",
       "46      2018-05-07       123314955           11338"
      ]
     },
     "execution_count": 61,
     "metadata": {},
     "output_type": "execute_result"
    }
   ],
   "source": [
    "sum_income_pd.head(5)"
   ]
  },
  {
   "cell_type": "code",
   "execution_count": 32,
   "metadata": {
    "collapsed": false
   },
   "outputs": [
    {
     "data": {
      "text/plain": [
       "pandas.core.series.Series"
      ]
     },
     "execution_count": 32,
     "metadata": {},
     "output_type": "execute_result"
    }
   ],
   "source": [
    "type(sum_income['sum(amount)'])"
   ]
  },
  {
   "cell_type": "code",
   "execution_count": 46,
   "metadata": {
    "collapsed": true
   },
   "outputs": [
    {
     "data": {
      "image/png": "[encoded data removed]",
      "text/plain": [
       "<matplotlib.figure.Figure at 0x7f164a5ca650>"
      ]
     },
     "metadata": {},
     "output_type": "display_data"
    }
   ],
   "source": [
    "plt.clf\n",
    "y_values = ['sum_amount_int']\n",
    "sum_income_pd.plot(x='transactiondate', y='sum_amount_int', figsize = (18, 6), label = 'Income', rot = 70)\n",
    "plt.ylabel('income amount')\n",
    "plt.title('Transaction time series')\n",
    "plt.show()"
   ]
  },
  {
   "cell_type": "code",
   "execution_count": 77,
   "metadata": {
    "collapsed": false
   },
   "outputs": [
    {
     "data": {
      "image/png": "[encoded data removed]",
      "text/plain": [
       "<matplotlib.figure.Figure at 0x7f164a5b57d0>"
      ]
     },
     "metadata": {},
     "output_type": "display_data"
    },
    {
     "data": {
      "image/png": "[encoded data removed]",
      "text/plain": [
       "<matplotlib.figure.Figure at 0x7f164a383e10>"
      ]
     },
     "metadata": {},
     "output_type": "display_data"
    }
   ],
   "source": [
    "\n",
    "plt.clf\n",
    "sum_income_pd.plot(x='transactiondate', y='sum_amount_int', figsize = (6, 6), label = 'Income', rot = 70)\n",
    "plt.ylabel('income amount')\n",
    "plt.title('Transaction time series')\n",
    "plt.show()\n",
    "\n",
    "plt.clf\n",
    "sum_income_pd.plot(x='transactiondate', y='avg_amount_int', figsize = (6, 6), label = 'avgIncome', rot = 70)\n",
    "plt.ylabel('avgincome amount')\n",
    "plt.title('Transaction time series')\n",
    "plt.show()"
   ]
  },
  {
   "cell_type": "code",
   "execution_count": 5,
   "metadata": {
    "collapsed": false
   },
   "outputs": [
    {
     "name": "stdout",
     "output_type": "stream",
     "text": [
      "Partitions: 29\n"
     ]
    }
   ],
   "source": [
    "print(\"Partitions: \" + str(TOB_income.rdd.getNumPartitions()) )"
   ]
  },
  {
   "cell_type": "code",
   "execution_count": 44,
   "metadata": {
    "collapsed": false
   },
   "outputs": [
    {
     "data": {
      "text/plain": [
       "pyspark.rdd.PipelinedRDD"
      ]
     },
     "execution_count": 44,
     "metadata": {},
     "output_type": "execute_result"
    }
   ],
   "source": [
    "type(TOB_income.rdd.mapPartitions(2))"
   ]
  },
  {
   "cell_type": "code",
   "execution_count": 309,
   "metadata": {
    "collapsed": false
   },
   "outputs": [
    {
     "name": "stdout",
     "output_type": "stream",
     "text": [
      "CPU times: user 2 µs, sys: 0 ns, total: 2 µs\n",
      "Wall time: 5.01 µs\n",
      "2191140\n"
     ]
    }
   ],
   "source": [
    "%time\n",
    "print(TOB_income.count())"
   ]
  },
  {
   "cell_type": "code",
   "execution_count": 4,
   "metadata": {
    "collapsed": true
   },
   "outputs": [
    {
     "name": "stdout",
     "output_type": "stream",
     "text": [
      "+----------------+--------------------+--------------+--------------------+-----------+---------------+----------------+-------------+--------+------+----------------+--------------+-------------+-----------------+-------------+---------------+------------+----------------+--------------+----------------------+----------------+------+-----------+------------------------+----------------+-------------+----------------+------------------+------------------+--------------------+----------+---+------+-----------------+-----+\n",
      "|      partygenid|primaryaccountholder|agreementgenid|        productgenid|transtypecd|transactiondate|accountingtypecd|channeltypecd|  amount|bankid|secaccounttypecd|secclearingnum|secaccountnum|secagreementgenid|secpartygenid|secproductgenid|channelgenid|transactiongenid|systemsourcecd|identificationmethodcd|paymentroutinecd|secbic|clearingnum|cardtransactionchannelcd| transactioninfo|   kanalgenid|transactionmonth|   transactiontype|transactiongroupcd|    transactiongroup| birthdate|age|gender|customerstartdate|count|\n",
      "+----------------+--------------------+--------------+--------------------+-----------+---------------+----------------+-------------+--------+------+----------------+--------------+-------------+-----------------+-------------+---------------+------------+----------------+--------------+----------------------+----------------+------+-----------+------------------------+----------------+-------------+----------------+------------------+------------------+--------------------+----------+---+------+-----------------+-----+\n",
      "|+5O9BraPfe8AAA==|[FB 93 BD 06 B6 8...|     160384484|[20 05 05 01 00 0...|     TOB153|     2018-05-18|             IN |          OVR|21869.95|  8999|            null|          null|         null|             null|             |             []|         167|       167505926|           GRK|                  null|            null|  null|      99000|                    null|             LÖN|OVR1539900000|          201805|               Lön|               EJR|Ej relevant för d...|1992-02-26| 26|     M|       1998-03-21|    1|\n",
      "|+5O9BraPfe8AAA==|[FB 93 BD 06 B6 8...|     160384484|[20 05 05 01 00 0...|     TOB153|     2018-05-25|             IN |          OVR|  553.00|  8999|            null|          null|         null|             null|             |             []|         167|       217842007|           GRK|                  null|            null|  null|      37810|                    null|6455229202264538|OVR1533781981|          201805|               Lön|               EJR|Ej relevant för d...|1992-02-26| 26|     M|       1998-03-21|    1|\n",
      "|+5O9BraPfe8AAA==|[FB 93 BD 06 B6 8...|     160384484|[20 05 05 01 00 0...|     TOB588|     2018-06-05|             IN |          OVR| 5153.00|  8999|            null|          null|         null|             null|             |             []|         167|        58788313|           GRK|                  null|            null|  null|      99000|                    null|    SK9202264538|OVR5889900000|          201806|BG KONTOINSÄTTNING|               EJR|Ej relevant för d...|1992-02-26| 26|     M|       1998-03-21|    1|\n",
      "|+5O9BraPfe8AAA==|[FB 93 BD 06 B6 8...|     160384484|[20 05 05 01 00 0...|     TOB153|     2018-06-20|             IN |          OVR|25988.07|  8999|            null|          null|         null|             null|             |             []|         167|       158602761|           GRK|                  null|            null|  null|      99000|                    null|             LÖN|OVR1539900000|          201806|               Lön|               EJR|Ej relevant för d...|1992-02-26| 26|     M|       1998-03-21|    1|\n",
      "|+5O9BraPfe8AAA==|[FB 93 BD 06 B6 8...|     160384484|[20 05 05 01 00 0...|     TOB153|     2018-07-20|             IN |          OVR|26978.73|  8999|            null|          null|         null|             null|             |             []|         167|       174677947|           GRK|                  null|            null|  null|      99000|                    null|             LÖN|OVR1539900000|          201807|               Lön|               EJR|Ej relevant för d...|1992-02-26| 26|     M|       1998-03-21|    1|\n",
      "|+5O9BraPfe8AAA==|[FB 93 BD 06 B6 8...|     230636542|[20 05 12 01 00 2...|     TOB588|     2018-08-06|             IN |          OVR| 2000.00|  8999|            null|          null|         null|             null|             |             []|         167|        76876644|           GRK|                  null|            null|  null|      99000|                    null|     82140107064|OVR5889900000|          201808|BG KONTOINSÄTTNING|               EJR|Ej relevant för d...|1992-02-26| 26|     M|       1998-03-21|    1|\n",
      "|+5O9BraPfe8AAA==|[FB 93 BD 06 B6 8...|     160384484|[20 05 05 01 00 0...|     TOB153|     2018-08-20|             IN |          OVR|26021.61|  8999|            null|          null|         null|             null|             |             []|         167|       158775530|           GRK|                  null|            null|  null|      99000|                    null|             LÖN|OVR1539900000|          201808|               Lön|               EJR|Ej relevant för d...|1992-02-26| 26|     M|       1998-03-21|    1|\n",
      "|+9+YXspbARIAAA==|[FB DF 98 5E CA 5...|     157596482|[20 05 05 01 00 0...|     TOB153|     2018-05-25|             IN |          OVR|14544.78|  8999|            null|          null|         null|             null|             |             []|         167|       208736820|           GRK|                  null|            null|  null|      89011|                    null|                |OVR1538901942|          201805|               Lön|               EJR|Ej relevant för d...|1996-08-22| 22|     F|       1998-03-21|    1|\n",
      "|+9+YXspbARIAAA==|[FB DF 98 5E CA 5...|     157596482|[20 05 05 01 00 0...|     TOB153|     2018-05-25|             IN |          OVR| 1055.45|  8999|            null|          null|         null|             null|             |             []|         167|       216915008|           GRK|                  null|            null|  null|      99000|                    null|             L?n|OVR1539900000|          201805|               Lön|               EJR|Ej relevant för d...|1996-08-22| 22|     F|       1998-03-21|    1|\n",
      "|+9+YXspbARIAAA==|[FB DF 98 5E CA 5...|     157596482|[20 05 05 01 00 0...|     TOB588|     2018-06-05|             IN |          OVR| 9560.00|  8999|            null|          null|         null|             null|             |             []|         167|        57854669|           GRK|                  null|            null|  null|      99000|                    null|    SK9608227147|OVR5889900000|          201806|BG KONTOINSÄTTNING|               EJR|Ej relevant för d...|1996-08-22| 22|     F|       1998-03-21|    1|\n",
      "|+9+YXspbARIAAA==|[FB DF 98 5E CA 5...|     157596482|[20 05 05 01 00 0...|     TOB153|     2018-06-21|             IN |          OVR|12967.08|  8999|            null|          null|         null|             null|             |             []|         167|       157855764|           GRK|                  null|            null|  null|      89011|                    null|                |OVR1538901942|          201806|               Lön|               EJR|Ej relevant för d...|1996-08-22| 22|     F|       1998-03-21|    1|\n",
      "|+9+YXspbARIAAA==|[FB DF 98 5E CA 5...|     157596482|[20 05 05 01 00 0...|     TOB153|     2018-07-25|             IN |          OVR| 1124.24|  8999|            null|          null|         null|             null|             |             []|         167|       209154441|           GRK|                  null|            null|  null|      99000|                    null|             L?n|OVR1539900000|          201807|               Lön|               EJR|Ej relevant för d...|1996-08-22| 22|     F|       1998-03-21|    1|\n",
      "|+9+YXspbARIAAA==|[FB DF 98 5E CA 5...|     157596482|[20 05 05 01 00 0...|     TOB153|     2018-07-25|             IN |          OVR| 7851.03|  8999|            null|          null|         null|             null|             |             []|         167|       191603970|           GRK|                  null|            null|  null|      89011|                    null|                |OVR1538901942|          201807|               Lön|               EJR|Ej relevant för d...|1996-08-22| 22|     F|       1998-03-21|    1|\n",
      "|+9+YXspbARIAAA==|[FB DF 98 5E CA 5...|     157596482|[20 05 05 01 00 0...|     TOB407|     2018-08-22|             IN |          OVR|12905.00|  8999|            null|          null|         null|             null|             |             []|         167|       185058263|           GRK|                  null|            null|  null|      89011|                    null|                |OVR4078901942|          201808|               CSN|               EJR|Ej relevant för d...|1996-08-22| 22|     F|       1998-03-21|    1|\n",
      "|+9+YXspbARIAAA==|[FB DF 98 5E CA 5...|     157596482|[20 05 05 01 00 0...|     TOB153|     2018-08-24|             IN |          OVR|16489.25|  8999|            null|          null|         null|             null|             |             []|         167|       192331132|           GRK|                  null|            null|  null|      89011|                    null|                |OVR1538901942|          201808|               Lön|               EJR|Ej relevant för d...|1996-08-22| 22|     F|       1998-03-21|    1|\n",
      "|+ATHqmzI2cQAAA==|[F8 04 C7 AA 6C C...|     199776117|[20 05 05 01 00 0...|     TOB153|     2018-05-25|             IN |          OVR|17625.00|  8999|            null|          null|         null|             null|             |             []|         167|       214164390|           GRK|                  null|            null|  null|      80325|                    null|                |OVR1538032942|          201805|               Lön|               EJR|Ej relevant för d...|1994-10-16| 24|     M|       1998-03-21|    1|\n",
      "|+ATHqmzI2cQAAA==|[F8 04 C7 AA 6C C...|     168690147|[20 05 12 01 00 2...|     TOB588|     2018-06-05|             IN |          OVR|  601.00|  8999|            null|          null|         null|             null|             |             []|         167|        63888492|           GRK|                  null|            null|  null|      99000|                    null|    SK9410160379|OVR5889900000|          201806|BG KONTOINSÄTTNING|               EJR|Ej relevant för d...|1994-10-16| 24|     M|       1998-03-21|    1|\n",
      "|+ATHqmzI2cQAAA==|[F8 04 C7 AA 6C C...|     199776117|[20 05 05 01 00 0...|     TOB153|     2018-06-25|             IN |          OVR|20465.00|  8999|            null|          null|         null|             null|             |             []|         167|       171619148|           GRK|                  null|            null|  null|      80325|                    null|                |OVR1538032942|          201806|               Lön|               EJR|Ej relevant för d...|1994-10-16| 24|     M|       1998-03-21|    1|\n",
      "|+ATHqmzI2cQAAA==|[F8 04 C7 AA 6C C...|     199776117|[20 05 05 01 00 0...|     TOB153|     2018-07-25|             IN |          OVR|15495.00|  8999|            null|          null|         null|             null|             |             []|         167|       204804032|           GRK|                  null|            null|  null|      80325|                    null|                |OVR1538032942|          201807|               Lön|               EJR|Ej relevant för d...|1994-10-16| 24|     M|       1998-03-21|    1|\n",
      "|+ATHqmzI2cQAAA==|[F8 04 C7 AA 6C C...|     199776117|[20 05 05 01 00 0...|     TOB153|     2018-08-24|             IN |          OVR|21775.00|  8999|            null|          null|         null|             null|             |             []|         167|       197229129|           GRK|                  null|            null|  null|      80325|                    null|                |OVR1538032942|          201808|               Lön|               EJR|Ej relevant för d...|1994-10-16| 24|     M|       1998-03-21|    1|\n",
      "|+GS5magyVxoAAA==|[F8 64 B9 99 A8 3...|     168688382|[20 05 05 01 00 0...|     TOB155|     2018-05-18|             IN |          OVR| 9445.00|  8999|            null|          null|         null|             null|             |             []|         167|       164140281|           GRK|                  null|            null|  null|      89011|                    null|19520309XXXXXXXX|OVR1558901949|          201805|           Pension|               EJR|Ej relevant för d...|1952-03-09| 66|     M|       1998-03-21|    1|\n",
      "|+GS5magyVxoAAA==|[F8 64 B9 99 A8 3...|     168688382|[20 05 05 01 00 0...|     TOB153|     2018-05-22|             IN |          OVR| 5344.78|  8999|            null|          null|         null|             null|             |             []|         167|       197290503|           GRK|                  null|            null|  null|      99000|                    null|     AMF33347346|OVR1539900000|          201805|               Lön|               EJR|Ej relevant för d...|1952-03-09| 66|     M|       1998-03-21|    1|\n",
      "|+GS5magyVxoAAA==|[F8 64 B9 99 A8 3...|     168688382|[20 05 05 01 00 0...|     TOB153|     2018-05-25|             IN |          OVR| 1150.75|  8999|            null|          null|         null|             null|             |             []|         167|       222889648|           GRK|                  null|            null|  null|      99000|                    null|     LÄNSFÖRSÄKR|OVR1539900000|          201805|               Lön|               EJR|Ej relevant för d...|1952-03-09| 66|     M|       1998-03-21|    1|\n",
      "|+GS5magyVxoAAA==|[F8 64 B9 99 A8 3...|     168688382|[20 05 05 01 00 0...|     TOB155|     2018-06-18|             IN |          OVR| 9445.00|  8999|            null|          null|         null|             null|             |             []|         167|       126958709|           GRK|                  null|            null|  null|      89011|                    null|19520309XXXXXXXX|OVR1558901949|          201806|           Pension|               EJR|Ej relevant för d...|1952-03-09| 66|     M|       1998-03-21|    1|\n",
      "|+GS5magyVxoAAA==|[F8 64 B9 99 A8 3...|     168688382|[20 05 05 01 00 0...|     TOB153|     2018-06-21|             IN |          OVR| 5344.78|  8999|            null|          null|         null|             null|             |             []|         167|       171525693|           GRK|                  null|            null|  null|      99000|                    null|     AMF34149600|OVR1539900000|          201806|               Lön|               EJR|Ej relevant för d...|1952-03-09| 66|     M|       1998-03-21|    1|\n",
      "|+GS5magyVxoAAA==|[F8 64 B9 99 A8 3...|     168688382|[20 05 05 01 00 0...|     TOB153|     2018-06-25|             IN |          OVR| 1150.75|  8999|            null|          null|         null|             null|             |             []|         167|       181225072|           GRK|                  null|            null|  null|      99000|                    null|     LÄNSFÖRSÄKR|OVR1539900000|          201806|               Lön|               EJR|Ej relevant för d...|1952-03-09| 66|     M|       1998-03-21|    1|\n",
      "|+GS5magyVxoAAA==|[F8 64 B9 99 A8 3...|     168688382|[20 05 05 01 00 0...|     TOB155|     2018-07-18|             IN |          OVR| 9445.00|  8999|            null|          null|         null|             null|             |             []|         167|       154547480|           GRK|                  null|            null|  null|      89011|                    null|19520309XXXXXXXX|OVR1558901949|          201807|           Pension|               EJR|Ej relevant för d...|1952-03-09| 66|     M|       1998-03-21|    1|\n",
      "|+GS5magyVxoAAA==|[F8 64 B9 99 A8 3...|     168688382|[20 05 05 01 00 0...|     TOB153|     2018-07-20|             IN |          OVR| 5344.78|  8999|            null|          null|         null|             null|             |             []|         167|       178901816|           GRK|                  null|            null|  null|      99000|                    null|     AMF34952117|OVR1539900000|          201807|               Lön|               EJR|Ej relevant för d...|1952-03-09| 66|     M|       1998-03-21|    1|\n",
      "|+GS5magyVxoAAA==|[F8 64 B9 99 A8 3...|     168688382|[20 05 05 01 00 0...|     TOB153|     2018-07-25|             IN |          OVR| 1150.75|  8999|            null|          null|         null|             null|             |             []|         167|       214972821|           GRK|                  null|            null|  null|      99000|                    null|     LÄNSFÖRSÄKR|OVR1539900000|          201807|               Lön|               EJR|Ej relevant för d...|1952-03-09| 66|     M|       1998-03-21|    1|\n",
      "|+GS5magyVxoAAA==|[F8 64 B9 99 A8 3...|     168688382|[20 05 05 01 00 0...|     TOB155|     2018-08-17|             IN |          OVR| 9445.00|  8999|            null|          null|         null|             null|             |             []|         167|       147842478|           GRK|                  null|            null|  null|      89011|                    null|19520309XXXXXXXX|OVR1558901949|          201808|           Pension|               EJR|Ej relevant för d...|1952-03-09| 66|     M|       1998-03-21|    1|\n",
      "|+GS5magyVxoAAA==|[F8 64 B9 99 A8 3...|     168688382|[20 05 05 01 00 0...|     TOB153|     2018-08-22|             IN |          OVR| 5344.78|  8999|            null|          null|         null|             null|             |             []|         167|       189929637|           GRK|                  null|            null|  null|      99000|                    null|     AMF35803446|OVR1539900000|          201808|               Lön|               EJR|Ej relevant för d...|1952-03-09| 66|     M|       1998-03-21|    1|\n",
      "|+O7/upuv45EAAA==|[F8 EE FF BA 9B A...|     161334700|[20 05 05 01 00 0...|     TOB155|     2018-05-18|             IN |          OVR|10406.00|  8999|            null|          null|         null|             null|             |             []|         167|       159316630|           GRK|                  null|            null|  null|      89011|                    null|19400523XXXXXXXX|OVR1558901949|          201805|           Pension|               EJR|Ej relevant för d...|1940-05-23| 78|     F|       1998-03-21|    1|\n",
      "|+O7/upuv45EAAA==|[F8 EE FF BA 9B A...|     161334700|[20 05 05 01 00 0...|     TOB155|     2018-05-18|             IN |          OVR| 1477.00|  8999|            null|          null|         null|             null|             |             []|         167|       159316631|           GRK|                  null|            null|  null|      89011|                    null|                |OVR1558901942|          201805|           Pension|               EJR|Ej relevant för d...|1940-05-23| 78|     F|       1998-03-21|    1|\n",
      "|+O7/upuv45EAAA==|[F8 EE FF BA 9B A...|     161334700|[20 05 05 01 00 0...|     TOB153|     2018-05-22|             IN |          OVR|  346.27|  8999|            null|          null|         null|             null|             |             []|         167|       186952263|           GRK|                  null|            null|  null|      99000|                    null|     AMF33006486|OVR1539900000|          201805|               Lön|               EJR|Ej relevant för d...|1940-05-23| 78|     F|       1998-03-21|    1|\n",
      "|+O7/upuv45EAAA==|[F8 EE FF BA 9B A...|     161334700|[20 05 05 01 00 0...|     TOB155|     2018-06-18|             IN |          OVR| 1477.00|  8999|            null|          null|         null|             null|             |             []|         167|       123041142|           GRK|                  null|            null|  null|      89011|                    null|                |OVR1558901942|          201806|           Pension|               EJR|Ej relevant för d...|1940-05-23| 78|     F|       1998-03-21|    1|\n",
      "|+O7/upuv45EAAA==|[F8 EE FF BA 9B A...|     161334700|[20 05 05 01 00 0...|     TOB155|     2018-06-19|             IN |          OVR|10406.00|  8999|            null|          null|         null|             null|             |             []|         167|       131021921|           GRK|                  null|            null|  null|      89011|                    null|19400523XXXXXXXX|OVR1558901949|          201806|           Pension|               EJR|Ej relevant för d...|1940-05-23| 78|     F|       1998-03-21|    1|\n",
      "|+O7/upuv45EAAA==|[F8 EE FF BA 9B A...|     161334700|[20 05 05 01 00 0...|     TOB153|     2018-06-21|             IN |          OVR|  346.27|  8999|            null|          null|         null|             null|             |             []|         167|       166956222|           GRK|                  null|            null|  null|      99000|                    null|     AMF33854936|OVR1539900000|          201806|               Lön|               EJR|Ej relevant för d...|1940-05-23| 78|     F|       1998-03-21|    1|\n",
      "|+O7/upuv45EAAA==|[F8 EE FF BA 9B A...|     161334700|[20 05 05 01 00 0...|     TOB155|     2018-07-18|             IN |          OVR| 1477.00|  8999|            null|          null|         null|             null|             |             []|         167|       145014475|           GRK|                  null|            null|  null|      89011|                    null|                |OVR1558901942|          201807|           Pension|               EJR|Ej relevant för d...|1940-05-23| 78|     F|       1998-03-21|    1|\n",
      "|+O7/upuv45EAAA==|[F8 EE FF BA 9B A...|     161334700|[20 05 05 01 00 0...|     TOB155|     2018-07-19|             IN |          OVR|10406.00|  8999|            null|          null|         null|             null|             |             []|         167|       160124592|           GRK|                  null|            null|  null|      89011|                    null|19400523XXXXXXXX|OVR1558901949|          201807|           Pension|               EJR|Ej relevant för d...|1940-05-23| 78|     F|       1998-03-21|    1|\n",
      "|+O7/upuv45EAAA==|[F8 EE FF BA 9B A...|     161334700|[20 05 05 01 00 0...|     TOB153|     2018-07-20|             IN |          OVR|  346.27|  8999|            null|          null|         null|             null|             |             []|         167|       175145392|           GRK|                  null|            null|  null|      99000|                    null|     AMF34670873|OVR1539900000|          201807|               Lön|               EJR|Ej relevant för d...|1940-05-23| 78|     F|       1998-03-21|    1|\n",
      "|+O7/upuv45EAAA==|[F8 EE FF BA 9B A...|     161334700|[20 05 05 01 00 0...|     TOB155|     2018-08-17|             IN |          OVR| 1477.00|  8999|            null|          null|         null|             null|             |             []|         167|       144149841|           GRK|                  null|            null|  null|      89011|                    null|                |OVR1558901942|          201808|           Pension|               EJR|Ej relevant för d...|1940-05-23| 78|     F|       1998-03-21|    1|\n",
      "|+O7/upuv45EAAA==|[F8 EE FF BA 9B A...|     161334700|[20 05 05 01 00 0...|     TOB155|     2018-08-20|             IN |          OVR|10406.00|  8999|            null|          null|         null|             null|             |             []|         167|       151659637|           GRK|                  null|            null|  null|      89011|                    null|19400523XXXXXXXX|OVR1558901949|          201808|           Pension|               EJR|Ej relevant för d...|1940-05-23| 78|     F|       1998-03-21|    1|\n",
      "|+O7/upuv45EAAA==|[F8 EE FF BA 9B A...|     161334700|[20 05 05 01 00 0...|     TOB153|     2018-08-22|             IN |          OVR|  346.27|  8999|            null|          null|         null|             null|             |             []|         167|       186278202|           GRK|                  null|            null|  null|      99000|                    null|     AMF35504034|OVR1539900000|          201808|               Lön|               EJR|Ej relevant för d...|1940-05-23| 78|     F|       1998-03-21|    1|\n",
      "|+Z3Hwz19g0cAAA==|[F9 9D C7 C3 3D 7...|     156788270|[20 05 05 01 00 0...|     TOB155|     2018-05-15|             IN |          OVR|  250.00|  8999|            null|          null|         null|             null|             |             []|         167|       119463487|           GRK|                  null|            null|  null|      89011|                    null|                |OVR1558901942|          201805|           Pension|               EJR|Ej relevant för d...|1976-10-23| 42|     F|       1998-03-21|    1|\n",
      "|+Z3Hwz19g0cAAA==|[F9 9D C7 C3 3D 7...|     156788270|[20 05 05 01 00 0...|     TOB500|     2018-05-18|             IN |          OVR| 2650.00|  8999|            null|          null|         null|             null|             |             []|         167|       157445179|           GRK|                  null|            null|  null|      89011|                    null|19761023XXXXXXXX|OVR5008901949|          201805|        Barnbidrag|               EJR|Ej relevant för d...|1976-10-23| 42|     F|       1998-03-21|    1|\n",
      "|+Z3Hwz19g0cAAA==|[F9 9D C7 C3 3D 7...|     156788270|[20 05 05 01 00 0...|     TOB153|     2018-05-22|             IN |          OVR| 2280.59|  8999|            null|          null|         null|             null|             |             []|         167|       182993969|           GRK|                  null|            null|  null|      99000|                    null|     AMF33339293|OVR1539900000|          201805|               Lön|               EJR|Ej relevant för d...|1976-10-23| 42|     F|       1998-03-21|    1|\n",
      "|+Z3Hwz19g0cAAA==|[F9 9D C7 C3 3D 7...|     156788270|[20 05 05 01 00 0...|     TOB155|     2018-05-25|             IN |          OVR|  239.00|  8999|            null|          null|         null|             null|             |             []|         167|       216701655|           GRK|                  null|            null|  null|      99000|                    null|5873810050171677|OVR1559900000|          201805|           Pension|               EJR|Ej relevant för d...|1976-10-23| 42|     F|       1998-03-21|    1|\n",
      "|+Z3Hwz19g0cAAA==|[F9 9D C7 C3 3D 7...|     156788270|[20 05 05 01 00 0...|     TOB452|     2018-05-25|             IN |          OVR| 1258.24|  8999|            null|          null|         null|             null|             |             []|         167|       208543968|           GRK|                  null|            null|  null|      89011|                    null|                |OVR4528901942|          201805|           Folksam|               EJR|Ej relevant för d...|1976-10-23| 42|     F|       1998-03-21|    1|\n",
      "|+Z3Hwz19g0cAAA==|[F9 9D C7 C3 3D 7...|     156788270|[20 05 05 01 00 0...|     TOB153|     2018-05-25|             IN |          OVR|  625.41|  8999|            null|          null|         null|             null|             |             []|         167|       216701654|           GRK|                  null|            null|  null|      99000|                    null|     LÄNSFÖRSÄKR|OVR1539900000|          201805|               Lön|               EJR|Ej relevant för d...|1976-10-23| 42|     F|       1998-03-21|    1|\n",
      "|+Z3Hwz19g0cAAA==|[F9 9D C7 C3 3D 7...|     156788270|[20 05 05 01 00 0...|     TOB153|     2018-05-25|             IN |          OVR|21592.00|  8999|            null|          null|         null|             null|             |             []|         167|       216701653|           GRK|                  null|            null|  null|      63610|                    null|  AVSBG 205-5051|OVR1536361000|          201805|               Lön|               EJR|Ej relevant för d...|1976-10-23| 42|     F|       1998-03-21|    1|\n",
      "|+Z3Hwz19g0cAAA==|[F9 9D C7 C3 3D 7...|     156788270|[20 05 05 01 00 0...|     TOB452|     2018-05-25|             IN |          OVR| 2032.28|  8999|            null|          null|         null|             null|             |             []|         167|       208543969|           GRK|                  null|            null|  null|      89011|                    null|                |OVR4528901942|          201805|           Folksam|               EJR|Ej relevant för d...|1976-10-23| 42|     F|       1998-03-21|    1|\n",
      "|+Z3Hwz19g0cAAA==|[F9 9D C7 C3 3D 7...|     156788270|[20 05 05 01 00 0...|     TOB588|     2018-06-05|             IN |          OVR| 3328.00|  8999|            null|          null|         null|             null|             |             []|         167|        57644315|           GRK|                  null|            null|  null|      99000|                    null|    SK7610238227|OVR5889900000|          201806|BG KONTOINSÄTTNING|               EJR|Ej relevant för d...|1976-10-23| 42|     F|       1998-03-21|    1|\n",
      "|+Z3Hwz19g0cAAA==|[F9 9D C7 C3 3D 7...|     156788270|[20 05 05 01 00 0...|     TOB155|     2018-06-15|             IN |          OVR|  260.00|  8999|            null|          null|         null|             null|             |             []|         167|       114460779|           GRK|                  null|            null|  null|      89011|                    null|                |OVR1558901942|          201806|           Pension|               EJR|Ej relevant för d...|1976-10-23| 42|     F|       1998-03-21|    1|\n",
      "|+Z3Hwz19g0cAAA==|[F9 9D C7 C3 3D 7...|     156788270|[20 05 05 01 00 0...|     TOB500|     2018-06-20|             IN |          OVR| 2650.00|  8999|            null|          null|         null|             null|             |             []|         167|       139548351|           GRK|                  null|            null|  null|      89011|                    null|19761023XXXXXXXX|OVR5008901949|          201806|        Barnbidrag|               EJR|Ej relevant för d...|1976-10-23| 42|     F|       1998-03-21|    1|\n",
      "|+Z3Hwz19g0cAAA==|[F9 9D C7 C3 3D 7...|     156788270|[20 05 05 01 00 0...|     TOB153|     2018-06-21|             IN |          OVR| 2280.59|  8999|            null|          null|         null|             null|             |             []|         167|       165175711|           GRK|                  null|            null|  null|      99000|                    null|     AMF34132187|OVR1539900000|          201806|               Lön|               EJR|Ej relevant för d...|1976-10-23| 42|     F|       1998-03-21|    1|\n",
      "|+Z3Hwz19g0cAAA==|[F9 9D C7 C3 3D 7...|     156788270|[20 05 05 01 00 0...|     TOB153|     2018-06-21|             IN |          OVR|25010.00|  8999|            null|          null|         null|             null|             |             []|         167|       165175709|           GRK|                  null|            null|  null|      63610|                    null|  AVSBG 205-5051|OVR1536361000|          201806|               Lön|               EJR|Ej relevant för d...|1976-10-23| 42|     F|       1998-03-21|    1|\n",
      "|+Z3Hwz19g0cAAA==|[F9 9D C7 C3 3D 7...|     156788270|[20 05 05 01 00 0...|     TOB153|     2018-06-25|             IN |          OVR|  625.41|  8999|            null|          null|         null|             null|             |             []|         167|       174420468|           GRK|                  null|            null|  null|      99000|                    null|     LÄNSFÖRSÄKR|OVR1539900000|          201806|               Lön|               EJR|Ej relevant för d...|1976-10-23| 42|     F|       1998-03-21|    1|\n",
      "|+Z3Hwz19g0cAAA==|[F9 9D C7 C3 3D 7...|     156788270|[20 05 05 01 00 0...|     TOB155|     2018-06-25|             IN |          OVR|  239.00|  8999|            null|          null|         null|             null|             |             []|         167|       174420469|           GRK|                  null|            null|  null|      99000|                    null|5873810050171677|OVR1559900000|          201806|           Pension|               EJR|Ej relevant för d...|1976-10-23| 42|     F|       1998-03-21|    1|\n",
      "|+Z3Hwz19g0cAAA==|[F9 9D C7 C3 3D 7...|     156788270|[20 05 05 01 00 0...|     TOB155|     2018-07-13|             IN |          OVR|  260.00|  8999|            null|          null|         null|             null|             |             []|         167|       118752252|           GRK|                  null|            null|  null|      89011|                    null|                |OVR1558901942|          201807|           Pension|               EJR|Ej relevant för d...|1976-10-23| 42|     F|       1998-03-21|    1|\n",
      "|+Z3Hwz19g0cAAA==|[F9 9D C7 C3 3D 7...|     156788270|[20 05 05 01 00 0...|     TOB153|     2018-07-20|             IN |          OVR| 2280.59|  8999|            null|          null|         null|             null|             |             []|         167|       173687677|           GRK|                  null|            null|  null|      99000|                    null|     AMF34978065|OVR1539900000|          201807|               Lön|               EJR|Ej relevant för d...|1976-10-23| 42|     F|       1998-03-21|    1|\n",
      "|+Z3Hwz19g0cAAA==|[F9 9D C7 C3 3D 7...|     156788270|[20 05 05 01 00 0...|     TOB500|     2018-07-20|             IN |          OVR| 2650.00|  8999|            null|          null|         null|             null|             |             []|         167|       166269252|           GRK|                  null|            null|  null|      89011|                    null|19761023XXXXXXXX|OVR5008901949|          201807|        Barnbidrag|               EJR|Ej relevant för d...|1976-10-23| 42|     F|       1998-03-21|    1|\n",
      "|+Z3Hwz19g0cAAA==|[F9 9D C7 C3 3D 7...|     156788270|[20 05 05 01 00 0...|     TOB153|     2018-07-25|             IN |          OVR|  625.41|  8999|            null|          null|         null|             null|             |             []|         167|       208938472|           GRK|                  null|            null|  null|      99000|                    null|     LÄNSFÖRSÄKR|OVR1539900000|          201807|               Lön|               EJR|Ej relevant för d...|1976-10-23| 42|     F|       1998-03-21|    1|\n",
      "|+Z3Hwz19g0cAAA==|[F9 9D C7 C3 3D 7...|     156788270|[20 05 05 01 00 0...|     TOB153|     2018-07-25|             IN |          OVR|23752.00|  8999|            null|          null|         null|             null|             |             []|         167|       208938471|           GRK|                  null|            null|  null|      63610|                    null|  AVSBG 205-5051|OVR1536361000|          201807|               Lön|               EJR|Ej relevant för d...|1976-10-23| 42|     F|       1998-03-21|    1|\n",
      "|+Z3Hwz19g0cAAA==|[F9 9D C7 C3 3D 7...|     156788270|[20 05 05 01 00 0...|     TOB155|     2018-08-15|             IN |          OVR|  260.00|  8999|            null|          null|         null|             null|             |             []|         167|       119958263|           GRK|                  null|            null|  null|      89011|                    null|                |OVR1558901942|          201808|           Pension|               EJR|Ej relevant för d...|1976-10-23| 42|     F|       1998-03-21|    1|\n",
      "|+Z3Hwz19g0cAAA==|[F9 9D C7 C3 3D 7...|     156788270|[20 05 05 01 00 0...|     TOB500|     2018-08-20|             IN |          OVR| 2650.00|  8999|            null|          null|         null|             null|             |             []|         167|       150175739|           GRK|                  null|            null|  null|      89011|                    null|19761023XXXXXXXX|OVR5008901949|          201808|        Barnbidrag|               EJR|Ej relevant för d...|1976-10-23| 42|     F|       1998-03-21|    1|\n",
      "|+Z3Hwz19g0cAAA==|[F9 9D C7 C3 3D 7...|     156788270|[20 05 05 01 00 0...|     TOB153|     2018-08-22|             IN |          OVR| 2280.59|  8999|            null|          null|         null|             null|             |             []|         167|       184887415|           GRK|                  null|            null|  null|      99000|                    null|     AMF35777387|OVR1539900000|          201808|               Lön|               EJR|Ej relevant för d...|1976-10-23| 42|     F|       1998-03-21|    1|\n",
      "|+Z3Hwz19g0cAAA==|[F9 9D C7 C3 3D 7...|     156788270|[20 05 05 01 00 0...|     TOB452|     2018-08-24|             IN |          OVR| 2090.49|  8999|            null|          null|         null|             null|             |             []|         167|       192163273|           GRK|                  null|            null|  null|      89011|                    null|                |OVR4528901942|          201808|           Folksam|               EJR|Ej relevant för d...|1976-10-23| 42|     F|       1998-03-21|    1|\n",
      "|+cP29/kDCbgAAA==|[F9 C3 F6 F7 F9 0...|     185974395|[20 05 05 01 00 0...|     TOB153|     2018-05-25|             IN |          OVR|22369.40|  8999|            null|          null|         null|             null|             |             []|         167|       215010097|           GRK|                  null|            null|  null|      84806|                    null|                |OVR1538480942|          201805|               Lön|               EJR|Ej relevant för d...|1994-07-13| 24|     F|       1998-03-21|    1|\n",
      "|+cP29/kDCbgAAA==|[F9 C3 F6 F7 F9 0...|     185974395|[20 05 05 01 00 0...|     TOB588|     2018-06-05|             IN |          OVR| 4055.00|  8999|            null|          null|         null|             null|             |             []|         167|        64928734|           GRK|                  null|            null|  null|      99000|                    null|    SK9407139121|OVR5889900000|          201806|BG KONTOINSÄTTNING|               EJR|Ej relevant för d...|1994-07-13| 24|     F|       1998-03-21|    1|\n",
      "|+cP29/kDCbgAAA==|[F9 C3 F6 F7 F9 0...|     185974395|[20 05 05 01 00 0...|     TOB153|     2018-06-25|             IN |          OVR|23037.80|  8999|            null|          null|         null|             null|             |             []|         167|       172598773|           GRK|                  null|            null|  null|      84806|                    null|                |OVR1538480942|          201806|               Lön|               EJR|Ej relevant för d...|1994-07-13| 24|     F|       1998-03-21|    1|\n",
      "|+cP29/kDCbgAAA==|[F9 C3 F6 F7 F9 0...|     185974395|[20 05 05 01 00 0...|     TOB153|     2018-07-25|             IN |          OVR|25437.10|  8999|            null|          null|         null|             null|             |             []|         167|       206869887|           GRK|                  null|            null|  null|      84806|                    null|                |OVR1538480942|          201807|               Lön|               EJR|Ej relevant för d...|1994-07-13| 24|     F|       1998-03-21|    1|\n",
      "|+cP29/kDCbgAAA==|[F9 C3 F6 F7 F9 0...|     185974395|[20 05 05 01 00 0...|     TOB153|     2018-08-24|             IN |          OVR|22678.74|  8999|            null|          null|         null|             null|             |             []|         167|       197991632|           GRK|                  null|            null|  null|      84806|                    null|                |OVR1538480942|          201808|               Lön|               EJR|Ej relevant för d...|1994-07-13| 24|     F|       1998-03-21|    1|\n",
      "|+ccjTHyJ65EAAA==|[F9 C7 23 4C 7C 8...|     165917733|[20 05 05 01 00 0...|     TOB500|     2018-05-18|             IN |          OVR| 2650.00|  8999|            null|          null|         null|             null|             |             []|         167|       162783870|           GRK|                  null|            null|  null|      89011|                    null|19860530XXXXXXXX|OVR5008901949|          201805|        Barnbidrag|               EJR|Ej relevant för d...|1986-05-30| 32|     F|       1998-03-21|    1|\n",
      "|+ccjTHyJ65EAAA==|[F9 C7 23 4C 7C 8...|     165917733|[20 05 05 01 00 0...|     TOB153|     2018-05-25|             IN |          OVR|15771.37|  8999|            null|          null|         null|             null|             |             []|         167|       212986689|           GRK|                  null|            null|  null|      82701|                    null|                |OVR1538270942|          201805|               Lön|               EJR|Ej relevant för d...|1986-05-30| 32|     F|       1998-03-21|    1|\n",
      "|+ccjTHyJ65EAAA==|[F9 C7 23 4C 7C 8...|     165917733|[20 05 05 01 00 0...|     TOB588|     2018-06-05|             IN |          OVR|  766.00|  8999|            null|          null|         null|             null|             |             []|         167|        62641808|           GRK|                  null|            null|  null|      99000|                    null|    SK8605301624|OVR5889900000|          201806|BG KONTOINSÄTTNING|               EJR|Ej relevant för d...|1986-05-30| 32|     F|       1998-03-21|    1|\n",
      "|+ccjTHyJ65EAAA==|[F9 C7 23 4C 7C 8...|     165917733|[20 05 05 01 00 0...|     TOB500|     2018-06-20|             IN |          OVR| 2650.00|  8999|            null|          null|         null|             null|             |             []|         167|       150619442|           GRK|                  null|            null|  null|      89011|                    null|19860530XXXXXXXX|OVR5008901949|          201806|        Barnbidrag|               EJR|Ej relevant för d...|1986-05-30| 32|     F|       1998-03-21|    1|\n",
      "|+ccjTHyJ65EAAA==|[F9 C7 23 4C 7C 8...|     165917733|[20 05 05 01 00 0...|     TOB153|     2018-06-25|             IN |          OVR|16663.00|  8999|            null|          null|         null|             null|             |             []|         167|       170241943|           GRK|                  null|            null|  null|      82701|                    null|                |OVR1538270942|          201806|               Lön|               EJR|Ej relevant för d...|1986-05-30| 32|     F|       1998-03-21|    1|\n",
      "|+ccjTHyJ65EAAA==|[F9 C7 23 4C 7C 8...|     165917733|[20 05 05 01 00 0...|     TOB409|     2018-06-25|             IN |          OVR|  549.00|  8999|            null|          null|         null|             null|             |             []|         167|       179863186|           GRK|                  null|            null|  null|      89011|                    null|19860530XXXXXXXX|OVR4098901949|          201806|    Dagsersättning|               EJR|Ej relevant för d...|1986-05-30| 32|     F|       1998-03-21|    1|\n",
      "|+ccjTHyJ65EAAA==|[F9 C7 23 4C 7C 8...|     165917733|[20 05 05 01 00 0...|     TOB500|     2018-07-20|             IN |          OVR| 2650.00|  8999|            null|          null|         null|             null|             |             []|         167|       170362699|           GRK|                  null|            null|  null|      89011|                    null|19860530XXXXXXXX|OVR5008901949|          201807|        Barnbidrag|               EJR|Ej relevant för d...|1986-05-30| 32|     F|       1998-03-21|    1|\n",
      "|+ccjTHyJ65EAAA==|[F9 C7 23 4C 7C 8...|     165917733|[20 05 05 01 00 0...|     TOB153|     2018-07-25|             IN |          OVR|17136.50|  8999|            null|          null|         null|             null|             |             []|         167|       201898568|           GRK|                  null|            null|  null|      82701|                    null|                |OVR1538270942|          201807|               Lön|               EJR|Ej relevant för d...|1986-05-30| 32|     F|       1998-03-21|    1|\n",
      "|+ccjTHyJ65EAAA==|[F9 C7 23 4C 7C 8...|     165917733|[20 05 05 01 00 0...|     TOB409|     2018-07-25|             IN |          OVR|  618.00|  8999|            null|          null|         null|             null|             |             []|         167|       213757857|           GRK|                  null|            null|  null|      89011|                    null|19860530XXXXXXXX|OVR4098901949|          201807|    Dagsersättning|               EJR|Ej relevant för d...|1986-05-30| 32|     F|       1998-03-21|    1|\n",
      "|+ccjTHyJ65EAAA==|[F9 C7 23 4C 7C 8...|     165917733|[20 05 05 01 00 0...|     TOB500|     2018-08-20|             IN |          OVR| 2650.00|  8999|            null|          null|         null|             null|             |             []|         167|       154523403|           GRK|                  null|            null|  null|      89011|                    null|19860530XXXXXXXX|OVR5008901949|          201808|        Barnbidrag|               EJR|Ej relevant för d...|1986-05-30| 32|     F|       1998-03-21|    1|\n",
      "|+ccjTHyJ65EAAA==|[F9 C7 23 4C 7C 8...|     165917733|[20 05 05 01 00 0...|     TOB153|     2018-08-24|             IN |          OVR|10151.84|  8999|            null|          null|         null|             null|             |             []|         167|       196174270|           GRK|                  null|            null|  null|      82701|                    null|                |OVR1538270942|          201808|               Lön|               EJR|Ej relevant för d...|1986-05-30| 32|     F|       1998-03-21|    1|\n",
      "|+ezG8FuRCQsAAA==|[F9 EC C6 F0 5B 9...|     163620556|[20 04 10 01 00 0...|     TOB155|     2018-05-18|             IN |          OVR|10068.00|  8999|            null|          null|         null|             null|             |             []|         167|       161012487|           GRK|                  null|            null|  null|      89011|                    null|19481221XXXXXXXX|OVR1558901949|          201805|           Pension|               EJR|Ej relevant för d...|1948-12-21| 70|     M|       1998-03-21|    1|\n",
      "|+ezG8FuRCQsAAA==|[F9 EC C6 F0 5B 9...|     163620556|[20 04 10 01 00 0...|     TOB153|     2018-05-22|             IN |          OVR| 2130.70|  8999|            null|          null|         null|             null|             |             []|         167|       190520356|           GRK|                  null|            null|  null|      99000|                    null|     AMF33600050|OVR1539900000|          201805|               Lön|               EJR|Ej relevant för d...|1948-12-21| 70|     M|       1998-03-21|    1|\n",
      "|+ezG8FuRCQsAAA==|[F9 EC C6 F0 5B 9...|     163620556|[20 04 10 01 00 0...|     TOB155|     2018-06-19|             IN |          OVR|10068.00|  8999|            null|          null|         null|             null|             |             []|         167|       132476913|           GRK|                  null|            null|  null|      89011|                    null|19481221XXXXXXXX|OVR1558901949|          201806|           Pension|               EJR|Ej relevant för d...|1948-12-21| 70|     M|       1998-03-21|    1|\n",
      "|+ezG8FuRCQsAAA==|[F9 EC C6 F0 5B 9...|     163620556|[20 04 10 01 00 0...|     TOB153|     2018-06-21|             IN |          OVR| 2130.70|  8999|            null|          null|         null|             null|             |             []|         167|       168539032|           GRK|                  null|            null|  null|      99000|                    null|     AMF34432217|OVR1539900000|          201806|               Lön|               EJR|Ej relevant för d...|1948-12-21| 70|     M|       1998-03-21|    1|\n",
      "|+ezG8FuRCQsAAA==|[F9 EC C6 F0 5B 9...|     163620556|[20 04 10 01 00 0...|     TOB155|     2018-07-19|             IN |          OVR|10068.00|  8999|            null|          null|         null|             null|             |             []|         167|       161435342|           GRK|                  null|            null|  null|      89011|                    null|19481221XXXXXXXX|OVR1558901949|          201807|           Pension|               EJR|Ej relevant för d...|1948-12-21| 70|     M|       1998-03-21|    1|\n",
      "|+ezG8FuRCQsAAA==|[F9 EC C6 F0 5B 9...|     163620556|[20 04 10 01 00 0...|     TOB153|     2018-07-20|             IN |          OVR| 2130.70|  8999|            null|          null|         null|             null|             |             []|         167|       176457652|           GRK|                  null|            null|  null|      99000|                    null|     AMF35223902|OVR1539900000|          201807|               Lön|               EJR|Ej relevant för d...|1948-12-21| 70|     M|       1998-03-21|    1|\n",
      "|+ezG8FuRCQsAAA==|[F9 EC C6 F0 5B 9...|     163620556|[20 04 10 01 00 0...|     TOB155|     2018-08-20|             IN |          OVR|10068.00|  8999|            null|          null|         null|             null|             |             []|         167|       153034613|           GRK|                  null|            null|  null|      89011|                    null|19481221XXXXXXXX|OVR1558901949|          201808|           Pension|               EJR|Ej relevant för d...|1948-12-21| 70|     M|       1998-03-21|    1|\n",
      "|+ezG8FuRCQsAAA==|[F9 EC C6 F0 5B 9...|     163620556|[20 04 10 01 00 0...|     TOB153|     2018-08-22|             IN |          OVR| 2130.70|  8999|            null|          null|         null|             null|             |             []|         167|       187561957|           GRK|                  null|            null|  null|      99000|                    null|     AMF36042222|OVR1539900000|          201808|               Lön|               EJR|Ej relevant för d...|1948-12-21| 70|     M|       1998-03-21|    1|\n",
      "|+rXbIx5y1LwAAA==|[FA B5 DB 23 1E 7...|     159933291|[20 05 05 01 00 0...|     TOB155|     2018-05-18|             IN |          OVR|11296.00|  8999|            null|          null|         null|             null|             |             []|         167|       158611753|           GRK|                  null|            null|  null|      89011|                    null|19510923XXXXXXXX|OVR1558901949|          201805|           Pension|               EJR|Ej relevant för d...|1951-09-23| 67|     M|       1998-03-21|    1|\n",
      "|+rXbIx5y1LwAAA==|[FA B5 DB 23 1E 7...|     159933291|[20 05 05 01 00 0...|     TOB155|     2018-05-18|             IN |          OVR|  885.00|  8999|            null|          null|         null|             null|             |             []|         167|       158611754|           GRK|                  null|            null|  null|      89011|                    null|                |OVR1558901942|          201805|           Pension|               EJR|Ej relevant för d...|1951-09-23| 67|     M|       1998-03-21|    1|\n",
      "|+rXbIx5y1LwAAA==|[FA B5 DB 23 1E 7...|     159933291|[20 05 05 01 00 0...|     TOB153|     2018-05-22|             IN |          OVR|  669.56|  8999|            null|          null|         null|             null|             |             []|         167|       185427782|           GRK|                  null|            null|  null|      99000|                    null|     AMF33709970|OVR1539900000|          201805|               Lön|               EJR|Ej relevant för d...|1951-09-23| 67|     M|       1998-03-21|    1|\n",
      "|+rXbIx5y1LwAAA==|[FA B5 DB 23 1E 7...|     159933291|[20 05 05 01 00 0...|     TOB155|     2018-06-19|             IN |          OVR|  885.00|  8999|            null|          null|         null|             null|             |             []|         167|       130416850|           GRK|                  null|            null|  null|      89011|                    null|                |OVR1558901942|          201806|           Pension|               EJR|Ej relevant för d...|1951-09-23| 67|     M|       1998-03-21|    1|\n",
      "|+rXbIx5y1LwAAA==|[FA B5 DB 23 1E 7...|     159933291|[20 05 05 01 00 0...|     TOB155|     2018-06-19|             IN |          OVR|11296.00|  8999|            null|          null|         null|             null|             |             []|         167|       130416849|           GRK|                  null|            null|  null|      89011|                    null|19510923XXXXXXXX|OVR1558901949|          201806|           Pension|               EJR|Ej relevant för d...|1951-09-23| 67|     M|       1998-03-21|    1|\n",
      "|+rXbIx5y1LwAAA==|[FA B5 DB 23 1E 7...|     159933291|[20 05 05 01 00 0...|     TOB153|     2018-06-21|             IN |          OVR|  669.56|  8999|            null|          null|         null|             null|             |             []|         167|       166284883|           GRK|                  null|            null|  null|      99000|                    null|     AMF34518869|OVR1539900000|          201806|               Lön|               EJR|Ej relevant för d...|1951-09-23| 67|     M|       1998-03-21|    1|\n",
      "|+rXbIx5y1LwAAA==|[FA B5 DB 23 1E 7...|     159933291|[20 05 05 01 00 0...|     TOB155|     2018-07-19|             IN |          OVR|11296.00|  8999|            null|          null|         null|             null|             |             []|         167|       159569090|           GRK|                  null|            null|  null|      89011|                    null|19510923XXXXXXXX|OVR1558901949|          201807|           Pension|               EJR|Ej relevant för d...|1951-09-23| 67|     M|       1998-03-21|    1|\n",
      "|+rXbIx5y1LwAAA==|[FA B5 DB 23 1E 7...|     159933291|[20 05 05 01 00 0...|     TOB155|     2018-07-19|             IN |          OVR|  885.00|  8999|            null|          null|         null|             null|             |             []|         167|       159569091|           GRK|                  null|            null|  null|      89011|                    null|                |OVR1558901942|          201807|           Pension|               EJR|Ej relevant för d...|1951-09-23| 67|     M|       1998-03-21|    1|\n",
      "|+rXbIx5y1LwAAA==|[FA B5 DB 23 1E 7...|     159933291|[20 05 05 01 00 0...|     TOB153|     2018-07-20|             IN |          OVR|  669.56|  8999|            null|          null|         null|             null|             |             []|         167|       174592603|           GRK|                  null|            null|  null|      99000|                    null|     AMF35334161|OVR1539900000|          201807|               Lön|               EJR|Ej relevant för d...|1951-09-23| 67|     M|       1998-03-21|    1|\n",
      "+----------------+--------------------+--------------+--------------------+-----------+---------------+----------------+-------------+--------+------+----------------+--------------+-------------+-----------------+-------------+---------------+------------+----------------+--------------+----------------------+----------------+------+-----------+------------------------+----------------+-------------+----------------+------------------+------------------+--------------------+----------+---+------+-----------------+-----+\n",
      "only showing top 100 rows\n",
      "\n"
     ]
    }
   ],
   "source": [
    "TOB_income.show(100)"
   ]
  },
  {
   "cell_type": "code",
   "execution_count": 337,
   "metadata": {
    "collapsed": true
   },
   "outputs": [
    {
     "name": "stdout",
     "output_type": "stream",
     "text": [
      "+----------+----------------+----------------+-----------+--------+\n",
      "| birthdate|      partygenid|transactionmonth|transtypecd|  amount|\n",
      "+----------+----------------+----------------+-----------+--------+\n",
      "|2015-10-01|FxATABIpAAUQGQ==|          201807|     TOB153|  171.14|\n",
      "|2015-10-01|FxATABIpAAUQGQ==|          201806|     TOB153|  171.14|\n",
      "|2015-10-01|FxATABIpAAUQGQ==|          201808|     TOB153|  171.14|\n",
      "|2015-10-01|FxATABIpAAUQGQ==|          201805|     TOB153|  171.14|\n",
      "|2015-09-13|FgQSABEnAAFUkw==|          201807|     TOB153|  177.99|\n",
      "|2015-09-13|FgQSABEnAAFUkw==|          201805|     TOB153|   68.41|\n",
      "|2015-09-13|FgQSABEnAAFUkw==|          201807|     TOB153|   68.41|\n",
      "|2015-09-13|FgQSABEnAAFUkw==|          201806|     TOB153|   68.41|\n",
      "|2015-09-13|FgQSABEnAAFUkw==|          201808|     TOB153|   68.41|\n",
      "|2015-08-31|FxAYABURAABYJg==|          201807|     TOB153|  530.50|\n",
      "|2015-08-31|FxAYABURAABYJg==|          201805|     TOB153|  530.50|\n",
      "|2015-08-31|FxAYABURAABYJg==|          201808|     TOB153|  530.50|\n",
      "|2015-08-31|FxAYABURAABYJg==|          201806|     TOB153|  530.50|\n",
      "|2014-11-28|FgEZABEkAACYgQ==|          201807|     TOB153|  816.22|\n",
      "|2014-11-28|FgEZABEkAACYgQ==|          201805|     TOB153|  816.22|\n",
      "|2014-11-28|FgEZABEkAACYgQ==|          201808|     TOB153|  816.22|\n",
      "|2014-11-28|FgEZABEkAACYgQ==|          201806|     TOB153|  816.22|\n",
      "|2014-08-25|FwUQABFXAAgTkw==|          201806|     TOB153| 1147.54|\n",
      "|2014-08-25|FwUQABFXAAgTkw==|          201808|     TOB153| 1147.54|\n",
      "|2014-08-25|FwUQABFXAAgTkw==|          201805|     TOB153| 1147.54|\n",
      "|2014-08-25|FwUQABFXAAgTkw==|          201807|     TOB153| 1147.54|\n",
      "|2013-12-23|FBEhBlYkABAQEQ==|          201807|     TOB155|  811.00|\n",
      "|2013-12-23|FBEhBlYkABAQEQ==|          201805|     TOB155|  811.00|\n",
      "|2013-12-23|FBEhBlYkABAQEQ==|          201808|     TOB153|  375.78|\n",
      "|2013-12-23|FBEhBlYkABAQEQ==|          201808|     TOB155|  811.00|\n",
      "|2013-12-23|FBEhBlYkABAQEQ==|          201807|     TOB153|  375.78|\n",
      "|2013-12-23|FBEhBlYkABAQEQ==|          201806|     TOB153|  375.78|\n",
      "|2013-12-23|FBEhBlYkABAQEQ==|          201805|     TOB153|  375.78|\n",
      "|2013-12-23|FBEhBlYkABAQEQ==|          201806|     TOB155|  811.00|\n",
      "|2013-11-17|FxAYABURAABYBw==|          201808|     TOB153|  530.50|\n",
      "|2013-11-17|FxAYABURAABYBw==|          201807|     TOB153|  530.50|\n",
      "|2013-11-17|FxAYABURAABYBw==|          201805|     TOB153|  530.50|\n",
      "|2013-11-17|FxAYABURAABYBw==|          201806|     TOB153|  530.50|\n",
      "|2013-04-10|FgIlABE5AANzKA==|          201808|     TOB153|    1.23|\n",
      "|2013-04-10|FgIlABE5AANzKA==|          201807|     TOB153|    1.23|\n",
      "|2013-04-10|FgIlABE5AANzKA==|          201805|     TOB153|    1.23|\n",
      "|2013-04-10|FgIlABE5AANzKA==|          201806|     TOB153|    1.23|\n",
      "|2012-11-25|EwMiABMGAANlkQ==|          201806|     TOB153| 1147.54|\n",
      "|2012-11-25|EwMiABMGAANlkQ==|          201808|     TOB153| 1147.54|\n",
      "|2012-11-25|EwMiABMGAANlkQ==|          201805|     TOB153| 1147.54|\n",
      "|2012-11-25|EwMiABMGAANlkQ==|          201807|     TOB153| 1147.54|\n",
      "|2011-09-16|EgMDABFWAAB1MA==|          201808|     TOB153|  200.00|\n",
      "|2011-05-14|EgICABE2AAE2Fg==|          201806|     TOB153|14800.00|\n",
      "|2011-05-14|EgICABE2AAE2Fg==|          201808|     TOB153| 2500.00|\n",
      "|2011-05-14|EgICABE2AAE2Fg==|          201805|     TOB153|13200.00|\n",
      "|2011-02-26|FhEpABFRAAEDAg==|          201805|     TOB153|  165.55|\n",
      "|2011-02-26|FhEpABFRAAEDAg==|          201808|     TOB153|  165.55|\n",
      "|2011-02-26|FhEpABFRAAEDAg==|          201806|     TOB153|  165.55|\n",
      "|2011-02-26|FhEpABFRAAEDAg==|          201807|     TOB153|  165.55|\n",
      "|2011-02-22|FxAgABEkAAE0lQ==|          201808|     TOB153|  308.69|\n",
      "|2011-02-22|FxAgABEkAAE0lQ==|          201806|     TOB153|  308.69|\n",
      "|2011-02-22|FxAgABEkAAE0lQ==|          201807|     TOB153|  308.69|\n",
      "|2011-02-22|FxAgABEkAAE0lQ==|          201805|     TOB153|  308.69|\n",
      "|2010-10-23|EBEDABJFAAIQZw==|          201808|     TOB153|  999.00|\n",
      "|2010-08-30|FAMUABElAACTQQ==|          201805|     TOB153|  229.00|\n",
      "|2010-08-30|FAMUABElAACTQQ==|          201808|     TOB153|  229.00|\n",
      "|2010-08-30|FAMUABElAACTQQ==|          201807|     TOB153|  229.00|\n",
      "|2010-08-30|FAMUABElAACTQQ==|          201806|     TOB153|  229.00|\n",
      "|2010-06-26|FBAhABIGAAB1CQ==|          201805|     TOB153| 1421.09|\n",
      "|2010-06-26|FBAhABIGAAB1CQ==|          201806|     TOB153| 1421.09|\n",
      "|2010-06-26|FBAhABIGAAB1CQ==|          201807|     TOB153| 1421.09|\n",
      "|2010-06-26|FBAhABIGAAB1CQ==|          201808|     TOB153| 1421.09|\n",
      "|2009-12-18|EAckABFSAAEDRQ==|          201805|     TOB153|  206.60|\n",
      "|2009-12-18|EAckABFSAAEDRQ==|          201807|     TOB153|  206.60|\n",
      "|2009-12-18|EAckABFSAAEDRQ==|          201806|     TOB153|  206.60|\n",
      "|2009-12-18|EAckABFSAAEDRQ==|          201808|     TOB153|  206.60|\n",
      "|2009-11-30|FQUoABQAAASVdg==|          201807|     TOB155| 1403.00|\n",
      "|2009-11-30|FQUoABQAAASVdg==|          201806|     TOB390|  112.00|\n",
      "|2009-11-30|FQUoABQAAASVdg==|          201807|     TOB390|  112.00|\n",
      "|2009-11-30|FQUoABQAAASVdg==|          201808|     TOB153|  298.00|\n",
      "|2009-11-30|FQUoABQAAASVdg==|          201806|     TOB155| 1403.00|\n",
      "|2009-11-30|FQUoABQAAASVdg==|          201808|     TOB390|  112.00|\n",
      "|2009-11-30|FQUoABQAAASVdg==|          201808|     TOB155| 1403.00|\n",
      "|2009-11-30|FQUoABQAAASVdg==|          201807|     TOB153|  298.00|\n",
      "|2009-11-30|FQUoABQAAASVdg==|          201805|     TOB390|  112.00|\n",
      "|2009-11-30|FQUoABQAAASVdg==|          201806|     TOB153|  298.00|\n",
      "|2009-11-30|FQUoABQAAASVdg==|          201805|     TOB153|  298.00|\n",
      "|2009-11-30|FQUoABQAAASVdg==|          201805|     TOB155| 1403.00|\n",
      "|2009-09-29|CREZBzIzAAFJgw==|          201807|     TOB153|  110.06|\n",
      "|2009-09-29|CREZBzIzAAFJgw==|          201806|     TOB153|  110.06|\n",
      "|2009-09-29|CREZBzIzAAFJgw==|          201808|     TOB153|  110.06|\n",
      "|2009-09-29|CREZBzIzAAFJgw==|          201805|     TOB153|  110.06|\n",
      "|2009-08-29|EAkhABJDAAByJw==|          201806|     TOB153|13960.00|\n",
      "|2009-08-29|EAkhABJDAAByJw==|          201808|     TOB153|13960.00|\n",
      "|2009-08-29|EAkhABJDAAByJw==|          201805|     TOB153|13960.00|\n",
      "|2009-08-29|EAkhABJDAAByJw==|          201807|     TOB153|13960.00|\n",
      "|2009-06-09|EAUhABMWAAOGmA==|          201808|     TOB153|  686.37|\n",
      "|2009-06-09|EAUhABMWAAOGmA==|          201807|     TOB153|  686.37|\n",
      "|2009-06-09|EAUhABMWAAOGmA==|          201805|     TOB153|  686.37|\n",
      "|2009-06-09|EAUhABMWAAOGmA==|          201806|     TOB153|  686.37|\n",
      "|2009-04-07|CQkDAzIpAACClA==|          201806|     TOB153| 2426.97|\n",
      "|2009-04-07|CQkDAzIpAACClA==|          201805|     TOB153| 2426.97|\n",
      "|2009-04-07|CQkDAzIpAACClA==|          201808|     TOB153| 2426.97|\n",
      "|2009-04-07|CQkDAzIpAACClA==|          201807|     TOB153| 2426.97|\n",
      "|2009-03-12|CRAJATlFAAmIVw==|          201808|     TOB153|  200.00|\n",
      "|2009-03-12|CRAJATlFAAmIVw==|          201806|     TOB153|  900.00|\n",
      "|2009-01-22|FxIZADhHAAFJlg==|          201806|     TOB153|  744.71|\n",
      "|2009-01-22|FxIZADhHAAFJlg==|          201805|     TOB153|  744.71|\n",
      "|2009-01-22|FxIZADhHAAFJlg==|          201807|     TOB153|  744.71|\n",
      "|2009-01-22|FxIZADhHAAFJlg==|          201808|     TOB153|  744.71|\n",
      "+----------+----------------+----------------+-----------+--------+\n",
      "only showing top 100 rows\n",
      "\n"
     ]
    }
   ],
   "source": [
    "TOB_income.select(\"birthdate\", \"partygenid\", \"transactionmonth\",\"transtypecd\",\"amount\").orderBy(F.desc(\"birthdate\")).show(100)"
   ]
  },
  {
   "cell_type": "code",
   "execution_count": 362,
   "metadata": {
    "collapsed": false
   },
   "outputs": [
    {
     "data": {
      "text/plain": [
       "['partygenid', 'transactionmonth', 'transtypecd', 'sum_income', 'count_income']"
      ]
     },
     "execution_count": 362,
     "metadata": {},
     "output_type": "execute_result"
    }
   ],
   "source": [
    "Income=TOB_income.groupby(\"partygenid\", \"transactionmonth\", \"transtypecd\")\\\n",
    "             .agg(F.sum(F.col(\"amount\")), F.count(F.col(\"amount\")))\\\n",
    "             .withColumn('sum_income', F.col(\"sum(amount)\"))\\\n",
    "             .withColumn('count_income', F.col(\"count(amount)\"))\\\n",
    "             .drop('sum(amount)','count(amount)')\\\n",
    "             .orderBy(\"partygenid\", \"transactionmonth\", \"transtypecd\")\n",
    "Income.columns"
   ]
  },
  {
   "cell_type": "markdown",
   "metadata": {},
   "source": [
    "### 2. Look at cost source"
   ]
  },
  {
   "cell_type": "code",
   "execution_count": 498,
   "metadata": {
    "collapsed": true
   },
   "outputs": [],
   "source": [
    "#cost_list=[\"TOB364\", \"TOB486\", \"TOB522\", \"TOB549\", \"TOB550\", \"TOB551\", \"TOB555\", \"TOB563\", \"TOB801\",\n",
    "#\"TOB366\", \"TOB571\", \"TOB573\", \n",
    "#\"TOB261\", \"TOB602\",\n",
    "#\"TOB349\", \"TOB353\", \"TOB663\", \"TOB665\", \"TOB255\", \"TOB256\", \n",
    "#\"TOB852\", \"TOB873\", \n",
    "#\"TOB583\", \"TOB584\"]\n",
    "\n",
    "#TOB364\tBankomatuttag\tcost\n",
    "#TOB486\tAutogiro\tcost\n",
    "#TOB522\tUttag\tcost\n",
    "#TOB549\tGirobetalning\tcost\n",
    "#TOB550\tPG-BET. VIA INTERNET\t cost \n",
    "#TOB551\tBG-BET. VIA INTERNET\tcost\n",
    "#TOB555\tDirektbetalning\tcost\n",
    "#TOB563\tDebiteringsavgift\tcost\n",
    "#TOB801\tÃ–verfÃ¶ring lÃ¥n\tcost\n",
    "\n",
    "#TOB366\tInsÃ¤ttningsautomat\t seems like something related to atm machine, the opposite of Bankomatuttag \n",
    "#TOB571\tBankgiro inbetalning\tnet cost\n",
    "#TOB573\tAutogiro Inbetalning\t net cost \n",
    "\n",
    "#TOB261\tKONTOKÃ–P KORT\t in and out \n",
    "#TOB605\tSWEDBANK FÃ–RSÃ„KRING AB\t in and out \n",
    "\n",
    "#TOB349\tSwish p to c\n",
    "#TOB353\tSwish retur return money\n",
    "#TOB663\tSwish\n",
    "#TOB665\tSwish retur\n",
    "#TOB255\tSWISH MOTTAGEN p to p\n",
    "#TOB256\tSWISH SKICKAD p to p\n",
    "\n",
    "#TOB852 Europabetalning UT\n",
    "#TOB873 Europabetalning IN\n",
    "\n",
    "#TOB583\tAVSLUT FASTRÃ„NTEKONTO\n",
    "#TOB584\tAVSLUT FASTRÃ„NTEKONTO\n",
    "\n",
    "TOB_cost=spark.sql('select * from ddp_steer.p901cyo_trx_sample_201805_201808 where transtypecd in ( \\\n",
    "                   \"TOB364\", \"TOB486\", \"TOB522\", \"TOB549\", \"TOB550\", \"TOB551\", \"TOB555\", \"TOB563\", \"TOB801\", \\\n",
    "\"TOB366\", \"TOB571\", \"TOB573\",  \\\n",
    "\"TOB261\", \"TOB602\", \\\n",
    "\"TOB349\", \"TOB353\", \"TOB663\", \"TOB665\", \"TOB255\", \"TOB256\", \\\n",
    "\"TOB873\", \"TOB852\", \\\n",
    "\"TOB583\", \"TOB584\")\\\n",
    "sort by partygenid, transactiondate')\\\n",
    "                .withColumn('count', F.lit(1))"
   ]
  },
  {
   "cell_type": "code",
   "execution_count": 369,
   "metadata": {
    "collapsed": true
   },
   "outputs": [
    {
     "data": {
      "text/plain": [
       "['partygenid', 'transactionmonth', 'transtypecd', 'sum_cost', 'count_cost']"
      ]
     },
     "execution_count": 369,
     "metadata": {},
     "output_type": "execute_result"
    }
   ],
   "source": [
    "cost=TOB_cost.filter((F.col(\"transtypecd\")!= \"TOB571\") & (F.col(\"transtypecd\")!= \"TOB573\"))\\\n",
    "             .groupby(\"partygenid\", \"transactionmonth\", \"transtypecd\")\\\n",
    "             .agg(F.sum(F.col(\"amount\")), F.count(F.col(\"amount\")))\\\n",
    "             .withColumn('sum_cost', F.col(\"sum(amount)\"))\\\n",
    "             .withColumn('count_cost', F.col(\"count(amount)\"))\\\n",
    "             .drop('sum(amount)','count(amount)')\\\n",
    "             .orderBy(\"partygenid\", \"transactionmonth\", \"transtypecd\")\n",
    "cost.columns"
   ]
  },
  {
   "cell_type": "code",
   "execution_count": 370,
   "metadata": {
    "collapsed": false
   },
   "outputs": [
    {
     "data": {
      "text/plain": [
       "['partygenid',\n",
       " 'transactionmonth',\n",
       " 'transtypecd',\n",
       " 'sum_cost_net',\n",
       " 'count_cost_net']"
      ]
     },
     "execution_count": 370,
     "metadata": {},
     "output_type": "execute_result"
    }
   ],
   "source": [
    "#transaction types which will net the cost\n",
    "cost_net=TOB_cost.filter((F.col(\"transtypecd\")== \"TOB571\") | (F.col(\"transtypecd\")== \"TOB573\"))\\\n",
    "             .groupby(\"partygenid\", \"transactionmonth\", \"transtypecd\")\\\n",
    "             .agg(F.sum(F.col(\"amount\")), F.count(F.col(\"amount\")))\\\n",
    "             .withColumn('sum_cost_net', F.col(\"sum(amount)\"))\\\n",
    "             .withColumn('count_cost_net', F.col(\"count(amount)\"))\\\n",
    "             .drop('sum(amount)','count(amount)')\\\n",
    "             .orderBy(\"partygenid\", \"transactionmonth\", \"transtypecd\")\n",
    "cost_net.columns"
   ]
  },
  {
   "cell_type": "markdown",
   "metadata": {},
   "source": [
    "#### detail look into Swish: basically just need to get a net result from Swish, then add into the overal economy. put all the swish transaction types into cost side for now"
   ]
  },
  {
   "cell_type": "code",
   "execution_count": 379,
   "metadata": {
    "collapsed": true
   },
   "outputs": [
    {
     "data": {
      "text/plain": [
       "['partygenid',\n",
       " 'transactionmonth',\n",
       " 'sum_cost_swish',\n",
       " 'count_cost_swish',\n",
       " 'transtypecd']"
      ]
     },
     "execution_count": 379,
     "metadata": {},
     "output_type": "execute_result"
    }
   ],
   "source": [
    "Swish=spark.sql('select * from ddp_steer.p901cyo_trx_sample_201805_201808 where transtypecd in (\"TOB255\", \"TOB348\", \"TOB665\", \"TOB664\", \"TOB256\", \"TOB663\", \"TOB349\", \"TOB353\") sort by partygenid, transactiondate')\\\n",
    "                .withColumn('count', F.lit(1))\\\n",
    "                .groupby(\"partygenid\", \"transactionmonth\")\\\n",
    "                .agg(F.sum(F.col(\"amount\")), F.count(F.col(\"amount\")))\\\n",
    "                .withColumn('sum_cost_swish', F.col(\"sum(amount)\"))\\\n",
    "                .withColumn('count_cost_swish', F.col(\"count(amount)\"))\\\n",
    "                .select('partygenid', 'transactionmonth', 'sum_cost_swish','count_cost_swish')\\\n",
    "                .withColumn('transtypecd', F.lit(\"Swish\"))\\\n",
    "                .orderBy(\"partygenid\", \"transactionmonth\")\n",
    "Swish.columns"
   ]
  },
  {
   "cell_type": "markdown",
   "metadata": {},
   "source": [
    "#### detail look into Europabetalning\n",
    "##### seems that mainly old people use this method?"
   ]
  },
  {
   "cell_type": "code",
   "execution_count": 501,
   "metadata": {
    "collapsed": false
   },
   "outputs": [],
   "source": [
    "Europa=sql('select * from ddp_steer.p901cyo_trx_sample_201805_201808 where upper(transactiontype) like \"%EUROPA%\" sort by partygenid, transactiondate')\\\n",
    "                .withColumn('count', F.lit(1))"
   ]
  },
  {
   "cell_type": "code",
   "execution_count": 512,
   "metadata": {
    "collapsed": true
   },
   "outputs": [
    {
     "name": "stdout",
     "output_type": "stream",
     "text": [
      "+-----------+--------------------+----------------+-----+\n",
      "|transtypecd|     transactiontype|accountingtypecd|count|\n",
      "+-----------+--------------------+----------------+-----+\n",
      "|     TOB873|     Europabetalning|             IN |48281|\n",
      "|     TOB852|     Europabetalning|             UT |19959|\n",
      "|     TOB853|    Europabet urgent|             UT |  343|\n",
      "|    ATL0873|EUROPABETALNING  ...|             IN |  102|\n",
      "|    ATL0852|EUROPABETALNING  ...|             UT |   95|\n",
      "|     TOB852|     Europabetalning|             IN |   34|\n",
      "|     TOB833|     Europabetalning|             IN |    3|\n",
      "+-----------+--------------------+----------------+-----+\n",
      "\n"
     ]
    }
   ],
   "source": [
    "Europa.groupby(\"transtypecd\",\"transactiontype\", \"accountingtypecd\").count().sort(F.desc(\"count\")).show()"
   ]
  },
  {
   "cell_type": "code",
   "execution_count": 517,
   "metadata": {
    "collapsed": true
   },
   "outputs": [],
   "source": [
    "age_histogram = Europa.select('age').rdd.flatMap(lambda x: x).histogram(11)"
   ]
  },
  {
   "cell_type": "code",
   "execution_count": 518,
   "metadata": {
    "collapsed": false
   },
   "outputs": [
    {
     "data": {
      "image/png": "[encoded data removed]",
      "text/plain": [
       "<matplotlib.figure.Figure at 0x7f1662f3fad0>"
      ]
     },
     "metadata": {},
     "output_type": "display_data"
    }
   ],
   "source": [
    "pd.DataFrame(\n",
    "    list(zip(*age_histogram)), \n",
    "    columns=['bin', 'frequency']\n",
    ").set_index(\n",
    "    'bin'\n",
    ").plot(kind='bar')\n",
    "plt.show()"
   ]
  },
  {
   "cell_type": "markdown",
   "metadata": {},
   "source": [
    "#### detail look into avslut fasträntekonton"
   ]
  },
  {
   "cell_type": "code",
   "execution_count": 528,
   "metadata": {
    "collapsed": true
   },
   "outputs": [
    {
     "name": "stdout",
     "output_type": "stream",
     "text": [
      "+--------------------+-----------+----------------+-----+\n",
      "|     transactiontype|transtypecd|accountingtypecd|count|\n",
      "+--------------------+-----------+----------------+-----+\n",
      "|AVSLUT FASTRÄNTEK...|     TOB584|             UT | 2154|\n",
      "|RÄTTNING / AVSLUT...|     TOB795|             IN |   22|\n",
      "|              Avslut|     TOB399|             UT | 3124|\n",
      "|Avslutningsdifferens|     TOB200|             IN |  167|\n",
      "|AVSLUT FASTRÄNTEK...|     TOB583|             IN | 2220|\n",
      "|              Avslut|     TOB399|             IN |    7|\n",
      "|Avslutningsdifferens|     TOB200|             UT |   68|\n",
      "+--------------------+-----------+----------------+-----+\n",
      "\n"
     ]
    }
   ],
   "source": [
    "sql('select * from ddp_steer.p901cyo_trx_sample_201805_201808 where upper(transactiontype) like \"%AVSLUT%\" sort by partygenid, transactiondate')\\\n",
    "                .withColumn('count', F.lit(1)).groupby(\"transactiontype\",\"transtypecd\",\"accountingtypecd\").count().show()"
   ]
  },
  {
   "cell_type": "markdown",
   "metadata": {},
   "source": [
    "#### detail look into ISK\n",
    "##### Suggest not to consider any ISK related transaction due to the fact that in/ut from ISK account are not really related to income and cost. losing money on the ISK won't incur extra cost and wining money on the ISK can bring extra income but uncertain income. utdelning has been considered in the income at this stage, however, maybe it shouldn't as it is not a certain income in a sense."
   ]
  },
  {
   "cell_type": "code",
   "execution_count": 513,
   "metadata": {
    "collapsed": true
   },
   "outputs": [],
   "source": [
    "ISK=sql('select * from ddp_steer.p901cyo_trx_sample_201805_201808 where upper(transactiontype) like \"%ISK%\" sort by partygenid, transactiondate')\\\n",
    "                .withColumn('count', F.lit(1))"
   ]
  },
  {
   "cell_type": "code",
   "execution_count": 514,
   "metadata": {
    "collapsed": true
   },
   "outputs": [
    {
     "name": "stdout",
     "output_type": "stream",
     "text": [
      "+--------------------+-----------+----------------+------+\n",
      "|     transactiontype|transtypecd|accountingtypecd| count|\n",
      "+--------------------+-----------+----------------+------+\n",
      "|      ISK INSÄTTNING|     TOB430|             IN |245492|\n",
      "|      ISK INSÄTTNING|     TOB430|             UT |     5|\n",
      "|           ISK UTTAG|     TOB431|             UT | 36863|\n",
      "|ISK flytt egen extut|     TOB436|             UT |    64|\n",
      "|ISK flytt egna extin|     TOB435|             IN |    91|\n",
      "|ISK flytt egna in...|     TOB434|             IN |     7|\n",
      "|ISK flytt egna in...|     TOB434|             UT |     7|\n",
      "|  ISK från annans in|     TOB438|             IN |    13|\n",
      "|     ISK omplacering|     TOB432|             UT |402793|\n",
      "|     ISK omplacering|     TOB432|             IN | 26876|\n",
      "|  ISK till annans ut|     TOB439|             UT |     3|\n",
      "+--------------------+-----------+----------------+------+\n",
      "\n"
     ]
    }
   ],
   "source": [
    "ISK.groupby(\"transactiontype\", \"transtypecd\", \"accountingtypecd\").count().orderBy(\"transactiontype\", \"transtypecd\").show()"
   ]
  },
  {
   "cell_type": "code",
   "execution_count": 526,
   "metadata": {
    "collapsed": true
   },
   "outputs": [],
   "source": [
    "age_histogram = ISK.select('age').rdd.flatMap(lambda x: x).histogram(11)"
   ]
  },
  {
   "cell_type": "code",
   "execution_count": 525,
   "metadata": {
    "collapsed": true
   },
   "outputs": [
    {
     "data": {
      "text/plain": [
       "([7.0,\n",
       "  15.363636363636363,\n",
       "  23.727272727272727,\n",
       "  32.09090909090909,\n",
       "  40.45454545454545,\n",
       "  48.81818181818181,\n",
       "  57.18181818181818,\n",
       "  65.54545454545455,\n",
       "  73.9090909090909,\n",
       "  82.27272727272727,\n",
       "  90.63636363636363,\n",
       "  99],\n",
       " [321, 16013, 76922, 107155, 133454, 145371, 109331, 97249, 23738, 2425, 235])"
      ]
     },
     "execution_count": 525,
     "metadata": {},
     "output_type": "execute_result"
    }
   ],
   "source": [
    "age_histogram"
   ]
  },
  {
   "cell_type": "code",
   "execution_count": 520,
   "metadata": {
    "collapsed": false
   },
   "outputs": [
    {
     "data": {
      "image/png": "[encoded data removed]",
      "text/plain": [
       "<matplotlib.figure.Figure at 0x7f1663032610>"
      ]
     },
     "metadata": {},
     "output_type": "display_data"
    }
   ],
   "source": [
    "pd.DataFrame(\n",
    "    list(zip(*age_histogram)), \n",
    "    columns=['bin', 'frequency']\n",
    ").set_index(\n",
    "    'bin'\n",
    ").plot(kind='bar')\n",
    "plt.show()"
   ]
  },
  {
   "cell_type": "markdown",
   "metadata": {},
   "source": [
    "### 3. transfering"
   ]
  },
  {
   "cell_type": "code",
   "execution_count": null,
   "metadata": {
    "collapsed": true
   },
   "outputs": [],
   "source": [
    "#TOB050\tÃ–verfÃ¶ring\n",
    "#TOB104\tBANK VIA TELEFON\n",
    "#TOB490\tÃ–verfÃ¶ring via telefon \n",
    "#TOB552\tÃ–verfÃ¶ring via Internet\n",
    "#TOB553\tEgen Ã¶verfÃ¶ring\n",
    "\n"
   ]
  },
  {
   "cell_type": "markdown",
   "metadata": {},
   "source": [
    "#### in the transfering type of transactions it can be self transfer or transfer to others, need to be able to identify only the transfer to others, as those are the actual costs. also needs to identify only the transfer from the others, as those are the actual inflows. \n",
    "##### (1) try to identify relationships with the transactions that can cancel each other"
   ]
  },
  {
   "cell_type": "code",
   "execution_count": 6,
   "metadata": {
    "collapsed": false
   },
   "outputs": [],
   "source": [
    "#remove for sure income, cost transaction types\n",
    "trx_sample=spark.sql('select * from ddp_steer.p901cyo_trx_sample_201805_201808 \\\n",
    "where (round(amount,2)>0 or round(amount,2)<0 ) and \\\n",
    "transtypecd not in (\"TOB153\", \"TOB155\", \"TOB390\", \"TOB407\", \"TOB452\", \"TOB500\", \"TOB588\", \"TOB954\", \\\n",
    "\"TOB218\", \"TOB287\", \"TOB409\", \"TOB946\", \\\n",
    "\"TOB335\", \"TOB625\", \"TOB707\", \\\n",
    "\"TOB364\", \"TOB486\", \"TOB522\", \"TOB549\", \"TOB550\", \"TOB551\", \"TOB555\", \"TOB563\", \"TOB801\", \\\n",
    "\"TOB366\", \"TOB571\", \"TOB573\",  \\\n",
    "\"TOB261\", \"TOB602\", \\\n",
    "\"TOB349\", \"TOB353\", \"TOB663\", \"TOB665\", \"TOB255\", \"TOB256\", \\\n",
    "\"TOB873\", \"TOB852\", \\\n",
    "\"TOB583\", \"TOB584\") \\\n",
    "sort by partygenid, transactiondate ')\\\n",
    "                .withColumn(\"abs_amt\", F.abs(F.col(\"amount\")))"
   ]
  },
  {
   "cell_type": "code",
   "execution_count": 65,
   "metadata": {
    "collapsed": false
   },
   "outputs": [
    {
     "data": {
      "text/plain": [
       "<bound method DataFrame.printSchema of DataFrame[partygenid: string, primaryaccountholder: binary, agreementgenid: int, productgenid: binary, transtypecd: string, transactiondate: date, accountingtypecd: string, channeltypecd: string, amount: decimal(18,2), bankid: int, secaccounttypecd: string, secclearingnum: decimal(5,0), secaccountnum: string, secagreementgenid: int, secpartygenid: string, secproductgenid: binary, channelgenid: int, transactiongenid: int, systemsourcecd: string, identificationmethodcd: string, paymentroutinecd: string, secbic: string, clearingnum: decimal(5,0), cardtransactionchannelcd: string, transactioninfo: string, kanalgenid: string, transactionmonth: int, transactiontype: string, transactiongroupcd: string, transactiongroup: string, birthdate: date, age: int, gender: string, customerstartdate: string, abs_amt: decimal(18,2)]>"
      ]
     },
     "execution_count": 65,
     "metadata": {},
     "output_type": "execute_result"
    }
   ],
   "source": [
    "trx_sample.printSchema"
   ]
  },
  {
   "cell_type": "code",
   "execution_count": 7,
   "metadata": {
    "collapsed": true
   },
   "outputs": [],
   "source": [
    "# assume all the transactions among the swedbank accounts will have the same transtypecd but with different direction of the amount.\n",
    "trx_sample_1=trx_sample.orderBy(\"partygenid\", \"transactiondate\", \"transtypecd\", \"abs_amt\", \"amount\")"
   ]
  },
  {
   "cell_type": "code",
   "execution_count": 8,
   "metadata": {
    "collapsed": true
   },
   "outputs": [
    {
     "name": "stdout",
     "output_type": "stream",
     "text": [
      "+----------------+--------------------+--------------+--------------------+-----------+---------------+----------------+-------------+---------+------+----------------+--------------+-------------+-----------------+----------------+--------------------+------------+----------------+--------------+----------------------+----------------+------+-----------+------------------------+---------------+-------------+----------------+--------------------+------------------+--------------------+----------+---+------+-----------------+--------+\n",
      "|      partygenid|primaryaccountholder|agreementgenid|        productgenid|transtypecd|transactiondate|accountingtypecd|channeltypecd|   amount|bankid|secaccounttypecd|secclearingnum|secaccountnum|secagreementgenid|   secpartygenid|     secproductgenid|channelgenid|transactiongenid|systemsourcecd|identificationmethodcd|paymentroutinecd|secbic|clearingnum|cardtransactionchannelcd|transactioninfo|   kanalgenid|transactionmonth|     transactiontype|transactiongroupcd|    transactiongroup| birthdate|age|gender|customerstartdate| abs_amt|\n",
      "+----------------+--------------------+--------------+--------------------+-----------+---------------+----------------+-------------+---------+------+----------------+--------------+-------------+-----------------+----------------+--------------------+------------+----------------+--------------+----------------------+----------------+------+-----------+------------------------+---------------+-------------+----------------+--------------------+------------------+--------------------+----------+---+------+-----------------+--------+\n",
      "|++2xsgKHSs0AAA==|[FB ED B1 B2 02 8...|     171043684|[20 05 05 01 00 0...|     TOB050|     2018-05-09|             IN |          INT| 11500.00|  8999|            null|          null|         null|        171391196|BQYnCVcWAAEiNQ==|[20 04 10 01 00 0...|          39|       129929891|           GRK|                  null|            null|  null|      84806|                    null|     Normaskott|   INT8480969|          201805|          Överföring|               EJR|Ej relevant för d...|1974-05-07| 44|     M|       1998-03-21|11500.00|\n",
      "|++2xsgKHSs0AAA==|[FB ED B1 B2 02 8...|     171043684|[20 05 05 01 00 0...|     TOB382|     2018-07-16|             UT |          ATM|  -300.00|  8999|            null|          null|         null|             null|++2xsgKHSs0AAA==|                  []|         315|       164737035|           GRK|                  null|            null|  null|      88500|                     AAB|          58438|      ATM8850|          201807|        AUTOMATUTTAG|               EJR|Ej relevant för d...|1974-05-07| 44|     M|       1998-03-21|  300.00|\n",
      "|++2xsgKHSs0AAA==|[FB ED B1 B2 02 8...|     171043684|[20 05 05 01 00 0...|     TOB552|     2018-07-26|             UT |          INT|-50000.00|  8999|            null|          null|         null|        171223870|++2xsgKHSs0AAA==|[20 05 12 01 00 2...|          39|       238964906|           GRK|                  null|            null|  null|      84806|                    null|848069046592268|   INT8480969|          201807|Överföring via In...|               EJR|Ej relevant för d...|1974-05-07| 44|     M|       1998-03-21|50000.00|\n",
      "|++2xsgKHSs0AAA==|[FB ED B1 B2 02 8...|     171223870|[20 05 12 01 00 2...|     TOB552|     2018-07-26|             IN |          INT| 50000.00|  8999|            null|          null|         null|        171043684|++2xsgKHSs0AAA==|[20 05 05 01 00 0...|          39|       239025865|           GRK|                  null|            null|  null|      84806|                    null|    71672801265|   INT8480969|          201807|Överföring via In...|               EJR|Ej relevant för d...|1974-05-07| 44|     M|       1998-03-21|50000.00|\n",
      "|++2xsgKHSs0AAA==|[FB ED B1 B2 02 8...|     171043684|[20 05 05 01 00 0...|     TOB050|     2018-08-13|             IN |          OVR|  3750.00|  8999|            null|          null|         null|        171391196|0Su6PInHwSEAAA==|[20 04 10 01 00 0...|         167|       134465704|           GRK|                  null|            null|  null|      84806|                    null|     Förs. Norm|OVR0508480972|          201808|          Överföring|               EJR|Ej relevant för d...|1974-05-07| 44|     M|       1998-03-21| 3750.00|\n",
      "+----------------+--------------------+--------------+--------------------+-----------+---------------+----------------+-------------+---------+------+----------------+--------------+-------------+-----------------+----------------+--------------------+------------+----------------+--------------+----------------------+----------------+------+-----------+------------------------+---------------+-------------+----------------+--------------------+------------------+--------------------+----------+---+------+-----------------+--------+\n",
      "only showing top 5 rows\n",
      "\n"
     ]
    }
   ],
   "source": [
    "trx_sample_1.show(5)"
   ]
  },
  {
   "cell_type": "code",
   "execution_count": 304,
   "metadata": {
    "collapsed": true
   },
   "outputs": [],
   "source": [
    "trx_sample_pd=trx_sample_1.toPandas()"
   ]
  },
  {
   "cell_type": "code",
   "execution_count": 305,
   "metadata": {
    "collapsed": true
   },
   "outputs": [],
   "source": [
    "trx_sample_pd.to_csv(os.path.join('~/repos', 'trx_sample' + '.csv'), encoding='utf-8')"
   ]
  },
  {
   "cell_type": "code",
   "execution_count": 133,
   "metadata": {
    "collapsed": true
   },
   "outputs": [
    {
     "name": "stdout",
     "output_type": "stream",
     "text": [
      "CPU times: user 2 µs, sys: 1 µs, total: 3 µs\n",
      "Wall time: 5.01 µs\n"
     ]
    },
    {
     "data": {
      "text/plain": [
       "10000"
      ]
     },
     "execution_count": 133,
     "metadata": {},
     "output_type": "execute_result"
    }
   ],
   "source": [
    "%time\n",
    "trx_sample.count()"
   ]
  },
  {
   "cell_type": "code",
   "execution_count": 9,
   "metadata": {
    "collapsed": false
   },
   "outputs": [],
   "source": [
    "from pyspark.sql.window import Window"
   ]
  },
  {
   "cell_type": "code",
   "execution_count": 10,
   "metadata": {
    "collapsed": false
   },
   "outputs": [],
   "source": [
    "trx_window = Window.partitionBy(\"partygenid\").orderBy(\"transactiondate\")"
   ]
  },
  {
   "cell_type": "code",
   "execution_count": 11,
   "metadata": {
    "collapsed": true
   },
   "outputs": [],
   "source": [
    "trx_window_2 = Window.partitionBy(\"partygenid\").orderBy(\"partygenid\")"
   ]
  },
  {
   "cell_type": "code",
   "execution_count": 12,
   "metadata": {
    "collapsed": true
   },
   "outputs": [],
   "source": [
    "# working with sorted trx_sample_1\n",
    "# map transactions with opposite directions among same type of accounts\n",
    "trx_sample_adj=trx_sample_1\\\n",
    "                         .withColumn(\"lag_id\", F.lag(trx_sample_1.partygenid).over(trx_window))\\\n",
    "                         .withColumn(\"lag_amt\",F.lag(trx_sample_1.amount).over(trx_window))\\\n",
    "                         .withColumn(\"lag_date\", F.lag(trx_sample_1.transactiondate).over(trx_window_2))\\\n",
    "                         .withColumn(\"check\", F.when((trx_sample_1.partygenid==F.lag(trx_sample_1.partygenid).over(trx_window)) & \\\n",
    "                        (trx_sample_1.amount+F.lag(trx_sample_1.amount).over(trx_window) == 0) & \\\n",
    "                        (trx_sample_1.transactiondate==F.lag(trx_sample_1.transactiondate).over(trx_window_2)) & \\\n",
    "                         (trx_sample_1.transtypecd==F.lag(trx_sample_1.transtypecd).over(trx_window_2)),1).otherwise(0))\\\n",
    "                        .withColumn(\"check_2\", F.when((trx_sample_1.partygenid==F.lead(trx_sample_1.partygenid).over(trx_window)) & \\\n",
    "                        (trx_sample_1.amount+F.lead(trx_sample_1.amount).over(trx_window) == 0) & \\\n",
    "                        (trx_sample_1.transactiondate==F.lead(trx_sample_1.transactiondate).over(trx_window_2)) & \\\n",
    "                        (trx_sample_1.transtypecd==F.lead(trx_sample_1.transtypecd).over(trx_window_2)),1).otherwise(0))\\\n",
    "                        .withColumn(\"sum_check\", F.col(\"check\")+F.col(\"check_2\"))\\\n",
    "                        .drop(\"check\", \"check_2\")\n",
    "#trx_sample_adj.columns"
   ]
  },
  {
   "cell_type": "code",
   "execution_count": 139,
   "metadata": {
    "collapsed": true
   },
   "outputs": [
    {
     "name": "stdout",
     "output_type": "stream",
     "text": [
      "+-----------+-----+\n",
      "|transtypecd|count|\n",
      "+-----------+-----+\n",
      "|     TOB552|  654|\n",
      "|     TOB490|   32|\n",
      "|     TOB050|   20|\n",
      "|     TOB680|    6|\n",
      "|     TOB261|    2|\n",
      "+-----------+-----+\n",
      "\n"
     ]
    }
   ],
   "source": [
    "trx_sample_adj.filter((F.col('check')==1) | (F.col('check_2')==1)).groupby(\"transtypecd\").count().sort(F.desc(\"count\")).show(100)"
   ]
  },
  {
   "cell_type": "code",
   "execution_count": 140,
   "metadata": {
    "collapsed": true
   },
   "outputs": [
    {
     "name": "stdout",
     "output_type": "stream",
     "text": [
      "+----------------+-----------+---------------+---------+--------+---------------+-----+-------+---------+\n",
      "|      partygenid|transtypecd|transactiondate|   amount| abs_amt|secproductgenid|check|check_2|sum_check|\n",
      "+----------------+-----------+---------------+---------+--------+---------------+-----+-------+---------+\n",
      "|+uI3Fc7hlnQAAA==|     TOB490|     2018-07-02| -3000.00| 3000.00|             []|    0|      1|        1|\n",
      "|+uI3Fc7hlnQAAA==|     TOB490|     2018-07-02|  3000.00| 3000.00|             []|    1|      0|        1|\n",
      "|/7zDwId3BN0AAA==|     TOB490|     2018-07-23|-20000.00|20000.00|             []|    0|      1|        1|\n",
      "|/7zDwId3BN0AAA==|     TOB490|     2018-07-23| 20000.00|20000.00|             []|    1|      0|        1|\n",
      "|/WcHN4hfmmcAAA==|     TOB490|     2018-05-04|  2000.00| 2000.00|             []|    0|      0|        0|\n",
      "|/WcHN4hfmmcAAA==|     TOB490|     2018-05-08|   500.00|  500.00|             []|    0|      0|        0|\n",
      "|/WcHN4hfmmcAAA==|     TOB490|     2018-05-09|  2000.00| 2000.00|             []|    0|      0|        0|\n",
      "|/WcHN4hfmmcAAA==|     TOB490|     2018-05-11|  2000.00| 2000.00|             []|    0|      0|        0|\n",
      "|/WcHN4hfmmcAAA==|     TOB490|     2018-05-18|  2000.00| 2000.00|             []|    0|      0|        0|\n",
      "|/WcHN4hfmmcAAA==|     TOB490|     2018-05-20|  1000.00| 1000.00|             []|    0|      0|        0|\n",
      "|/WcHN4hfmmcAAA==|     TOB490|     2018-05-24|  1000.00| 1000.00|             []|    0|      0|        0|\n",
      "|/WcHN4hfmmcAAA==|     TOB490|     2018-06-02|  1000.00| 1000.00|             []|    0|      0|        0|\n",
      "|/WcHN4hfmmcAAA==|     TOB490|     2018-06-04|  1500.00| 1500.00|             []|    0|      0|        0|\n",
      "|/WcHN4hfmmcAAA==|     TOB490|     2018-06-05|  2000.00| 2000.00|             []|    0|      0|        0|\n",
      "|/WcHN4hfmmcAAA==|     TOB490|     2018-06-08|  1500.00| 1500.00|             []|    0|      0|        0|\n",
      "|/WcHN4hfmmcAAA==|     TOB490|     2018-06-08|  2500.00| 2500.00|             []|    0|      0|        0|\n",
      "|/WcHN4hfmmcAAA==|     TOB490|     2018-06-15|  2000.00| 2000.00|             []|    0|      0|        0|\n",
      "|/WcHN4hfmmcAAA==|     TOB490|     2018-06-20|  1500.00| 1500.00|             []|    0|      0|        0|\n",
      "|/WcHN4hfmmcAAA==|     TOB490|     2018-06-21|  2000.00| 2000.00|             []|    0|      0|        0|\n",
      "|/WcHN4hfmmcAAA==|     TOB490|     2018-06-22|   500.00|  500.00|             []|    0|      0|        0|\n",
      "|/WcHN4hfmmcAAA==|     TOB490|     2018-06-23|  1000.00| 1000.00|             []|    0|      0|        0|\n",
      "|/WcHN4hfmmcAAA==|     TOB490|     2018-07-05|  1000.00| 1000.00|             []|    0|      0|        0|\n",
      "|/WcHN4hfmmcAAA==|     TOB490|     2018-07-05|  1000.00| 1000.00|             []|    0|      0|        0|\n",
      "|/WcHN4hfmmcAAA==|     TOB490|     2018-07-06|  1000.00| 1000.00|             []|    0|      0|        0|\n",
      "|/WcHN4hfmmcAAA==|     TOB490|     2018-07-09|  1000.00| 1000.00|             []|    0|      0|        0|\n",
      "|/WcHN4hfmmcAAA==|     TOB490|     2018-07-09|  3000.00| 3000.00|             []|    0|      0|        0|\n",
      "|/WcHN4hfmmcAAA==|     TOB490|     2018-08-05|  2000.00| 2000.00|             []|    0|      0|        0|\n",
      "|/WcHN4hfmmcAAA==|     TOB490|     2018-08-14|  1000.00| 1000.00|             []|    0|      0|        0|\n",
      "|/WcHN4hfmmcAAA==|     TOB490|     2018-08-15|  1300.00| 1300.00|             []|    0|      0|        0|\n",
      "|/WcHN4hfmmcAAA==|     TOB490|     2018-08-17|   500.00|  500.00|             []|    0|      0|        0|\n",
      "|/WcHN4hfmmcAAA==|     TOB490|     2018-08-17|  1000.00| 1000.00|             []|    0|      0|        0|\n",
      "|/WcHN4hfmmcAAA==|     TOB490|     2018-08-18|  1000.00| 1000.00|             []|    0|      0|        0|\n",
      "|/WcHN4hfmmcAAA==|     TOB490|     2018-08-20|   500.00|  500.00|             []|    0|      0|        0|\n",
      "|/WcHN4hfmmcAAA==|     TOB490|     2018-08-22|  1000.00| 1000.00|             []|    0|      0|        0|\n",
      "+----------------+-----------+---------------+---------+--------+---------------+-----+-------+---------+\n",
      "\n"
     ]
    }
   ],
   "source": [
    "trx_sample_adj.filter(F.trim(F.col('transtypecd'))=='TOB490').select(\"partygenid\", \"transtypecd\",\"transactiondate\", \"amount\", \"abs_amt\", \"secproductgenid\", \"check\",\"check_2\", \"sum_check\" ).show(1000)"
   ]
  },
  {
   "cell_type": "code",
   "execution_count": 556,
   "metadata": {
    "collapsed": false
   },
   "outputs": [
    {
     "name": "stdout",
     "output_type": "stream",
     "text": [
      "+---------+--------+\n",
      "|sum_check|   count|\n",
      "+---------+--------+\n",
      "|        1| 9618037|\n",
      "|        2|      39|\n",
      "|        0|10718785|\n",
      "+---------+--------+\n",
      "\n"
     ]
    }
   ],
   "source": [
    "#remove for sure income, cost, swish transaction types\n",
    "trx_sample_adj.groupby(\"sum_check\").count().show()"
   ]
  },
  {
   "cell_type": "code",
   "execution_count": 545,
   "metadata": {
    "collapsed": true
   },
   "outputs": [
    {
     "name": "stdout",
     "output_type": "stream",
     "text": [
      "+----------------+---------------+-----------+---------------+------+-------+---------------+---------+\n",
      "|      partygenid|transactiondate|transtypecd|transactiontype|amount|abs_amt|secproductgenid|sum_check|\n",
      "+----------------+---------------+-----------+---------------+------+-------+---------------+---------+\n",
      "|GZkIKAFDUQVUBA==|     2018-08-09|     TOB399|         Avslut|  0.00|   0.00|             []|        2|\n",
      "|GZcGAhUnOIR2Bg==|     2018-05-30|     TOB399|         Avslut|  0.00|   0.00|             []|        2|\n",
      "|GZcGAhUnOIR2Bg==|     2018-05-30|     TOB399|         Avslut|  0.00|   0.00|             []|        2|\n",
      "|GZcGAhYhM3lAYg==|     2018-06-12|     TOB399|         Avslut|  0.00|   0.00|             []|        2|\n",
      "|Ii6aHU6rUqsAAA==|     2018-08-17|     TOB399|         Avslut|  0.00|   0.00|             []|        2|\n",
      "|GZcGAhYiESNwdg==|     2018-06-18|     TOB399|         Avslut|  0.00|   0.00|             []|        2|\n",
      "|GZcGAhZEIVKSFA==|     2018-07-03|     TOB399|         Avslut|  0.00|   0.00|             []|        2|\n",
      "|GZcGAhZEIVKSFA==|     2018-07-03|     TOB399|         Avslut|  0.00|   0.00|             []|        2|\n",
      "|CAUTABIJAAByFg==|     2018-07-11|     TOB399|         Avslut|  0.00|   0.00|             []|        2|\n",
      "|BgYWEllBAABzUg==|     2018-06-25|     TOB399|         Avslut|  0.00|   0.00|             []|        2|\n",
      "|BgYWEllBAABzUg==|     2018-06-25|     TOB399|         Avslut|  0.00|   0.00|             []|        2|\n",
      "|BgYWEllBAABzUg==|     2018-06-25|     TOB399|         Avslut|  0.00|   0.00|             []|        2|\n",
      "|BgYWEllBAABzUg==|     2018-06-25|     TOB399|         Avslut|  0.00|   0.00|             []|        2|\n",
      "|IAMJJAAYNgCJdw==|     2018-06-15|     TOB399|         Avslut|  0.00|   0.00|             []|        2|\n",
      "|IAMJJAAYNgCJdw==|     2018-06-15|     TOB399|         Avslut|  0.00|   0.00|             []|        2|\n",
      "|GZcGAhZIMGE4NA==|     2018-05-12|     TOB399|         Avslut|  0.00|   0.00|             []|        2|\n",
      "|EAkEABITAAECdw==|     2018-07-26|     TOB399|         Avslut|  0.00|   0.00|             []|        2|\n",
      "|GZcGAhUlAjNBFw==|     2018-06-11|     TOB399|         Avslut|  0.00|   0.00|             []|        2|\n",
      "|GZcGAhUlAjNBFw==|     2018-06-11|     TOB399|         Avslut|  0.00|   0.00|             []|        2|\n",
      "|GZcGAhZGUmmYCQ==|     2018-08-03|     TOB399|         Avslut|  0.00|   0.00|             []|        2|\n",
      "|BREjABEEAAETQA==|     2018-06-27|     TOB399|         Avslut|  0.00|   0.00|             []|        2|\n",
      "|GZcGAhYwVYIyQw==|     2018-07-13|     TOB399|         Avslut|  0.00|   0.00|             []|        2|\n",
      "|GZcGAhYzRHWZkQ==|     2018-08-09|     TOB399|         Avslut|  0.00|   0.00|             []|        2|\n",
      "|GZgFBRIhRxYlBw==|     2018-07-12|     TOB399|         Avslut|  0.00|   0.00|             []|        2|\n",
      "|GZcGAhZENxSYhQ==|     2018-08-08|     TOB399|         Avslut|  0.00|   0.00|             []|        2|\n",
      "|EgEZABIBAAEzRw==|     2018-06-28|     TOB399|         Avslut|  0.00|   0.00|             []|        2|\n",
      "|EgEZABIBAAEzRw==|     2018-06-28|     TOB399|         Avslut|  0.00|   0.00|             []|        2|\n",
      "|GZcGAhZEJSYyNw==|     2018-06-13|     TOB399|         Avslut|  0.00|   0.00|             []|        2|\n",
      "|IAEEEwEZQwlzcg==|     2018-07-31|     TOB521|     Insättning|  0.00|   0.00|             []|        2|\n",
      "|IAEEEwEZQwlzcg==|     2018-08-03|     TOB521|     Insättning|  0.00|   0.00|             []|        2|\n",
      "|IAUEKQAxKQVwAg==|     2018-06-03|     TOB399|         Avslut|  0.00|   0.00|             []|        2|\n",
      "|GZcGAhYhWQUVaA==|     2018-07-11|     TOB431|      ISK UTTAG|  0.00|   0.00|             []|        2|\n",
      "|GZcGAhZGCHAHhw==|     2018-07-16|     TOB399|         Avslut|  0.00|   0.00|             []|        2|\n",
      "|KC/bNjRdx80AAA==|     2018-07-12|     TOB399|         Avslut|  0.00|   0.00|             []|        2|\n",
      "|GZcGAhYhKYgTdA==|     2018-05-15|     TOB399|         Avslut|  0.00|   0.00|             []|        2|\n",
      "|GZcGAhUgGUgFWQ==|     2018-07-25|     TOB399|         Avslut|  0.00|   0.00|             []|        2|\n",
      "|GZcGAhYYM4cxAA==|     2018-05-01|     TOB399|         Avslut|  0.00|   0.00|             []|        2|\n",
      "|EgQEABIwAAEwJw==|     2018-05-17|     TOB399|         Avslut|  0.00|   0.00|             []|        2|\n",
      "|GZcGAhUnSXNHMg==|     2018-05-31|     TOB399|         Avslut|  0.00|   0.00|             []|        2|\n",
      "+----------------+---------------+-----------+---------------+------+-------+---------------+---------+\n",
      "\n"
     ]
    }
   ],
   "source": [
    "trx_sample_adj.filter(F.col(\"sum_check\")==2).select(\"partygenid\", \"transactiondate\", \"transtypecd\",\"transactiontype\", \"amount\", \"abs_amt\", \"secproductgenid\", \"sum_check\").show(100)"
   ]
  },
  {
   "cell_type": "code",
   "execution_count": 13,
   "metadata": {
    "collapsed": true
   },
   "outputs": [],
   "source": [
    "#should remove TOB432 ISK omplacering\n",
    "trx_sample_adj_fil=trx_sample_adj.filter((F.col(\"sum_check\")==0) & (F.col(\"transtypecd\")!=\"TOB432\")).orderBy(\"partygenid\", \"transactiondate\",\"abs_amt\", F.desc(\"amount\"))\\\n",
    "                                 .drop('lag_id','lag_amt','lag_date','sum_check')\\\n",
    "                                 .withColumn(\"check\", F.when((trx_sample_adj.partygenid==F.lag(trx_sample_adj.partygenid).over(trx_window)) & \\\n",
    "                                 (trx_sample_adj.amount+F.lag(trx_sample_adj.amount).over(trx_window) == 0) & \\\n",
    "                                 (trx_sample_adj.transactiondate==F.lag(trx_sample_adj.transactiondate).over(trx_window_2)),1).otherwise(0))\\\n",
    "                                 .withColumn(\"check_2\", F.when((trx_sample_adj.partygenid==F.lead(trx_sample_adj.partygenid).over(trx_window)) & \\\n",
    "                                 (trx_sample_adj.amount+F.lead(trx_sample_adj.amount).over(trx_window) == 0) & \\\n",
    "                                 (trx_sample_adj.transactiondate==F.lead(trx_sample_adj.transactiondate).over(trx_window_2)),1).otherwise(0))\\\n",
    "                                 .withColumn(\"sum_check\", F.col(\"check\")+F.col(\"check_2\"))\\\n",
    "                                 .drop(\"check\", \"check_2\")"
   ]
  },
  {
   "cell_type": "code",
   "execution_count": 442,
   "metadata": {
    "collapsed": true
   },
   "outputs": [
    {
     "ename": "TypeError",
     "evalue": "distinct() takes exactly 1 argument (2 given)",
     "output_type": "error",
     "traceback": [
      "\u001b[0;31m\u001b[0m",
      "\u001b[0;31mTypeError\u001b[0mTraceback (most recent call last)",
      "\u001b[0;32m<ipython-input-442-08b4000343bf>\u001b[0m in \u001b[0;36m<module>\u001b[0;34m()\u001b[0m\n\u001b[0;32m----> 1\u001b[0;31m \u001b[0mtrx_sample_adj_fil\u001b[0m\u001b[0;34m.\u001b[0m\u001b[0mselect\u001b[0m\u001b[0;34m(\u001b[0m\u001b[0;34m\"partygenid\"\u001b[0m\u001b[0;34m,\u001b[0m \u001b[0;34m\"transactiondate\"\u001b[0m\u001b[0;34m,\u001b[0m \u001b[0;34m\"transtypecd\"\u001b[0m\u001b[0;34m,\u001b[0m\u001b[0;34m\"transactiontype\"\u001b[0m\u001b[0;34m,\u001b[0m \u001b[0;34m\"amount\"\u001b[0m\u001b[0;34m,\u001b[0m \u001b[0;34m\"abs_amt\"\u001b[0m\u001b[0;34m,\u001b[0m \u001b[0;34m\"secproductgenid\"\u001b[0m\u001b[0;34m,\u001b[0m \u001b[0;34m\"sum_check\"\u001b[0m\u001b[0;34m)\u001b[0m\u001b[0;34m.\u001b[0m\u001b[0mfilter\u001b[0m\u001b[0;34m(\u001b[0m\u001b[0mF\u001b[0m\u001b[0;34m.\u001b[0m\u001b[0mcol\u001b[0m\u001b[0;34m(\u001b[0m\u001b[0;34m\"sum_check\"\u001b[0m\u001b[0;34m)\u001b[0m\u001b[0;34m==\u001b[0m\u001b[0;36m1\u001b[0m\u001b[0;34m)\u001b[0m\u001b[0;34m.\u001b[0m\u001b[0mdistinct\u001b[0m\u001b[0;34m(\u001b[0m\u001b[0;34m\"transactiontype\"\u001b[0m\u001b[0;34m)\u001b[0m\u001b[0;34m.\u001b[0m\u001b[0mshow\u001b[0m\u001b[0;34m(\u001b[0m\u001b[0;36m2000\u001b[0m\u001b[0;34m)\u001b[0m\u001b[0;34m\u001b[0m\u001b[0m\n\u001b[0m",
      "\u001b[0;31mTypeError\u001b[0m: distinct() takes exactly 1 argument (2 given)"
     ]
    }
   ],
   "source": [
    "trx_sample_adj_fil.select(\"partygenid\", \"transactiondate\", \"transtypecd\",\"transactiontype\", \"amount\", \"abs_amt\", \"secproductgenid\", \"sum_check\")\\\n",
    ".filter(F.col(\"sum_check\")==1).show(2000)"
   ]
  },
  {
   "cell_type": "code",
   "execution_count": 447,
   "metadata": {
    "collapsed": true
   },
   "outputs": [
    {
     "name": "stdout",
     "output_type": "stream",
     "text": [
      "+--------------------+-------+\n",
      "|     transactiontype|  count|\n",
      "+--------------------+-------+\n",
      "|         Reseräkning|      3|\n",
      "|          Autogiro F|      1|\n",
      "|        KREDITAVGIFT|      2|\n",
      "|           ISK UTTAG|  32827|\n",
      "|Slutlikvid lägenh...|     27|\n",
      "|               ROBUR|   1353|\n",
      "|Rättelse Bankomat...|    102|\n",
      "|         Studiehjälp|   1499|\n",
      "|Sparbankernas pen...|    132|\n",
      "|  Bet-uppdrag utland|      3|\n",
      "|    KÖP AV POSTVÄXEL|     39|\n",
      "|Överflyttning sko...|      2|\n",
      "|    Sälj-Värdepapper|      4|\n",
      "|Myntinsättningsau...|     16|\n",
      "|      IP-Utbetalning|    624|\n",
      "|   SERVICEBOX LOOMIS|      1|\n",
      "|FINANSIELL ÖVERFÖ...|      1|\n",
      "|          Eget uttag|      1|\n",
      "|SUNDRY CREDIT FUN...|      1|\n",
      "|Avgift för transa...|      1|\n",
      "|         Valutaaffär|      1|\n",
      "|      Dagsersättning|    172|\n",
      "|           Utdelning|     56|\n",
      "|              Avslut|   1286|\n",
      "|           Sparränta|     19|\n",
      "|    Extra amortering|      3|\n",
      "|       Lån/placering|    394|\n",
      "|       Bostadsbidrag|     76|\n",
      "|Mottagande bank k...|      2|\n",
      "|      IP-Omplacering|    194|\n",
      "|               Uttag|  18904|\n",
      "|Överfört till kor...|     37|\n",
      "|   Engångsinsättning|      1|\n",
      "|        Uttagsavgift|     94|\n",
      "|             Ass ers|      1|\n",
      "|   Swedbankbetalning|     13|\n",
      "|     Förmiddagsclear|      1|\n",
      "|FOREIGN EXCHANGE ...|      1|\n",
      "|            BANKGIRO|     79|\n",
      "|        Nödkontanter|     10|\n",
      "|  Internationell bet|    121|\n",
      "|      VINSTBETALNING|      8|\n",
      "|            Rättelse|   6913|\n",
      "|      Via riksbanken|     36|\n",
      "|    Europabet urgent|      3|\n",
      "|  BG KONTOINSÄTTNING|   1207|\n",
      "|Betalningsöverens...|      2|\n",
      "|     Babsförsäljning|     14|\n",
      "|      SWISH RÄTTELSE|    191|\n",
      "|Överföring via In...| 606013|\n",
      "|      Utlåningsränta|      1|\n",
      "|SUNDRY DEBIT FUND...|      1|\n",
      "|Överföring via te...|   8452|\n",
      "|       UNDERHÅLLSTÖD|     48|\n",
      "|        VP-Utdelning|     10|\n",
      "|            POSTGIRO|      9|\n",
      "|          Överföring|1061359|\n",
      "| Inlösen-Värdepapper|     23|\n",
      "|            IP-Flytt|      4|\n",
      "|Övertrasseringsav...|     12|\n",
      "|    Direktinsändning|     73|\n",
      "|     KÖP FONDANDELAR|    345|\n",
      "|AVSLUT FASTRÄNTEK...|      5|\n",
      "|Leverantörsbetalning|      4|\n",
      "|   Fastighets AB EKO|     18|\n",
      "|                 Lön|     13|\n",
      "|INSÄTTNING FASTRÄNTA|   1395|\n",
      "|SWEDBANK FÖRSÄKRI...|    258|\n",
      "| Internat bet urgent|     16|\n",
      "|   Pris internat bet|     17|\n",
      "|        AUTOMATUTTAG|   5973|\n",
      "|Avslutningsdifferens|     14|\n",
      "|       Återbetalning|     10|\n",
      "|Int betalning-man...|      1|\n",
      "|          Insättning|  29399|\n",
      "|          Ersättning|     56|\n",
      "|    BANK VIA TELEFON|   1316|\n",
      "| IP-Avkastningsskatt|      1|\n",
      "|          Förs kassa|     28|\n",
      "|KONTANTUTTAG I BUTIK|    225|\n",
      "|   Andelsförsäljning|     11|\n",
      "|      ISK INSÄTTNING| 219342|\n",
      "|       Clearingavi d|      2|\n",
      "|                 Lån|      1|\n",
      "|RÄTTNING / AVSLUT...|      5|\n",
      "|   Övrigt enligt avi|      7|\n",
      "|Emission/Courtage...|      4|\n",
      "|Pris Värdepappers...|      4|\n",
      "|          DEPÅAVGIFT|      1|\n",
      "|      AVRÄKNINGSNOTA|      1|\n",
      "|      Överföring lån|    833|\n",
      "|     Egen överföring| 768227|\n",
      "|Provision diverse...|     18|\n",
      "|  Sälj enl. fondnota|    290|\n",
      "|   Köp enl. fondnota|    272|\n",
      "|    Påminnelseavgift|      1|\n",
      "|ISK flytt egna extin|      2|\n",
      "|ÖVERTRASSERINGSRÄNTA|      1|\n",
      "| Justering av avgift|      9|\n",
      "|      IP-Inbetalning|   5722|\n",
      "|      Ladda och köpa|      8|\n",
      "|       Bankomatuttag|  16361|\n",
      "|      Swish rättelse|      7|\n",
      "|    Retur överföring|   1966|\n",
      "|Laddning kontantk...|    266|\n",
      "|     Europabetalning|    211|\n",
      "|  Arbetslöshetskassa|     31|\n",
      "|Provisionsfritt u...|     11|\n",
      "|Inbetalning Krono...|      6|\n",
      "|    Preliminär skatt|      1|\n",
      "|  Insättningsautomat|   4167|\n",
      "|Enligt avisering ...|      1|\n",
      "+--------------------+-------+\n",
      "\n"
     ]
    }
   ],
   "source": [
    "trx_sample_adj_fil.filter(F.col(\"sum_check\")==1).select(\"transactiontype\").groupby(\"transactiontype\").count().show(2000)"
   ]
  },
  {
   "cell_type": "code",
   "execution_count": 439,
   "metadata": {
    "collapsed": true
   },
   "outputs": [
    {
     "name": "stdout",
     "output_type": "stream",
     "text": [
      "+---------+--------+\n",
      "|sum_check|   count|\n",
      "+---------+--------+\n",
      "|        1| 2799358|\n",
      "|        0|10876937|\n",
      "+---------+--------+\n",
      "\n"
     ]
    }
   ],
   "source": [
    "trx_sample_adj_fil.groupby(\"sum_check\").count().show()"
   ]
  },
  {
   "cell_type": "code",
   "execution_count": 450,
   "metadata": {
    "collapsed": true
   },
   "outputs": [
    {
     "name": "stdout",
     "output_type": "stream",
     "text": [
      "+--------------+--------+\n",
      "|secclearingnum|   count|\n",
      "+--------------+--------+\n",
      "|          null|10069884|\n",
      "|           118|   88112|\n",
      "|           331|   48864|\n",
      "|           997|   42637|\n",
      "|           124|   31881|\n",
      "|           695|   25570|\n",
      "|          9272|   23365|\n",
      "|          9252|   21416|\n",
      "|          9271|   19093|\n",
      "|           799|   15396|\n",
      "|           153|   15343|\n",
      "|           116|   14255|\n",
      "|           286|   14027|\n",
      "|          9270|   12391|\n",
      "|           401|   11836|\n",
      "|             0|   11143|\n",
      "|          9023|    9788|\n",
      "|          9022|    9530|\n",
      "|          9024|    9523|\n",
      "|          9420|    9522|\n",
      "+--------------+--------+\n",
      "only showing top 20 rows\n",
      "\n"
     ]
    }
   ],
   "source": [
    "trx_sample_adj_fil.filter((F.col(\"sum_check\")==0)).groupby(\"secclearingnum\").count().orderBy(F.desc(\"count\")).show()"
   ]
  },
  {
   "cell_type": "code",
   "execution_count": 448,
   "metadata": {
    "collapsed": true
   },
   "outputs": [
    {
     "name": "stdout",
     "output_type": "stream",
     "text": [
      "+---------------+------+\n",
      "|transactioninfo| count|\n",
      "+---------------+------+\n",
      "|               |511272|\n",
      "|832799442407798|288601|\n",
      "|832799048832662|201668|\n",
      "|     0000000000| 63032|\n",
      "|832796934680379| 44264|\n",
      "|842449249865487| 31288|\n",
      "|      Periodisk| 28193|\n",
      "|     KAPITALINV| 19513|\n",
      "|     SV LIKVIDI| 19031|\n",
      "|      Klarna AB| 16832|\n",
      "|890119641829735| 15399|\n",
      "|     ALLEMANSFO| 13878|\n",
      "|     SV OBLIGAT| 13634|\n",
      "|     Allemansfo| 13299|\n",
      "|           Hyra| 11682|\n",
      "|     Swedbank R| 11131|\n",
      "|      Räntefond|  9547|\n",
      "|     Absolutavk|  9196|\n",
      "|     Svensk Lik|  8467|\n",
      "|      MIXFONDEN|  7934|\n",
      "+---------------+------+\n",
      "only showing top 20 rows\n",
      "\n"
     ]
    }
   ],
   "source": [
    "trx_sample_adj_fil.filter((F.col(\"sum_check\")==0) & F.lower(F.col(\"transactiontype\")).like(\"%överföring%\")).groupby(\"transactioninfo\").count().orderBy(F.desc(\"count\")).show()"
   ]
  },
  {
   "cell_type": "code",
   "execution_count": 55,
   "metadata": {
    "collapsed": true
   },
   "outputs": [],
   "source": [
    "trx_sample_adj_fil_remain=\\\n",
    "            trx_sample_adj_fil\\\n",
    "            .filter((F.col(\"sum_check\")==0) & (F.col(\"transtypecd\").isin(\"TOB050\", \"TOB552\", \"TOB490\", \"TOB104\", \"TOB553\")))\\\n",
    "            .groupby(\"partygenid\", \"transactionmonth\", \"transtypecd\")\\\n",
    "            .agg(F.sum(F.col(\"amount\")), F.count(F.col(\"amount\")))\\\n",
    "            .withColumn('sum_income', F.col(\"sum(amount)\"))\\\n",
    "            .withColumn('count_income', F.col(\"count(amount)\"))\\\n",
    "            .drop('sum(amount)','count(amount)')\\\n",
    "            .orderBy(\"partygenid\", \"transactionmonth\", \"transtypecd\")"
   ]
  },
  {
   "cell_type": "code",
   "execution_count": 463,
   "metadata": {
    "collapsed": false
   },
   "outputs": [
    {
     "data": {
      "text/plain": [
       "4958796"
      ]
     },
     "execution_count": 463,
     "metadata": {},
     "output_type": "execute_result"
    }
   ],
   "source": [
    "trx_sample_adj_fil\\\n",
    "            .filter((F.col(\"sum_check\")==0) & (F.col(\"transtypecd\").isin(\"TOB050\", \"TOB552\", \"TOB490\", \"TOB104\", \"TOB553\")))\\\n",
    "            .count()"
   ]
  },
  {
   "cell_type": "code",
   "execution_count": 468,
   "metadata": {
    "collapsed": true
   },
   "outputs": [
    {
     "name": "stdout",
     "output_type": "stream",
     "text": [
      "+----------------+----------------+-----------+--------+----------------+--------------+-----------+----------+\n",
      "|      partygenid|transactionmonth|transtypecd|  amount| transactioninfo|secclearingnum|clearingnum| birthdate|\n",
      "+----------------+----------------+-----------+--------+----------------+--------------+-----------+----------+\n",
      "|+0zH4MuyWtUAAA==|          201805|     TOB409|  675.00|19610709XXXXXXXX|          null|      89011|1961-07-09|\n",
      "|+A2dwo5/f0wAAA==|          201807|     TOB409| 4400.00|19800504XXXXXXXX|          null|      89011|1980-05-04|\n",
      "|0yPTcyVKlP8AAA==|          201805|     TOB366|10000.00|          141120|          null|      81059|1945-11-27|\n",
      "|0yPTcyVKlP8AAA==|          201806|     TOB366| 2320.00|          162162|          null|      81059|1945-11-27|\n",
      "|3CNs8AcahXkAAA==|          201805|     TOB366|10000.00|          144193|          null|      81059|1963-03-05|\n",
      "|3CNs8AcahXkAAA==|          201806|     TOB366|  320.00|          155176|          null|      81059|1963-03-05|\n",
      "|3CNs8AcahXkAAA==|          201806|     TOB366| 2000.00|          156129|          null|      81059|1963-03-05|\n",
      "|3CNs8AcahXkAAA==|          201806|     TOB366| 8000.00|          166137|          null|      81059|1963-03-05|\n",
      "|3CNs8AcahXkAAA==|          201808|     TOB366| 5500.00|          228125|          null|      81059|1963-03-05|\n",
      "|3CNs8AcahXkAAA==|          201808|     TOB366| 4000.00|          232087|          null|      81059|1963-03-05|\n",
      "|BQciABIEAAMUlw==|          201805|     TOB409| 4424.00|19840101XXXXXXXX|          null|      89011|1984-01-01|\n",
      "|BQgnABA5AAEZgw==|          201805|     TOB409|26229.00|19791226XXXXXXXX|          null|      89011|1979-12-26|\n",
      "|BQgnABA5AAEZgw==|          201805|     TOB409| 6351.00|19791226XXXXXXXX|          null|      89011|1979-12-26|\n",
      "|BQgnABA5AAEZgw==|          201806|     TOB409| 1059.00|19791226XXXXXXXX|          null|      89011|1979-12-26|\n",
      "|BQgnABA5AAEZgw==|          201807|     TOB409|12006.00|19791226XXXXXXXX|          null|      89011|1979-12-26|\n",
      "|BQgnABA5AAEZgw==|          201807|     TOB409|15138.00|19791226XXXXXXXX|          null|      89011|1979-12-26|\n",
      "|BQkBABRAAAJhQg==|          201807|     TOB366|10000.00|          193136|          null|      81034|1970-11-14|\n",
      "|BQkBABRAAAJhQg==|          201807|     TOB366| 6500.00|          201112|          null|      81034|1970-11-14|\n",
      "|BREVB0NAAACFSQ==|          201805|     TOB409|  909.00|19870821XXXXXXXX|          null|      89011|1987-08-21|\n",
      "|BgMoABEWAABViQ==|          201805|     TOB409| 3801.00|19801230XXXXXXXX|          null|      89011|1980-12-30|\n",
      "|BgMoABEWAABViQ==|          201806|     TOB409| 3258.00|19801230XXXXXXXX|          null|      89011|1980-12-30|\n",
      "|BgMpABFUAABzRw==|          201805|     TOB409|13220.00|19700623XXXXXXXX|          null|      89011|1970-06-23|\n",
      "|BgMpABFUAABzRw==|          201806|     TOB409|13661.00|19700623XXXXXXXX|          null|      89011|1970-06-23|\n",
      "|BgMpABFUAABzRw==|          201807|     TOB409| 3637.00|19700623XXXXXXXX|          null|      89011|1970-06-23|\n",
      "|BgQhABIFAAJDVQ==|          201806|     TOB409| 1725.00|19641227XXXXXXXX|          null|      89011|1964-12-27|\n",
      "|BgQhABIFAAJDVQ==|          201808|     TOB409| 3019.00|19641227XXXXXXXX|          null|      89011|1964-12-27|\n",
      "|BgUJCDYlAAJ4Yg==|          201807|     TOB366|10000.00|          212121|          null|      84202|1972-04-03|\n",
      "|BgUJCDYlAAJ4Yg==|          201808|     TOB366|10000.00|          220118|          null|      84202|1972-04-03|\n",
      "|BgUSABIwAAQYkg==|          201806|     TOB366|10000.00|          152093|          null|      83279|1974-02-01|\n",
      "|BgUSABIwAAQYkg==|          201807|     TOB366|10000.00|          185189|          null|      83279|1974-02-01|\n",
      "|BgUWABE4AABGEg==|          201805|     TOB409| 3960.00|19920927XXXXXXXX|          null|      89011|1992-09-27|\n",
      "|BggICEFWAABlIw==|          201806|     TOB409| 4072.00|19880305XXXXXXXX|          null|      89011|1988-03-05|\n",
      "|BggICEFWAABlIw==|          201806|     TOB409| 3702.00|19880305XXXXXXXX|          null|      89011|1988-03-05|\n",
      "|BggICEFWAABlIw==|          201807|     TOB409| 3702.00|19880305XXXXXXXX|          null|      89011|1988-03-05|\n",
      "|BggICEFWAABlIw==|          201807|     TOB409|  371.00|19880305XXXXXXXX|          null|      89011|1988-03-05|\n",
      "|BggmABFBAAEDIw==|          201805|     TOB409| 2486.00|19700405XXXXXXXX|          null|      89011|1970-04-05|\n",
      "|BggmABFBAAEDIw==|          201806|     TOB409| 1491.00|19700405XXXXXXXX|          null|      89011|1970-04-05|\n",
      "|BggmABFBAAEDIw==|          201807|     TOB409| 1242.00|19700405XXXXXXXX|          null|      89011|1970-04-05|\n",
      "|BggmABFBAAEgOA==|          201805|     TOB409|  179.00|19780811XXXXXXXX|          null|      89011|1978-08-11|\n",
      "|BggmABFBAAEgOA==|          201807|     TOB409|  713.00|19780811XXXXXXXX|          null|      89011|1978-08-11|\n",
      "|BgklIQE3AABUSA==|          201805|     TOB409| 2001.00|19880905XXXXXXXX|          null|      89011|1988-09-05|\n",
      "|BgklIQE3AABUSA==|          201805|     TOB409|  703.00|19880905XXXXXXXX|          null|      89011|1988-09-05|\n",
      "|BgklIQE3AABUSA==|          201807|     TOB409| 2810.00|19880905XXXXXXXX|          null|      89011|1988-09-05|\n",
      "|BgklIQE3AABUSA==|          201808|     TOB366| 4500.00|          213146|          null|      82016|1988-09-05|\n",
      "|BgklIQE3AABUSA==|          201808|     TOB366|10000.00|          223119|          null|      82016|1988-09-05|\n",
      "|BhAWCElQAAExZw==|          201806|     TOB366| 1300.00|          177146|          null|      82149|1942-05-24|\n",
      "|BhAWCElQAAExZw==|          201807|     TOB366|  400.00|          212111|          null|      82149|1942-05-24|\n",
      "|BhAoABFGAAEJmQ==|          201805|     TOB366|10000.00|          136143|          null|      84525|1989-12-27|\n",
      "|BhAoABFGAAEJmQ==|          201806|     TOB409| 4376.00|19890723XXXXXXXX|          null|      89011|1989-12-27|\n",
      "|BhAxABFDAABlFQ==|          201805|     TOB409| 7380.00|19890101XXXXXXXX|          null|      89011|1989-01-01|\n",
      "|BhAxABFDAABlFQ==|          201806|     TOB409| 7939.00|19890101XXXXXXXX|          null|      89011|1989-01-01|\n",
      "|BhAxABFDAABlFQ==|          201807|     TOB409| 7380.00|19890101XXXXXXXX|          null|      89011|1989-01-01|\n",
      "|BhERABE2AACVaQ==|          201805|     TOB409| 3519.00|19800522XXXXXXXX|          null|      89011|1980-05-22|\n",
      "|BhERABE2AACVaQ==|          201806|     TOB409| 3637.00|19800522XXXXXXXX|          null|      89011|1980-05-22|\n",
      "|BhERABE2AACVaQ==|          201807|     TOB409| 1550.00|19800522XXXXXXXX|          null|      89011|1980-05-22|\n",
      "|BhERABE2AACVaQ==|          201807|     TOB409|  528.00|19800522XXXXXXXX|          null|      89011|1980-05-22|\n",
      "|BhIjABMmAAEFYA==|          201805|     TOB409| 4188.00|19770106XXXXXXXX|          null|      89011|1977-01-06|\n",
      "|BhIjABMmAAEFYA==|          201806|     TOB409| 8927.00|19770106XXXXXXXX|          null|      89011|1977-01-06|\n",
      "|BhIjABMmAAEFYA==|          201807|     TOB409|10107.00|19770106XXXXXXXX|          null|      89011|1977-01-06|\n",
      "|BhIpABMEAAMgMw==|          201805|     TOB366| 6000.00|          129140|          null|      82149|1983-11-20|\n",
      "|BwIQABFDAAEFRA==|          201806|     TOB409| 8273.00|19790525XXXXXXXX|          null|      89011|1979-05-25|\n",
      "|BwIQABFDAAEFRA==|          201806|     TOB409| 8708.00|19790525XXXXXXXX|          null|      89011|1979-05-25|\n",
      "|BwIQABFDAAEFRA==|          201807|     TOB409| 8927.00|19790525XXXXXXXX|          null|      89011|1979-05-25|\n",
      "|BwMwABRDAASGZA==|          201806|     TOB409|  667.00|19791106XXXXXXXX|          null|      89011|1979-11-06|\n",
      "|BwMwABRDAASGZA==|          201807|     TOB409| 1333.00|19791106XXXXXXXX|          null|      89011|1979-11-06|\n",
      "|BwQTABJXAAKARA==|          201805|     TOB366| 4800.00|          148107|          null|      82149|1965-10-09|\n",
      "|BwQTABJXAAKARA==|          201806|     TOB366| 4200.00|          178161|          null|      82149|1965-10-09|\n",
      "|BwQTABJXAAKARA==|          201806|     TOB366|  500.00|          179124|          null|      82149|1965-10-09|\n",
      "|BwQTABJXAAKARA==|          201807|     TOB366| 2000.00|          203139|          null|      82149|1965-10-09|\n",
      "|BwQTABJXAAKARA==|          201807|     TOB366| 2000.00|          206107|          null|      82149|1965-10-09|\n",
      "|BwQTABJXAAKARA==|          201807|     TOB366| 1000.00|          208117|          null|      82149|1965-10-09|\n",
      "|BwQTABJXAAKARA==|          201808|     TOB366|  200.00|          227131|          null|      82149|1965-10-09|\n",
      "|BwUWABI4AACBUg==|          201807|     TOB366| 5500.00|          186111|          null|      81059|1968-08-07|\n",
      "|BwYFAlQRAABQlA==|          201805|     TOB366| 9900.00|          123170|          null|      81059|1993-03-11|\n",
      "|BwYFAlQRAABQlA==|          201806|     TOB366| 1840.00|          159172|          null|      81059|1993-03-11|\n",
      "|BwcGABMiAAOEKA==|          201805|     TOB409| 1745.00|19781118XXXXXXXX|          null|      89011|1978-11-18|\n",
      "|BwcZABIXAAB4GA==|          201806|     TOB409|  507.00|19711129XXXXXXXX|          null|      89011|1971-11-29|\n",
      "|BwcZABIXAAB4GA==|          201806|     TOB409| 2720.00|19711129XXXXXXXX|          null|      89011|1971-11-29|\n",
      "|BwgiABIEAAFQRA==|          201805|     TOB409| 6235.00|19940413XXXXXXXX|          null|      89011|1994-04-13|\n",
      "|BwgiABIEAAFQRA==|          201806|     TOB409| 3335.00|19940413XXXXXXXX|          null|      89011|1994-04-13|\n",
      "|BwgiABIEAAFQRA==|          201807|     TOB409| 2175.00|19940413XXXXXXXX|          null|      89011|1994-04-13|\n",
      "|BxAGABNQAAJwMw==|          201806|     TOB409|  620.00|19830420XXXXXXXX|          null|      89011|1983-04-20|\n",
      "|BxAGABNQAAJwMw==|          201807|     TOB409|  620.00|19830420XXXXXXXX|          null|      89011|1983-04-20|\n",
      "|BxAgABMjAABxkA==|          201807|     TOB366|10000.00|          200149|          null|      83279|1965-06-07|\n",
      "|BxAgABMjAABxkA==|          201807|     TOB366| 9500.00|          203149|          null|      83279|1965-06-07|\n",
      "|BxIFASMyAAYYlg==|          201805|     TOB409| 3227.00|19781123XXXXXXXX|          null|      89011|1978-11-23|\n",
      "|BxIFASMyAAYYlg==|          201806|     TOB409|  646.00|19781123XXXXXXXX|          null|      89011|1978-11-23|\n",
      "|BxIFASMyAAYYlg==|          201807|     TOB409|  646.00|19781123XXXXXXXX|          null|      89011|1978-11-23|\n",
      "|CAIJABFDAAEBQg==|          201808|     TOB366| 1000.00|          213114|          null|      81059|1995-06-18|\n",
      "|CAQQABMjAAIGJg==|          201807|     TOB409| 3976.00|19870426XXXXXXXX|          null|      89011|1987-04-26|\n",
      "|CAUHABQnAANBaQ==|          201805|     TOB366|10000.00|          149111|          null|      84525|1989-08-04|\n",
      "|CAgpABMmAARTaQ==|          201807|     TOB409| 9497.00|19801022XXXXXXXX|          null|      89011|1980-10-22|\n",
      "|CAkCABFFAABZOQ==|          201805|     TOB409|15878.00|19891123XXXXXXXX|          null|      89011|1989-11-23|\n",
      "|CAkCABFFAABZOQ==|          201806|     TOB409| 5293.00|19891123XXXXXXXX|          null|      89011|1989-11-23|\n",
      "|CAkCABFFAABZOQ==|          201807|     TOB409|11115.00|19891123XXXXXXXX|          null|      89011|1989-11-23|\n",
      "|CAkCABFFAABZOQ==|          201807|     TOB409|15993.00|19891123XXXXXXXX|          null|      89011|1989-11-23|\n",
      "|CBAUABFHAABTZQ==|          201805|     TOB409| 1206.00|19800719XXXXXXXX|          null|      89011|1980-07-19|\n",
      "|CBAUABFHAABTZQ==|          201806|     TOB409|  182.00|19800719XXXXXXXX|          null|      89011|1980-07-19|\n",
      "|CBAUABFHAABVaA==|          201805|     TOB409|15456.00|19830312XXXXXXXX|          null|      89011|1983-03-12|\n",
      "|CBAUABFHAABVaA==|          201806|     TOB409| 3607.00|19830312XXXXXXXX|          null|      89011|1983-03-12|\n",
      "+----------------+----------------+-----------+--------+----------------+--------------+-----------+----------+\n",
      "only showing top 100 rows\n",
      "\n"
     ]
    }
   ],
   "source": [
    "trx_sample_adj_fil.select(\"partygenid\", \"transactionmonth\", \"transtypecd\", \"amount\", \"transactioninfo\", \"secclearingnum\", \"clearingnum\", \"birthdate\")\\\n",
    "            .filter((F.col(\"sum_check\")==0) & (F.col(\"transtypecd\").isin(\"TOB366\", \"TOB409\"))).show(100)"
   ]
  },
  {
   "cell_type": "code",
   "execution_count": 473,
   "metadata": {
    "collapsed": false
   },
   "outputs": [],
   "source": [
    "sample=spark.sql('select * from ddp_steer.p901cyo_trx_sample_201805_201808 where birthdate=\"1988-03-05\" \\\n",
    "sort by partygenid, transactiondate, abs(amount)').toPandas()"
   ]
  },
  {
   "cell_type": "code",
   "execution_count": 496,
   "metadata": {
    "collapsed": true
   },
   "outputs": [],
   "source": [
    "sample=spark.sql('select * from ddp_steer.p901cyo_trx_sample_201805_201808 where birthdate=\"2013-04-10\" \\\n",
    "sort by partygenid, transactiondate, abs(amount)').toPandas()"
   ]
  },
  {
   "cell_type": "code",
   "execution_count": 497,
   "metadata": {
    "collapsed": true
   },
   "outputs": [],
   "source": [
    "sample.to_csv(os.path.join('~/repos', 'trx_sample_onecustomer_4' + '.csv'), encoding='utf-8')"
   ]
  },
  {
   "cell_type": "markdown",
   "metadata": {},
   "source": [
    "#### look into regular transactions"
   ]
  },
  {
   "cell_type": "code",
   "execution_count": 17,
   "metadata": {
    "collapsed": false
   },
   "outputs": [
    {
     "data": {
      "text/plain": [
       "u'200'"
      ]
     },
     "execution_count": 17,
     "metadata": {},
     "output_type": "execute_result"
    }
   ],
   "source": [
    "spark.conf.get(\"spark.sql.shuffle.partitions\")"
   ]
  },
  {
   "cell_type": "code",
   "execution_count": 24,
   "metadata": {
    "collapsed": false
   },
   "outputs": [],
   "source": [
    "#use trx_sample_adj_fil_remain\n",
    "trx_sample_adj_fil_remain_=\\\n",
    "trx_sample_adj_fil.filter((F.col(\"sum_check\")==0))\\\n",
    ".withColumn(\"day\",F.date_format(F.col(\"transactiondate\"), \"d\"))\\\n",
    ".select(\"partygenid\", \"transtypecd\", \"transactiondate\", \"amount\", \"secaccounttypecd\", \\\n",
    "\"secclearingnum\", \"secaccountnum\", \"secagreementgenid\",  \"secpartygenid\", \"day\")\\\n",
    ".orderBy(\"partygenid\", \"day\", \"transtypecd\", \"amount\")"
   ]
  },
  {
   "cell_type": "code",
   "execution_count": 25,
   "metadata": {
    "collapsed": true
   },
   "outputs": [
    {
     "name": "stdout",
     "output_type": "stream",
     "text": [
      "+----------------+-----------+---------------+---------+----------------+--------------+-------------+-----------------+----------------+---+\n",
      "|      partygenid|transtypecd|transactiondate|   amount|secaccounttypecd|secclearingnum|secaccountnum|secagreementgenid|   secpartygenid|day|\n",
      "+----------------+-----------+---------------+---------+----------------+--------------+-------------+-----------------+----------------+---+\n",
      "|++2xsgKHSs0AAA==|     TOB050|     2018-08-13|  3750.00|            null|          null|         null|        171391196|0Su6PInHwSEAAA==| 13|\n",
      "|++2xsgKHSs0AAA==|     TOB382|     2018-08-16| -2000.00|            null|          null|         null|             null|++2xsgKHSs0AAA==| 16|\n",
      "|++2xsgKHSs0AAA==|     TOB382|     2018-07-16|  -300.00|            null|          null|         null|             null|++2xsgKHSs0AAA==| 16|\n",
      "|++2xsgKHSs0AAA==|     TOB050|     2018-05-09| 11500.00|            null|          null|         null|        171391196|BQYnCVcWAAEiNQ==|  9|\n",
      "|++IXJGVT3K8AAA==|     TOB490|     2018-08-01| -2600.00|            null|          null|         null|             null|                |  1|\n",
      "|++IXJGVT3K8AAA==|     TOB521|     2018-06-13|  2000.00|            null|          null|         null|             null|                | 13|\n",
      "|++IXJGVT3K8AAA==|     TOB521|     2018-08-15|  5000.00|            null|          null|         null|        158344356|++IXJGVT3K8AAA==| 15|\n",
      "|++IXJGVT3K8AAA==|     TOB035|     2018-07-20|  -150.00|             BG |             0|     50655018|             null|++IXJGVT3K8AAA==| 20|\n",
      "|++IXJGVT3K8AAA==|     TOB079|     2018-07-20|-64570.00|             BG |             0|     50655018|             null|++IXJGVT3K8AAA==| 20|\n",
      "|++IXJGVT3K8AAA==|     TOB521|     2018-07-20| 35430.00|            null|          null|         null|             null|GZcGAhVRExkSRA==| 20|\n",
      "|++IXJGVT3K8AAA==|     TOB490|     2018-06-25| -3000.00|            null|          null|         null|             null|                | 25|\n",
      "|++IXJGVT3K8AAA==|     TOB490|     2018-05-27| -2305.00|            null|          null|         null|             null|                | 27|\n",
      "|++IXJGVT3K8AAA==|     TOB553|     2018-05-28|  1500.00|            null|          null|         null|        158287066|GZcGAhVRExkSRA==| 28|\n",
      "|++IXJGVT3K8AAA==|     TOB553|     2018-07-28|  1500.00|            null|          null|         null|        158287066|GZcGAhVRExkSRA==| 28|\n",
      "|++IXJGVT3K8AAA==|     TOB553|     2018-06-28|  1500.00|            null|          null|         null|        158287066|GZcGAhVRExkSRA==| 28|\n",
      "|++IXJGVT3K8AAA==|     TOB490|     2018-08-03| -1865.00|            null|          null|         null|             null|                |  3|\n",
      "|++IXJGVT3K8AAA==|     TOB521|     2018-05-03|  6000.00|            null|          null|         null|             null|                |  3|\n",
      "|++IXJGVT3K8AAA==|     TOB490|     2018-05-30|   500.00|            null|          null|         null|             null|                | 30|\n",
      "|++IXJGVT3K8AAA==|     TOB490|     2018-06-05|  1000.00|            null|          null|         null|             null|                |  5|\n",
      "|++IXJGVT3K8AAA==|     TOB490|     2018-05-06| -3000.00|            null|          null|         null|             null|                |  6|\n",
      "|++QHBJSyF2QAAA==|     TOB521|     2018-06-21|   161.00|            null|          null|         null|             null|                | 21|\n",
      "|++QHBJSyF2QAAA==|     TOB521|     2018-07-24|   161.00|            null|          null|         null|             null|                | 24|\n",
      "|++QHBJSyF2QAAA==|     TOB521|     2018-05-24|   161.00|            null|          null|         null|             null|                | 24|\n",
      "|++QHBJSyF2QAAA==|     TOB099|     2018-07-27|  1014.20|            null|          null|         null|             null|                | 27|\n",
      "|++a2XK1p5lIAAA==|     TOB382|     2018-06-11|  -800.00|            null|          null|         null|             null|++a2XK1p5lIAAA==| 11|\n",
      "|++a2XK1p5lIAAA==|     TOB382|     2018-08-13|  -800.00|            null|          null|         null|             null|++a2XK1p5lIAAA==| 13|\n",
      "|++a2XK1p5lIAAA==|     TOB050|     2018-05-14|   525.00|            null|          null|         null|        168775207|vlw+qSDDEUcAAA==| 14|\n",
      "|++a2XK1p5lIAAA==|     TOB382|     2018-05-15|  -800.00|            null|          null|         null|             null|++a2XK1p5lIAAA==| 15|\n",
      "|++a2XK1p5lIAAA==|     TOB382|     2018-07-16|  -700.00|            null|          null|         null|             null|++a2XK1p5lIAAA==| 16|\n",
      "|++a2XK1p5lIAAA==|     TOB382|     2018-06-18|  -800.00|            null|          null|         null|             null|++a2XK1p5lIAAA==| 18|\n",
      "|++a2XK1p5lIAAA==|     TOB382|     2018-05-02| -1300.00|            null|          null|         null|             null|++a2XK1p5lIAAA==|  2|\n",
      "|++a2XK1p5lIAAA==|     TOB382|     2018-07-02|  -800.00|            null|          null|         null|             null|++a2XK1p5lIAAA==|  2|\n",
      "|++a2XK1p5lIAAA==|     TOB382|     2018-06-02|  -500.00|            null|          null|         null|             null|++a2XK1p5lIAAA==|  2|\n",
      "|++a2XK1p5lIAAA==|     TOB382|     2018-07-20|  -900.00|            null|          null|         null|             null|++a2XK1p5lIAAA==| 20|\n",
      "|++a2XK1p5lIAAA==|     TOB382|     2018-08-20|  -800.00|            null|          null|         null|             null|++a2XK1p5lIAAA==| 20|\n",
      "|++a2XK1p5lIAAA==|     TOB382|     2018-05-21|  -800.00|            null|          null|         null|             null|++a2XK1p5lIAAA==| 21|\n",
      "|++a2XK1p5lIAAA==|     TOB382|     2018-06-21|  -100.00|            null|          null|         null|             null|++a2XK1p5lIAAA==| 21|\n",
      "|++a2XK1p5lIAAA==|     TOB382|     2018-07-23|  -800.00|            null|          null|         null|             null|++a2XK1p5lIAAA==| 23|\n",
      "|++a2XK1p5lIAAA==|     TOB382|     2018-06-25|  -800.00|            null|          null|         null|             null|++a2XK1p5lIAAA==| 25|\n",
      "|++a2XK1p5lIAAA==|     TOB382|     2018-05-28|  -800.00|            null|          null|         null|             null|++a2XK1p5lIAAA==| 28|\n",
      "|++a2XK1p5lIAAA==|     TOB382|     2018-07-28|  -500.00|            null|          null|         null|             null|++a2XK1p5lIAAA==| 28|\n",
      "|++a2XK1p5lIAAA==|     TOB382|     2018-07-30|  -700.00|            null|          null|         null|             null|++a2XK1p5lIAAA==| 30|\n",
      "|++a2XK1p5lIAAA==|     TOB382|     2018-07-30|  -100.00|            null|          null|         null|             null|++a2XK1p5lIAAA==| 30|\n",
      "|++a2XK1p5lIAAA==|     TOB382|     2018-06-04|  -800.00|            null|          null|         null|             null|++a2XK1p5lIAAA==|  4|\n",
      "|++a2XK1p5lIAAA==|     TOB382|     2018-05-05| -1000.00|            null|          null|         null|             null|++a2XK1p5lIAAA==|  5|\n",
      "|++a2XK1p5lIAAA==|     TOB382|     2018-07-05|  -700.00|            null|          null|         null|             null|++a2XK1p5lIAAA==|  5|\n",
      "|++a2XK1p5lIAAA==|     TOB382|     2018-08-06|  -800.00|            null|          null|         null|             null|++a2XK1p5lIAAA==|  6|\n",
      "|++a2XK1p5lIAAA==|     TOB382|     2018-06-07|  -800.00|            null|          null|         null|             null|++a2XK1p5lIAAA==|  7|\n",
      "|++a2XK1p5lIAAA==|     TOB382|     2018-07-09|  -800.00|            null|          null|         null|             null|++a2XK1p5lIAAA==|  9|\n",
      "|+/5BwkUKqekAAA==|     TOB552|     2018-05-31|-50000.00|             KTO|           331|        XXXXX|             null|+/5BwkUKqekAAA==| 31|\n",
      "|+/K96H6YpM8AAA==|     TOB552|     2018-08-13| -5000.00|            null|          null|         null|        171477058|bMhgq0IG9+IAAA==| 13|\n",
      "|+/K96H6YpM8AAA==|     TOB552|     2018-08-15|-15000.00|            null|          null|         null|        171077221|bMhgq0IG9+IAAA==| 15|\n",
      "|+/K96H6YpM8AAA==|     TOB552|     2018-05-15|-10000.00|            null|          null|         null|        171077221|bMhgq0IG9+IAAA==| 15|\n",
      "|+/K96H6YpM8AAA==|     TOB194|     2018-08-17|   -35.00|            null|          null|         null|             null|                | 17|\n",
      "|+/K96H6YpM8AAA==|     TOB521|     2018-06-20|   784.76|            null|          null|         null|             null|                | 20|\n",
      "|+/K96H6YpM8AAA==|     TOB681|     2018-06-20| -1118.76|            null|          null|         null|             null|                | 20|\n",
      "|+/K96H6YpM8AAA==|     TOB684|     2018-06-08|  1118.62|            null|          null|         null|             null|                |  8|\n",
      "|+/Mz+PrKlmgAAA==|     TOB194|     2018-07-14|   -35.00|            null|          null|         null|             null|                | 14|\n",
      "|+/Mz+PrKlmgAAA==|     TOB521|     2018-08-02|  2000.00|            null|          null|         null|             null|                |  2|\n",
      "|+/Mz+PrKlmgAAA==|     TOB521|     2018-05-25|  5000.00|            null|          null|         null|             null|                | 25|\n",
      "|+/Mz+PrKlmgAAA==|     TOB521|     2018-06-26|  5000.00|            null|          null|         null|             null|                | 26|\n",
      "|+/Mz+PrKlmgAAA==|     TOB521|     2018-07-26|  5000.00|            null|          null|         null|             null|                | 26|\n",
      "|+/Mz+PrKlmgAAA==|     TOB247|     2018-05-03|-10000.00|            null|          null|         null|             null|                |  3|\n",
      "|+/UMnC5XBSIAAA==|     TOB050|     2018-06-25| -5370.00|             KTO|          6017|      8195162|             null|+/UMnC5XBSIAAA==| 25|\n",
      "|+/UMnC5XBSIAAA==|     TOB050|     2018-05-25| -5370.00|             KTO|          6017|      8195162|             null|+/UMnC5XBSIAAA==| 25|\n",
      "|+/UMnC5XBSIAAA==|     TOB050|     2018-07-25| -5370.00|             KTO|          6017|      8195162|             null|+/UMnC5XBSIAAA==| 25|\n",
      "|+/WziixsxfsAAA==|     TOB382|     2018-07-29|  -300.00|            null|          null|         null|             null|+/WziixsxfsAAA==| 29|\n",
      "|+/bia6u/LxYAAA==|     TOB050|     2018-05-01| -1500.00|             KTO|           401|   7124806147|             null|+/bia6u/LxYAAA==|  1|\n",
      "|+/bia6u/LxYAAA==|     TOB050|     2018-08-01| -1500.00|             KTO|           401|   7124806147|             null|+/bia6u/LxYAAA==|  1|\n",
      "|+/bia6u/LxYAAA==|     TOB050|     2018-07-01| -1500.00|             KTO|           401|   7124806147|             null|+/bia6u/LxYAAA==|  1|\n",
      "|+/bia6u/LxYAAA==|     TOB050|     2018-06-01| -1500.00|             KTO|           401|   7124806147|             null|+/bia6u/LxYAAA==|  1|\n",
      "|+/bia6u/LxYAAA==|     TOB552|     2018-06-01|  -500.00|            null|          null|         null|        167398306|+/bia6u/LxYAAA==|  1|\n",
      "|+/bia6u/LxYAAA==|     TOB552|     2018-06-01|  -500.00|            null|          null|         null|        167331621|+/bia6u/LxYAAA==|  1|\n",
      "|+/bia6u/LxYAAA==|     TOB757|     2018-08-01|   -99.00|            null|          null|         null|             null|                |  1|\n",
      "|+/bia6u/LxYAAA==|     TOB552|     2018-06-20|  -500.00|            null|          null|         null|        167331621|+/bia6u/LxYAAA==| 20|\n",
      "|+/bia6u/LxYAAA==|     TOB552|     2018-06-21| -4500.00|            null|          null|         null|        167331621|+/bia6u/LxYAAA==| 21|\n",
      "|+/bia6u/LxYAAA==|     TOB757|     2018-06-27|   -99.00|            null|          null|         null|             null|                | 27|\n",
      "|+/bia6u/LxYAAA==|     TOB757|     2018-05-28|  -149.00|            null|          null|         null|             null|                | 28|\n",
      "|+/bia6u/LxYAAA==|     TOB552|     2018-05-05|  -500.00|            null|          null|         null|        167425465|+/bia6u/LxYAAA==|  5|\n",
      "|+/o8Ok6zES0AAA==|     TOB521|     2018-07-24|   300.00|            null|          null|         null|             null|                | 24|\n",
      "|+/o8Ok6zES0AAA==|     TOB038|     2018-07-27|  -300.00|            null|          null|         null|             null|                | 27|\n",
      "|+/o8Ok6zES0AAA==|     TOB038|     2018-06-27|  -300.00|            null|          null|         null|             null|                | 27|\n",
      "|+/o8Ok6zES0AAA==|     TOB038|     2018-05-27|  -300.00|            null|          null|         null|             null|                | 27|\n",
      "|+/o8Ok6zES0AAA==|     TOB382|     2018-05-06|  -400.00|            null|          null|         null|             null|+/o8Ok6zES0AAA==|  6|\n",
      "|+/zeJ36L+cYAAA==|     TOB552|     2018-08-12| -8000.00|            null|          null|         null|        168559348|+/zeJ36L+cYAAA==| 12|\n",
      "|+/zeJ36L+cYAAA==|     TOB050|     2018-05-19|  1500.00|            null|          null|         null|        314971104|NqLTnKPSHvkAAA==| 19|\n",
      "|+/zeJ36L+cYAAA==|     TOB050|     2018-06-02|   800.00|            null|          null|         null|        168558475|EIJIjPKO8uoAAA==|  2|\n",
      "|+/zeJ36L+cYAAA==|     TOB050|     2018-05-31|  3000.00|            null|          null|         null|        168910375|NqLTnKPSHvkAAA==| 31|\n",
      "|+/zeJ36L+cYAAA==|     TOB050|     2018-08-05|  1200.00|            null|          null|         null|        168558475|EIJIjPKO8uoAAA==|  5|\n",
      "|+0AVtqB33IIAAA==|     TOB382|     2018-05-15|  -500.00|            null|          null|         null|             null|+0AVtqB33IIAAA==| 15|\n",
      "|+0AVtqB33IIAAA==|     TOB148|     2018-06-08|   -45.00|            null|          null|         null|             null|                |  8|\n",
      "|+0AVtqB33IIAAA==|     TOB197|     2018-06-08|   152.86|            null|          null|         null|             null|                |  8|\n",
      "|+0EMAlPTrLAAAA==|     TOB552|     2018-06-10|   -77.00|            null|          null|         null|        168318556|GZcGAhZEOGYDVg==| 10|\n",
      "|+0EMAlPTrLAAAA==|     TOB521|     2018-07-12|   200.00|            null|          null|         null|             null|                | 12|\n",
      "|+0EMAlPTrLAAAA==|     TOB050|     2018-05-15|  -100.00|            null|          null|         null|        168912984|+0EMAlPTrLAAAA==| 15|\n",
      "|+0EMAlPTrLAAAA==|     TOB050|     2018-07-15|  -100.00|            null|          null|         null|        168901429|+0EMAlPTrLAAAA==| 15|\n",
      "|+0EMAlPTrLAAAA==|     TOB050|     2018-06-15|  -100.00|            null|          null|         null|        168901429|+0EMAlPTrLAAAA==| 15|\n",
      "|+0EMAlPTrLAAAA==|     TOB050|     2018-05-15|  -100.00|            null|          null|         null|        199776060|+0EMAlPTrLAAAA==| 15|\n",
      "|+0EMAlPTrLAAAA==|     TOB050|     2018-08-15|  -100.00|            null|          null|         null|        199776060|+0EMAlPTrLAAAA==| 15|\n",
      "|+0EMAlPTrLAAAA==|     TOB050|     2018-08-15|  -100.00|            null|          null|         null|        168901429|+0EMAlPTrLAAAA==| 15|\n",
      "+----------------+-----------+---------------+---------+----------------+--------------+-------------+-----------------+----------------+---+\n",
      "only showing top 100 rows\n",
      "\n"
     ]
    }
   ],
   "source": [
    "trx_sample_adj_fil_remain_.show(100)"
   ]
  },
  {
   "cell_type": "markdown",
   "metadata": {},
   "source": [
    "### look at other transaction types --överföring"
   ]
  },
  {
   "cell_type": "code",
   "execution_count": 173,
   "metadata": {
    "collapsed": false
   },
   "outputs": [
    {
     "name": "stdout",
     "output_type": "stream",
     "text": [
      "+--------+-------+\n",
      "|sec_role|  count|\n",
      "+--------+-------+\n",
      "|      01| 133365|\n",
      "|    null| 189848|\n",
      "|      00|1040089|\n",
      "|      05|   3580|\n",
      "|      03|     11|\n",
      "|      02|   7013|\n",
      "+--------+-------+\n",
      "\n"
     ]
    }
   ],
   "source": [
    "household.filter(F.col('transtypecd')==\"TOB553\").select('sec_role').groupby('sec_role').count().show()"
   ]
  },
  {
   "cell_type": "code",
   "execution_count": 177,
   "metadata": {
    "collapsed": true
   },
   "outputs": [
    {
     "name": "stdout",
     "output_type": "stream",
     "text": [
      "+---------------+-----+\n",
      "|transactioninfo|count|\n",
      "+---------------+-----+\n",
      "|       HUSKONTO|  919|\n",
      "|      VINSTSPAR|  653|\n",
      "|       Sparande|  571|\n",
      "|     PLACERINGS|  519|\n",
      "|           spar|  481|\n",
      "|         PLACER|  463|\n",
      "|       sparande|  427|\n",
      "|     SERVICEKON|  409|\n",
      "|      SPARKONTO|  384|\n",
      "|     VINNARKONT|  368|\n",
      "|     Överföring|  341|\n",
      "|         e-spar|  320|\n",
      "|           Spar|  298|\n",
      "|          spara|  296|\n",
      "|     överföring|  294|\n",
      "|            LÅN|  293|\n",
      "|          Spara|  257|\n",
      "|       SPARANDE|  225|\n",
      "|         E-spar|  163|\n",
      "|           EGET|  154|\n",
      "|     ÖVERFÖRING|  113|\n",
      "|        e-konto|  105|\n",
      "|            Lån|  103|\n",
      "|           SPAR|  103|\n",
      "|           EGEN|  102|\n",
      "|     Månadsspar|  100|\n",
      "|            lån|   97|\n",
      "|      LÅNEKONTO|   94|\n",
      "|     VILLAKONTO|   88|\n",
      "|          espar|   86|\n",
      "|      sparkonto|   75|\n",
      "|     månadsspar|   75|\n",
      "|          SPARA|   72|\n",
      "|     EGEN ÖVERF|   71|\n",
      "|       Semester|   69|\n",
      "|     Barnbidrag|   69|\n",
      "|       semester|   67|\n",
      "|     SPARANDEKO|   66|\n",
      "|         Huslån|   65|\n",
      "|      DEB KONTO|   64|\n",
      "|          överf|   63|\n",
      "|       från lön|   60|\n",
      "|      Sparkonto|   60|\n",
      "|     EGET SPARA|   60|\n",
      "|     KAPITALKON|   59|\n",
      "|        SPARLÅN|   59|\n",
      "|           eget|   59|\n",
      "|     Egen överf|   57|\n",
      "|        LÖNSPAR|   56|\n",
      "|     PREMIEKONT|   56|\n",
      "+---------------+-----+\n",
      "only showing top 50 rows\n",
      "\n"
     ]
    }
   ],
   "source": [
    "household.filter((F.col('transtypecd')==\"TOB553\") & (F.col('sec_role').isNull())).groupby('transactioninfo').count().sort(F.desc('count')).show(50)"
   ]
  },
  {
   "cell_type": "code",
   "execution_count": 99,
   "metadata": {
    "collapsed": false
   },
   "outputs": [],
   "source": [
    "transfer=sql('select * from ddp_steer.p901cyo_trx_sample_201805_201808 where lower(transactiontype) like \"%överföring%\" sort by partygenid, transactiondate')\\\n",
    "                .withColumn('count', F.lit(1))\\\n",
    "                .withColumn('selftrans',F.when((F.col('partygenid')==F.col('secpartygenid')),1).otherwise(0))"
   ]
  },
  {
   "cell_type": "code",
   "execution_count": 103,
   "metadata": {
    "collapsed": true
   },
   "outputs": [
    {
     "name": "stdout",
     "output_type": "stream",
     "text": [
      "+--------------------+----------------+\n",
      "|     transactiontype|secaccounttypecd|\n",
      "+--------------------+----------------+\n",
      "| Egen int överföring|            null|\n",
      "|     Egen överföring|            null|\n",
      "|FINANSIELL ÖVERFÖ...|            null|\n",
      "|    Retur överföring|            null|\n",
      "|ÖVERFÖRING       ...|            null|\n",
      "|          Överföring|            null|\n",
      "|          Överföring|             KTO|\n",
      "|      Överföring lån|            null|\n",
      "|      Överföring lån|             KTO|\n",
      "|Överföring via In...|             KTO|\n",
      "|Överföring via In...|            null|\n",
      "|Överföring via te...|            null|\n",
      "+--------------------+----------------+\n",
      "\n"
     ]
    }
   ],
   "source": [
    "transfer.select('transactiontype','secaccounttypecd').sort('transactiontype').distinct().show()"
   ]
  },
  {
   "cell_type": "code",
   "execution_count": 2,
   "metadata": {
    "collapsed": true
   },
   "outputs": [],
   "source": [
    "TOB553=sql('select * from ddp_steer.p901cyo_trx_sample_201805_201808 where transtypecd=\"TOB553\"')"
   ]
  },
  {
   "cell_type": "code",
   "execution_count": 8,
   "metadata": {
    "collapsed": false
   },
   "outputs": [
    {
     "name": "stdout",
     "output_type": "stream",
     "text": [
      "+----------------+------+\n",
      "|accountingtypecd| count|\n",
      "+----------------+------+\n",
      "|             IN |885480|\n",
      "+----------------+------+\n",
      "\n"
     ]
    }
   ],
   "source": [
    "TOB553.groupby('accountingtypecd').count().show()"
   ]
  },
  {
   "cell_type": "code",
   "execution_count": 51,
   "metadata": {
    "collapsed": false
   },
   "outputs": [],
   "source": [
    "check=TOB553.select('partygenid','amount','secaccounttypecd','secclearingnum','secaccountnum','secagreementgenid','clearingnum','transactioninfo','secpartygenid')\\\n",
    "      .withColumn('selftrans',F.when((F.col('partygenid')==F.col('secpartygenid')),1).otherwise(0))\\\n",
    "      .filter(F.col('selftrans')==0)\n",
    "#   .groupby('selftrans').count().show()"
   ]
  },
  {
   "cell_type": "code",
   "execution_count": 59,
   "metadata": {
    "collapsed": true
   },
   "outputs": [
    {
     "name": "stdout",
     "output_type": "stream",
     "text": [
      "+----------------+-------+----------------+--------------+-------------+-----------------+-----------+---------------+----------------+---------+\n",
      "|      partygenid| amount|secaccounttypecd|secclearingnum|secaccountnum|secagreementgenid|clearingnum|transactioninfo|   secpartygenid|selftrans|\n",
      "+----------------+-------+----------------+--------------+-------------+-----------------+-----------+---------------+----------------+---------+\n",
      "|0RjRIqZvqO0AAA==|3500.00|            null|          null|         null|        165701658|      83279|            b-m|GZcGAhY3FYiEIw==|        0|\n",
      "|0RjRIqZvqO0AAA==|3500.00|            null|          null|         null|        165701658|      83279|            b-m|GZcGAhY3FYiEIw==|        0|\n",
      "|0RjRIqZvqO0AAA==|3500.00|            null|          null|         null|        165701658|      83279|            b-m|GZcGAhY3FYiEIw==|        0|\n",
      "|1Vxwcy/h2e4AAA==| 500.00|            null|          null|         null|             null|      84202|    79182000581|                |        0|\n",
      "|1Vxwcy/h2e4AAA==| 500.00|            null|          null|         null|             null|      84202|    79182000581|                |        0|\n",
      "+----------------+-------+----------------+--------------+-------------+-----------------+-----------+---------------+----------------+---------+\n",
      "only showing top 5 rows\n",
      "\n"
     ]
    }
   ],
   "source": [
    "check.show(5)"
   ]
  },
  {
   "cell_type": "code",
   "execution_count": 70,
   "metadata": {
    "collapsed": true
   },
   "outputs": [
    {
     "name": "stdout",
     "output_type": "stream",
     "text": [
      "+----------+------+----------------+--------------+-------------+-----------------+-----------+---------------+-------------+---------+------------+\n",
      "|partygenid|amount|secaccounttypecd|secclearingnum|secaccountnum|secagreementgenid|clearingnum|transactioninfo|secpartygenid|selftrans|selftrans_ad|\n",
      "+----------+------+----------------+--------------+-------------+-----------------+-----------+---------------+-------------+---------+------------+\n",
      "+----------+------+----------------+--------------+-------------+-----------------+-----------+---------------+-------------+---------+------------+\n",
      "\n"
     ]
    }
   ],
   "source": [
    "#(F.col('secagreementgenid').isNotNull()) &\n",
    "check\\\n",
    ".withColumn('selftrans_ad',\\\n",
    "F.when(((F.col('clearingnum').isNotNull()) & (F.col('transactioninfo').isNotNull())) ,1)\\\n",
    ".otherwise(0))\\\n",
    ".filter(F.col('selftrans')==0 & F.col('selftrans_ad')==0).show(100)"
   ]
  },
  {
   "cell_type": "code",
   "execution_count": 20,
   "metadata": {
    "collapsed": false
   },
   "outputs": [],
   "source": [
    "TOB552=sql('select * from ddp_steer.p901cyo_trx_sample_201805_201808 where transtypecd=\"TOB552\"')"
   ]
  },
  {
   "cell_type": "code",
   "execution_count": 159,
   "metadata": {
    "collapsed": true
   },
   "outputs": [
    {
     "name": "stdout",
     "output_type": "stream",
     "text": [
      "+--------------+-----+\n",
      "|secclearingnum|count|\n",
      "+--------------+-----+\n",
      "|           997| 1295|\n",
      "|           993|    1|\n",
      "|           985|   41|\n",
      "|           981|    3|\n",
      "|           980|   12|\n",
      "|           963|   32|\n",
      "|           950|    1|\n",
      "|           947|   26|\n",
      "|           942|   13|\n",
      "|           926|   14|\n",
      "|           916|    3|\n",
      "|           914|    6|\n",
      "|           879|   27|\n",
      "|           866|  261|\n",
      "|           815|    4|\n",
      "|           766|   42|\n",
      "|           763|    6|\n",
      "|           641|    1|\n",
      "|           617|   17|\n",
      "|           564|   16|\n",
      "|           551|   19|\n",
      "|           544|    3|\n",
      "|           533|   11|\n",
      "|           526|   79|\n",
      "|           517|   60|\n",
      "|           509|   27|\n",
      "|           508|    8|\n",
      "|           478|    2|\n",
      "|           472|   15|\n",
      "|           431|   18|\n",
      "|           365|    3|\n",
      "|           358|   55|\n",
      "|           336|    5|\n",
      "|           323|    1|\n",
      "|           252|    7|\n",
      "|           244|   63|\n",
      "|           227|    4|\n",
      "|           217|    2|\n",
      "|           165|    3|\n",
      "|           133|   16|\n",
      "|           117|   58|\n",
      "|           106|    1|\n",
      "+--------------+-----+\n",
      "\n"
     ]
    }
   ],
   "source": [
    "#what are these three digit clearing number?\n",
    "#when it is in, then it is only own transfer, only when it is out, it could be to other banks.\n",
    "TOB552.select('partygenid','amount','secaccounttypecd','secclearingnum','secaccountnum','secagreementgenid','clearingnum','transactioninfo','secpartygenid', 'accountingtypecd')\\\n",
    "      .withColumn('selftrans',F.when((F.col('partygenid')==F.col('secpartygenid')),1).otherwise(0))\\\n",
    "      .withColumn('selftrans_ad', F.when((F.col('secclearingnum').isNotNull()) & (F.col('secaccountnum').isNotNull()),0)\\\n",
    "      .otherwise(1))\\\n",
    "      .withColumn('sec_fullnum', F.concat(F.col(\"secclearingnum\"), F.col(\"secaccountnum\")))\\\n",
    "      .withColumn('sec_clearingnum', F.substring(F.col(\"sec_fullnum\"), 0, 4))\\\n",
    "      .filter((F.col('selftrans')==0) & (F.col('selftrans_ad')==0) & (F.trim(F.col('accountingtypecd'))=='IN'))\\\n",
    "      .groupby('secclearingnum').count().sort(F.desc('secclearingnum')).show(100)"
   ]
  },
  {
   "cell_type": "code",
   "execution_count": 153,
   "metadata": {
    "collapsed": true
   },
   "outputs": [
    {
     "name": "stdout",
     "output_type": "stream",
     "text": [
      "+---------------+--------------+-----+\n",
      "|sec_clearingnum|secclearingnum|count|\n",
      "+---------------+--------------+-----+\n",
      "|           8899|           997| 1295|\n",
      "|           0786|           866|  261|\n",
      "|           0752|           526|   79|\n",
      "|           0724|           244|   63|\n",
      "|           0751|           517|   60|\n",
      "|           0711|           117|   58|\n",
      "|           0735|           358|   55|\n",
      "|           0776|           766|   42|\n",
      "|           0798|           985|   41|\n",
      "|           0796|           963|   32|\n",
      "|           0787|           879|   27|\n",
      "|           0750|           509|   27|\n",
      "|           0794|           947|   26|\n",
      "|           0755|           551|   19|\n",
      "|           0743|           431|   18|\n",
      "|           0761|           617|   17|\n",
      "|           0756|           564|   16|\n",
      "|           0713|           133|   16|\n",
      "|           0747|           472|   15|\n",
      "|           0792|           926|   14|\n",
      "|           0794|           942|   13|\n",
      "|           0798|           980|   12|\n",
      "|           0753|           533|   11|\n",
      "|           0750|           508|    8|\n",
      "|           0725|           252|    7|\n",
      "|           0776|           763|    6|\n",
      "|           0791|           914|    6|\n",
      "|           0733|           336|    5|\n",
      "|           0781|           815|    4|\n",
      "|           0722|           227|    4|\n",
      "|           0754|           544|    3|\n",
      "|           0716|           165|    3|\n",
      "|           0791|           916|    3|\n",
      "|           0736|           365|    3|\n",
      "|           0798|           981|    3|\n",
      "|           0721|           217|    2|\n",
      "|           0747|           478|    2|\n",
      "|           0795|           950|    1|\n",
      "|           0764|           641|    1|\n",
      "|           0710|           106|    1|\n",
      "|           0799|           993|    1|\n",
      "|           0732|           323|    1|\n",
      "+---------------+--------------+-----+\n",
      "\n"
     ]
    }
   ],
   "source": [
    "#what are these three digit clearing number?\n",
    "TOB552.withColumn('selftrans',F.when((F.col('partygenid')==F.col('secpartygenid')),1).otherwise(0))\\\n",
    "      .withColumn('selftrans_ad', F.when((F.col('secclearingnum').isNotNull()) & (F.col('secaccountnum').isNotNull()),0)\\\n",
    "      .otherwise(1))\\\n",
    "      .withColumn('sec_fullnum', F.concat(F.col(\"secclearingnum\"), F.col(\"secaccountnum\")))\\\n",
    "      .withColumn('sec_clearingnum', F.substring(F.col(\"transactioninfo\"), 0, 4))\\\n",
    "      .filter((F.col('selftrans')==0) & (F.col('selftrans_ad')==0) & (F.trim(F.col('accountingtypecd'))=='IN') & (F.col(\"transactioninfo\").isNotNull()))\\\n",
    "      .groupby('sec_clearingnum','secclearingnum').count().sort(F.desc('count')).show(100)\n",
    "#   .withColumn('sec_clearingnum', F.substring(F.col(\"sec_fullnum\"), 0, 4))\\"
   ]
  },
  {
   "cell_type": "code",
   "execution_count": 154,
   "metadata": {
    "collapsed": true
   },
   "outputs": [],
   "source": [
    "TOB050=sql('select * from ddp_steer.p901cyo_trx_sample_201805_201808 where transtypecd=\"TOB050\"')"
   ]
  },
  {
   "cell_type": "code",
   "execution_count": 110,
   "metadata": {
    "collapsed": true
   },
   "outputs": [
    {
     "name": "stdout",
     "output_type": "stream",
     "text": [
      "+----------------+--------------------+--------------+--------------------+-----------+---------------+----------------+-------------+--------+------+----------------+--------------+-------------+-----------------+----------------+--------------------+------------+----------------+--------------+----------------------+----------------+------+-----------+------------------------+----------------+-------------+----------------+---------------+------------------+--------------------+----------+---+------+-----------------+\n",
      "|      partygenid|primaryaccountholder|agreementgenid|        productgenid|transtypecd|transactiondate|accountingtypecd|channeltypecd|  amount|bankid|secaccounttypecd|secclearingnum|secaccountnum|secagreementgenid|   secpartygenid|     secproductgenid|channelgenid|transactiongenid|systemsourcecd|identificationmethodcd|paymentroutinecd|secbic|clearingnum|cardtransactionchannelcd| transactioninfo|   kanalgenid|transactionmonth|transactiontype|transactiongroupcd|    transactiongroup| birthdate|age|gender|customerstartdate|\n",
      "+----------------+--------------------+--------------+--------------------+-----------+---------------+----------------+-------------+--------+------+----------------+--------------+-------------+-----------------+----------------+--------------------+------------+----------------+--------------+----------------------+----------------+------+-----------+------------------------+----------------+-------------+----------------+---------------+------------------+--------------------+----------+---+------+-----------------+\n",
      "|+ezG8FuRCQsAAA==|[F9 EC C6 F0 5B 9...|     163620556|[20 04 10 01 00 0...|     TOB050|     2018-08-01|             UT |          OVR|-5000.00|  8999|            null|          null|         null|        163620557|+ezG8FuRCQsAAA==|[20 05 05 01 00 0...|         167|        51419320|           GRK|                  null|            null|  null|      82990|                    null|     75721235063|OVR0508299972|          201808|     Överföring|               EJR|Ej relevant för d...|1948-12-21| 70|     M|       1998-03-21|\n",
      "|+ezG8FuRCQsAAA==|[F9 EC C6 F0 5B 9...|     163620556|[20 04 10 01 00 0...|     TOB050|     2018-05-01|             UT |          OVR|-5000.00|  8999|            null|          null|         null|        163620557|+ezG8FuRCQsAAA==|[20 05 05 01 00 0...|         167|        62215435|           GRK|                  null|            null|  null|      82990|                    null|     75721235063|OVR0508299972|          201805|     Överföring|               EJR|Ej relevant för d...|1948-12-21| 70|     M|       1998-03-21|\n",
      "|+ezG8FuRCQsAAA==|[F9 EC C6 F0 5B 9...|     163620557|[20 05 05 01 00 0...|     TOB050|     2018-08-20|             UT |          OVR| -200.00|  8999|            null|          null|         null|        318454481|+ezG8FuRCQsAAA==|[20 06 01 01 00 0...|         167|       174179846|           GRK|                  null|            null|  null|      82990|                    null|0835430031870587|OVR0508299972|          201808|     Överföring|               EJR|Ej relevant för d...|1948-12-21| 70|     M|       1998-03-21|\n",
      "|+ezG8FuRCQsAAA==|[F9 EC C6 F0 5B 9...|     163620556|[20 04 10 01 00 0...|     TOB050|     2018-06-01|             UT |          OVR|-5000.00|  8999|            null|          null|         null|        163620557|+ezG8FuRCQsAAA==|[20 05 05 01 00 0...|         167|        29939458|           GRK|                  null|            null|  null|      82990|                    null|     75721235063|OVR0508299972|          201806|     Överföring|               EJR|Ej relevant för d...|1948-12-21| 70|     M|       1998-03-21|\n",
      "|+ezG8FuRCQsAAA==|[F9 EC C6 F0 5B 9...|     163620556|[20 04 10 01 00 0...|     TOB050|     2018-07-01|             UT |          OVR|-5000.00|  8999|            null|          null|         null|        163620557|+ezG8FuRCQsAAA==|[20 05 05 01 00 0...|         167|        45865973|           GRK|                  null|            null|  null|      82990|                    null|     75721235063|OVR0508299972|          201807|     Överföring|               EJR|Ej relevant för d...|1948-12-21| 70|     M|       1998-03-21|\n",
      "|/L61VE2OcPEAAA==|[FC BE B5 54 4D 8...|     161308309|[20 05 12 01 00 2...|     TOB050|     2018-07-25|             UT |          OVR| -500.00|  8999|            null|          null|         null|        273734049|/L61VE2OcPEAAA==|[12 01 03 00 00 2...|         167|       220678237|           GRK|                  null|            null|  null|      82016|                    null|0820169445639785|OVR0508201972|          201807|     Överföring|               EJR|Ej relevant för d...|1964-05-22| 54|     F|       1998-03-21|\n",
      "|/L61VE2OcPEAAA==|[FC BE B5 54 4D 8...|     161308309|[20 05 12 01 00 2...|     TOB050|     2018-07-26|             IN |          OVR| 4000.00|  8999|            null|          null|         null|        161308668|GZcGAhYhVUZ4FA==|[20 05 05 01 00 0...|         167|       232511501|           GRK|                  null|            null|  null|      82016|                    null|         Fredrik|OVR0508201972|          201807|     Överföring|               EJR|Ej relevant för d...|1964-05-22| 54|     F|       1998-03-21|\n",
      "|/L61VE2OcPEAAA==|[FC BE B5 54 4D 8...|     161308309|[20 05 12 01 00 2...|     TOB050|     2018-05-25|             UT |          OVR| -500.00|  8999|            null|          null|         null|        260154665|/L61VE2OcPEAAA==|[12 01 03 00 00 2...|         167|       229010802|           GRK|                  null|            null|  null|      82016|                    null|0820169436232129|OVR0508201972|          201805|     Överföring|               EJR|Ej relevant för d...|1964-05-22| 54|     F|       1998-03-21|\n",
      "|/L61VE2OcPEAAA==|[FC BE B5 54 4D 8...|     161308309|[20 05 12 01 00 2...|     TOB050|     2018-05-28|             UT |          OVR| -500.00|  8999|            null|          null|         null|        306567435|/L61VE2OcPEAAA==|[20 05 12 01 00 2...|         167|       251344128|           GRK|                  null|            null|  null|      82016|                    null|               M|OVR0508201972|          201805|     Överföring|               EJR|Ej relevant för d...|1964-05-22| 54|     F|       1998-03-21|\n",
      "|/L61VE2OcPEAAA==|[FC BE B5 54 4D 8...|     161308309|[20 05 12 01 00 2...|     TOB050|     2018-06-25|             UT |          OVR| -500.00|  8999|            null|          null|         null|        260154665|/L61VE2OcPEAAA==|[12 01 03 00 00 2...|         167|       192443452|           GRK|                  null|            null|  null|      82016|                    null|0820169436232129|OVR0508201972|          201806|     Överföring|               EJR|Ej relevant för d...|1964-05-22| 54|     F|       1998-03-21|\n",
      "+----------------+--------------------+--------------+--------------------+-----------+---------------+----------------+-------------+--------+------+----------------+--------------+-------------+-----------------+----------------+--------------------+------------+----------------+--------------+----------------------+----------------+------+-----------+------------------------+----------------+-------------+----------------+---------------+------------------+--------------------+----------+---+------+-----------------+\n",
      "only showing top 10 rows\n",
      "\n"
     ]
    }
   ],
   "source": [
    "TOB050.show(10)"
   ]
  },
  {
   "cell_type": "code",
   "execution_count": 156,
   "metadata": {
    "collapsed": true
   },
   "outputs": [
    {
     "name": "stdout",
     "output_type": "stream",
     "text": [
      "+--------------+-----+\n",
      "|secclearingnum|count|\n",
      "+--------------+-----+\n",
      "|          9924|    1|\n",
      "|          9706|    1|\n",
      "|          9700|   79|\n",
      "|          9688|    4|\n",
      "|          9670|  314|\n",
      "|          9660|   56|\n",
      "|          9652|  226|\n",
      "|          9651|   36|\n",
      "|          9650|   23|\n",
      "|          9647|    1|\n",
      "|          9644|    1|\n",
      "|          9643|    1|\n",
      "|          9641|    1|\n",
      "|          9640|  124|\n",
      "|          9630|  902|\n",
      "|          9592|    2|\n",
      "|          9563|    1|\n",
      "|          9562|   30|\n",
      "|          9559|   31|\n",
      "|          9558|   32|\n",
      "|          9557|   37|\n",
      "|          9556|   51|\n",
      "|          9555|   22|\n",
      "|          9554|   30|\n",
      "|          9553| 1499|\n",
      "|          9552| 1557|\n",
      "|          9551| 2706|\n",
      "|          9550| 1893|\n",
      "|          9470|    2|\n",
      "|          9469|  585|\n",
      "|          9420| 7040|\n",
      "|          9410|   13|\n",
      "|          9390|  530|\n",
      "|          9281|  462|\n",
      "|          9272|18448|\n",
      "|          9271|14165|\n",
      "|          9270| 9236|\n",
      "|          9252|12080|\n",
      "|          9251|  138|\n",
      "|          9235|  908|\n",
      "|          9230|   19|\n",
      "|          9198|    2|\n",
      "|          9195|   30|\n",
      "|          9173|    2|\n",
      "|          9172|  308|\n",
      "|          9170|  596|\n",
      "|          9169|   21|\n",
      "|          9159| 2563|\n",
      "|          9157|    1|\n",
      "|          9156|   12|\n",
      "|          9150| 4627|\n",
      "|          9149|    1|\n",
      "|          9140|    1|\n",
      "|          9135|    1|\n",
      "|          9134|    3|\n",
      "|          9109|  395|\n",
      "|          9100| 1320|\n",
      "|          9040|   36|\n",
      "|          9024| 6433|\n",
      "|          9023| 6669|\n",
      "|          9022| 6688|\n",
      "|          9021|    3|\n",
      "|          9020| 4665|\n",
      "|          6099|  376|\n",
      "|          6098|  395|\n",
      "|          6097|  339|\n",
      "|          6096|  353|\n",
      "|          6095|  444|\n",
      "|          6094|  385|\n",
      "|          6093|  492|\n",
      "|          6092|  361|\n",
      "|          6091|  349|\n",
      "|          6090|  399|\n",
      "|          6089|  353|\n",
      "|          6088|  271|\n",
      "|          6087|  271|\n",
      "|          6086|  328|\n",
      "|          6085|  341|\n",
      "|          6084|  335|\n",
      "|          6083|  400|\n",
      "|          6082|  357|\n",
      "|          6081|  380|\n",
      "|          6080|  346|\n",
      "|          6079|  631|\n",
      "|          6078|  577|\n",
      "|          6077|  644|\n",
      "|          6076|  691|\n",
      "|          6075|  834|\n",
      "|          6074|  742|\n",
      "|          6073|  726|\n",
      "|          6072|  655|\n",
      "|          6071|  771|\n",
      "|          6070|  734|\n",
      "|          6069|  597|\n",
      "|          6068|  685|\n",
      "|          6067|  683|\n",
      "|          6066|  697|\n",
      "|          6065|  728|\n",
      "|          6064|  829|\n",
      "|          6063|  614|\n",
      "+--------------+-----+\n",
      "only showing top 100 rows\n",
      "\n"
     ]
    }
   ],
   "source": [
    "TOB552.groupby('secclearingnum').count().sort(F.desc('secclearingnum')).show(100)"
   ]
  },
  {
   "cell_type": "code",
   "execution_count": 104,
   "metadata": {
    "collapsed": true
   },
   "outputs": [
    {
     "name": "stdout",
     "output_type": "stream",
     "text": [
      "+----------------+---------+----------------+--------------+-------------+-----------------+-----------+----------------+----------------+----------------+---------+------------+\n",
      "|      partygenid|   amount|secaccounttypecd|secclearingnum|secaccountnum|secagreementgenid|clearingnum| transactioninfo|   secpartygenid|accountingtypecd|selftrans|selftrans_ad|\n",
      "+----------------+---------+----------------+--------------+-------------+-----------------+-----------+----------------+----------------+----------------+---------+------------+\n",
      "|/L61VE2OcPEAAA==|  4000.00|            null|          null|         null|        161308668|      82016|         Fredrik|GZcGAhYhVUZ4FA==|             IN |        0|           1|\n",
      "|/L61VE2OcPEAAA==|  4000.00|            null|          null|         null|        161308668|      82016|         Fredrik|GZcGAhYhVUZ4FA==|             IN |        0|           1|\n",
      "|/L61VE2OcPEAAA==|  4000.00|            null|          null|         null|        161308668|      82016|         Fredrik|GZcGAhYhVUZ4FA==|             IN |        0|           1|\n",
      "|/L61VE2OcPEAAA==| 19000.00|            null|          null|         null|        161436182|      82016|        Resa M F|GZcGAhYhVUZ4FA==|             IN |        0|           1|\n",
      "|/otJjpilpsIAAA==|    85.00|            null|          null|         null|        295439547|      81059|      0000000000|IAUEKQAxKQZiEw==|             IN |        0|           1|\n",
      "|/otJjpilpsIAAA==|    85.00|            null|          null|         null|        295439547|      81059|      0000000000|IAUEKQAxKQZiEw==|             IN |        0|           1|\n",
      "|/yD0m3Zp0dAAAA==|   500.00|            null|          null|         null|        154928787|      81034|         Test UW|GZcGAhUBNgEpVg==|             IN |        0|           1|\n",
      "|/yD0m3Zp0dAAAA==| 49500.00|            null|          null|         null|        154928787|      81034|        Rav 4 UW|GZcGAhUBNgEpVg==|             IN |        0|           1|\n",
      "|0RjRIqZvqO0AAA==|   150.00|            null|          null|         null|        165701658|      83279|              bm|GZcGAhY3FYiEIw==|             IN |        0|           1|\n",
      "|0RjRIqZvqO0AAA==|   400.00|            null|          null|         null|        165701658|      83279|          bensin|GZcGAhY3FYiEIw==|             IN |        0|           1|\n",
      "|0RjRIqZvqO0AAA==|   500.00|            null|          null|         null|        165701658|      83279|      bensinbens|GZcGAhY3FYiEIw==|             IN |        0|           1|\n",
      "|0jLqcjln+oEAAA==|   200.00|            null|          null|         null|        165294130|      83279|      4182811741|IAQCJwESNiEGgg==|             IN |        0|           1|\n",
      "|0jLqcjln+oEAAA==|   700.00|            null|          null|         null|        165294130|      83279|      1804779672|GZcGAhZAMHVAJQ==|             IN |        0|           1|\n",
      "|0jLqcjln+oEAAA==|   200.00|            null|          null|         null|        165294130|      83279|      4062763992|GZcGAhZAICA3lA==|             IN |        0|           1|\n",
      "|0jLqcjln+oEAAA==|  1450.00|            null|          null|         null|        165294130|      83279|      1647534964|IAQCJwESNiEGgg==|             IN |        0|           1|\n",
      "|0jLqcjln+oEAAA==|   300.00|            null|          null|         null|        165294130|      83279|      2144972327|IAQCJwESNiEGgg==|             IN |        0|           1|\n",
      "|0jLqcjln+oEAAA==|   350.00|            null|          null|         null|        165294130|      83279|      3191037259|GZcGAhZAMHVAJQ==|             IN |        0|           1|\n",
      "|0jLqcjln+oEAAA==|   250.00|            null|          null|         null|        165294130|      83279|      2544982100|GZcGAhZAMHVAJQ==|             IN |        0|           1|\n",
      "|0jLqcjln+oEAAA==|   450.00|            null|          null|         null|        165294130|      83279|      2297680117|IAECFgFIQwdpRA==|             IN |        0|           1|\n",
      "|0jLqcjln+oEAAA==|   240.00|            null|          null|         null|        165294130|      83279|      1437182775|GZcGAhZAIWJjcg==|             IN |        0|           1|\n",
      "|0jLqcjln+oEAAA==|   290.00|            null|          null|         null|        165294130|      83279|      1489678928|IAECFgFIQwdpRA==|             IN |        0|           1|\n",
      "|0jLqcjln+oEAAA==|   500.00|            null|          null|         null|        168545431|      84202|         GRATTIS|GZkEAQEHFgBTMw==|             IN |        0|           1|\n",
      "|0jLqcjln+oEAAA==|   300.00|            null|          null|         null|        165294130|      83279|      1821919618|IAECFgFIQwdpRA==|             IN |        0|           1|\n",
      "|1Vxwcy/h2e4AAA==|300000.00|            null|          null|         null|        168014090|      84202|        Köp 22:5|GZcGAhZEQHmYZw==|             IN |        0|           1|\n",
      "|1Vxwcy/h2e4AAA==|  -500.00|            null|          null|         null|             null|      84202|         Sparkap|                |             UT |        0|           1|\n",
      "|1Vxwcy/h2e4AAA==|  -500.00|            null|          null|         null|             null|      84202|         Sparkap|                |             UT |        0|           1|\n",
      "|1Vxwcy/h2e4AAA==|  -500.00|            null|          null|         null|             null|      84202|         Sparkap|                |             UT |        0|           1|\n",
      "|2Hyo9QPNpNQAAA==|  -800.00|            null|          null|         null|             null|      81059|        ALMAFOND|                |             UT |        0|           1|\n",
      "|2Hyo9QPNpNQAAA==|  -800.00|            null|          null|         null|             null|      81059|        ALMAFOND|                |             UT |        0|           1|\n",
      "|2Hyo9QPNpNQAAA==|  -800.00|            null|          null|         null|             null|      81059|        ALMAFOND|                |             UT |        0|           1|\n",
      "|2Hyo9QPNpNQAAA==|  -800.00|            null|          null|         null|             null|      81059|        ALMAFOND|                |             UT |        0|           1|\n",
      "|3DOrKGLAkqgAAA==| -1000.00|            null|          null|         null|        254765584|      81505|             mat|GZcGAhYXOJVYNw==|             UT |        0|           1|\n",
      "|3DOrKGLAkqgAAA==| -1000.00|            null|          null|         null|        254765584|      81505|             mat|GZcGAhYXOJVYNw==|             UT |        0|           1|\n",
      "|3DOrKGLAkqgAAA==|  -500.00|            null|          null|         null|        317459177|      81505|         Pension|GZcGAhYXOJVYNw==|             UT |        0|           1|\n",
      "|3DOrKGLAkqgAAA==| -1000.00|            null|          null|         null|        254765584|      81505|             mat|GZcGAhYXOJVYNw==|             UT |        0|           1|\n",
      "|3DOrKGLAkqgAAA==| -1000.00|            null|          null|         null|        254765584|      81505|             mat|GZcGAhYXOJVYNw==|             UT |        0|           1|\n",
      "|3DOrKGLAkqgAAA==| -1000.00|            null|          null|         null|        254765584|      81505|             mat|GZcGAhYXOJVYNw==|             UT |        0|           1|\n",
      "|3DOrKGLAkqgAAA==| -1000.00|            null|          null|         null|        254765584|      81505|             mat|GZcGAhYXOJVYNw==|             UT |        0|           1|\n",
      "|3DOrKGLAkqgAAA==|  -500.00|            null|          null|         null|        317459177|      81505|         Pension|GZcGAhYXOJVYNw==|             UT |        0|           1|\n",
      "|3DOrKGLAkqgAAA==|  -500.00|            null|          null|         null|        317459177|      81505|         Pension|GZcGAhYXOJVYNw==|             UT |        0|           1|\n",
      "|3DOrKGLAkqgAAA==| -1000.00|            null|          null|         null|        254765584|      81505|             mat|GZcGAhYXOJVYNw==|             UT |        0|           1|\n",
      "|3DOrKGLAkqgAAA==| -1000.00|            null|          null|         null|        254765584|      81505|             mat|GZcGAhYXOJVYNw==|             UT |        0|           1|\n",
      "|3DOrKGLAkqgAAA==| -1000.00|            null|          null|         null|        254765584|      81505|             mat|GZcGAhYXOJVYNw==|             UT |        0|           1|\n",
      "|5GGdKVKtJq0AAA==|  4460.00|            null|          null|         null|        276340928|      82149|      FORDONSBET|IoCrP/X1KdUAAA==|             IN |        0|           1|\n",
      "|5GGdKVKtJq0AAA==|  1600.00|            null|          null|         null|        160508019|      81695|         EPA-LEO|K5G1naDQl+8AAA==|             IN |        0|           1|\n",
      "|5GGdKVKtJq0AAA==|  1370.00|            null|          null|         null|        159856883|      81695|             bil|EGXP0ogLOCYAAA==|             IN |        0|           1|\n",
      "|5GGdKVKtJq0AAA==|  2917.00|            null|          null|         null|        276340928|      82149|          TBY474|IoCrP/X1KdUAAA==|             IN |        0|           1|\n",
      "|5GGdKVKtJq0AAA==|  4460.00|            null|          null|         null|        276340928|      82149|      FORDONSBET|IoCrP/X1KdUAAA==|             IN |        0|           1|\n",
      "|5GGdKVKtJq0AAA==|  1370.00|            null|          null|         null|        159856883|      81695|             bil|EGXP0ogLOCYAAA==|             IN |        0|           1|\n",
      "|5GGdKVKtJq0AAA==|  1600.00|            null|          null|         null|        160508019|      81695|         EPA-LEO|K5G1naDQl+8AAA==|             IN |        0|           1|\n",
      "|5GGdKVKtJq0AAA==|  5208.00|            null|          null|         null|        160861701|      81695|         TUK 454|BxIhAEcUAAIWhw==|             IN |        0|           1|\n",
      "|5GGdKVKtJq0AAA==|  4460.00|            null|          null|         null|        276340928|      82149|      FORDONSBET|IoCrP/X1KdUAAA==|             IN |        0|           1|\n",
      "|5GGdKVKtJq0AAA==|  2917.00|            null|          null|         null|        276340928|      82149|          TBY474|IoCrP/X1KdUAAA==|             IN |        0|           1|\n",
      "|5GGdKVKtJq0AAA==|  1600.00|            null|          null|         null|        160508019|      81695|         EPA-LEO|K5G1naDQl+8AAA==|             IN |        0|           1|\n",
      "|5GGdKVKtJq0AAA==|  1370.00|            null|          null|         null|        159856883|      81695|             bil|EGXP0ogLOCYAAA==|             IN |        0|           1|\n",
      "|5GGdKVKtJq0AAA==|  2917.00|            null|          null|         null|        276340928|      82149|          TBY474|IoCrP/X1KdUAAA==|             IN |        0|           1|\n",
      "|5GGdKVKtJq0AAA==|  5208.00|            null|          null|         null|        160861701|      81695|         TUK 454|BxIhAEcUAAIWhw==|             IN |        0|           1|\n",
      "|5PDmQ/DBvFQAAA==|  1408.00|            null|          null|         null|        156210078|      81059|      vs 6-92228|CAYQABMpAABUAQ==|             IN |        0|           1|\n",
      "|5PDmQ/DBvFQAAA==|   250.00|            null|          null|         null|        160738070|      81695|      sommarlovs|BzxxXiay0HIAAA==|             IN |        0|           1|\n",
      "|6vttNpx21iQAAA==|  -100.00|            null|          null|         null|             null|      81034|      ALLEMANSFO|                |             UT |        0|           1|\n",
      "|6vttNpx21iQAAA==|  -100.00|            null|          null|         null|             null|      81034|      ALLEMANSFO|                |             UT |        0|           1|\n",
      "|6vttNpx21iQAAA==|  -100.00|            null|          null|         null|             null|      81034|      ALLEMANSFO|                |             UT |        0|           1|\n",
      "|6vttNpx21iQAAA==|  -100.00|            null|          null|         null|             null|      81034|      ALLEMANSFO|                |             UT |        0|           1|\n",
      "|7Okcm35aJXcAAA==|  -200.00|            null|          null|         null|             null|      84806|           BRICT|                |             UT |        0|           1|\n",
      "|7Okcm35aJXcAAA==|  -200.00|            null|          null|         null|             null|      84806|           BRICT|                |             UT |        0|           1|\n",
      "|7Okcm35aJXcAAA==|  -200.00|            null|          null|         null|             null|      84806|      PRIVATISER|                |             UT |        0|           1|\n",
      "|7Okcm35aJXcAAA==|  -200.00|            null|          null|         null|             null|      84806|      PRIVATISER|                |             UT |        0|           1|\n",
      "|7Okcm35aJXcAAA==|  -200.00|            null|          null|         null|             null|      84806|      NORDENFOND|                |             UT |        0|           1|\n",
      "|7Okcm35aJXcAAA==|  -200.00|            null|          null|         null|             null|      84806|           BRICT|                |             UT |        0|           1|\n",
      "|7Okcm35aJXcAAA==|  -200.00|            null|          null|         null|             null|      84806|      PRIVATISER|                |             UT |        0|           1|\n",
      "|7Okcm35aJXcAAA==|  -200.00|            null|          null|         null|             null|      84806|      NORDENFOND|                |             UT |        0|           1|\n",
      "|7Okcm35aJXcAAA==|  -200.00|            null|          null|         null|             null|      84806|      NORDENFOND|                |             UT |        0|           1|\n",
      "|87TvTmbv2LcAAA==| -4000.00|            null|          null|         null|        167340922|      83816|     77132506404|3/2JOVuPYbcAAA==|             UT |        0|           1|\n",
      "|8P3yHNOvW7IAAA==|500000.00|            null|          null|         null|        156131819|      81059|       Utdelning|ExEoBgYlAAIjRA==|             IN |        0|           1|\n",
      "|8P3yHNOvW7IAAA==| 37137.00|            null|          null|         null|        156131819|      81059|             Lön|ExEoBgYlAAIjRA==|             IN |        0|           1|\n",
      "|8P3yHNOvW7IAAA==|500000.00|            null|          null|         null|        156131819|      81059|       Utdelning|ExEoBgYlAAIjRA==|             IN |        0|           1|\n",
      "|8oqmkk5Oz3gAAA==|  -100.00|            null|          null|         null|             null|      81034|      ALLEMANSFO|                |             UT |        0|           1|\n",
      "|8oqmkk5Oz3gAAA==|  -100.00|            null|          null|         null|             null|      81034|      ALLEMANSFO|                |             UT |        0|           1|\n",
      "|8oqmkk5Oz3gAAA==|  -100.00|            null|          null|         null|             null|      81034|      ALLEMANSFO|                |             UT |        0|           1|\n",
      "|8oqmkk5Oz3gAAA==|  -100.00|            null|          null|         null|             null|      81034|      ALLEMANSFO|                |             UT |        0|           1|\n",
      "|9+3BBCiYdhgAAA==|  -300.00|            null|          null|         null|             null|      81471|0814719733122486|                |             UT |        0|           1|\n",
      "|9+3BBCiYdhgAAA==| -2500.00|            null|          null|         null|             null|      81471|0814719733121496|                |             UT |        0|           1|\n",
      "|9+3BBCiYdhgAAA==|  -300.00|            null|          null|         null|             null|      81471|0814719733122486|                |             UT |        0|           1|\n",
      "|9+3BBCiYdhgAAA==| -2500.00|            null|          null|         null|             null|      81471|0814719733121496|                |             UT |        0|           1|\n",
      "|9+3BBCiYdhgAAA==|  -300.00|            null|          null|         null|             null|      81471|0814719733122486|                |             UT |        0|           1|\n",
      "|9+3BBCiYdhgAAA==| -2500.00|            null|          null|         null|             null|      81471|0814719733121496|                |             UT |        0|           1|\n",
      "|BQgYABBAAACDAw==|  -300.00|            null|          null|         null|             null|      84202|0842029030781422|                |             UT |        0|           1|\n",
      "|BQgYABBAAACDAw==|  1500.00|            null|          null|         null|        186104760|      84202|                |BwMSCBk5AAM5lQ==|             IN |        0|           1|\n",
      "|BQgYABBAAACDAw==|  1500.00|            null|          null|         null|        186104760|      84202|                |BwMSCBk5AAM5lQ==|             IN |        0|           1|\n",
      "|BQgYABBAAACDAw==|  1000.00|            null|          null|         null|        186104760|      84202|                |BwMSCBk5AAM5lQ==|             IN |        0|           1|\n",
      "|BQgYABBAAACDAw==|   500.00|            null|          null|         null|        267901355|      84202|                |BwMSCBk5AAM5lQ==|             IN |        0|           1|\n",
      "|BQgYABBAAACDAw==|  -300.00|            null|          null|         null|             null|      84202|0842029030781422|                |             UT |        0|           1|\n",
      "|BQgYABBAAACDAw==|   850.00|            null|          null|         null|        186104760|      84202|                |BwMSCBk5AAM5lQ==|             IN |        0|           1|\n",
      "|BQgYABBAAACDAw==|   300.00|            null|          null|         null|        186104760|      84202|                |BwMSCBk5AAM5lQ==|             IN |        0|           1|\n",
      "|BQgYABBAAACDAw==|   100.00|            null|          null|         null|        186104760|      84202|                |BwMSCBk5AAM5lQ==|             IN |        0|           1|\n",
      "|BQgYABBAAACDAw==|   200.00|            null|          null|         null|        186104760|      84202|                |BwMSCBk5AAM5lQ==|             IN |        0|           1|\n",
      "|BQgYABBAAACDAw==|  1000.00|            null|          null|         null|        186104760|      84202|                |BwMSCBk5AAM5lQ==|             IN |        0|           1|\n",
      "|BQgYABBAAACDAw==|  -300.00|            null|          null|         null|             null|      84202|0842029030781422|                |             UT |        0|           1|\n",
      "|BQgYABBAAACDAw==|   300.00|            null|          null|         null|        168753053|      84202|                |BgQZABEzAACVEQ==|             IN |        0|           1|\n",
      "|BQkgAFIzAAEHeA==|   150.00|            null|          null|         null|        188399624|      82990|       postkoden|GZcGAhYzOZcxCQ==|             IN |        0|           1|\n",
      "+----------------+---------+----------------+--------------+-------------+-----------------+-----------+----------------+----------------+----------------+---------+------------+\n",
      "only showing top 100 rows\n",
      "\n"
     ]
    }
   ],
   "source": [
    "TOB050.select('partygenid','amount','secaccounttypecd','secclearingnum','secaccountnum','secagreementgenid','clearingnum','transactioninfo','secpartygenid', 'accountingtypecd')\\\n",
    ".withColumn('selftrans',F.when((F.col('partygenid')==F.col('secpartygenid')),1).otherwise(0))\\\n",
    ".withColumn('selftrans_ad', F.when(((F.col('secclearingnum').isNull()) & (F.col('secaccountnum').isNull())),1)\\\n",
    ".otherwise(0))\\\n",
    ".filter((F.col('selftrans_ad')==1) & (F.col('selftrans')==0)).show(100)\n",
    "#.filter((F.col('selftrans')==1) & (F.trim(F.col('accountingtypecd'))=='IN')).show(100)"
   ]
  },
  {
   "cell_type": "code",
   "execution_count": 88,
   "metadata": {
    "collapsed": false
   },
   "outputs": [
    {
     "name": "stdout",
     "output_type": "stream",
     "text": [
      "+--------------+-----+\n",
      "|secclearingnum|count|\n",
      "+--------------+-----+\n",
      "|          null|19889|\n",
      "+--------------+-----+\n",
      "\n"
     ]
    }
   ],
   "source": [
    "#TOB104 \n",
    "TOB104=sql('select * from ddp_steer.p901cyo_trx_sample_201805_201808 where transtypecd=\"TOB104\"')\n",
    "TOB104.filter((F.col('transtypecd')=='TOB104') & (F.trim(F.col('accountingtypecd'))=='UT'))\\\n",
    "      .select('partygenid','transactiondate','transtypecd', 'amount','accountingtypecd' ,'secaccounttypecd','secclearingnum','secaccountnum','secagreementgenid','clearingnum','transactioninfo')\\\n",
    "      .sort('partygenid', 'transactiondate', F.abs(F.col('amount')))\\\n",
    "      .groupby('secclearingnum').count().show()"
   ]
  },
  {
   "cell_type": "code",
   "execution_count": 93,
   "metadata": {
    "collapsed": false
   },
   "outputs": [
    {
     "name": "stdout",
     "output_type": "stream",
     "text": [
      "+--------------+------+\n",
      "|secclearingnum| count|\n",
      "+--------------+------+\n",
      "|          null|339053|\n",
      "+--------------+------+\n",
      "\n"
     ]
    }
   ],
   "source": [
    "#TOB490 \n",
    "TOB490=sql('select * from ddp_steer.p901cyo_trx_sample_201805_201808 where transtypecd=\"TOB490\"')\n",
    "TOB490.filter((F.col('transtypecd')=='TOB490'))\\\n",
    "      .select('partygenid','agreementgenid','transactiondate','transtypecd', 'amount','accountingtypecd' ,'secaccounttypecd','secclearingnum','secaccountnum','secagreementgenid','clearingnum','transactioninfo')\\\n",
    "      .sort('partygenid', 'transactiondate', F.abs(F.col('amount')))\\\n",
    "      .groupby('secclearingnum').count().show()"
   ]
  },
  {
   "cell_type": "code",
   "execution_count": 105,
   "metadata": {
    "collapsed": true
   },
   "outputs": [],
   "source": [
    "TOB490=sql('select * from ddp_steer.p901cyo_trx_sample_201805_201808 where transtypecd=\"TOB490\"')"
   ]
  },
  {
   "cell_type": "code",
   "execution_count": 109,
   "metadata": {
    "collapsed": true
   },
   "outputs": [
    {
     "name": "stdout",
     "output_type": "stream",
     "text": [
      "+----------------+---------+----------------+--------------+-------------+-----------------+-----------+---------------+-------------+----------------+---------+------------+\n",
      "|      partygenid|   amount|secaccounttypecd|secclearingnum|secaccountnum|secagreementgenid|clearingnum|transactioninfo|secpartygenid|accountingtypecd|selftrans|selftrans_ad|\n",
      "+----------------+---------+----------------+--------------+-------------+-----------------+-----------+---------------+-------------+----------------+---------+------------+\n",
      "|4x1lini4E7kAAA==|  8000.00|            null|          null|         null|             null|      84806|    71682805492|             |             IN |        0|           1|\n",
      "|4x1lini4E7kAAA==| -7000.00|            null|          null|         null|             null|      84806|     9245865150|             |             UT |        0|           1|\n",
      "|4x1lini4E7kAAA==| -8000.00|            null|          null|         null|             null|      84806|     9245865150|             |             UT |        0|           1|\n",
      "|4x1lini4E7kAAA==|  7000.00|            null|          null|         null|             null|      84806|    71682805492|             |             IN |        0|           1|\n",
      "|BgEgABMJAAMIkA==|  1000.00|            null|          null|         null|             null|      88997|         531038|             |             IN |        0|           1|\n",
      "|BgEgABMJAAMIkA==|   400.00|            null|          null|         null|             null|      88997|         531038|             |             IN |        0|           1|\n",
      "|CQkmABISAAFUdw==|  1000.00|            null|          null|         null|             null|      84178|      247161359|             |             IN |        0|           1|\n",
      "|CQkmABISAAFUdw==|   500.00|            null|          null|         null|             null|      84178|      247161359|             |             IN |        0|           1|\n",
      "|CQkmABISAAFUdw==|   650.00|            null|          null|         null|             null|      84178|      247161359|             |             IN |        0|           1|\n",
      "|CQkmABISAAFUdw==|  3360.00|            null|          null|         null|             null|      84178|      247161359|             |             IN |        0|           1|\n",
      "|CQkmABISAAFUdw==|   500.00|            null|          null|         null|             null|      84178|      947379301|             |             IN |        0|           1|\n",
      "|CQkmABISAAFUdw==|  1000.00|            null|          null|         null|             null|      84178|      247161359|             |             IN |        0|           1|\n",
      "|CQkmABISAAFUdw==|   550.00|            null|          null|         null|             null|      84178|      247161359|             |             IN |        0|           1|\n",
      "|CQkmABISAAFUdw==|  2000.00|            null|          null|         null|             null|      84178|      947379301|             |             IN |        0|           1|\n",
      "|EBIDABgoAAZ5gA==| -1000.00|            null|          null|         null|             null|      81059|     9343493764|             |             UT |        0|           1|\n",
      "|EBIDABgoAAZ5gA==|  -200.00|            null|          null|         null|             null|      81059|      641001193|             |             UT |        0|           1|\n",
      "|EBIDABgoAAZ5gA==|  -300.00|            null|          null|         null|             null|      81059|      641001193|             |             UT |        0|           1|\n",
      "|EBIDABgoAAZ5gA==|  -300.00|            null|          null|         null|             null|      81059|      641001193|             |             UT |        0|           1|\n",
      "|EBIDABgoAAZ5gA==|  -100.00|            null|          null|         null|             null|      81059|      641001193|             |             UT |        0|           1|\n",
      "|EBIDABgoAAZ5gA==|  -400.00|            null|          null|         null|             null|      81059|      641001193|             |             UT |        0|           1|\n",
      "|EBIDABgoAAZ5gA==|  -500.00|            null|          null|         null|             null|      81059|      641001193|             |             UT |        0|           1|\n",
      "|EBIDABgoAAZ5gA==|  -800.00|            null|          null|         null|             null|      81059|      641001193|             |             UT |        0|           1|\n",
      "|EBIDABgoAAZ5gA==|   400.00|            null|          null|         null|             null|      81059|      641001193|             |             IN |        0|           1|\n",
      "|EBIDABgoAAZ5gA==|  -400.00|            null|          null|         null|             null|      81059|      641001193|             |             UT |        0|           1|\n",
      "|EBIDABgoAAZ5gA==| -1500.00|            null|          null|         null|             null|      81059|      641001193|             |             UT |        0|           1|\n",
      "|EBIDABgoAAZ5gA==|  2000.00|            null|          null|         null|             null|      81059|      641001193|             |             IN |        0|           1|\n",
      "|EBIDABgoAAZ5gA==|  -200.00|            null|          null|         null|             null|      81059|      641001193|             |             UT |        0|           1|\n",
      "|EBIDABgoAAZ5gA==|  -300.00|            null|          null|         null|             null|      81059|      641001193|             |             UT |        0|           1|\n",
      "|EBIDABgoAAZ5gA==|  -100.00|            null|          null|         null|             null|      81059|     9233719385|             |             UT |        0|           1|\n",
      "|EBIDABgoAAZ5gA==|  1000.00|            null|          null|         null|             null|      81059|     9233719385|             |             IN |        0|           1|\n",
      "|EBIDABgoAAZ5gA==|  -200.00|            null|          null|         null|             null|      81059|      641001193|             |             UT |        0|           1|\n",
      "|EBIDABgoAAZ5gA==| -1000.00|            null|          null|         null|             null|      81059|      641001193|             |             UT |        0|           1|\n",
      "|EBIDABgoAAZ5gA==|  -900.00|            null|          null|         null|             null|      81059|      641001193|             |             UT |        0|           1|\n",
      "|EBIDABgoAAZ5gA==|  -300.00|            null|          null|         null|             null|      81059|      641001193|             |             UT |        0|           1|\n",
      "|EBIDABgoAAZ5gA==|   100.00|            null|          null|         null|             null|      81059|     9343493764|             |             IN |        0|           1|\n",
      "|EBIDABgoAAZ5gA==|  -300.00|            null|          null|         null|             null|      81059|      641001193|             |             UT |        0|           1|\n",
      "|EBIDABgoAAZ5gA==|   290.00|            null|          null|         null|             null|      81059|      641001193|             |             IN |        0|           1|\n",
      "|EBIDABgoAAZ5gA==|  -500.00|            null|          null|         null|             null|      81059|      641001193|             |             UT |        0|           1|\n",
      "|FhIXABEQAABCEQ==|  4000.00|            null|          null|         null|             null|      84202|     6936079133|             |             IN |        0|           1|\n",
      "|FhIXABEQAABCEQ==|  3000.00|            null|          null|         null|             null|      84202|     6936079133|             |             IN |        0|           1|\n",
      "|GZcGAhU2JDWBAA==|  -500.00|            null|          null|         null|             null|      81505|       49298540|             |             UT |        0|           1|\n",
      "|GZcGAhU2JDWBAA==|  -200.00|            null|          null|         null|             null|      81505|       49298540|             |             UT |        0|           1|\n",
      "|GZcGAhU2JDWBAA==|  -500.00|            null|          null|         null|             null|      81505|       49298540|             |             UT |        0|           1|\n",
      "|GZcGAhU2JDWBAA==|   400.00|            null|          null|         null|             null|      81505|     9645586927|             |             IN |        0|           1|\n",
      "|GZcGAhU2JDWBAA==| -1000.00|            null|          null|         null|             null|      81505|       49298540|             |             UT |        0|           1|\n",
      "|GZcGAhU2JDWBAA==|   300.00|            null|          null|         null|             null|      81505|     9139420492|             |             IN |        0|           1|\n",
      "|GZcGAhU2JDWBAA==|   500.00|            null|          null|         null|             null|      81505|     9139420492|             |             IN |        0|           1|\n",
      "|GZcGAhU2JDWBAA==|   500.00|            null|          null|         null|             null|      81505|     9139420492|             |             IN |        0|           1|\n",
      "|GZcGAhU2JDWBAA==|   500.00|            null|          null|         null|             null|      81505|     9139420492|             |             IN |        0|           1|\n",
      "|GZcGAhU2JDWBAA==|  -400.00|            null|          null|         null|             null|      81505|       49298540|             |             UT |        0|           1|\n",
      "|GZcGAhU2JDWBAA==|  -300.00|            null|          null|         null|             null|      81505|       49298540|             |             UT |        0|           1|\n",
      "|GZcGAhU2JDWBAA==|  1000.00|            null|          null|         null|             null|      81505|     9139420492|             |             IN |        0|           1|\n",
      "|GZcGAhU2JDWBAA==|   500.00|            null|          null|         null|             null|      81505|     9139420492|             |             IN |        0|           1|\n",
      "|GZcGAhU2JDWBAA==|  -200.00|            null|          null|         null|             null|      81505|       49298540|             |             UT |        0|           1|\n",
      "|GZcGAhU2JDWBAA==|   200.00|            null|          null|         null|             null|      81505|     9139420492|             |             IN |        0|           1|\n",
      "|GZcGAhU2JDWBAA==|   200.00|            null|          null|         null|             null|      81505|     9139420492|             |             IN |        0|           1|\n",
      "|GZcGAhU2JDWBAA==|   800.00|            null|          null|         null|             null|      81505|     9645586927|             |             IN |        0|           1|\n",
      "|GZcGAhU2JDWBAA==|  1000.00|            null|          null|         null|             null|      81505|     9139420492|             |             IN |        0|           1|\n",
      "|GZcGAhU2JDWBAA==|  -500.00|            null|          null|         null|             null|      81505|       49298540|             |             UT |        0|           1|\n",
      "|GZcGAhU2JDWBAA==|  -500.00|            null|          null|         null|             null|      81505|       49298540|             |             UT |        0|           1|\n",
      "|GZcGAhU2JDWBAA==| -1000.00|            null|          null|         null|             null|      81505|       49298540|             |             UT |        0|           1|\n",
      "|GZcGAhU2JDWBAA==|  -800.00|            null|          null|         null|             null|      81505|       49298540|             |             UT |        0|           1|\n",
      "|GZcGAhU2RFJoYw==| 55000.00|            null|          null|         null|             null|      81505|     9038749314|             |             IN |        0|           1|\n",
      "|GZcGAhU2RFJoYw==|-55000.00|            null|          null|         null|             null|      81505|       49138662|             |             UT |        0|           1|\n",
      "|GZcGAhU2RJmRCQ==| -3000.00|            null|          null|         null|             null|      81661|     7933122652|             |             UT |        0|           1|\n",
      "|GZcGAhU2RJmRCQ==|  4000.00|            null|          null|         null|             null|      81661|     7940707800|             |             IN |        0|           1|\n",
      "|GZcGAhU2RJmRCQ==| -3000.00|            null|          null|         null|             null|      81661|     7931023035|             |             UT |        0|           1|\n",
      "|GZcGAhU2RJmRCQ==|   800.00|            null|          null|         null|             null|      88997|         531038|             |             IN |        0|           1|\n",
      "|GZcGAhU2RJmRCQ==| -4000.00|            null|          null|         null|             null|      81661|     7933122652|             |             UT |        0|           1|\n",
      "|GZcGAhU2RJmRCQ==|  1000.00|            null|          null|         null|             null|      81661|     7940707800|             |             IN |        0|           1|\n",
      "|GZcGAhU2RJmRCQ==| -1000.00|            null|          null|         null|             null|      81661|     7933122652|             |             UT |        0|           1|\n",
      "|GZcGAhU2RJmRCQ==|   800.00|            null|          null|         null|             null|      81661|     7933122652|             |             IN |        0|           1|\n",
      "|GZcGAhU2RJmRCQ==|   700.00|            null|          null|         null|             null|      81661|     7931023035|             |             IN |        0|           1|\n",
      "|GZcGAhU2RJmRCQ==|  3000.00|            null|          null|         null|             null|      81661|     7940707800|             |             IN |        0|           1|\n",
      "|GZcGAhU2RJmRCQ==|  2000.00|            null|          null|         null|             null|      81661|     7931023035|             |             IN |        0|           1|\n",
      "|GZcGAhU2RJmRCQ==|  -800.00|            null|          null|         null|             null|      81661|     7940707800|             |             UT |        0|           1|\n",
      "|GZcGAhU2RJmRCQ==|  1000.00|            null|          null|         null|             null|      88997|         531038|             |             IN |        0|           1|\n",
      "|GZcGAhU2RJmRCQ==|  1000.00|            null|          null|         null|             null|      81661|     7940707800|             |             IN |        0|           1|\n",
      "|GZcGAhU2RJmRCQ==| -1000.00|            null|          null|         null|             null|      81661|     7933122652|             |             UT |        0|           1|\n",
      "|GZcGAhU2RQFJZg==|  2000.00|            null|          null|         null|             null|      81505|    72462063676|             |             IN |        0|           1|\n",
      "|GZcGAhU2RQFJZg==| -2500.00|            null|          null|         null|             null|      81505|    72462063676|             |             UT |        0|           1|\n",
      "|GZcGAhU2RQFJZg==|   500.00|            null|          null|         null|             null|      81505|    72462063676|             |             IN |        0|           1|\n",
      "|GZcGAhU2STVVUw==| 10000.00|            null|          null|         null|             null|      81505|      443751821|             |             IN |        0|           1|\n",
      "|GZcGAhU2STVVUw==| 10000.00|            null|          null|         null|             null|      81505|      443751821|             |             IN |        0|           1|\n",
      "|GZcGAhU3CIJxVQ==| -3000.00|            null|          null|         null|             null|      81505|     9033781304|             |             UT |        0|           1|\n",
      "|GZcGAhU3CIJxVQ==|  -500.00|            null|          null|         null|             null|      81505|      644126484|             |             UT |        0|           1|\n",
      "|GZcGAhU3CIJxVQ==| -3000.00|            null|          null|         null|             null|      81505|     9033781304|             |             UT |        0|           1|\n",
      "|GZcGAhU3CIJxVQ==| -1200.00|            null|          null|         null|             null|      81505|      644126484|             |             UT |        0|           1|\n",
      "|GZcGAhU3CIJxVQ==| -3000.00|            null|          null|         null|             null|      81505|     9033781304|             |             UT |        0|           1|\n",
      "|GZcGAhU3CIJxVQ==|  -500.00|            null|          null|         null|             null|      81505|      644126484|             |             UT |        0|           1|\n",
      "|GZcGAhU3VTZSJQ==|   600.00|            null|          null|         null|             null|      82016|    79811346801|             |             IN |        0|           1|\n",
      "|GZcGAhU3VTZSJQ==|  -600.00|            null|          null|         null|             null|      82016|    79811346828|             |             UT |        0|           1|\n",
      "|GZcGAhUBECQIJg==| -3000.00|            null|          null|         null|             null|      81034|       30458178|             |             UT |        0|           1|\n",
      "|GZcGAhUBECQIJg==|  2500.00|            null|          null|         null|             null|      81034|       30458186|             |             IN |        0|           1|\n",
      "|GZcGAhUBECQIJg==|  3000.00|            null|          null|         null|             null|      81034|       30458186|             |             IN |        0|           1|\n",
      "|GZcGAhUBECQIJg==| -2500.00|            null|          null|         null|             null|      81034|       30458178|             |             UT |        0|           1|\n",
      "|GZcGAhUBJCk2SQ==|  -500.00|            null|          null|         null|             null|      81034|     6739842745|             |             UT |        0|           1|\n",
      "|GZcGAhUBJCk2SQ==| -1000.00|            null|          null|         null|             null|      81034|     6739842745|             |             UT |        0|           1|\n",
      "|GZcGAhUBJEBoZA==|  1600.00|            null|          null|         null|             null|      81034|     9847500957|             |             IN |        0|           1|\n",
      "|GZcGAhUBJEBoZA==| -4000.00|            null|          null|         null|             null|      81034|     6739843792|             |             UT |        0|           1|\n",
      "+----------------+---------+----------------+--------------+-------------+-----------------+-----------+---------------+-------------+----------------+---------+------------+\n",
      "only showing top 100 rows\n",
      "\n"
     ]
    }
   ],
   "source": [
    "TOB490.select('partygenid','amount','secaccounttypecd','secclearingnum','secaccountnum','secagreementgenid','clearingnum','transactioninfo','secpartygenid', 'accountingtypecd')\\\n",
    ".withColumn('selftrans',F.when((F.col('partygenid')==F.col('secpartygenid')),1).otherwise(0))\\\n",
    ".withColumn('selftrans_ad', F.when(((F.col('secclearingnum').isNull()) & (F.col('secaccountnum').isNull())),1)\\\n",
    ".otherwise(0))\\\n",
    ".show(100)"
   ]
  },
  {
   "cell_type": "code",
   "execution_count": 94,
   "metadata": {
    "collapsed": true
   },
   "outputs": [],
   "source": [
    "TOB_transfer=spark.sql('select a.*, b.customerroletype as sec_role_onmainagg, c.customerroletype as main_role_onsecagg from ddp_steer.p901cyo_trx_sample_201805_201808 as a \\\n",
    "left join (select agreementgenid, partygenid_role, customerroletype from ddp_central.src_sdw_agreementcustomerrole \\\n",
    ") as b \\\n",
    "on a.agreementgenid=b.agreementgenid and a.secpartygenid=base64(b.partygenid_role) \\\n",
    "left join (select agreementgenid, partygenid_role, customerroletype from ddp_central.src_sdw_agreementcustomerrole \\\n",
    ") as c \\\n",
    "on a.secagreementgenid=c.agreementgenid and a.partygenid=base64(c.partygenid_role) \\\n",
    "where transtypecd in (\"TOB050\",\"TOB104\", \"TOB490\", \"TOB552\", \"TOB553\")')"
   ]
  },
  {
   "cell_type": "code",
   "execution_count": 95,
   "metadata": {
    "collapsed": true
   },
   "outputs": [],
   "source": [
    "TOB_transfer_excself=TOB_transfer.withColumn('owntransfer_553', F.when((F.col('transtypecd')=='TOB553'),1).otherwise(0))\\\n",
    "            .withColumn('owntransfer_050', F.when(((F.col('transtypecd')=='TOB050')&(F.col('secaccounttypecd').isNull())&(F.col('secclearingnum').isNull())&(F.col('secaccountnum').isNull())&(F.col('secagreementgenid').isNotNull())) & ((F.col('sec_role_onmainagg').isNotNull()) | (F.col('main_role_onsecagg').isNotNull())),1).otherwise(0))\\\n",
    "            .withColumn('owntransfer_552', F.when(((F.col('transtypecd')=='TOB552')&(F.col('secaccounttypecd').isNull())&(F.col('secclearingnum').isNull())&(F.col('secaccountnum').isNull())&(F.col('secagreementgenid').isNotNull())) & ((F.col('sec_role_onmainagg').isNotNull()) | (F.col('main_role_onsecagg').isNotNull())),1).otherwise(0))\\\n",
    "            .filter((F.col('owntransfer_553')!=1) | (F.col('owntransfer_050')!=1) |(F.col('owntransfer_552')!=1))"
   ]
  },
  {
   "cell_type": "markdown",
   "metadata": {},
   "source": [
    "### identify transfer to other financial institutions but not a payment\n",
    "\n",
    "##### http://www-2.danskebank.com/link/Bankernaskontonummer\n",
    "##### http://clearingnummer.info/\n",
    "##### https://sv.wikipedia.org/wiki/Lista_%C3%B6ver_clearingnummer_till_svenska_banker\n",
    "##### https://www.bankgirot.se/globalassets/dokument/anvandarmanualer/bankernaskontonummeruppbyggnad_anvandarmanual_sv.pdf\n",
    "\n",
    "### saw some tables in ddp_central, e.g. ac_depo_transaction_avanza_nordnet_trimmed, ac_monthly_aggr_outgoing_private_trans_to_other_bank_per_bank"
   ]
  },
  {
   "cell_type": "code",
   "execution_count": 264,
   "metadata": {
    "collapsed": true
   },
   "outputs": [],
   "source": [
    "#and (secclearingnum<80000 or secclearingnum>89999)  transtypecd in (\"TOB552\", \"TOB050\", \"TOB486\",\"TOB550\", \"TOB551\") and  \n",
    "#trx_transout_type=(str('TOB552'),str('TOB050'),str('TOB521'),str('TOB553'),str('TOB520'),str('TOB588'),str('TOB430'),str('TOB490'))\n",
    "trx_transout=spark.sql('select * from ddp_steer.p901cyo_trx_sample_201805_201808 where trim(accountingtypecd)=\"UT\" and \\\n",
    "transtypecd in (\"TOB552\", \"TOB050\") sort by partygenid, transactiondate limit 100000' )\\\n",
    "                .withColumn(\"abs_amt\", F.abs(F.col(\"amount\")))\\\n",
    "                .withColumn(\"counterparty\", (F.when((F.trim(F.col(\"secclearingnum\"))<=9569) & (F.trim(F.col(\"secclearingnum\"))>=9550), 'Avanza'))\\\n",
    "                            .when((F.substring('secclearingnum',1,4)<=8999) & (F.substring('secclearingnum',1,4)>=8000), 'Swedbank')\\\n",
    "                            .when((F.substring('secclearingnum',1,4)<=6999) & (F.substring('secclearingnum',1,4)>=6000), 'Handelsbanken')\\\n",
    "                            .when((F.substring('secclearingnum',1,4)<=9279) & (F.substring('secclearingnum',1,4)>=9270), 'ICA Banken')\\\n",
    "                            .when((F.substring('secclearingnum',1,4)<=9179) & (F.substring('secclearingnum',1,4)>=9170), 'IKANO Banken')\\\n",
    "                            .when((F.substring('secclearingnum',1,4)<=9109) & (F.substring('secclearingnum',1,4)>=9100), 'Nordnet')\\\n",
    "                            .when((F.substring('secclearingnum',1,4)<=9289) & (F.substring('secclearingnum',1,4)>=9280), 'Resurs Bank')\\\n",
    "                            .when((F.substring('secclearingnum',1,4)<=9259) & (F.substring('secclearingnum',1,4)>=9250), 'SBAB')\\\n",
    "                            .when((F.substring('secclearingnum',1,4)<=9169) & (F.substring('secclearingnum',1,4)>=9150), 'Skandiabanken')\\\n",
    "                            .when((F.substring('secclearingnum',1,4)<=9449) & (F.substring('secclearingnum',1,4)>=9400), 'Forex Bank')\\\n",
    "                            .when((F.substring('secclearingnum',1,4)<=9469) & (F.substring('secclearingnum',1,4)>=9460), 'GE Money Bank')\\\n",
    "                            .when((F.substring('secclearingnum',1,4)<=2399) & (F.substring('secclearingnum',1,4)>=2300), 'Ålandsbanken')\\\n",
    "                            .when((F.substring('secclearingnum',1,4)<=9199) & (F.substring('secclearingnum',1,4)>=9190), 'DNB')\\\n",
    "                            .when((F.substring('secclearingnum',1,4)<=9689) & (F.substring('secclearingnum',1,4)>=9680), 'Bluestep')\\\n",
    "                            .when((F.substring('secclearingnum',1,4)<=9239) & (F.substring('secclearingnum',1,4)>=9230), 'Marginalen Bank')\\\n",
    "                            .when((F.substring('secclearingnum',1,4)<=9649) & (F.substring('secclearingnum',1,4)>=9640), 'Nordax Bank')\\\n",
    "                            .when((F.substring('secclearingnum',1,4)<=9469) & (F.substring('secclearingnum',1,4)>=9460), 'Santander')\\\n",
    "                            .when((F.substring('secclearingnum',1,4)<=9579) & (F.substring('secclearingnum',1,4)>=9570), 'Sparbanken Syd')\\\n",
    "                            .when((F.substring('secclearingnum',1,4)<=9349) & (F.substring('secclearingnum',1,4)>=9300), 'Sparbanken Öresund')\\\n",
    "                            .when(((F.substring('secclearingnum',1,4)<=1399) & (F.substring('secclearingnum',1,4)>=1200)) | \\\n",
    "                                  ((F.substring('secclearingnum',1,4)<=2499) & (F.substring('secclearingnum',1,4)>=2400)) | \\\n",
    "                                  ((F.substring('secclearingnum',1,4)<=9189) & (F.substring('secclearingnum',1,4)>=9180)), 'Danske Bank')\\\n",
    "                            .when(((F.substring('secclearingnum',1,4)<=5999) & (F.substring('secclearingnum',1,4)>=5000)) | \\\n",
    "                                  ((F.substring('secclearingnum',1,4)<=9124) & (F.substring('secclearingnum',1,4)>=9120)) | \\\n",
    "                                  ((F.substring('secclearingnum',1,4)<=9149) & (F.substring('secclearingnum',1,4)>=9130)), 'SEB')\\\n",
    "                            .when(((F.substring('secclearingnum',1,4)<=9029) & (F.substring('secclearingnum',1,4)>=9020)) | \\\n",
    "                                  ((F.substring('secclearingnum',1,4)<=3409) & (F.substring('secclearingnum',1,4)>=3400)) | \\\n",
    "                                  ((F.substring('secclearingnum',1,4)<=9069) & (F.substring('secclearingnum',1,4)>=9060)), 'Länsförsäkningar')\\\n",
    "                            .when(((F.substring('secclearingnum',1,4)<=1199) & (F.substring('secclearingnum',1,4)>=1100)) | \\\n",
    "                                  ((F.substring('secclearingnum',1,4)<=1999) & (F.substring('secclearingnum',1,4)>=1449)) | \\\n",
    "                                  ((F.substring('secclearingnum',1,4)<=3999) & (F.substring('secclearingnum',1,4)>=3410)) | \\\n",
    "                                  ((F.substring('secclearingnum',1,4)<=4999) & (F.substring('secclearingnum',1,4)>=4000)) | \\\n",
    "                                  ((F.substring('secclearingnum',1,4)<=9549) & (F.substring('secclearingnum',1,4)>=9500)) | \\\n",
    "                                  ((F.substring('secclearingnum',1,4)<=9969) & (F.substring('secclearingnum',1,4)>=9960)) | \\\n",
    "                                  ((F.substring('secclearingnum',1,4)<=3399) & (F.substring('secclearingnum',1,4)>=3000)), 'Nordea')\\\n",
    "                            .when((F.trim(F.col('secclearingnum'))==0), '0')\\\n",
    "                            .otherwise('Other'))\n",
    "#trx_transout.columns"
   ]
  },
  {
   "cell_type": "code",
   "execution_count": 300,
   "metadata": {
    "collapsed": true
   },
   "outputs": [],
   "source": [
    "trx_transout=trx_sample_adj.filter((F.col('sum_check')!=1))\\\n",
    "                            .withColumn(\"counterparty\", (F.when((F.trim(F.col(\"secclearingnum\"))<=9569) & (F.trim(F.col(\"secclearingnum\"))>=9550), 'Avanza'))\\\n",
    "                            .when((F.substring('secclearingnum',1,4)<=8999) & (F.substring('secclearingnum',1,4)>=8000), 'Swedbank')\\\n",
    "                            .when((F.substring('secclearingnum',1,4)<=6999) & (F.substring('secclearingnum',1,4)>=6000), 'Handelsbanken')\\\n",
    "                            .when((F.substring('secclearingnum',1,4)<=9279) & (F.substring('secclearingnum',1,4)>=9270), 'ICA Banken')\\\n",
    "                            .when((F.substring('secclearingnum',1,4)<=9179) & (F.substring('secclearingnum',1,4)>=9170), 'IKANO Banken')\\\n",
    "                            .when((F.substring('secclearingnum',1,4)<=9109) & (F.substring('secclearingnum',1,4)>=9100), 'Nordnet')\\\n",
    "                            .when((F.substring('secclearingnum',1,4)<=9289) & (F.substring('secclearingnum',1,4)>=9280), 'Resurs Bank')\\\n",
    "                            .when((F.substring('secclearingnum',1,4)<=9259) & (F.substring('secclearingnum',1,4)>=9250), 'SBAB')\\\n",
    "                            .when((F.substring('secclearingnum',1,4)<=9169) & (F.substring('secclearingnum',1,4)>=9150), 'Skandiabanken')\\\n",
    "                            .when((F.substring('secclearingnum',1,4)<=9449) & (F.substring('secclearingnum',1,4)>=9400), 'Forex Bank')\\\n",
    "                            .when((F.substring('secclearingnum',1,4)<=9469) & (F.substring('secclearingnum',1,4)>=9460), 'GE Money Bank')\\\n",
    "                            .when((F.substring('secclearingnum',1,4)<=2399) & (F.substring('secclearingnum',1,4)>=2300), 'Ålandsbanken')\\\n",
    "                            .when((F.substring('secclearingnum',1,4)<=9199) & (F.substring('secclearingnum',1,4)>=9190), 'DNB')\\\n",
    "                            .when((F.substring('secclearingnum',1,4)<=9689) & (F.substring('secclearingnum',1,4)>=9680), 'Bluestep')\\\n",
    "                            .when((F.substring('secclearingnum',1,4)<=9239) & (F.substring('secclearingnum',1,4)>=9230), 'Marginalen Bank')\\\n",
    "                            .when((F.substring('secclearingnum',1,4)<=9649) & (F.substring('secclearingnum',1,4)>=9640), 'Nordax Bank')\\\n",
    "                            .when((F.substring('secclearingnum',1,4)<=9469) & (F.substring('secclearingnum',1,4)>=9460), 'Santander')\\\n",
    "                            .when((F.substring('secclearingnum',1,4)<=9579) & (F.substring('secclearingnum',1,4)>=9570), 'Sparbanken Syd')\\\n",
    "                            .when((F.substring('secclearingnum',1,4)<=9349) & (F.substring('secclearingnum',1,4)>=9300), 'Sparbanken Öresund')\\\n",
    "                            .when(((F.substring('secclearingnum',1,4)<=1399) & (F.substring('secclearingnum',1,4)>=1200)) | \\\n",
    "                                  ((F.substring('secclearingnum',1,4)<=2499) & (F.substring('secclearingnum',1,4)>=2400)) | \\\n",
    "                                  ((F.substring('secclearingnum',1,4)<=9189) & (F.substring('secclearingnum',1,4)>=9180)), 'Danske Bank')\\\n",
    "                            .when(((F.substring('secclearingnum',1,4)<=5999) & (F.substring('secclearingnum',1,4)>=5000)) | \\\n",
    "                                  ((F.substring('secclearingnum',1,4)<=9124) & (F.substring('secclearingnum',1,4)>=9120)) | \\\n",
    "                                  ((F.substring('secclearingnum',1,4)<=9149) & (F.substring('secclearingnum',1,4)>=9130)), 'SEB')\\\n",
    "                            .when(((F.substring('secclearingnum',1,4)<=9029) & (F.substring('secclearingnum',1,4)>=9020)) | \\\n",
    "                                  ((F.substring('secclearingnum',1,4)<=3409) & (F.substring('secclearingnum',1,4)>=3400)) | \\\n",
    "                                  ((F.substring('secclearingnum',1,4)<=9069) & (F.substring('secclearingnum',1,4)>=9060)), 'Länsförsäkningar')\\\n",
    "                            .when(((F.substring('secclearingnum',1,4)<=1199) & (F.substring('secclearingnum',1,4)>=1100)) | \\\n",
    "                                  ((F.substring('secclearingnum',1,4)<=1999) & (F.substring('secclearingnum',1,4)>=1449)) | \\\n",
    "                                  ((F.substring('secclearingnum',1,4)<=3999) & (F.substring('secclearingnum',1,4)>=3410)) | \\\n",
    "                                  ((F.substring('secclearingnum',1,4)<=4999) & (F.substring('secclearingnum',1,4)>=4000)) | \\\n",
    "                                  ((F.substring('secclearingnum',1,4)<=9549) & (F.substring('secclearingnum',1,4)>=9500)) | \\\n",
    "                                  ((F.substring('secclearingnum',1,4)<=9969) & (F.substring('secclearingnum',1,4)>=9960)) | \\\n",
    "                                  ((F.substring('secclearingnum',1,4)<=3399) & (F.substring('secclearingnum',1,4)>=3000)), 'Nordea')\\\n",
    "                            .when((F.trim(F.col('secclearingnum'))==0), '0')\\\n",
    "                            .otherwise('Other'))"
   ]
  },
  {
   "cell_type": "code",
   "execution_count": 306,
   "metadata": {
    "collapsed": true
   },
   "outputs": [
    {
     "data": {
      "text/plain": [
       "[Row(partygenid=u'+/Mz+PrKlmgAAA==', primaryaccountholder=bytearray(b'\\xfb\\xf33\\xf8\\xfa\\xca\\x96h\\x00\\x00'), agreementgenid=165427126, productgenid=bytearray(b' \\x05\\x05\\x01\\x00\\x04Aa4\\x85'), transtypecd=u'TOB261', transactiondate=datetime.date(2018, 5, 2), accountingtypecd=u'UT ', channeltypecd=u'POS', amount=Decimal('-220.99'), bankid=8999, secaccounttypecd=None, secclearingnum=None, secaccountnum=None, secagreementgenid=None, secpartygenid=u'+/Mz+PrKlmgAAA==', secproductgenid=bytearray(b''), channelgenid=359, transactiongenid=75080422, systemsourcecd=u'GRK', identificationmethodcd=None, paymentroutinecd=None, secbic=None, clearingnum=Decimal('88500'), cardtransactionchannelcd=u'KSV', transactioninfo=u'496160', kanalgenid=u'POSHEMK\\xd6P G\\xd6TEBORG H\\xd6GSBO,', transactionmonth=201805, transactiontype=u'KONTOK\\xd6P KORT', transactiongroupcd=u'EJR', transactiongroup=u'Ej relevant f\\xf6r denna transaktionskod', birthdate=datetime.date(1985, 12, 18), age=33, gender=u'M', customerstartdate=u'1998-03-21', abs_amt=Decimal('220.99'), lag_id=None, lag_amt=None, lag_date=None, sum_check=0, counterparty=u'Other'),\n",
       " Row(partygenid=u'+/Mz+PrKlmgAAA==', primaryaccountholder=bytearray(b'\\xfb\\xf33\\xf8\\xfa\\xca\\x96h\\x00\\x00'), agreementgenid=209992383, productgenid=bytearray(b' \\x05\\x12\\x01\\x00\"\\x018\\x89\\x14'), transtypecd=u'TOB247', transactiondate=datetime.date(2018, 5, 3), accountingtypecd=u'UT ', channeltypecd=u'OVR', amount=Decimal('-10000.00'), bankid=8999, secaccounttypecd=None, secclearingnum=None, secaccountnum=None, secagreementgenid=None, secpartygenid=u'', secproductgenid=bytearray(b''), channelgenid=167, transactiongenid=75185573, systemsourcecd=u'GRK', identificationmethodcd=None, paymentroutinecd=None, secbic=None, clearingnum=Decimal('89011'), cardtransactionchannelcd=None, transactioninfo=u'198512182919', kanalgenid=u'OVR2478901985', transactionmonth=201805, transactiontype=u'K\\xd6P FONDANDELAR', transactiongroupcd=u'EJR', transactiongroup=u'Ej relevant f\\xf6r denna transaktionskod', birthdate=datetime.date(1985, 12, 18), age=33, gender=u'M', customerstartdate=u'1998-03-21', abs_amt=Decimal('10000.00'), lag_id=u'+/Mz+PrKlmgAAA==', lag_amt=Decimal('-220.99'), lag_date=datetime.date(2018, 5, 2), sum_check=0, counterparty=u'Other'),\n",
       " Row(partygenid=u'+/Mz+PrKlmgAAA==', primaryaccountholder=bytearray(b'\\xfb\\xf33\\xf8\\xfa\\xca\\x96h\\x00\\x00'), agreementgenid=165427126, productgenid=bytearray(b' \\x05\\x05\\x01\\x00\\x04Aa4\\x85'), transtypecd=u'TOB261', transactiondate=datetime.date(2018, 5, 3), accountingtypecd=u'UT ', channeltypecd=u'POS', amount=Decimal('-113.14'), bankid=8999, secaccounttypecd=None, secclearingnum=None, secaccountnum=None, secagreementgenid=None, secpartygenid=u'+/Mz+PrKlmgAAA==', secproductgenid=bytearray(b''), channelgenid=359, transactiongenid=82275782, systemsourcecd=u'GRK', identificationmethodcd=None, paymentroutinecd=None, secbic=None, clearingnum=Decimal('88500'), cardtransactionchannelcd=u'KSV', transactioninfo=u'316480', kanalgenid=u'POSHEMK\\xd6P G\\xd6TEBORG H\\xd6GSBO,', transactionmonth=201805, transactiontype=u'KONTOK\\xd6P KORT', transactiongroupcd=u'EJR', transactiongroup=u'Ej relevant f\\xf6r denna transaktionskod', birthdate=datetime.date(1985, 12, 18), age=33, gender=u'M', customerstartdate=u'1998-03-21', abs_amt=Decimal('113.14'), lag_id=u'+/Mz+PrKlmgAAA==', lag_amt=Decimal('-10000.00'), lag_date=datetime.date(2018, 5, 3), sum_check=0, counterparty=u'Other'),\n",
       " Row(partygenid=u'+/Mz+PrKlmgAAA==', primaryaccountholder=bytearray(b'\\xfb\\xf33\\xf8\\xfa\\xca\\x96h\\x00\\x00'), agreementgenid=165427126, productgenid=bytearray(b' \\x05\\x05\\x01\\x00\\x04Aa4\\x85'), transtypecd=u'TOB551', transactiondate=datetime.date(2018, 5, 3), accountingtypecd=u'UT ', channeltypecd=u'INT', amount=Decimal('-1490.00'), bankid=8999, secaccounttypecd=u'BG ', secclearingnum=Decimal('0'), secaccountnum=u'7355837', secagreementgenid=None, secpartygenid=u'+/Mz+PrKlmgAAA==', secproductgenid=bytearray(b''), channelgenid=39, transactiongenid=75080424, systemsourcecd=u'GRK', identificationmethodcd=None, paymentroutinecd=None, secbic=None, clearingnum=Decimal('89011'), cardtransactionchannelcd=None, transactioninfo=u'Resurs Bank AB', kanalgenid=u'INT8901969', transactionmonth=201805, transactiontype=u'BG-BET. VIA INTERNET', transactiongroupcd=u'EJR', transactiongroup=u'Ej relevant f\\xf6r denna transaktionskod', birthdate=datetime.date(1985, 12, 18), age=33, gender=u'M', customerstartdate=u'1998-03-21', abs_amt=Decimal('1490.00'), lag_id=u'+/Mz+PrKlmgAAA==', lag_amt=Decimal('-113.14'), lag_date=datetime.date(2018, 5, 3), sum_check=0, counterparty=u'0'),\n",
       " Row(partygenid=u'+/Mz+PrKlmgAAA==', primaryaccountholder=bytearray(b'\\xfb\\xf33\\xf8\\xfa\\xca\\x96h\\x00\\x00'), agreementgenid=165427126, productgenid=bytearray(b' \\x05\\x05\\x01\\x00\\x04Aa4\\x85'), transtypecd=u'TOB261', transactiondate=datetime.date(2018, 5, 4), accountingtypecd=u'UT ', channeltypecd=u'POS', amount=Decimal('-198.95'), bankid=8999, secaccounttypecd=None, secclearingnum=None, secaccountnum=None, secagreementgenid=None, secpartygenid=u'+/Mz+PrKlmgAAA==', secproductgenid=bytearray(b''), channelgenid=359, transactiongenid=97139244, systemsourcecd=u'GRK', identificationmethodcd=None, paymentroutinecd=None, secbic=None, clearingnum=Decimal('88500'), cardtransactionchannelcd=u'KSV', transactioninfo=u'316984', kanalgenid=u'POSHEMK\\xd6P G\\xd6TEBORG H\\xd6GSBO,', transactionmonth=201805, transactiontype=u'KONTOK\\xd6P KORT', transactiongroupcd=u'EJR', transactiongroup=u'Ej relevant f\\xf6r denna transaktionskod', birthdate=datetime.date(1985, 12, 18), age=33, gender=u'M', customerstartdate=u'1998-03-21', abs_amt=Decimal('198.95'), lag_id=u'+/Mz+PrKlmgAAA==', lag_amt=Decimal('-1490.00'), lag_date=datetime.date(2018, 5, 3), sum_check=0, counterparty=u'Other'),\n",
       " Row(partygenid=u'+/Mz+PrKlmgAAA==', primaryaccountholder=bytearray(b'\\xfb\\xf33\\xf8\\xfa\\xca\\x96h\\x00\\x00'), agreementgenid=165427126, productgenid=bytearray(b' \\x05\\x05\\x01\\x00\\x04Aa4\\x85'), transtypecd=u'TOB551', transactiondate=datetime.date(2018, 5, 4), accountingtypecd=u'UT ', channeltypecd=u'INT', amount=Decimal('-233.00'), bankid=8999, secaccounttypecd=u'BG ', secclearingnum=Decimal('0'), secaccountnum=u'52712320', secagreementgenid=None, secpartygenid=u'+/Mz+PrKlmgAAA==', secproductgenid=bytearray(b''), channelgenid=39, transactiongenid=82275781, systemsourcecd=u'GRK', identificationmethodcd=None, paymentroutinecd=None, secbic=None, clearingnum=Decimal('89011'), cardtransactionchannelcd=None, transactioninfo=u'G\\xf6teborg Energi', kanalgenid=u'INT8901969', transactionmonth=201805, transactiontype=u'BG-BET. VIA INTERNET', transactiongroupcd=u'EJR', transactiongroup=u'Ej relevant f\\xf6r denna transaktionskod', birthdate=datetime.date(1985, 12, 18), age=33, gender=u'M', customerstartdate=u'1998-03-21', abs_amt=Decimal('233.00'), lag_id=u'+/Mz+PrKlmgAAA==', lag_amt=Decimal('-198.95'), lag_date=datetime.date(2018, 5, 4), sum_check=0, counterparty=u'0'),\n",
       " Row(partygenid=u'+/Mz+PrKlmgAAA==', primaryaccountholder=bytearray(b'\\xfb\\xf33\\xf8\\xfa\\xca\\x96h\\x00\\x00'), agreementgenid=165427126, productgenid=bytearray(b' \\x05\\x05\\x01\\x00\\x04Aa4\\x85'), transtypecd=u'TOB261', transactiondate=datetime.date(2018, 5, 5), accountingtypecd=u'UT ', channeltypecd=u'POS', amount=Decimal('-164.57'), bankid=8999, secaccounttypecd=None, secclearingnum=None, secaccountnum=None, secagreementgenid=None, secpartygenid=u'+/Mz+PrKlmgAAA==', secproductgenid=bytearray(b''), channelgenid=359, transactiongenid=97139245, systemsourcecd=u'GRK', identificationmethodcd=None, paymentroutinecd=None, secbic=None, clearingnum=Decimal('88500'), cardtransactionchannelcd=u'KSV', transactioninfo=u'707441', kanalgenid=u'POSHEMK\\xd6P G\\xd6TEBORG H\\xd6GSBO,', transactionmonth=201805, transactiontype=u'KONTOK\\xd6P KORT', transactiongroupcd=u'EJR', transactiongroup=u'Ej relevant f\\xf6r denna transaktionskod', birthdate=datetime.date(1985, 12, 18), age=33, gender=u'M', customerstartdate=u'1998-03-21', abs_amt=Decimal('164.57'), lag_id=u'+/Mz+PrKlmgAAA==', lag_amt=Decimal('-233.00'), lag_date=datetime.date(2018, 5, 4), sum_check=0, counterparty=u'Other'),\n",
       " Row(partygenid=u'+/Mz+PrKlmgAAA==', primaryaccountholder=bytearray(b'\\xfb\\xf33\\xf8\\xfa\\xca\\x96h\\x00\\x00'), agreementgenid=165427126, productgenid=bytearray(b' \\x05\\x05\\x01\\x00\\x04Aa4\\x85'), transtypecd=u'TOB261', transactiondate=datetime.date(2018, 5, 5), accountingtypecd=u'UT ', channeltypecd=u'POS', amount=Decimal('-228.35'), bankid=8999, secaccounttypecd=None, secclearingnum=None, secaccountnum=None, secagreementgenid=None, secpartygenid=u'+/Mz+PrKlmgAAA==', secproductgenid=bytearray(b''), channelgenid=359, transactiongenid=97139246, systemsourcecd=u'GRK', identificationmethodcd=None, paymentroutinecd=None, secbic=None, clearingnum=Decimal('88500'), cardtransactionchannelcd=u'KSV', transactioninfo=u'946065', kanalgenid=u'POSHEMK\\xd6P G\\xd6TEBORG H\\xd6GSBO,', transactionmonth=201805, transactiontype=u'KONTOK\\xd6P KORT', transactiongroupcd=u'EJR', transactiongroup=u'Ej relevant f\\xf6r denna transaktionskod', birthdate=datetime.date(1985, 12, 18), age=33, gender=u'M', customerstartdate=u'1998-03-21', abs_amt=Decimal('228.35'), lag_id=u'+/Mz+PrKlmgAAA==', lag_amt=Decimal('-164.57'), lag_date=datetime.date(2018, 5, 5), sum_check=0, counterparty=u'Other'),\n",
       " Row(partygenid=u'+/Mz+PrKlmgAAA==', primaryaccountholder=bytearray(b'\\xfb\\xf33\\xf8\\xfa\\xca\\x96h\\x00\\x00'), agreementgenid=165427126, productgenid=bytearray(b' \\x05\\x05\\x01\\x00\\x04Aa4\\x85'), transtypecd=u'TOB261', transactiondate=datetime.date(2018, 5, 6), accountingtypecd=u'UT ', channeltypecd=u'POS', amount=Decimal('-255.97'), bankid=8999, secaccounttypecd=None, secclearingnum=None, secaccountnum=None, secagreementgenid=None, secpartygenid=u'+/Mz+PrKlmgAAA==', secproductgenid=bytearray(b''), channelgenid=359, transactiongenid=97139248, systemsourcecd=u'GRK', identificationmethodcd=None, paymentroutinecd=None, secbic=None, clearingnum=Decimal('88500'), cardtransactionchannelcd=u'KSV', transactioninfo=u'884326', kanalgenid=u'POSHEMK\\xd6P G\\xd6TEBORG H\\xd6GSBO,', transactionmonth=201805, transactiontype=u'KONTOK\\xd6P KORT', transactiongroupcd=u'EJR', transactiongroup=u'Ej relevant f\\xf6r denna transaktionskod', birthdate=datetime.date(1985, 12, 18), age=33, gender=u'M', customerstartdate=u'1998-03-21', abs_amt=Decimal('255.97'), lag_id=u'+/Mz+PrKlmgAAA==', lag_amt=Decimal('-228.35'), lag_date=datetime.date(2018, 5, 5), sum_check=0, counterparty=u'Other'),\n",
       " Row(partygenid=u'+/Mz+PrKlmgAAA==', primaryaccountholder=bytearray(b'\\xfb\\xf33\\xf8\\xfa\\xca\\x96h\\x00\\x00'), agreementgenid=165427126, productgenid=bytearray(b' \\x05\\x05\\x01\\x00\\x04Aa4\\x85'), transtypecd=u'TOB261', transactiondate=datetime.date(2018, 5, 7), accountingtypecd=u'UT ', channeltypecd=u'POS', amount=Decimal('-61.00'), bankid=8999, secaccounttypecd=None, secclearingnum=None, secaccountnum=None, secagreementgenid=None, secpartygenid=u'+/Mz+PrKlmgAAA==', secproductgenid=bytearray(b''), channelgenid=359, transactiongenid=108130891, systemsourcecd=u'GRK', identificationmethodcd=None, paymentroutinecd=None, secbic=None, clearingnum=Decimal('88500'), cardtransactionchannelcd=u'KSV', transactioninfo=u'367347', kanalgenid=u'POSHEMK\\xd6P G\\xd6TEBORG H\\xd6GSBO,', transactionmonth=201805, transactiontype=u'KONTOK\\xd6P KORT', transactiongroupcd=u'EJR', transactiongroup=u'Ej relevant f\\xf6r denna transaktionskod', birthdate=datetime.date(1985, 12, 18), age=33, gender=u'M', customerstartdate=u'1998-03-21', abs_amt=Decimal('61.00'), lag_id=u'+/Mz+PrKlmgAAA==', lag_amt=Decimal('-255.97'), lag_date=datetime.date(2018, 5, 6), sum_check=0, counterparty=u'Other')]"
      ]
     },
     "execution_count": 306,
     "metadata": {},
     "output_type": "execute_result"
    }
   ],
   "source": [
    "trx_transout.head(10)"
   ]
  },
  {
   "cell_type": "code",
   "execution_count": 274,
   "metadata": {
    "collapsed": true
   },
   "outputs": [
    {
     "name": "stdout",
     "output_type": "stream",
     "text": [
      "+--------------+-------------+\n",
      "|secclearingnum| counterparty|\n",
      "+--------------+-------------+\n",
      "|          9553|       Avanza|\n",
      "|          9420|   Forex Bank|\n",
      "|          9272|   ICA Banken|\n",
      "|          6090|Handelsbanken|\n",
      "|          6077|Handelsbanken|\n",
      "|          6067|Handelsbanken|\n",
      "|          6049|Handelsbanken|\n",
      "|          6042|Handelsbanken|\n",
      "|          6029|Handelsbanken|\n",
      "|          6020|Handelsbanken|\n",
      "|          5707|          SEB|\n",
      "|          5699|          SEB|\n",
      "|          5421|          SEB|\n",
      "|          5142|          SEB|\n",
      "|          3034|       Nordea|\n",
      "|           827|        Other|\n",
      "|           396|        Other|\n",
      "|           331|        Other|\n",
      "|          null|        Other|\n",
      "+--------------+-------------+\n",
      "\n"
     ]
    }
   ],
   "source": [
    "trx_transout.select(\"secclearingnum\", \"counterparty\").distinct().sort(F.desc(\"secclearingnum\")).show(1000)"
   ]
  },
  {
   "cell_type": "code",
   "execution_count": 271,
   "metadata": {
    "collapsed": false
   },
   "outputs": [
    {
     "name": "stdout",
     "output_type": "stream",
     "text": [
      "+------------+-----------+-----+\n",
      "|counterparty|transtypecd|count|\n",
      "+------------+-----------+-----+\n",
      "|       Other|     TOB552|  175|\n",
      "|        SBAB|     TOB552|    3|\n",
      "|         SEB|     TOB552|    2|\n",
      "| Danske Bank|     TOB552|    1|\n",
      "+------------+-----------+-----+\n",
      "\n"
     ]
    }
   ],
   "source": [
    "trx_transout.groupby(\"counterparty\",\"transtypecd\").count().sort(F.desc(\"count\")).show(1000)"
   ]
  },
  {
   "cell_type": "code",
   "execution_count": 228,
   "metadata": {
    "collapsed": true
   },
   "outputs": [
    {
     "name": "stdout",
     "output_type": "stream",
     "text": [
      "+-------------+-----+\n",
      "| counterparty|count|\n",
      "+-------------+-----+\n",
      "|Handelsbanken|   67|\n",
      "|        Other| 9862|\n",
      "|Skandiabanken|    1|\n",
      "|       Avanza|   19|\n",
      "|   ICA Banken|   42|\n",
      "|      Nordnet|    1|\n",
      "|         SBAB|    4|\n",
      "|  Danske Bank|    4|\n",
      "+-------------+-----+\n",
      "\n"
     ]
    }
   ],
   "source": [
    "trx_transout.groupby(\"counterparty\").count().show()"
   ]
  },
  {
   "cell_type": "code",
   "execution_count": 284,
   "metadata": {
    "collapsed": true
   },
   "outputs": [],
   "source": [
    "prod_raw = spark.sql('select productgenid as secproductgenid, productid, productsubid, productname, productdescription, productgrouplevel1, productgrouplevel2 \\\n",
    "                    from ddp_central.prd_productstructgpx \\\n",
    "                    where bankid in (\"0\", \"8999\")')"
   ]
  },
  {
   "cell_type": "code",
   "execution_count": 286,
   "metadata": {
    "collapsed": true
   },
   "outputs": [
    {
     "name": "stdout",
     "output_type": "stream",
     "text": [
      "+--------------------+----------------+--------------+--------------------+--------------+-----------------+-----------+---------------+------------+---------+------------+--------------------+------------------+--------------------+--------------------+\n",
      "|     secproductgenid|      partygenid|agreementgenid|        productgenid|secclearingnum|secagreementgenid|clearingnum|transactioninfo|counterparty|productid|productsubid|         productname|productdescription|  productgrouplevel1|  productgrouplevel2|\n",
      "+--------------------+----------------+--------------+--------------------+--------------+-----------------+-----------+---------------+------------+---------+------------+--------------------+------------------+--------------------+--------------------+\n",
      "|[20 05 05 01 00 0...|+2fwsO9X+k0AAA==|     168631321|[20 05 05 01 00 0...|          null|        168631315|      84202|    79182002606|       Other| TRP00502|    KONTO   |Privatkonto         |       Privatkonto|Transaction Accounts|Liquidity Management|\n",
      "|[20 05 05 01 00 0...|+2fwsO9X+k0AAA==|     168631321|[20 05 05 01 00 0...|          null|        168631315|      84202|    79182002606|       Other| TRP00502|    KONTO   |Privatkonto         |       Privatkonto|Transaction Accounts|Liquidity Management|\n",
      "|[20 05 05 01 00 0...|+2fwsO9X+k0AAA==|     168631321|[20 05 05 01 00 0...|          null|        168631315|      84202|    79182002606|       Other| TRP00502|    KONTO   |Privatkonto         |       Privatkonto|Transaction Accounts|Liquidity Management|\n",
      "|[20 05 05 01 00 0...|+2fwsO9X+k0AAA==|     168631321|[20 05 05 01 00 0...|          null|        168631315|      84202|    79182002606|       Other| TRP00502|    KONTO   |Privatkonto         |       Privatkonto|Transaction Accounts|Liquidity Management|\n",
      "|[20 05 05 01 00 0...|+56YLbGin7UAAA==|     166687122|[20 05 05 01 00 0...|          null|        166687494|      83683|    75512811339|       Other| TRP00502|    KONTO   |Privatkonto         |       Privatkonto|Transaction Accounts|Liquidity Management|\n",
      "|[20 05 05 01 00 0...|+Ib6nX4qcy0AAA==|     168557798|[20 05 05 01 00 0...|          null|        169182227|      84202|842029847737187|       Other| TRP00502|    KONTO   |Privatkonto         |       Privatkonto|Transaction Accounts|Liquidity Management|\n",
      "|[20 05 05 01 00 0...|+Ib6nX4qcy0AAA==|     168557798|[20 05 05 01 00 0...|          null|        168558971|      84202|    78432015601|       Other| TRP00502|    KONTO   |Privatkonto         |       Privatkonto|Transaction Accounts|Liquidity Management|\n",
      "|[20 05 05 01 00 0...|+Ib6nX4qcy0AAA==|     168557798|[20 05 05 01 00 0...|          null|        169182227|      84202|842029847737187|       Other| TRP00502|    KONTO   |Privatkonto         |       Privatkonto|Transaction Accounts|Liquidity Management|\n",
      "|[20 05 05 01 00 0...|/oCuNyhrv50AAA==|     166653334|[20 05 05 01 00 0...|          null|        166654285|      83683|    75123010637|       Other| TRP00502|    KONTO   |Privatkonto         |       Privatkonto|Transaction Accounts|Liquidity Management|\n",
      "|[20 05 05 01 00 0...|/oCuNyhrv50AAA==|     166653334|[20 05 05 01 00 0...|          null|        166654138|      83683|    75121117469|       Other| TRP00502|    KONTO   |Privatkonto         |       Privatkonto|Transaction Accounts|Liquidity Management|\n",
      "|[20 05 05 01 00 0...|/oCuNyhrv50AAA==|     166653334|[20 05 05 01 00 0...|          null|        166645859|      83683|    75121711808|       Other| TRP00502|    KONTO   |Privatkonto         |       Privatkonto|Transaction Accounts|Liquidity Management|\n",
      "|[20 05 05 01 00 0...|/oCuNyhrv50AAA==|     166653334|[20 05 05 01 00 0...|          null|        166654285|      83683|    75123010637|       Other| TRP00502|    KONTO   |Privatkonto         |       Privatkonto|Transaction Accounts|Liquidity Management|\n",
      "|[20 05 05 01 00 0...|/oCuNyhrv50AAA==|     166653334|[20 05 05 01 00 0...|          null|        166654138|      83683|    75121117469|       Other| TRP00502|    KONTO   |Privatkonto         |       Privatkonto|Transaction Accounts|Liquidity Management|\n",
      "|[20 05 05 01 00 0...|/oCuNyhrv50AAA==|     166653334|[20 05 05 01 00 0...|          null|        166654285|      83683|    75123010637|       Other| TRP00502|    KONTO   |Privatkonto         |       Privatkonto|Transaction Accounts|Liquidity Management|\n",
      "|[20 05 05 01 00 0...|/oCuNyhrv50AAA==|     166653334|[20 05 05 01 00 0...|          null|        166654285|      83683|    75123010637|       Other| TRP00502|    KONTO   |Privatkonto         |       Privatkonto|Transaction Accounts|Liquidity Management|\n",
      "|[20 05 05 01 00 0...|/oCuNyhrv50AAA==|     166653334|[20 05 05 01 00 0...|          null|        166654285|      83683|    75123010637|       Other| TRP00502|    KONTO   |Privatkonto         |       Privatkonto|Transaction Accounts|Liquidity Management|\n",
      "|[20 05 05 01 00 0...|/oCuNyhrv50AAA==|     166653334|[20 05 05 01 00 0...|          null|        166654285|      83683|    75123010637|       Other| TRP00502|    KONTO   |Privatkonto         |       Privatkonto|Transaction Accounts|Liquidity Management|\n",
      "|[20 05 05 01 00 0...|/oCuNyhrv50AAA==|     166653334|[20 05 05 01 00 0...|          null|        166654285|      83683|    75123010637|       Other| TRP00502|    KONTO   |Privatkonto         |       Privatkonto|Transaction Accounts|Liquidity Management|\n",
      "|[20 05 05 01 00 0...|0X8C+zhBJakAAA==|     155998628|[20 05 05 01 00 0...|          null|        155998229|      81059|    75081102075|       Other| TRP00502|    KONTO   |Privatkonto         |       Privatkonto|Transaction Accounts|Liquidity Management|\n",
      "|[20 05 05 01 00 0...|0X8C+zhBJakAAA==|     155998628|[20 05 05 01 00 0...|          null|        155998229|      81059|    75081102075|       Other| TRP00502|    KONTO   |Privatkonto         |       Privatkonto|Transaction Accounts|Liquidity Management|\n",
      "|[20 05 05 01 00 0...|0X8C+zhBJakAAA==|     155998628|[20 05 05 01 00 0...|          null|        155998229|      81059|    75081102075|       Other| TRP00502|    KONTO   |Privatkonto         |       Privatkonto|Transaction Accounts|Liquidity Management|\n",
      "|[20 05 05 01 00 0...|0X8C+zhBJakAAA==|     155998628|[20 05 05 01 00 0...|          null|        155998229|      81059|    75081102075|       Other| TRP00502|    KONTO   |Privatkonto         |       Privatkonto|Transaction Accounts|Liquidity Management|\n",
      "|[20 05 05 01 00 0...|0X8C+zhBJakAAA==|     155998628|[20 05 05 01 00 0...|          null|        155998229|      81059|    75081102075|       Other| TRP00502|    KONTO   |Privatkonto         |       Privatkonto|Transaction Accounts|Liquidity Management|\n",
      "|[20 05 05 01 00 0...|0X8C+zhBJakAAA==|     155998628|[20 05 05 01 00 0...|          null|        155998229|      81059|    75081102075|       Other| TRP00502|    KONTO   |Privatkonto         |       Privatkonto|Transaction Accounts|Liquidity Management|\n",
      "|[20 05 05 01 00 0...|0X8C+zhBJakAAA==|     155998628|[20 05 05 01 00 0...|          null|        155998229|      81059|    75081102075|       Other| TRP00502|    KONTO   |Privatkonto         |       Privatkonto|Transaction Accounts|Liquidity Management|\n",
      "|[20 05 05 01 00 0...|0cp2pmncogEAAA==|     154930942|[20 05 05 01 00 0...|          null|        243034789|      81034|810349349685447|       Other| TRP00502|    KONTO   |Privatkonto         |       Privatkonto|Transaction Accounts|Liquidity Management|\n",
      "|[20 05 05 01 00 0...|0cp2pmncogEAAA==|     154930942|[20 05 05 01 00 0...|          null|        154926113|      81034|    77551712925|       Other| TRP00502|    KONTO   |Privatkonto         |       Privatkonto|Transaction Accounts|Liquidity Management|\n",
      "|[20 05 05 01 00 0...|0cp2pmncogEAAA==|     154930942|[20 05 05 01 00 0...|          null|        154926113|      81034|    77551712925|       Other| TRP00502|    KONTO   |Privatkonto         |       Privatkonto|Transaction Accounts|Liquidity Management|\n",
      "+--------------------+----------------+--------------+--------------------+--------------+-----------------+-----------+---------------+------------+---------+------------+--------------------+------------------+--------------------+--------------------+\n",
      "\n"
     ]
    }
   ],
   "source": [
    "trx_transout.select(\"partygenid\", \"agreementgenid\", \"productgenid\", \"secproductgenid\", \"secclearingnum\", \"secagreementgenid\", \"clearingnum\", \"transactioninfo\", \"counterparty\").\\\n",
    "filter((F.col('counterparty')==\"Other\") & (F.col('productgenid')==F.col('secproductgenid'))).join(prod_raw, ['secproductgenid'], 'left').show(100)"
   ]
  },
  {
   "cell_type": "code",
   "execution_count": 299,
   "metadata": {
    "collapsed": true
   },
   "outputs": [
    {
     "name": "stdout",
     "output_type": "stream",
     "text": [
      "+----------+--------------------+--------------+------------+-----------+---------------+----------------+-------------+------+------+----------------+--------------+-------------+-----------------+-------------+---------------+------------+----------------+--------------+----------------------+----------------+------+-----------+------------------------+---------------+----------+----------------+---------------+------------------+----------------+---------+---+------+-----------------+-------+------+-------+--------+---------+------------+\n",
      "|partygenid|primaryaccountholder|agreementgenid|productgenid|transtypecd|transactiondate|accountingtypecd|channeltypecd|amount|bankid|secaccounttypecd|secclearingnum|secaccountnum|secagreementgenid|secpartygenid|secproductgenid|channelgenid|transactiongenid|systemsourcecd|identificationmethodcd|paymentroutinecd|secbic|clearingnum|cardtransactionchannelcd|transactioninfo|kanalgenid|transactionmonth|transactiontype|transactiongroupcd|transactiongroup|birthdate|age|gender|customerstartdate|abs_amt|lag_id|lag_amt|lag_date|sum_check|counterparty|\n",
      "+----------+--------------------+--------------+------------+-----------+---------------+----------------+-------------+------+------+----------------+--------------+-------------+-----------------+-------------+---------------+------------+----------------+--------------+----------------------+----------------+------+-----------+------------------------+---------------+----------+----------------+---------------+------------------+----------------+---------+---+------+-----------------+-------+------+-------+--------+---------+------------+\n",
      "+----------+--------------------+--------------+------------+-----------+---------------+----------------+-------------+------+------+----------------+--------------+-------------+-----------------+-------------+---------------+------------+----------------+--------------+----------------------+----------------+------+-----------+------------------------+---------------+----------+----------------+---------------+------------------+----------------+---------+---+------+-----------------+-------+------+-------+--------+---------+------------+\n",
      "\n"
     ]
    }
   ],
   "source": [
    "#doesn't work\n",
    "trx_transout.filter((F.col('agreementgenid')==168631321) | (F.trim(F.col('agreementgenid')).like(\"168631315\"))).show(100)"
   ]
  },
  {
   "cell_type": "code",
   "execution_count": null,
   "metadata": {
    "collapsed": true
   },
   "outputs": [],
   "source": [
    "# fuzzy matching on transaction infor"
   ]
  },
  {
   "cell_type": "code",
   "execution_count": null,
   "metadata": {
    "collapsed": true
   },
   "outputs": [],
   "source": []
  }
 ],
 "metadata": {
  "anaconda-cloud": {},
  "kernelspec": {
   "display_name": "Use This pySpark (Spark 2.2)",
   "language": "python",
   "name": "usethis"
  },
  "language_info": {
   "codemirror_mode": {
    "name": "ipython",
    "version": 2
   },
   "file_extension": ".py",
   "mimetype": "text/x-python",
   "name": "python",
   "nbconvert_exporter": "python",
   "pygments_lexer": "ipython2",
   "version": "2.7.14"
  }
 },
 "nbformat": 4,
 "nbformat_minor": 1
}
